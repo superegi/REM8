{
 "cells": [
  {
   "cell_type": "code",
   "execution_count": 1,
   "metadata": {},
   "outputs": [],
   "source": [
    "import pandas as pd\n",
    "import numpy as np\n",
    "import matplotlib.pyplot as plt\n",
    "\n",
    "from datetime import date, datetime, time\n",
    "from babel.dates import format_date, format_datetime, format_time, format_timedelta, Locale\n",
    "import locale                                    # para tratar de poner espanol\n",
    "#locale = Locale('es', 'CL')\n",
    "#locale.setlocale(locale.LC_ALL,'es_ES.UTF-8')  \n",
    "\n",
    "import os\n",
    "import runpy\n",
    "from pyexcel_ods import get_data\n",
    "\n",
    "from IPython.core.interactiveshell import InteractiveShell\n",
    "InteractiveShell.ast_node_interactivity = \"all\"\n",
    "%matplotlib inline\n",
    "\n",
    "#importo sólo algunas de mis funciones, dejo otras excluídas...."
   ]
  },
  {
   "cell_type": "code",
   "execution_count": 2,
   "metadata": {},
   "outputs": [],
   "source": [
    "# cargo algunos scripts que me suelen servir para análisis"
   ]
  },
  {
   "cell_type": "code",
   "execution_count": 3,
   "metadata": {},
   "outputs": [
    {
     "data": {
      "text/plain": [
       "['/home/egidio/Dropbox/Compucosas/programas py/percentiles.py',\n",
       " '/home/egidio/Dropbox/Compucosas/programas py/lector_ODF.py',\n",
       " '/home/egidio/Dropbox/Compucosas/programas py/tabala_frecuencias.py',\n",
       " '/home/egidio/Dropbox/Compucosas/programas py/características_operativas_de_test.py',\n",
       " '/home/egidio/Dropbox/Compucosas/programas py/como importar',\n",
       " '/home/egidio/Dropbox/Compucosas/programas py/descripcion_univariada.py',\n",
       " '/home/egidio/Dropbox/Compucosas/programas py/__pycache__/percentiles.cpython-36.pyc',\n",
       " '/home/egidio/Dropbox/Compucosas/programas py/__pycache__/características_operativas_de_test.cpython-36.pyc',\n",
       " '/home/egidio/Dropbox/Compucosas/programas py/__pycache__/lector_ODF.cpython-36.pyc',\n",
       " '/home/egidio/Dropbox/Compucosas/programas py/__pycache__/descripcion_univariada.cpython-36.pyc',\n",
       " '/home/egidio/Dropbox/Compucosas/programas py/__pycache__/tabala_frecuencias.cpython-36.pyc',\n",
       " '/home/egidio/Dropbox/Compucosas/programas py/__pycache__/funciones_locales.cpython-36.pyc']"
      ]
     },
     "execution_count": 3,
     "metadata": {},
     "output_type": "execute_result"
    }
   ],
   "source": [
    "#listo los archivos\n",
    "scripts = []\n",
    "for dirname, dirnames, filenames in os.walk('/home/egidio/Dropbox/Compucosas/programas py'):\n",
    "    for filename in filenames:\n",
    "        scripts.append(os.path.join(dirname, filename))\n",
    "\n",
    "scripts\n",
    "\n",
    "# los cargo\n",
    "for script in scripts:\n",
    "    if script[-3:] == '.py':\n",
    "        exec(open(str(script)).read())"
   ]
  },
  {
   "cell_type": "markdown",
   "metadata": {},
   "source": [
    "# Busco las BDs diponibles"
   ]
  },
  {
   "cell_type": "markdown",
   "metadata": {},
   "source": [
    "Busco las BD siponibles en la carpeta./BD, las que buscaré y las juntaré en un solo archivo"
   ]
  },
  {
   "cell_type": "code",
   "execution_count": 4,
   "metadata": {},
   "outputs": [
    {
     "data": {
      "text/plain": [
       "['./BD/SAMU 01-01-2019 al 31-12-2019.xlsx',\n",
       " './BD/SAMU 01-04-2020 al 30-04-2020.xlsx',\n",
       " './BD/SAMU 01-07-2020 al 31-07-2020.xlsx',\n",
       " './BD/SAMU 01-01-2020 al 31-03-2020.xlsx',\n",
       " './BD/eSAMU.pkl',\n",
       " './BD/SAMU 01-05-2020 al 31-05-2020.xlsx',\n",
       " './BD/SAMU 01-01-2018 al 31-12-2018.xlsx',\n",
       " './BD/SAMU 01-06-2020 al 31-06-2020.xlsx']"
      ]
     },
     "execution_count": 4,
     "metadata": {},
     "output_type": "execute_result"
    }
   ],
   "source": [
    "datos = []\n",
    "for dirname, dirnames, filenames in os.walk('./BD/'):\n",
    "    for filename in filenames:\n",
    "        datos.append(os.path.join(dirname, filename))\n",
    "datos"
   ]
  },
  {
   "cell_type": "markdown",
   "metadata": {},
   "source": [
    "selecciono algunos..."
   ]
  },
  {
   "cell_type": "code",
   "execution_count": 5,
   "metadata": {},
   "outputs": [],
   "source": [
    "archivos_eSAMU = [f for f in datos if '.xls' in f]"
   ]
  },
  {
   "cell_type": "markdown",
   "metadata": {},
   "source": [
    "dejo todo lo que tengo como un solo objeto: BD"
   ]
  },
  {
   "cell_type": "code",
   "execution_count": 6,
   "metadata": {
    "scrolled": true
   },
   "outputs": [
    {
     "name": "stdout",
     "output_type": "stream",
     "text": [
      "<class 'pandas.core.frame.DataFrame'>\n",
      "Int64Index: 135080 entries, 0 to 4848\n",
      "Data columns (total 44 columns):\n",
      " #   Column                    Non-Null Count   Dtype  \n",
      "---  ------                    --------------   -----  \n",
      " 0   Id                        135080 non-null  int64  \n",
      " 1   Fecha                     135080 non-null  object \n",
      " 2   Motivo del Llamado        135072 non-null  object \n",
      " 3   Submotivo del Llamado     135072 non-null  object \n",
      " 4   Prioridad                 96705 non-null   object \n",
      " 5   Estado                    135080 non-null  object \n",
      " 6   Edad                      129058 non-null  float64\n",
      " 7   Género                    128641 non-null  object \n",
      " 8   Dirección                 115428 non-null  object \n",
      " 9   Sector                    90727 non-null   object \n",
      " 10  Comuna                    119722 non-null  object \n",
      " 11  Región                    131967 non-null  object \n",
      " 12  Intervención              135080 non-null  object \n",
      " 13  Tipo Traslado             135080 non-null  object \n",
      " 14  Categoría Vehículo        54898 non-null   object \n",
      " 15  Condición Traslado        135080 non-null  object \n",
      " 16  En Regulación             68916 non-null   object \n",
      " 17  En Despacho               93321 non-null   object \n",
      " 18  En Curso                  77963 non-null   object \n",
      " 19  Atendida                  35183 non-null   object \n",
      " 20  Completado                110387 non-null  object \n",
      " 21  Regulado                  24139 non-null   object \n",
      " 22  Usuario que Cierra        134461 non-null  object \n",
      " 23  Móvil Agregado            135080 non-null  object \n",
      " 24  Móvil Despachado          135080 non-null  object \n",
      " 25  Móvil Salida              135080 non-null  object \n",
      " 26  Móvil Llegada Lugar       135080 non-null  object \n",
      " 27  Móvil en Traslado         135080 non-null  object \n",
      " 28  Móvil Llegada a CA        135080 non-null  object \n",
      " 29  Móvil Recepción Paciente  135080 non-null  object \n",
      " 30  Móvil Camilla Retenida    135080 non-null  object \n",
      " 31  Móvil Vuelta a Base       135080 non-null  object \n",
      " 32  Móvil LLegada a Base      135080 non-null  object \n",
      " 33  Móvil Finalizado          135080 non-null  object \n",
      " 34  Nombre Vehículo           68093 non-null   object \n",
      " 35  Tipo Requerido            94910 non-null   object \n",
      " 36  Tipo Despachado           80671 non-null   object \n",
      " 37  Km Recorrido              135080 non-null  object \n",
      " 38  Chofer                    55034 non-null   object \n",
      " 39  Paramédico                54119 non-null   object \n",
      " 40  Enfermero                 22198 non-null   object \n",
      " 41  Doctor                    245 non-null     object \n",
      " 42  Longitud                  50528 non-null   float64\n",
      " 43  Latitud                   50528 non-null   float64\n",
      "dtypes: float64(3), int64(1), object(40)\n",
      "memory usage: 46.4+ MB\n"
     ]
    }
   ],
   "source": [
    "BD = pd.DataFrame()\n",
    "for f in archivos_eSAMU:\n",
    "    data = pd.read_excel(f)\n",
    "    BD = BD.append(data)\n",
    "BD.info()"
   ]
  },
  {
   "cell_type": "markdown",
   "metadata": {},
   "source": [
    "# Comienzo a arreglar base de datos"
   ]
  },
  {
   "cell_type": "markdown",
   "metadata": {},
   "source": [
    "dejo como numérica la edad, que lo unico que encontré"
   ]
  },
  {
   "cell_type": "code",
   "execution_count": 7,
   "metadata": {},
   "outputs": [],
   "source": [
    "variables_a_numericos = [      # elijo las variables que debo transformar a numérico\n",
    "    \"Edad\"\n",
    "]\n",
    "\n",
    "for variable in variables_a_numericos:\n",
    "    BD[variable] = pd.to_numeric(BD[variable])\n",
    "\n",
    "del variables_a_numericos"
   ]
  },
  {
   "cell_type": "markdown",
   "metadata": {},
   "source": [
    "## Arreglo: Fechas"
   ]
  },
  {
   "cell_type": "markdown",
   "metadata": {},
   "source": [
    "transformo a fecha tipo datetime64 la fecha que actualmente aparece"
   ]
  },
  {
   "cell_type": "code",
   "execution_count": 8,
   "metadata": {},
   "outputs": [],
   "source": [
    "BD['Fecha'] = pd.to_datetime(\n",
    "    BD['Fecha'],\n",
    "    format='%d-%m-%Y %H:%M:%S')"
   ]
  },
  {
   "cell_type": "code",
   "execution_count": 9,
   "metadata": {},
   "outputs": [
    {
     "data": {
      "text/plain": [
       "count                  135080\n",
       "unique                 119178\n",
       "top       2018-11-23 14:30:10\n",
       "freq                      442\n",
       "first     2018-01-15 08:45:15\n",
       "last      2020-07-31 23:55:20\n",
       "Name: Fecha, dtype: object"
      ]
     },
     "execution_count": 9,
     "metadata": {},
     "output_type": "execute_result"
    }
   ],
   "source": [
    "BD['Fecha'].describe()"
   ]
  },
  {
   "cell_type": "markdown",
   "metadata": {},
   "source": [
    "Luego defino aquellas variables que debo hacer algo similar"
   ]
  },
  {
   "cell_type": "code",
   "execution_count": 10,
   "metadata": {},
   "outputs": [],
   "source": [
    "variables_a_fecha = [\n",
    "    'Móvil Agregado',\n",
    "    'Móvil Despachado', 'Móvil Salida', 'Móvil Llegada Lugar',\n",
    "    'Móvil en Traslado', 'Móvil Llegada a CA', 'Móvil Recepción Paciente', 'Móvil Camilla Retenida',\n",
    "    'Móvil Vuelta a Base', 'Móvil LLegada a Base',\n",
    "    'Móvil Finalizado',\n",
    "    'En Regulación', 'En Despacho', 'En Curso', 'Atendida', 'Completado', 'Regulado'\n",
    "]"
   ]
  },
  {
   "cell_type": "markdown",
   "metadata": {},
   "source": [
    "ahora lo hago"
   ]
  },
  {
   "cell_type": "code",
   "execution_count": 11,
   "metadata": {},
   "outputs": [],
   "source": [
    "for variable in variables_a_fecha:\n",
    "    BD[variable] = pd.to_datetime(\n",
    "        BD[variable],\n",
    "        format='%Y-%m-%d %H:%M:%S', \n",
    "    errors='coerce')"
   ]
  },
  {
   "cell_type": "code",
   "execution_count": 12,
   "metadata": {
    "scrolled": true
   },
   "outputs": [],
   "source": [
    "BD['Diff_recep_Despachado'] = (BD['Móvil Despachado'] - BD['Fecha'])\n",
    "BD['Diff_Despacho_Salida'] = (BD['Móvil Salida'] - BD['Móvil Despachado'])\n",
    "BD['Diff_salida_enellugar'] = (BD['Móvil Llegada Lugar'] - BD['Móvil Salida'])\n",
    "BD['Diff_z6_1'] = (BD['Móvil Camilla Retenida'] - BD['Móvil Despachado'])\n",
    "BD['Diff_z6_2'] = (BD['Móvil Vuelta a Base'] - BD['Móvil Camilla Retenida'])\n",
    "BD['Diff_z6_3'] = (BD['Móvil LLegada a Base'] - BD['Móvil Camilla Retenida'])\n",
    "\n",
    "BD['Diff_recep_Despachado'] = (BD['Móvil Despachado'] - BD['Fecha'])\n",
    "BD['Diff_Despacho_Salida'] = (BD['Móvil Salida'] - BD['Móvil Despachado'])\n",
    "BD['Diff_salida_enellugar'] = (BD['Móvil Llegada Lugar'] - BD['Móvil Salida'])\n",
    "BD['Diff_z6_1'] = (BD['Móvil Camilla Retenida'] - BD['Móvil Despachado'])\n",
    "BD['Diff_z6_2'] = (BD['Móvil Vuelta a Base'] - BD['Móvil Camilla Retenida'])\n",
    "BD['Diff_z6_3'] = (BD['Móvil LLegada a Base'] - BD['Móvil Camilla Retenida'])"
   ]
  },
  {
   "cell_type": "code",
   "execution_count": 13,
   "metadata": {},
   "outputs": [
    {
     "data": {
      "text/html": [
       "<div>\n",
       "<style scoped>\n",
       "    .dataframe tbody tr th:only-of-type {\n",
       "        vertical-align: middle;\n",
       "    }\n",
       "\n",
       "    .dataframe tbody tr th {\n",
       "        vertical-align: top;\n",
       "    }\n",
       "\n",
       "    .dataframe thead th {\n",
       "        text-align: right;\n",
       "    }\n",
       "</style>\n",
       "<table border=\"1\" class=\"dataframe\">\n",
       "  <thead>\n",
       "    <tr style=\"text-align: right;\">\n",
       "      <th></th>\n",
       "      <th>Fecha</th>\n",
       "      <th>Móvil Agregado</th>\n",
       "      <th>Móvil Despachado</th>\n",
       "      <th>Móvil Salida</th>\n",
       "      <th>Móvil Llegada Lugar</th>\n",
       "      <th>Móvil en Traslado</th>\n",
       "      <th>Móvil Llegada a CA</th>\n",
       "      <th>Móvil Recepción Paciente</th>\n",
       "      <th>Móvil Camilla Retenida</th>\n",
       "      <th>Móvil Vuelta a Base</th>\n",
       "      <th>Móvil LLegada a Base</th>\n",
       "      <th>Móvil Finalizado</th>\n",
       "      <th>Nombre Vehículo</th>\n",
       "      <th>Id</th>\n",
       "    </tr>\n",
       "  </thead>\n",
       "  <tbody>\n",
       "    <tr>\n",
       "      <th>0</th>\n",
       "      <td>2019-12-31 23:53:37</td>\n",
       "      <td>NaT</td>\n",
       "      <td>NaT</td>\n",
       "      <td>NaT</td>\n",
       "      <td>NaT</td>\n",
       "      <td>NaT</td>\n",
       "      <td>NaT</td>\n",
       "      <td>NaT</td>\n",
       "      <td>NaT</td>\n",
       "      <td>NaT</td>\n",
       "      <td>NaT</td>\n",
       "      <td>NaT</td>\n",
       "      <td>NaN</td>\n",
       "      <td>124708</td>\n",
       "    </tr>\n",
       "    <tr>\n",
       "      <th>1</th>\n",
       "      <td>2019-12-31 23:42:56</td>\n",
       "      <td>NaT</td>\n",
       "      <td>NaT</td>\n",
       "      <td>NaT</td>\n",
       "      <td>NaT</td>\n",
       "      <td>NaT</td>\n",
       "      <td>NaT</td>\n",
       "      <td>NaT</td>\n",
       "      <td>NaT</td>\n",
       "      <td>NaT</td>\n",
       "      <td>NaT</td>\n",
       "      <td>NaT</td>\n",
       "      <td>NaN</td>\n",
       "      <td>124707</td>\n",
       "    </tr>\n",
       "  </tbody>\n",
       "</table>\n",
       "</div>"
      ],
      "text/plain": [
       "                Fecha Móvil Agregado Móvil Despachado Móvil Salida  \\\n",
       "0 2019-12-31 23:53:37            NaT              NaT          NaT   \n",
       "1 2019-12-31 23:42:56            NaT              NaT          NaT   \n",
       "\n",
       "  Móvil Llegada Lugar Móvil en Traslado Móvil Llegada a CA  \\\n",
       "0                 NaT               NaT                NaT   \n",
       "1                 NaT               NaT                NaT   \n",
       "\n",
       "  Móvil Recepción Paciente Móvil Camilla Retenida Móvil Vuelta a Base  \\\n",
       "0                      NaT                    NaT                 NaT   \n",
       "1                      NaT                    NaT                 NaT   \n",
       "\n",
       "  Móvil LLegada a Base Móvil Finalizado Nombre Vehículo      Id  \n",
       "0                  NaT              NaT             NaN  124708  \n",
       "1                  NaT              NaT             NaN  124707  "
      ]
     },
     "execution_count": 13,
     "metadata": {},
     "output_type": "execute_result"
    },
    {
     "data": {
      "text/html": [
       "<div>\n",
       "<style scoped>\n",
       "    .dataframe tbody tr th:only-of-type {\n",
       "        vertical-align: middle;\n",
       "    }\n",
       "\n",
       "    .dataframe tbody tr th {\n",
       "        vertical-align: top;\n",
       "    }\n",
       "\n",
       "    .dataframe thead th {\n",
       "        text-align: right;\n",
       "    }\n",
       "</style>\n",
       "<table border=\"1\" class=\"dataframe\">\n",
       "  <thead>\n",
       "    <tr style=\"text-align: right;\">\n",
       "      <th></th>\n",
       "      <th>Diff_recep_Despachado</th>\n",
       "      <th>Diff_Despacho_Salida</th>\n",
       "      <th>Diff_salida_enellugar</th>\n",
       "      <th>Diff_z6_1</th>\n",
       "      <th>Diff_z6_2</th>\n",
       "      <th>Diff_z6_3</th>\n",
       "    </tr>\n",
       "  </thead>\n",
       "  <tbody>\n",
       "    <tr>\n",
       "      <th>0</th>\n",
       "      <td>NaT</td>\n",
       "      <td>NaT</td>\n",
       "      <td>NaT</td>\n",
       "      <td>NaT</td>\n",
       "      <td>NaT</td>\n",
       "      <td>NaT</td>\n",
       "    </tr>\n",
       "    <tr>\n",
       "      <th>1</th>\n",
       "      <td>NaT</td>\n",
       "      <td>NaT</td>\n",
       "      <td>NaT</td>\n",
       "      <td>NaT</td>\n",
       "      <td>NaT</td>\n",
       "      <td>NaT</td>\n",
       "    </tr>\n",
       "  </tbody>\n",
       "</table>\n",
       "</div>"
      ],
      "text/plain": [
       "  Diff_recep_Despachado Diff_Despacho_Salida Diff_salida_enellugar Diff_z6_1  \\\n",
       "0                   NaT                  NaT                   NaT       NaT   \n",
       "1                   NaT                  NaT                   NaT       NaT   \n",
       "\n",
       "  Diff_z6_2 Diff_z6_3  \n",
       "0       NaT       NaT  \n",
       "1       NaT       NaT  "
      ]
     },
     "execution_count": 13,
     "metadata": {},
     "output_type": "execute_result"
    }
   ],
   "source": [
    "tiempos = ['Fecha',\n",
    "           'Móvil Agregado',\n",
    "           'Móvil Despachado', 'Móvil Salida', 'Móvil Llegada Lugar',\n",
    "           'Móvil en Traslado', 'Móvil Llegada a CA', 'Móvil Recepción Paciente', 'Móvil Camilla Retenida',\n",
    "           'Móvil Vuelta a Base', 'Móvil LLegada a Base',\n",
    "           'Móvil Finalizado']\n",
    "\n",
    "diferenciales = ['Diff_recep_Despachado',\n",
    "                 'Diff_Despacho_Salida',\n",
    "                 'Diff_salida_enellugar',\n",
    "                 'Diff_z6_1',\n",
    "                 'Diff_z6_2', \n",
    "                 'Diff_z6_3']\n",
    "\n",
    "tiempos.append('Nombre Vehículo')\n",
    "tiempos.append('Id')\n",
    "\n",
    "BD[tiempos].head(2)\n",
    "BD[diferenciales].head(2)"
   ]
  },
  {
   "cell_type": "code",
   "execution_count": 14,
   "metadata": {},
   "outputs": [
    {
     "data": {
      "text/plain": [
       "count                  135080\n",
       "unique                 119178\n",
       "top       2018-11-23 14:30:10\n",
       "freq                      442\n",
       "first     2018-01-15 08:45:15\n",
       "last      2020-07-31 23:55:20\n",
       "Name: Fecha, dtype: object"
      ]
     },
     "execution_count": 14,
     "metadata": {},
     "output_type": "execute_result"
    },
    {
     "data": {
      "text/plain": [
       "<matplotlib.axes._subplots.AxesSubplot at 0x7fb63267d4a8>"
      ]
     },
     "execution_count": 14,
     "metadata": {},
     "output_type": "execute_result"
    },
    {
     "data": {
      "image/png": "[encoded data removed]",
      "text/plain": [
       "<Figure size 432x288 with 1 Axes>"
      ]
     },
     "metadata": {
      "needs_background": "light"
     },
     "output_type": "display_data"
    }
   ],
   "source": [
    "BD.Fecha.describe()\n",
    "BD.groupby(BD.Fecha.dt.to_period('M')).Id.count().plot()"
   ]
  },
  {
   "cell_type": "markdown",
   "metadata": {},
   "source": [
    "## Arreglo: números negativos segun tiempos"
   ]
  },
  {
   "cell_type": "markdown",
   "metadata": {},
   "source": [
    "Dado los cálculos realizados, encuentro que hay diferencias horarias que son negativas, que no explican lo que está pasando. por lo que quiero saber cuantos n negativos existen"
   ]
  },
  {
   "cell_type": "code",
   "execution_count": 15,
   "metadata": {
    "scrolled": true
   },
   "outputs": [
    {
     "data": {
      "text/html": [
       "<div>\n",
       "<style scoped>\n",
       "    .dataframe tbody tr th:only-of-type {\n",
       "        vertical-align: middle;\n",
       "    }\n",
       "\n",
       "    .dataframe tbody tr th {\n",
       "        vertical-align: top;\n",
       "    }\n",
       "\n",
       "    .dataframe thead th {\n",
       "        text-align: right;\n",
       "    }\n",
       "</style>\n",
       "<table border=\"1\" class=\"dataframe\">\n",
       "  <thead>\n",
       "    <tr style=\"text-align: right;\">\n",
       "      <th></th>\n",
       "      <th>n</th>\n",
       "      <th>%</th>\n",
       "    </tr>\n",
       "    <tr>\n",
       "      <th>Diff_recep_Despachado</th>\n",
       "      <th></th>\n",
       "      <th></th>\n",
       "    </tr>\n",
       "  </thead>\n",
       "  <tbody>\n",
       "    <tr>\n",
       "      <th>False</th>\n",
       "      <td>135078</td>\n",
       "      <td>100.0</td>\n",
       "    </tr>\n",
       "    <tr>\n",
       "      <th>True</th>\n",
       "      <td>2</td>\n",
       "      <td>0.0</td>\n",
       "    </tr>\n",
       "    <tr>\n",
       "      <th>Total</th>\n",
       "      <td>135080</td>\n",
       "      <td>100.0</td>\n",
       "    </tr>\n",
       "  </tbody>\n",
       "</table>\n",
       "</div>"
      ],
      "text/plain": [
       "                            n      %\n",
       "Diff_recep_Despachado               \n",
       "False                  135078  100.0\n",
       "True                        2    0.0\n",
       "Total                  135080  100.0"
      ]
     },
     "execution_count": 15,
     "metadata": {},
     "output_type": "execute_result"
    },
    {
     "data": {
      "text/html": [
       "<div>\n",
       "<style scoped>\n",
       "    .dataframe tbody tr th:only-of-type {\n",
       "        vertical-align: middle;\n",
       "    }\n",
       "\n",
       "    .dataframe tbody tr th {\n",
       "        vertical-align: top;\n",
       "    }\n",
       "\n",
       "    .dataframe thead th {\n",
       "        text-align: right;\n",
       "    }\n",
       "</style>\n",
       "<table border=\"1\" class=\"dataframe\">\n",
       "  <thead>\n",
       "    <tr style=\"text-align: right;\">\n",
       "      <th></th>\n",
       "      <th>n</th>\n",
       "      <th>%</th>\n",
       "    </tr>\n",
       "    <tr>\n",
       "      <th>Diff_Despacho_Salida</th>\n",
       "      <th></th>\n",
       "      <th></th>\n",
       "    </tr>\n",
       "  </thead>\n",
       "  <tbody>\n",
       "    <tr>\n",
       "      <th>False</th>\n",
       "      <td>135075</td>\n",
       "      <td>100.0</td>\n",
       "    </tr>\n",
       "    <tr>\n",
       "      <th>True</th>\n",
       "      <td>5</td>\n",
       "      <td>0.0</td>\n",
       "    </tr>\n",
       "    <tr>\n",
       "      <th>Total</th>\n",
       "      <td>135080</td>\n",
       "      <td>100.0</td>\n",
       "    </tr>\n",
       "  </tbody>\n",
       "</table>\n",
       "</div>"
      ],
      "text/plain": [
       "                           n      %\n",
       "Diff_Despacho_Salida               \n",
       "False                 135075  100.0\n",
       "True                       5    0.0\n",
       "Total                 135080  100.0"
      ]
     },
     "execution_count": 15,
     "metadata": {},
     "output_type": "execute_result"
    },
    {
     "data": {
      "text/html": [
       "<div>\n",
       "<style scoped>\n",
       "    .dataframe tbody tr th:only-of-type {\n",
       "        vertical-align: middle;\n",
       "    }\n",
       "\n",
       "    .dataframe tbody tr th {\n",
       "        vertical-align: top;\n",
       "    }\n",
       "\n",
       "    .dataframe thead th {\n",
       "        text-align: right;\n",
       "    }\n",
       "</style>\n",
       "<table border=\"1\" class=\"dataframe\">\n",
       "  <thead>\n",
       "    <tr style=\"text-align: right;\">\n",
       "      <th></th>\n",
       "      <th>n</th>\n",
       "      <th>%</th>\n",
       "    </tr>\n",
       "    <tr>\n",
       "      <th>Diff_salida_enellugar</th>\n",
       "      <th></th>\n",
       "      <th></th>\n",
       "    </tr>\n",
       "  </thead>\n",
       "  <tbody>\n",
       "    <tr>\n",
       "      <th>False</th>\n",
       "      <td>135010</td>\n",
       "      <td>99.95</td>\n",
       "    </tr>\n",
       "    <tr>\n",
       "      <th>True</th>\n",
       "      <td>70</td>\n",
       "      <td>0.05</td>\n",
       "    </tr>\n",
       "    <tr>\n",
       "      <th>Total</th>\n",
       "      <td>135080</td>\n",
       "      <td>100.00</td>\n",
       "    </tr>\n",
       "  </tbody>\n",
       "</table>\n",
       "</div>"
      ],
      "text/plain": [
       "                            n       %\n",
       "Diff_salida_enellugar                \n",
       "False                  135010   99.95\n",
       "True                       70    0.05\n",
       "Total                  135080  100.00"
      ]
     },
     "execution_count": 15,
     "metadata": {},
     "output_type": "execute_result"
    },
    {
     "data": {
      "text/html": [
       "<div>\n",
       "<style scoped>\n",
       "    .dataframe tbody tr th:only-of-type {\n",
       "        vertical-align: middle;\n",
       "    }\n",
       "\n",
       "    .dataframe tbody tr th {\n",
       "        vertical-align: top;\n",
       "    }\n",
       "\n",
       "    .dataframe thead th {\n",
       "        text-align: right;\n",
       "    }\n",
       "</style>\n",
       "<table border=\"1\" class=\"dataframe\">\n",
       "  <thead>\n",
       "    <tr style=\"text-align: right;\">\n",
       "      <th></th>\n",
       "      <th>n</th>\n",
       "      <th>%</th>\n",
       "    </tr>\n",
       "    <tr>\n",
       "      <th>Diff_z6_1</th>\n",
       "      <th></th>\n",
       "      <th></th>\n",
       "    </tr>\n",
       "  </thead>\n",
       "  <tbody>\n",
       "    <tr>\n",
       "      <th>False</th>\n",
       "      <td>135077</td>\n",
       "      <td>100.0</td>\n",
       "    </tr>\n",
       "    <tr>\n",
       "      <th>True</th>\n",
       "      <td>3</td>\n",
       "      <td>0.0</td>\n",
       "    </tr>\n",
       "    <tr>\n",
       "      <th>Total</th>\n",
       "      <td>135080</td>\n",
       "      <td>100.0</td>\n",
       "    </tr>\n",
       "  </tbody>\n",
       "</table>\n",
       "</div>"
      ],
      "text/plain": [
       "                n      %\n",
       "Diff_z6_1               \n",
       "False      135077  100.0\n",
       "True            3    0.0\n",
       "Total      135080  100.0"
      ]
     },
     "execution_count": 15,
     "metadata": {},
     "output_type": "execute_result"
    },
    {
     "data": {
      "text/html": [
       "<div>\n",
       "<style scoped>\n",
       "    .dataframe tbody tr th:only-of-type {\n",
       "        vertical-align: middle;\n",
       "    }\n",
       "\n",
       "    .dataframe tbody tr th {\n",
       "        vertical-align: top;\n",
       "    }\n",
       "\n",
       "    .dataframe thead th {\n",
       "        text-align: right;\n",
       "    }\n",
       "</style>\n",
       "<table border=\"1\" class=\"dataframe\">\n",
       "  <thead>\n",
       "    <tr style=\"text-align: right;\">\n",
       "      <th></th>\n",
       "      <th>n</th>\n",
       "      <th>%</th>\n",
       "    </tr>\n",
       "    <tr>\n",
       "      <th>Diff_z6_2</th>\n",
       "      <th></th>\n",
       "      <th></th>\n",
       "    </tr>\n",
       "  </thead>\n",
       "  <tbody>\n",
       "    <tr>\n",
       "      <th>False</th>\n",
       "      <td>134341</td>\n",
       "      <td>99.45</td>\n",
       "    </tr>\n",
       "    <tr>\n",
       "      <th>True</th>\n",
       "      <td>739</td>\n",
       "      <td>0.55</td>\n",
       "    </tr>\n",
       "    <tr>\n",
       "      <th>Total</th>\n",
       "      <td>135080</td>\n",
       "      <td>100.00</td>\n",
       "    </tr>\n",
       "  </tbody>\n",
       "</table>\n",
       "</div>"
      ],
      "text/plain": [
       "                n       %\n",
       "Diff_z6_2                \n",
       "False      134341   99.45\n",
       "True          739    0.55\n",
       "Total      135080  100.00"
      ]
     },
     "execution_count": 15,
     "metadata": {},
     "output_type": "execute_result"
    },
    {
     "data": {
      "text/html": [
       "<div>\n",
       "<style scoped>\n",
       "    .dataframe tbody tr th:only-of-type {\n",
       "        vertical-align: middle;\n",
       "    }\n",
       "\n",
       "    .dataframe tbody tr th {\n",
       "        vertical-align: top;\n",
       "    }\n",
       "\n",
       "    .dataframe thead th {\n",
       "        text-align: right;\n",
       "    }\n",
       "</style>\n",
       "<table border=\"1\" class=\"dataframe\">\n",
       "  <thead>\n",
       "    <tr style=\"text-align: right;\">\n",
       "      <th></th>\n",
       "      <th>n</th>\n",
       "      <th>%</th>\n",
       "    </tr>\n",
       "    <tr>\n",
       "      <th>Diff_z6_3</th>\n",
       "      <th></th>\n",
       "      <th></th>\n",
       "    </tr>\n",
       "  </thead>\n",
       "  <tbody>\n",
       "    <tr>\n",
       "      <th>False</th>\n",
       "      <td>133588</td>\n",
       "      <td>98.9</td>\n",
       "    </tr>\n",
       "    <tr>\n",
       "      <th>True</th>\n",
       "      <td>1492</td>\n",
       "      <td>1.1</td>\n",
       "    </tr>\n",
       "    <tr>\n",
       "      <th>Total</th>\n",
       "      <td>135080</td>\n",
       "      <td>100.0</td>\n",
       "    </tr>\n",
       "  </tbody>\n",
       "</table>\n",
       "</div>"
      ],
      "text/plain": [
       "                n      %\n",
       "Diff_z6_3               \n",
       "False      133588   98.9\n",
       "True         1492    1.1\n",
       "Total      135080  100.0"
      ]
     },
     "execution_count": 15,
     "metadata": {},
     "output_type": "execute_result"
    }
   ],
   "source": [
    "for dumm in diferenciales:\n",
    "    tab_frec(BD[dumm] < pd.Timedelta(0))"
   ]
  },
  {
   "cell_type": "markdown",
   "metadata": {},
   "source": [
    "Ahora excluiré aquellas entradas con valores negativos de la BD"
   ]
  },
  {
   "cell_type": "code",
   "execution_count": 16,
   "metadata": {},
   "outputs": [],
   "source": [
    "for dumm in diferenciales:\n",
    "    BD.loc[BD[dumm] < pd.Timedelta('0 days'),dumm] = np.nan"
   ]
  },
  {
   "cell_type": "markdown",
   "metadata": {},
   "source": [
    "Ahora veré los tiempos sin contaminación"
   ]
  },
  {
   "cell_type": "code",
   "execution_count": 17,
   "metadata": {
    "scrolled": true
   },
   "outputs": [
    {
     "data": {
      "text/html": [
       "<div>\n",
       "<style scoped>\n",
       "    .dataframe tbody tr th:only-of-type {\n",
       "        vertical-align: middle;\n",
       "    }\n",
       "\n",
       "    .dataframe tbody tr th {\n",
       "        vertical-align: top;\n",
       "    }\n",
       "\n",
       "    .dataframe thead th {\n",
       "        text-align: right;\n",
       "    }\n",
       "</style>\n",
       "<table border=\"1\" class=\"dataframe\">\n",
       "  <thead>\n",
       "    <tr style=\"text-align: right;\">\n",
       "      <th></th>\n",
       "      <th>n</th>\n",
       "      <th>%</th>\n",
       "    </tr>\n",
       "    <tr>\n",
       "      <th>Diff_recep_Despachado</th>\n",
       "      <th></th>\n",
       "      <th></th>\n",
       "    </tr>\n",
       "  </thead>\n",
       "  <tbody>\n",
       "    <tr>\n",
       "      <th>False</th>\n",
       "      <td>135080</td>\n",
       "      <td>100.0</td>\n",
       "    </tr>\n",
       "    <tr>\n",
       "      <th>Total</th>\n",
       "      <td>135080</td>\n",
       "      <td>100.0</td>\n",
       "    </tr>\n",
       "  </tbody>\n",
       "</table>\n",
       "</div>"
      ],
      "text/plain": [
       "                            n      %\n",
       "Diff_recep_Despachado               \n",
       "False                  135080  100.0\n",
       "Total                  135080  100.0"
      ]
     },
     "execution_count": 17,
     "metadata": {},
     "output_type": "execute_result"
    },
    {
     "data": {
      "text/plain": [
       "count                     66443\n",
       "mean     0 days 00:59:12.850262\n",
       "std      0 days 03:28:41.630919\n",
       "min             0 days 00:00:07\n",
       "25%      0 days 00:06:33.500000\n",
       "50%             0 days 00:14:53\n",
       "75%             0 days 00:53:45\n",
       "max            13 days 15:06:32\n",
       "Name: Diff_recep_Despachado, dtype: object"
      ]
     },
     "execution_count": 17,
     "metadata": {},
     "output_type": "execute_result"
    },
    {
     "data": {
      "text/html": [
       "<div>\n",
       "<style scoped>\n",
       "    .dataframe tbody tr th:only-of-type {\n",
       "        vertical-align: middle;\n",
       "    }\n",
       "\n",
       "    .dataframe tbody tr th {\n",
       "        vertical-align: top;\n",
       "    }\n",
       "\n",
       "    .dataframe thead th {\n",
       "        text-align: right;\n",
       "    }\n",
       "</style>\n",
       "<table border=\"1\" class=\"dataframe\">\n",
       "  <thead>\n",
       "    <tr style=\"text-align: right;\">\n",
       "      <th></th>\n",
       "      <th>n</th>\n",
       "      <th>%</th>\n",
       "    </tr>\n",
       "    <tr>\n",
       "      <th>Diff_Despacho_Salida</th>\n",
       "      <th></th>\n",
       "      <th></th>\n",
       "    </tr>\n",
       "  </thead>\n",
       "  <tbody>\n",
       "    <tr>\n",
       "      <th>False</th>\n",
       "      <td>135080</td>\n",
       "      <td>100.0</td>\n",
       "    </tr>\n",
       "    <tr>\n",
       "      <th>Total</th>\n",
       "      <td>135080</td>\n",
       "      <td>100.0</td>\n",
       "    </tr>\n",
       "  </tbody>\n",
       "</table>\n",
       "</div>"
      ],
      "text/plain": [
       "                           n      %\n",
       "Diff_Despacho_Salida               \n",
       "False                 135080  100.0\n",
       "Total                 135080  100.0"
      ]
     },
     "execution_count": 17,
     "metadata": {},
     "output_type": "execute_result"
    },
    {
     "data": {
      "text/plain": [
       "count                     53338\n",
       "mean     0 days 00:07:52.334526\n",
       "std      0 days 00:17:53.520979\n",
       "min             0 days 00:00:02\n",
       "25%             0 days 00:00:52\n",
       "50%             0 days 00:03:13\n",
       "75%             0 days 00:08:05\n",
       "max             1 days 02:44:39\n",
       "Name: Diff_Despacho_Salida, dtype: object"
      ]
     },
     "execution_count": 17,
     "metadata": {},
     "output_type": "execute_result"
    },
    {
     "data": {
      "text/html": [
       "<div>\n",
       "<style scoped>\n",
       "    .dataframe tbody tr th:only-of-type {\n",
       "        vertical-align: middle;\n",
       "    }\n",
       "\n",
       "    .dataframe tbody tr th {\n",
       "        vertical-align: top;\n",
       "    }\n",
       "\n",
       "    .dataframe thead th {\n",
       "        text-align: right;\n",
       "    }\n",
       "</style>\n",
       "<table border=\"1\" class=\"dataframe\">\n",
       "  <thead>\n",
       "    <tr style=\"text-align: right;\">\n",
       "      <th></th>\n",
       "      <th>n</th>\n",
       "      <th>%</th>\n",
       "    </tr>\n",
       "    <tr>\n",
       "      <th>Diff_salida_enellugar</th>\n",
       "      <th></th>\n",
       "      <th></th>\n",
       "    </tr>\n",
       "  </thead>\n",
       "  <tbody>\n",
       "    <tr>\n",
       "      <th>False</th>\n",
       "      <td>135080</td>\n",
       "      <td>100.0</td>\n",
       "    </tr>\n",
       "    <tr>\n",
       "      <th>Total</th>\n",
       "      <td>135080</td>\n",
       "      <td>100.0</td>\n",
       "    </tr>\n",
       "  </tbody>\n",
       "</table>\n",
       "</div>"
      ],
      "text/plain": [
       "                            n      %\n",
       "Diff_salida_enellugar               \n",
       "False                  135080  100.0\n",
       "Total                  135080  100.0"
      ]
     },
     "execution_count": 17,
     "metadata": {},
     "output_type": "execute_result"
    },
    {
     "data": {
      "text/plain": [
       "count                     42483\n",
       "mean     0 days 00:15:20.109008\n",
       "std      0 days 00:20:19.340772\n",
       "min             0 days 00:00:01\n",
       "25%             0 days 00:05:07\n",
       "50%             0 days 00:10:19\n",
       "75%             0 days 00:18:04\n",
       "max             0 days 15:34:05\n",
       "Name: Diff_salida_enellugar, dtype: object"
      ]
     },
     "execution_count": 17,
     "metadata": {},
     "output_type": "execute_result"
    },
    {
     "data": {
      "text/html": [
       "<div>\n",
       "<style scoped>\n",
       "    .dataframe tbody tr th:only-of-type {\n",
       "        vertical-align: middle;\n",
       "    }\n",
       "\n",
       "    .dataframe tbody tr th {\n",
       "        vertical-align: top;\n",
       "    }\n",
       "\n",
       "    .dataframe thead th {\n",
       "        text-align: right;\n",
       "    }\n",
       "</style>\n",
       "<table border=\"1\" class=\"dataframe\">\n",
       "  <thead>\n",
       "    <tr style=\"text-align: right;\">\n",
       "      <th></th>\n",
       "      <th>n</th>\n",
       "      <th>%</th>\n",
       "    </tr>\n",
       "    <tr>\n",
       "      <th>Diff_z6_1</th>\n",
       "      <th></th>\n",
       "      <th></th>\n",
       "    </tr>\n",
       "  </thead>\n",
       "  <tbody>\n",
       "    <tr>\n",
       "      <th>False</th>\n",
       "      <td>135080</td>\n",
       "      <td>100.0</td>\n",
       "    </tr>\n",
       "    <tr>\n",
       "      <th>Total</th>\n",
       "      <td>135080</td>\n",
       "      <td>100.0</td>\n",
       "    </tr>\n",
       "  </tbody>\n",
       "</table>\n",
       "</div>"
      ],
      "text/plain": [
       "                n      %\n",
       "Diff_z6_1               \n",
       "False      135080  100.0\n",
       "Total      135080  100.0"
      ]
     },
     "execution_count": 17,
     "metadata": {},
     "output_type": "execute_result"
    },
    {
     "data": {
      "text/plain": [
       "count                      6355\n",
       "mean     0 days 01:42:10.549016\n",
       "std      0 days 01:03:53.823906\n",
       "min             0 days 00:00:03\n",
       "25%      0 days 01:02:47.500000\n",
       "50%             0 days 01:27:22\n",
       "75%             0 days 02:02:10\n",
       "max             0 days 12:34:30\n",
       "Name: Diff_z6_1, dtype: object"
      ]
     },
     "execution_count": 17,
     "metadata": {},
     "output_type": "execute_result"
    },
    {
     "data": {
      "text/html": [
       "<div>\n",
       "<style scoped>\n",
       "    .dataframe tbody tr th:only-of-type {\n",
       "        vertical-align: middle;\n",
       "    }\n",
       "\n",
       "    .dataframe tbody tr th {\n",
       "        vertical-align: top;\n",
       "    }\n",
       "\n",
       "    .dataframe thead th {\n",
       "        text-align: right;\n",
       "    }\n",
       "</style>\n",
       "<table border=\"1\" class=\"dataframe\">\n",
       "  <thead>\n",
       "    <tr style=\"text-align: right;\">\n",
       "      <th></th>\n",
       "      <th>n</th>\n",
       "      <th>%</th>\n",
       "    </tr>\n",
       "    <tr>\n",
       "      <th>Diff_z6_2</th>\n",
       "      <th></th>\n",
       "      <th></th>\n",
       "    </tr>\n",
       "  </thead>\n",
       "  <tbody>\n",
       "    <tr>\n",
       "      <th>False</th>\n",
       "      <td>135080</td>\n",
       "      <td>100.0</td>\n",
       "    </tr>\n",
       "    <tr>\n",
       "      <th>Total</th>\n",
       "      <td>135080</td>\n",
       "      <td>100.0</td>\n",
       "    </tr>\n",
       "  </tbody>\n",
       "</table>\n",
       "</div>"
      ],
      "text/plain": [
       "                n      %\n",
       "Diff_z6_2               \n",
       "False      135080  100.0\n",
       "Total      135080  100.0"
      ]
     },
     "execution_count": 17,
     "metadata": {},
     "output_type": "execute_result"
    },
    {
     "data": {
      "text/plain": [
       "count                      1001\n",
       "mean     0 days 01:44:32.475524\n",
       "std      0 days 02:16:21.452623\n",
       "min             0 days 00:00:02\n",
       "25%             0 days 00:10:39\n",
       "50%             0 days 00:57:33\n",
       "75%             0 days 02:21:22\n",
       "max             0 days 15:18:50\n",
       "Name: Diff_z6_2, dtype: object"
      ]
     },
     "execution_count": 17,
     "metadata": {},
     "output_type": "execute_result"
    },
    {
     "data": {
      "text/html": [
       "<div>\n",
       "<style scoped>\n",
       "    .dataframe tbody tr th:only-of-type {\n",
       "        vertical-align: middle;\n",
       "    }\n",
       "\n",
       "    .dataframe tbody tr th {\n",
       "        vertical-align: top;\n",
       "    }\n",
       "\n",
       "    .dataframe thead th {\n",
       "        text-align: right;\n",
       "    }\n",
       "</style>\n",
       "<table border=\"1\" class=\"dataframe\">\n",
       "  <thead>\n",
       "    <tr style=\"text-align: right;\">\n",
       "      <th></th>\n",
       "      <th>n</th>\n",
       "      <th>%</th>\n",
       "    </tr>\n",
       "    <tr>\n",
       "      <th>Diff_z6_3</th>\n",
       "      <th></th>\n",
       "      <th></th>\n",
       "    </tr>\n",
       "  </thead>\n",
       "  <tbody>\n",
       "    <tr>\n",
       "      <th>False</th>\n",
       "      <td>135080</td>\n",
       "      <td>100.0</td>\n",
       "    </tr>\n",
       "    <tr>\n",
       "      <th>Total</th>\n",
       "      <td>135080</td>\n",
       "      <td>100.0</td>\n",
       "    </tr>\n",
       "  </tbody>\n",
       "</table>\n",
       "</div>"
      ],
      "text/plain": [
       "                n      %\n",
       "Diff_z6_3               \n",
       "False      135080  100.0\n",
       "Total      135080  100.0"
      ]
     },
     "execution_count": 17,
     "metadata": {},
     "output_type": "execute_result"
    },
    {
     "data": {
      "text/plain": [
       "count                      2435\n",
       "mean     0 days 02:06:40.595893\n",
       "std      0 days 02:23:04.905604\n",
       "min             0 days 00:00:02\n",
       "25%             0 days 00:32:04\n",
       "50%             0 days 01:20:32\n",
       "75%             0 days 02:50:58\n",
       "max             1 days 04:20:28\n",
       "Name: Diff_z6_3, dtype: object"
      ]
     },
     "execution_count": 17,
     "metadata": {},
     "output_type": "execute_result"
    }
   ],
   "source": [
    "for dumm in diferenciales:\n",
    "    tab_frec(BD[dumm] < pd.Timedelta(0))\n",
    "    BD[dumm].describe()"
   ]
  },
  {
   "cell_type": "markdown",
   "metadata": {},
   "source": [
    "# Esporto la BD"
   ]
  },
  {
   "cell_type": "code",
   "execution_count": 18,
   "metadata": {},
   "outputs": [],
   "source": [
    "BD.to_pickle('./BD/eSAMU.pkl')"
   ]
  },
  {
   "cell_type": "markdown",
   "metadata": {},
   "source": [
    "# Datos generales"
   ]
  },
  {
   "cell_type": "code",
   "execution_count": 19,
   "metadata": {},
   "outputs": [
    {
     "data": {
      "text/plain": [
       "Index(['Id', 'Fecha', 'Motivo del Llamado', 'Submotivo del Llamado',\n",
       "       'Prioridad', 'Estado', 'Edad', 'Género', 'Dirección', 'Sector',\n",
       "       'Comuna', 'Región', 'Intervención', 'Tipo Traslado',\n",
       "       'Categoría Vehículo', 'Condición Traslado', 'En Regulación',\n",
       "       'En Despacho', 'En Curso', 'Atendida', 'Completado', 'Regulado',\n",
       "       'Usuario que Cierra', 'Móvil Agregado', 'Móvil Despachado',\n",
       "       'Móvil Salida', 'Móvil Llegada Lugar', 'Móvil en Traslado',\n",
       "       'Móvil Llegada a CA', 'Móvil Recepción Paciente',\n",
       "       'Móvil Camilla Retenida', 'Móvil Vuelta a Base', 'Móvil LLegada a Base',\n",
       "       'Móvil Finalizado', 'Nombre Vehículo', 'Tipo Requerido',\n",
       "       'Tipo Despachado', 'Km Recorrido', 'Chofer', 'Paramédico', 'Enfermero',\n",
       "       'Doctor', 'Longitud', 'Latitud', 'Diff_recep_Despachado',\n",
       "       'Diff_Despacho_Salida', 'Diff_salida_enellugar', 'Diff_z6_1',\n",
       "       'Diff_z6_2', 'Diff_z6_3'],\n",
       "      dtype='object')"
      ]
     },
     "execution_count": 19,
     "metadata": {},
     "output_type": "execute_result"
    }
   ],
   "source": [
    "BD.columns"
   ]
  },
  {
   "cell_type": "code",
   "execution_count": 20,
   "metadata": {},
   "outputs": [
    {
     "data": {
      "text/plain": [
       "<matplotlib.axes._subplots.AxesSubplot at 0x7fb6331865f8>"
      ]
     },
     "execution_count": 20,
     "metadata": {},
     "output_type": "execute_result"
    },
    {
     "data": {
      "text/plain": [
       "<matplotlib.axes._subplots.AxesSubplot at 0x7fb6331865f8>"
      ]
     },
     "execution_count": 20,
     "metadata": {},
     "output_type": "execute_result"
    },
    {
     "data": {
      "image/png": "[encoded data removed]",
      "text/plain": [
       "<Figure size 432x288 with 1 Axes>"
      ]
     },
     "metadata": {
      "needs_background": "light"
     },
     "output_type": "display_data"
    }
   ],
   "source": [
    "BD.groupby(BD.Fecha.dt.to_period('M')).Id.count().plot()\n",
    "BD.groupby(BD.Fecha.dt.to_period('M'))['Nombre Vehículo'].count().plot()"
   ]
  },
  {
   "cell_type": "code",
   "execution_count": 21,
   "metadata": {
    "scrolled": true
   },
   "outputs": [
    {
     "data": {
      "text/plain": [
       "<matplotlib.axes._subplots.AxesSubplot at 0x7fb6319ae400>"
      ]
     },
     "execution_count": 21,
     "metadata": {},
     "output_type": "execute_result"
    },
    {
     "data": {
      "image/png": "[encoded data removed]",
      "text/plain": [
       "<Figure size 432x288 with 1 Axes>"
      ]
     },
     "metadata": {
      "needs_background": "light"
     },
     "output_type": "display_data"
    }
   ],
   "source": [
    "BD.boxplot('Edad', by = 'Motivo del Llamado')"
   ]
  },
  {
   "cell_type": "markdown",
   "metadata": {},
   "source": [
    "cantidad de REM ingresados a eSAMU"
   ]
  },
  {
   "cell_type": "code",
   "execution_count": 22,
   "metadata": {
    "scrolled": true
   },
   "outputs": [
    {
     "data": {
      "text/plain": [
       "<matplotlib.axes._subplots.AxesSubplot at 0x7fb6317a3c50>"
      ]
     },
     "execution_count": 22,
     "metadata": {},
     "output_type": "execute_result"
    },
    {
     "data": {
      "image/png": "[encoded data removed]",
      "text/plain": [
       "<Figure size 432x288 with 1 Axes>"
      ]
     },
     "metadata": {
      "needs_background": "light"
     },
     "output_type": "display_data"
    }
   ],
   "source": [
    "BD.groupby(BD.Fecha.dt.to_period('M')).Id.count().plot()"
   ]
  },
  {
   "cell_type": "code",
   "execution_count": 23,
   "metadata": {},
   "outputs": [
    {
     "data": {
      "text/plain": [
       "<matplotlib.axes._subplots.AxesSubplot at 0x7fb6319e4630>"
      ]
     },
     "execution_count": 23,
     "metadata": {},
     "output_type": "execute_result"
    },
    {
     "data": {
      "image/png": "[encoded data removed]",
      "text/plain": [
       "<Figure size 432x288 with 1 Axes>"
      ]
     },
     "metadata": {
      "needs_background": "light"
     },
     "output_type": "display_data"
    }
   ],
   "source": [
    "BD.groupby(BD.Fecha.dt.to_period('M'))['Nombre Vehículo'].count().plot()\n",
    "# BD"
   ]
  }
 ],
 "metadata": {
  "kernelspec": {
   "display_name": "Python 3",
   "language": "python",
   "name": "python3"
  },
  "language_info": {
   "codemirror_mode": {
    "name": "ipython",
    "version": 3
   },
   "file_extension": ".py",
   "mimetype": "text/x-python",
   "name": "python",
   "nbconvert_exporter": "python",
   "pygments_lexer": "ipython3",
   "version": "3.7.3"
  }
 },
 "nbformat": 4,
 "nbformat_minor": 4
}
