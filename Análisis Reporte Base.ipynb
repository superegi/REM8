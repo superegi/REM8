{
 "cells": [
  {
   "cell_type": "markdown",
   "metadata": {},
   "source": [
    "Análisis 'Reporte Base'\n",
    " =========="
   ]
  },
  {
   "cell_type": "markdown",
   "metadata": {},
   "source": [
    "Comienzo cargando todos los paquetes necesarios"
   ]
  },
  {
   "cell_type": "code",
   "execution_count": 1,
   "metadata": {},
   "outputs": [
    {
     "name": "stderr",
     "output_type": "stream",
     "text": [
      "/home/egidio/anaconda3/lib/python3.6/site-packages/statsmodels/compat/pandas.py:56: FutureWarning: The pandas.core.datetools module is deprecated and will be removed in a future version. Please use the pandas.tseries module instead.\n",
      "  from pandas.core import datetools\n"
     ]
    }
   ],
   "source": [
    "import pandas as pd\n",
    "import numpy as np\n",
    "import matplotlib.pyplot as plt\n",
    "import scipy \n",
    "from scipy import stats\n",
    "import statsmodels.api as sm\n",
    "from statsmodels.formula.api import ols\n",
    "import datetime as dt\n",
    "import datetime\n",
    "from datetime import timedelta  \n",
    "import timeboard as tb # turnos \n",
    "\n",
    "# para tratar de poner espanol\n",
    "from datetime import date, datetime, time\n",
    "from babel.dates import format_date, format_datetime, format_time, format_timedelta, Locale\n",
    "import locale                                    # para tratar de poner espanol\n",
    "#locale = Locale('es', 'CL')\n",
    "locale.setlocale(locale.LC_ALL,'es_ES.UTF-8')  \n",
    "\n",
    "import os\n",
    "import runpy\n",
    "from pyexcel_ods import get_data\n",
    "from matplotlib_venn import venn3\n",
    "from matplotlib_venn import venn2, venn2_circles\n",
    "import math\n",
    "\n",
    "from IPython.core.interactiveshell import InteractiveShell\n",
    "InteractiveShell.ast_node_interactivity = \"all\"\n",
    "%matplotlib inline\n",
    "\n",
    "\n",
    "#otro graficador\n",
    "import seaborn as sns\n",
    "\n",
    "#stats\n",
    "\n",
    "from sklearn.linear_model import LogisticRegression\n",
    "from sklearn import metrics\n",
    "from sklearn.model_selection import train_test_split\n",
    "from sklearn import model_selection\n",
    "from sklearn.model_selection import cross_val_score\n",
    "from sklearn.metrics import confusion_matrix\n",
    "from sklearn.metrics import classification_report"
   ]
  },
  {
   "cell_type": "code",
   "execution_count": 2,
   "metadata": {
    "collapsed": true
   },
   "outputs": [],
   "source": [
    "# cargo algunos scripts que me suelen servir para análisis"
   ]
  },
  {
   "cell_type": "code",
   "execution_count": 3,
   "metadata": {
    "scrolled": true
   },
   "outputs": [
    {
     "data": {
      "text/plain": [
       "['/home/egidio/Dropbox/Compucosas/programas py/lector_ODF.py',\n",
       " '/home/egidio/Dropbox/Compucosas/programas py/como importar',\n",
       " '/home/egidio/Dropbox/Compucosas/programas py/descripcion_univariada.py',\n",
       " '/home/egidio/Dropbox/Compucosas/programas py/características_operativas_de_test.py',\n",
       " '/home/egidio/Dropbox/Compucosas/programas py/percentiles.py',\n",
       " '/home/egidio/Dropbox/Compucosas/programas py/tabala_frecuencias.py',\n",
       " '/home/egidio/Dropbox/Compucosas/programas py/__pycache__/percentiles.cpython-36.pyc',\n",
       " '/home/egidio/Dropbox/Compucosas/programas py/__pycache__/lector_ODF.cpython-36.pyc',\n",
       " '/home/egidio/Dropbox/Compucosas/programas py/__pycache__/descripcion_univariada.cpython-36.pyc',\n",
       " '/home/egidio/Dropbox/Compucosas/programas py/__pycache__/características_operativas_de_test.cpython-36.pyc',\n",
       " '/home/egidio/Dropbox/Compucosas/programas py/__pycache__/tabala_frecuencias.cpython-36.pyc',\n",
       " '/home/egidio/Dropbox/Compucosas/programas py/__pycache__/funciones_locales.cpython-36.pyc']"
      ]
     },
     "execution_count": 3,
     "metadata": {},
     "output_type": "execute_result"
    }
   ],
   "source": [
    "#listo los archivos\n",
    "scripts = []\n",
    "for dirname, dirnames, filenames in os.walk('/home/egidio/Dropbox/Compucosas/programas py'):\n",
    "    for filename in filenames:\n",
    "        scripts.append(os.path.join(dirname, filename))\n",
    "\n",
    "scripts\n",
    "\n",
    "# los cargo\n",
    "for script in scripts:\n",
    "    if script[-3:] == '.py':\n",
    "        exec(open(str(script)).read())\n"
   ]
  },
  {
   "cell_type": "markdown",
   "metadata": {},
   "source": [
    "# Cargo la BD"
   ]
  },
  {
   "cell_type": "code",
   "execution_count": 4,
   "metadata": {
    "collapsed": true
   },
   "outputs": [],
   "source": [
    "BD = pd.read_pickle('./BD/eSAMU.pkl')"
   ]
  },
  {
   "cell_type": "code",
   "execution_count": 5,
   "metadata": {},
   "outputs": [
    {
     "data": {
      "text/plain": [
       "Index(['Id', 'Fecha', 'Motivo del Llamado', 'Submotivo del Llamado',\n",
       "       'Prioridad', 'Estado', 'Edad', 'Género', 'Dirección', 'Sector',\n",
       "       'Comuna', 'Región', 'Intervención', 'Tipo Traslado',\n",
       "       'Categoría Vehículo', 'Condición Traslado', 'En Regulación',\n",
       "       'En Despacho', 'En Curso', 'Atendida', 'Completado', 'Regulado',\n",
       "       'Usuario que Cierra', 'Móvil Agregado', 'Móvil Despachado',\n",
       "       'Móvil Salida', 'Móvil Llegada Lugar', 'Móvil en Traslado',\n",
       "       'Móvil Llegada a CA', 'Móvil Recepción Paciente',\n",
       "       'Móvil Camilla Retenida', 'Móvil Vuelta a Base', 'Móvil LLegada a Base',\n",
       "       'Móvil Finalizado', 'Nombre Vehículo', 'Tipo Requerido',\n",
       "       'Tipo Despachado', 'Km Recorrido', 'Chofer', 'Paramédico', 'Enfermero',\n",
       "       'Doctor', 'Longitud', 'Latitud', 'Diff_recep_Despachado',\n",
       "       'Diff_Despacho_Salida', 'Diff_salida_enellugar', 'Diff_z6_1',\n",
       "       'Diff_z6_2', 'Diff_z6_3'],\n",
       "      dtype='object')"
      ]
     },
     "execution_count": 5,
     "metadata": {},
     "output_type": "execute_result"
    }
   ],
   "source": [
    "BD.columns"
   ]
  },
  {
   "cell_type": "markdown",
   "metadata": {
    "scrolled": false
   },
   "source": [
    "BD['Motivo del Llamado'].value_counts(normalize=True)*100\n",
    "BD['Submotivo del Llamado'].value_counts(normalize=True).head(15)*100\n",
    "dum = pd.crosstab(BD['Submotivo del Llamado'],\n",
    "            BD.Prioridad, \n",
    "            margins=True,\n",
    "            margins_name = 'Total'\n",
    "           ).sort_values('Total', ascending=False)\n",
    "# dum.drop('Total').head(10)\n",
    "tab = pd.crosstab(BD['Submotivo del Llamado'],\n",
    "            BD.Prioridad,\n",
    "            margins=True,\n",
    "            margins_name = 'All'\n",
    "           ).sort_values('All', ascending=False)\n",
    "\n",
    "tab = tab.drop('All',axis=1)\n",
    "tab = tab.drop('All',axis=0)\n",
    "tab.head(10)\n",
    "tab.head(10).plot(kind='barh')"
   ]
  },
  {
   "cell_type": "code",
   "execution_count": 6,
   "metadata": {
    "scrolled": true
   },
   "outputs": [
    {
     "name": "stdout",
     "output_type": "stream",
     "text": [
      "Dolor o Problema específico\n"
     ]
    },
    {
     "data": {
      "text/plain": [
       "Dificultad respiratoria leve - moderada (disnea)    25.603865\n",
       "Dolor de pecho                                      11.235090\n",
       "Dolor o problemas abdominal                         10.260357\n",
       "Problemas de Diabetes                                9.251421\n",
       "Enfermedad terminal, dolor de cancer, agonico.       8.964987\n",
       "Name: Submotivo del Llamado, dtype: float64"
      ]
     },
     "execution_count": 6,
     "metadata": {},
     "output_type": "execute_result"
    },
    {
     "name": "stdout",
     "output_type": "stream",
     "text": [
      "Accidentes y Traumas\n"
     ]
    },
    {
     "data": {
      "text/plain": [
       "Accidente vehicular o transporte. Atropellos      35.767005\n",
       "Caídas leves                                      26.746624\n",
       "Accidente múltiples víctimas (cualquier razón)    15.709134\n",
       "Caídas graves                                      7.078755\n",
       "Agresiones, ataques, asalto                        6.063910\n",
       "Name: Submotivo del Llamado, dtype: float64"
      ]
     },
     "execution_count": 6,
     "metadata": {},
     "output_type": "execute_result"
    },
    {
     "name": "stdout",
     "output_type": "stream",
     "text": [
      "Traslados\n"
     ]
    },
    {
     "data": {
      "text/plain": [
       "Tr. Especialista              56.449704\n",
       "Tr. Exámen o Procedimiento    18.703860\n",
       "Tr. Rescate                    6.937165\n",
       "Tr. Domicilio                  6.463793\n",
       "Tr. Cupo                       3.961679\n",
       "Name: Submotivo del Llamado, dtype: float64"
      ]
     },
     "execution_count": 6,
     "metadata": {},
     "output_type": "execute_result"
    },
    {
     "name": "stdout",
     "output_type": "stream",
     "text": [
      "Consciencia\n"
     ]
    },
    {
     "data": {
      "text/plain": [
       "Compromiso de conciencia                           54.820303\n",
       "Lipotimia recuperada                               14.341679\n",
       "Enfermedad Psiquiátrica o agitación psicomotora    14.103219\n",
       "Comportamientos extraños                           12.732073\n",
       "Focalidad Neurológica. Compromiso neurologico       3.994209\n",
       "Name: Submotivo del Llamado, dtype: float64"
      ]
     },
     "execution_count": 6,
     "metadata": {},
     "output_type": "execute_result"
    },
    {
     "name": "stdout",
     "output_type": "stream",
     "text": [
      "Otro\n"
     ]
    },
    {
     "data": {
      "text/plain": [
       "Fallecido                        59.420105\n",
       "Otros                            35.496232\n",
       "Transporte Personal               1.009069\n",
       "Caso social                       0.983523\n",
       "Solicitud de consejo de salud     0.830247\n",
       "Name: Submotivo del Llamado, dtype: float64"
      ]
     },
     "execution_count": 6,
     "metadata": {},
     "output_type": "execute_result"
    },
    {
     "name": "stdout",
     "output_type": "stream",
     "text": [
      "Sin patología urgencia\n"
     ]
    },
    {
     "data": {
      "text/plain": [
       "Malestar general adulto mayor            44.333297\n",
       "Malfunción de sondas o vias              20.545235\n",
       "Malestar general adulto                  17.302407\n",
       "Crisis de Panico, Angustia o Nerviosa     7.167198\n",
       "Heridas simples                           2.187534\n",
       "Name: Submotivo del Llamado, dtype: float64"
      ]
     },
     "execution_count": 6,
     "metadata": {},
     "output_type": "execute_result"
    },
    {
     "name": "stdout",
     "output_type": "stream",
     "text": [
      "Intoxicación\n"
     ]
    },
    {
     "data": {
      "text/plain": [
       "Sobredosis, envenenamientos e intoxicaciones      56.235069\n",
       "Exposición o fuga materiales, gases peligrosos    31.868132\n",
       "Estado embriaguez                                 11.896799\n",
       "Name: Submotivo del Llamado, dtype: float64"
      ]
     },
     "execution_count": 6,
     "metadata": {},
     "output_type": "execute_result"
    },
    {
     "name": "stdout",
     "output_type": "stream",
     "text": [
      "Colapso\n"
     ]
    },
    {
     "data": {
      "text/plain": [
       "Convulsiones                                         53.094463\n",
       "Inconciente, desmayo. Respirando                     26.791531\n",
       "Colapso respiratorio o circulatorio. PCR. Asfixia    19.075733\n",
       "OVACE                                                 1.038274\n",
       "Name: Submotivo del Llamado, dtype: float64"
      ]
     },
     "execution_count": 6,
     "metadata": {},
     "output_type": "execute_result"
    },
    {
     "name": "stdout",
     "output_type": "stream",
     "text": [
      "nan\n"
     ]
    },
    {
     "data": {
      "text/plain": [
       "Series([], Name: Submotivo del Llamado, dtype: float64)"
      ]
     },
     "execution_count": 6,
     "metadata": {},
     "output_type": "execute_result"
    }
   ],
   "source": [
    "for x in BD['Motivo del Llamado'].unique():\n",
    "    print(x)\n",
    "    BD.loc[BD['Motivo del Llamado']== x]['Submotivo del Llamado'].value_counts(normalize=True).head(5)*100"
   ]
  },
  {
   "cell_type": "code",
   "execution_count": 7,
   "metadata": {},
   "outputs": [
    {
     "data": {
      "text/plain": [
       "S2    21585\n",
       "S3    22948\n",
       "S1    19520\n",
       "S4     9130\n",
       "S5     1214\n",
       "Name: Prioridad, dtype: int64"
      ]
     },
     "execution_count": 7,
     "metadata": {},
     "output_type": "execute_result"
    },
    {
     "data": {
      "text/plain": [
       "<matplotlib.axes._subplots.AxesSubplot at 0x7f0d449d28d0>"
      ]
     },
     "execution_count": 7,
     "metadata": {},
     "output_type": "execute_result"
    },
    {
     "data": {
      "image/png": "[encoded data removed]",
      "text/plain": [
       "<Figure size 432x288 with 1 Axes>"
      ]
     },
     "metadata": {},
     "output_type": "display_data"
    }
   ],
   "source": [
    "BD.Prioridad.value_counts(sort=False)#.plot('bar')\n",
    "pd.Categorical(BD.Prioridad).value_counts().plot('bar')"
   ]
  },
  {
   "cell_type": "code",
   "execution_count": 8,
   "metadata": {},
   "outputs": [
    {
     "data": {
      "text/plain": [
       "<matplotlib.axes._subplots.AxesSubplot at 0x7f0d44937f60>"
      ]
     },
     "execution_count": 8,
     "metadata": {},
     "output_type": "execute_result"
    },
    {
     "data": {
      "image/png": "[encoded data removed]",
      "text/plain": [
       "<Figure size 432x288 with 1 Axes>"
      ]
     },
     "metadata": {},
     "output_type": "display_data"
    }
   ],
   "source": [
    "BD.groupby(BD.Fecha.dt.hour).Id.count().plot()\n"
   ]
  },
  {
   "cell_type": "code",
   "execution_count": 9,
   "metadata": {},
   "outputs": [
    {
     "data": {
      "text/plain": [
       "Fecha\n",
       "2018-01    2299\n",
       "2018-02    3513\n",
       "2018-03    3855\n",
       "2018-04    3542\n",
       "2018-05    4144\n",
       "2018-06    4164\n",
       "2018-07    4011\n",
       "2018-08    4558\n",
       "2018-09    4125\n",
       "2018-10    4163\n",
       "2018-11    4283\n",
       "2018-12    4653\n",
       "2019-01    4532\n",
       "2019-02    4077\n",
       "2019-03    4498\n",
       "2019-04    4152\n",
       "2019-05    4177\n",
       "2019-06    3977\n",
       "2019-07    4605\n",
       "2019-08    4567\n",
       "2019-09    4497\n",
       "2019-10    4849\n",
       "2019-11    4566\n",
       "2019-12    4855\n",
       "Freq: M, Name: Id, dtype: int64"
      ]
     },
     "execution_count": 9,
     "metadata": {},
     "output_type": "execute_result"
    },
    {
     "data": {
      "text/plain": [
       "<matplotlib.axes._subplots.AxesSubplot at 0x7f0d440a2cc0>"
      ]
     },
     "execution_count": 9,
     "metadata": {},
     "output_type": "execute_result"
    },
    {
     "data": {
      "image/png": "[encoded data removed]",
      "text/plain": [
       "<Figure size 432x288 with 1 Axes>"
      ]
     },
     "metadata": {},
     "output_type": "display_data"
    }
   ],
   "source": [
    "#atenciones mensuales\n",
    "BD.groupby(BD.Fecha.dt.to_period('M')).Id.count()\n",
    "BD.groupby(BD.Fecha.dt.to_period('M')).Id.count().plot()"
   ]
  },
  {
   "cell_type": "code",
   "execution_count": 10,
   "metadata": {
    "scrolled": true
   },
   "outputs": [
    {
     "data": {
      "text/plain": [
       "<matplotlib.axes._subplots.AxesSubplot at 0x7f0d44987b00>"
      ]
     },
     "execution_count": 10,
     "metadata": {},
     "output_type": "execute_result"
    },
    {
     "data": {
      "text/plain": [
       "(0, 110)"
      ]
     },
     "execution_count": 10,
     "metadata": {},
     "output_type": "execute_result"
    },
    {
     "data": {
      "text/plain": [
       "Text(0.5, 1.0, 'Histograma edad')"
      ]
     },
     "execution_count": 10,
     "metadata": {},
     "output_type": "execute_result"
    },
    {
     "data": {
      "image/png": "[encoded data removed]",
      "text/plain": [
       "<Figure size 432x288 with 1 Axes>"
      ]
     },
     "metadata": {},
     "output_type": "display_data"
    }
   ],
   "source": [
    "BD.Edad.hist(bins=30)\n",
    "plt.xlim([0,110])\n",
    "plt.title('Histograma edad')"
   ]
  },
  {
   "cell_type": "code",
   "execution_count": 11,
   "metadata": {},
   "outputs": [
    {
     "data": {
      "text/plain": [
       "Index(['Id', 'Fecha', 'Motivo del Llamado', 'Submotivo del Llamado',\n",
       "       'Prioridad', 'Estado', 'Edad', 'Género', 'Dirección', 'Sector',\n",
       "       'Comuna', 'Región', 'Intervención', 'Tipo Traslado',\n",
       "       'Categoría Vehículo', 'Condición Traslado', 'En Regulación',\n",
       "       'En Despacho', 'En Curso', 'Atendida', 'Completado', 'Regulado',\n",
       "       'Usuario que Cierra', 'Móvil Agregado', 'Móvil Despachado',\n",
       "       'Móvil Salida', 'Móvil Llegada Lugar', 'Móvil en Traslado',\n",
       "       'Móvil Llegada a CA', 'Móvil Recepción Paciente',\n",
       "       'Móvil Camilla Retenida', 'Móvil Vuelta a Base', 'Móvil LLegada a Base',\n",
       "       'Móvil Finalizado', 'Nombre Vehículo', 'Tipo Requerido',\n",
       "       'Tipo Despachado', 'Km Recorrido', 'Chofer', 'Paramédico', 'Enfermero',\n",
       "       'Doctor', 'Longitud', 'Latitud', 'Diff_recep_Despachado',\n",
       "       'Diff_Despacho_Salida', 'Diff_salida_enellugar', 'Diff_z6_1',\n",
       "       'Diff_z6_2', 'Diff_z6_3'],\n",
       "      dtype='object')"
      ]
     },
     "execution_count": 11,
     "metadata": {},
     "output_type": "execute_result"
    }
   ],
   "source": [
    "BD.columns"
   ]
  },
  {
   "cell_type": "code",
   "execution_count": 12,
   "metadata": {
    "scrolled": true
   },
   "outputs": [
    {
     "data": {
      "text/plain": [
       "count                     37590\n",
       "mean     0 days 00:07:54.635301\n",
       "std      0 days 00:19:10.988734\n",
       "min             0 days 00:00:02\n",
       "25%             0 days 00:00:47\n",
       "50%             0 days 00:03:03\n",
       "75%             0 days 00:07:49\n",
       "max             1 days 02:44:39\n",
       "Name: Diff_Despacho_Salida, dtype: object"
      ]
     },
     "execution_count": 12,
     "metadata": {},
     "output_type": "execute_result"
    },
    {
     "data": {
      "text/plain": [
       "<matplotlib.axes._subplots.AxesSubplot at 0x7f0d43fe58d0>"
      ]
     },
     "execution_count": 12,
     "metadata": {},
     "output_type": "execute_result"
    },
    {
     "data": {
      "text/plain": [
       "(0, 10)"
      ]
     },
     "execution_count": 12,
     "metadata": {},
     "output_type": "execute_result"
    },
    {
     "data": {
      "text/plain": [
       "Text(0.5, 1.0, 'Diff salida  indicada vs real')"
      ]
     },
     "execution_count": 12,
     "metadata": {},
     "output_type": "execute_result"
    },
    {
     "data": {
      "image/png": "[encoded data removed]",
      "text/plain": [
       "<Figure size 432x288 with 1 Axes>"
      ]
     },
     "metadata": {},
     "output_type": "display_data"
    }
   ],
   "source": [
    "BD.Diff_Despacho_Salida.describe()\n",
    "(BD.Diff_Despacho_Salida.dt.seconds/60).hist(bins=1000)\n",
    "plt.xlim([0,10])\n",
    "plt.title('Diff salida  indicada vs real')"
   ]
  },
  {
   "cell_type": "code",
   "execution_count": 13,
   "metadata": {},
   "outputs": [
    {
     "data": {
      "text/plain": [
       "0                   NaT\n",
       "1   2019-01-01 02:30:56\n",
       "2   2019-01-01 02:25:17\n",
       "3   2019-01-01 02:22:29\n",
       "4   2019-01-01 02:05:22\n",
       "Name: En Regulación, dtype: datetime64[ns]"
      ]
     },
     "execution_count": 13,
     "metadata": {},
     "output_type": "execute_result"
    }
   ],
   "source": [
    "BD['En Regulación'].head()"
   ]
  },
  {
   "cell_type": "code",
   "execution_count": 14,
   "metadata": {},
   "outputs": [
    {
     "data": {
      "text/plain": [
       "count                     37590\n",
       "mean     0 days 00:07:54.635301\n",
       "std      0 days 00:19:10.988734\n",
       "min             0 days 00:00:02\n",
       "25%             0 days 00:00:47\n",
       "50%             0 days 00:03:03\n",
       "75%             0 days 00:07:49\n",
       "max             1 days 02:44:39\n",
       "Name: Diff_Despacho_Salida, dtype: object"
      ]
     },
     "execution_count": 14,
     "metadata": {},
     "output_type": "execute_result"
    },
    {
     "data": {
      "text/plain": [
       "<matplotlib.axes._subplots.AxesSubplot at 0x7f0d2845dcc0>"
      ]
     },
     "execution_count": 14,
     "metadata": {},
     "output_type": "execute_result"
    },
    {
     "data": {
      "text/plain": [
       "(0, 10)"
      ]
     },
     "execution_count": 14,
     "metadata": {},
     "output_type": "execute_result"
    },
    {
     "data": {
      "text/plain": [
       "Text(0.5, 1.0, 'Diff salida  indicada vs real')"
      ]
     },
     "execution_count": 14,
     "metadata": {},
     "output_type": "execute_result"
    },
    {
     "data": {
      "image/png": "[encoded data removed]",
      "text/plain": [
       "<Figure size 432x288 with 1 Axes>"
      ]
     },
     "metadata": {},
     "output_type": "display_data"
    }
   ],
   "source": [
    "BD.Diff_Despacho_Salida.describe()\n",
    "(BD.Diff_Despacho_Salida.dt.seconds/60).hist(bins=1000)\n",
    "plt.xlim([0,10])\n",
    "plt.title('Diff salida  indicada vs real')"
   ]
  },
  {
   "cell_type": "code",
   "execution_count": 15,
   "metadata": {},
   "outputs": [
    {
     "data": {
      "text/plain": [
       "Index(['Id', 'Fecha', 'Motivo del Llamado', 'Submotivo del Llamado',\n",
       "       'Prioridad', 'Estado', 'Edad', 'Género', 'Dirección', 'Sector',\n",
       "       'Comuna', 'Región', 'Intervención', 'Tipo Traslado',\n",
       "       'Categoría Vehículo', 'Condición Traslado', 'En Regulación',\n",
       "       'En Despacho', 'En Curso', 'Atendida', 'Completado', 'Regulado',\n",
       "       'Usuario que Cierra', 'Móvil Agregado', 'Móvil Despachado',\n",
       "       'Móvil Salida', 'Móvil Llegada Lugar', 'Móvil en Traslado',\n",
       "       'Móvil Llegada a CA', 'Móvil Recepción Paciente',\n",
       "       'Móvil Camilla Retenida', 'Móvil Vuelta a Base', 'Móvil LLegada a Base',\n",
       "       'Móvil Finalizado', 'Nombre Vehículo', 'Tipo Requerido',\n",
       "       'Tipo Despachado', 'Km Recorrido', 'Chofer', 'Paramédico', 'Enfermero',\n",
       "       'Doctor', 'Longitud', 'Latitud', 'Diff_recep_Despachado',\n",
       "       'Diff_Despacho_Salida', 'Diff_salida_enellugar', 'Diff_z6_1',\n",
       "       'Diff_z6_2', 'Diff_z6_3'],\n",
       "      dtype='object')"
      ]
     },
     "execution_count": 15,
     "metadata": {},
     "output_type": "execute_result"
    },
    {
     "data": {
      "text/html": [
       "<div>\n",
       "<style scoped>\n",
       "    .dataframe tbody tr th:only-of-type {\n",
       "        vertical-align: middle;\n",
       "    }\n",
       "\n",
       "    .dataframe tbody tr th {\n",
       "        vertical-align: top;\n",
       "    }\n",
       "\n",
       "    .dataframe thead th {\n",
       "        text-align: right;\n",
       "    }\n",
       "</style>\n",
       "<table border=\"1\" class=\"dataframe\">\n",
       "  <thead>\n",
       "    <tr style=\"text-align: right;\">\n",
       "      <th></th>\n",
       "      <th>En Regulación</th>\n",
       "      <th>En Despacho</th>\n",
       "      <th>En Curso</th>\n",
       "      <th>Atendida</th>\n",
       "      <th>Completado</th>\n",
       "      <th>Regulado</th>\n",
       "      <th>Usuario que Cierra</th>\n",
       "      <th>Móvil Agregado</th>\n",
       "      <th>Móvil Despachado</th>\n",
       "      <th>Móvil Salida</th>\n",
       "      <th>...</th>\n",
       "      <th>Móvil Camilla Retenida</th>\n",
       "      <th>Móvil Vuelta a Base</th>\n",
       "      <th>Móvil LLegada a Base</th>\n",
       "      <th>Móvil Finalizado</th>\n",
       "      <th>Nombre Vehículo</th>\n",
       "      <th>Tipo Requerido</th>\n",
       "      <th>Tipo Despachado</th>\n",
       "      <th>Km Recorrido</th>\n",
       "      <th>Chofer</th>\n",
       "      <th>Paramédico</th>\n",
       "    </tr>\n",
       "  </thead>\n",
       "  <tbody>\n",
       "    <tr>\n",
       "      <th>0</th>\n",
       "      <td>NaT</td>\n",
       "      <td>2019-01-01 02:51:00</td>\n",
       "      <td>2019-01-01 03:47:53</td>\n",
       "      <td>2019-01-01 04:41:52</td>\n",
       "      <td>2019-01-01 04:42:14</td>\n",
       "      <td>NaT</td>\n",
       "      <td>Ivan Andres Barahona Morales</td>\n",
       "      <td>NaT</td>\n",
       "      <td>2019-01-01 03:47:36</td>\n",
       "      <td>NaT</td>\n",
       "      <td>...</td>\n",
       "      <td>NaT</td>\n",
       "      <td>2019-01-01 04:40:59</td>\n",
       "      <td>NaT</td>\n",
       "      <td>2019-01-01 04:42:14</td>\n",
       "      <td>R31</td>\n",
       "      <td>m1</td>\n",
       "      <td>m1</td>\n",
       "      <td>No informado</td>\n",
       "      <td>NaN</td>\n",
       "      <td>NaN</td>\n",
       "    </tr>\n",
       "    <tr>\n",
       "      <th>1</th>\n",
       "      <td>2019-01-01 02:30:56</td>\n",
       "      <td>2019-01-01 02:34:06</td>\n",
       "      <td>2019-01-01 02:37:11</td>\n",
       "      <td>2019-01-01 03:29:34</td>\n",
       "      <td>2019-01-01 03:47:09</td>\n",
       "      <td>NaT</td>\n",
       "      <td>Ivan Andres Barahona Morales</td>\n",
       "      <td>NaT</td>\n",
       "      <td>2019-01-01 02:36:20</td>\n",
       "      <td>2019-01-01 02:44:09</td>\n",
       "      <td>...</td>\n",
       "      <td>NaT</td>\n",
       "      <td>NaT</td>\n",
       "      <td>2019-01-01 03:47:01</td>\n",
       "      <td>2019-01-01 03:47:09</td>\n",
       "      <td>R24</td>\n",
       "      <td>m2</td>\n",
       "      <td>m2</td>\n",
       "      <td>26</td>\n",
       "      <td>NaN</td>\n",
       "      <td>Galvarino Fernando Gonzalez Maya</td>\n",
       "    </tr>\n",
       "  </tbody>\n",
       "</table>\n",
       "<p>2 rows × 24 columns</p>\n",
       "</div>"
      ],
      "text/plain": [
       "        En Regulación         En Despacho            En Curso  \\\n",
       "0                 NaT 2019-01-01 02:51:00 2019-01-01 03:47:53   \n",
       "1 2019-01-01 02:30:56 2019-01-01 02:34:06 2019-01-01 02:37:11   \n",
       "\n",
       "             Atendida          Completado Regulado  \\\n",
       "0 2019-01-01 04:41:52 2019-01-01 04:42:14      NaT   \n",
       "1 2019-01-01 03:29:34 2019-01-01 03:47:09      NaT   \n",
       "\n",
       "             Usuario que Cierra Móvil Agregado    Móvil Despachado  \\\n",
       "0  Ivan Andres Barahona Morales            NaT 2019-01-01 03:47:36   \n",
       "1  Ivan Andres Barahona Morales            NaT 2019-01-01 02:36:20   \n",
       "\n",
       "         Móvil Salida                ...                 \\\n",
       "0                 NaT                ...                  \n",
       "1 2019-01-01 02:44:09                ...                  \n",
       "\n",
       "  Móvil Camilla Retenida Móvil Vuelta a Base Móvil LLegada a Base  \\\n",
       "0                    NaT 2019-01-01 04:40:59                  NaT   \n",
       "1                    NaT                 NaT  2019-01-01 03:47:01   \n",
       "\n",
       "     Móvil Finalizado Nombre Vehículo Tipo Requerido Tipo Despachado  \\\n",
       "0 2019-01-01 04:42:14             R31             m1              m1   \n",
       "1 2019-01-01 03:47:09             R24             m2              m2   \n",
       "\n",
       "   Km Recorrido Chofer                        Paramédico  \n",
       "0  No informado    NaN                               NaN  \n",
       "1            26    NaN  Galvarino Fernando Gonzalez Maya  \n",
       "\n",
       "[2 rows x 24 columns]"
      ]
     },
     "execution_count": 15,
     "metadata": {},
     "output_type": "execute_result"
    }
   ],
   "source": [
    "# BD.Doctor.value_counts()\n",
    "BD.columns\n",
    "BD[[ 'En Regulación',\n",
    "       'En Despacho', 'En Curso', 'Atendida', 'Completado', 'Regulado',\n",
    "       'Usuario que Cierra', 'Móvil Agregado', 'Móvil Despachado',\n",
    "       'Móvil Salida', 'Móvil Llegada Lugar', 'Móvil en Traslado',\n",
    "       'Móvil Llegada a CA', 'Móvil Recepción Paciente',\n",
    "       'Móvil Camilla Retenida', 'Móvil Vuelta a Base', 'Móvil LLegada a Base',\n",
    "       'Móvil Finalizado', 'Nombre Vehículo', 'Tipo Requerido',\n",
    "       'Tipo Despachado', 'Km Recorrido', 'Chofer', 'Paramédico']].head(2)"
   ]
  },
  {
   "cell_type": "code",
   "execution_count": null,
   "metadata": {
    "collapsed": true
   },
   "outputs": [],
   "source": []
  },
  {
   "cell_type": "markdown",
   "metadata": {
    "collapsed": true
   },
   "source": [
    "# Solicitudes al CR"
   ]
  },
  {
   "cell_type": "code",
   "execution_count": 16,
   "metadata": {},
   "outputs": [
    {
     "data": {
      "text/plain": [
       "Index(['Id', 'Fecha', 'Motivo del Llamado', 'Submotivo del Llamado',\n",
       "       'Prioridad', 'Estado', 'Edad', 'Género', 'Dirección', 'Sector',\n",
       "       'Comuna', 'Región', 'Intervención', 'Tipo Traslado',\n",
       "       'Categoría Vehículo', 'Condición Traslado', 'En Regulación',\n",
       "       'En Despacho', 'En Curso', 'Atendida', 'Completado', 'Regulado',\n",
       "       'Usuario que Cierra', 'Móvil Agregado', 'Móvil Despachado',\n",
       "       'Móvil Salida', 'Móvil Llegada Lugar', 'Móvil en Traslado',\n",
       "       'Móvil Llegada a CA', 'Móvil Recepción Paciente',\n",
       "       'Móvil Camilla Retenida', 'Móvil Vuelta a Base', 'Móvil LLegada a Base',\n",
       "       'Móvil Finalizado', 'Nombre Vehículo', 'Tipo Requerido',\n",
       "       'Tipo Despachado', 'Km Recorrido', 'Chofer', 'Paramédico', 'Enfermero',\n",
       "       'Doctor', 'Longitud', 'Latitud', 'Diff_recep_Despachado',\n",
       "       'Diff_Despacho_Salida', 'Diff_salida_enellugar', 'Diff_z6_1',\n",
       "       'Diff_z6_2', 'Diff_z6_3'],\n",
       "      dtype='object')"
      ]
     },
     "execution_count": 16,
     "metadata": {},
     "output_type": "execute_result"
    }
   ],
   "source": [
    "BD.columns"
   ]
  },
  {
   "cell_type": "code",
   "execution_count": 22,
   "metadata": {
    "collapsed": true,
    "scrolled": false
   },
   "outputs": [],
   "source": [
    "# BD.Comuna.value_counts()#.sum()\n",
    "\n",
    "sector_vina = BD.loc[(BD.Comuna == 'Viña del Mar') | (BD.Comuna == 'Concón') |\n",
    "             (BD['Nombre Vehículo'].str.contains('R2'))\n",
    "            ].copy()\n",
    "\n",
    "sector_quilpue = BD.loc[(BD.Comuna == 'Quilpué') | (BD.Comuna == 'Villa Alemana') |\n",
    "             (BD['Nombre Vehículo'].str.contains('R3'))\n",
    "            ].copy()\n",
    "\n",
    "sector_quillota = BD.loc[(BD.Comuna == 'Quillota') |\n",
    "             (BD['Nombre Vehículo'].str.contains('R6'))\n",
    "            ].copy()\n",
    "\n",
    "sector_quintero = BD.loc[(BD.Comuna == 'Quintero') | (BD.Comuna == 'Puchuncaví') | \n",
    "             (BD['Nombre Vehículo'].str.contains('R1'))\n",
    "            ].copy()\n",
    "\n",
    "sector_ligua = BD.loc[(BD.Comuna == 'La Ligua') | (BD.Comuna == 'Nogales') |\n",
    "                      (BD.Comuna == 'Zapallar') |\n",
    "             (BD['Nombre Vehículo'].str.contains('R8'))\n",
    "            ].copy()\n",
    "\n",
    "sector_otros =  BD.loc[(BD.Id.isin(sector_vina.Id)==False) &\n",
    "                       (BD.Id.isin(sector_quilpue.Id)==False) &\n",
    "                       (BD.Id.isin(sector_quillota.Id)==False) &\n",
    "                       (BD.Id.isin(sector_quintero.Id)==False) &\n",
    "                       (BD.Id.isin(sector_ligua.Id)==False) \n",
    "                      ].copy()\n",
    "\n",
    "sectores = [sector_vina, sector_quilpue, sector_quillota,\n",
    "            sector_quintero, sector_ligua, sector_otros]"
   ]
  },
  {
   "cell_type": "code",
   "execution_count": 56,
   "metadata": {},
   "outputs": [
    {
     "data": {
      "text/plain": [
       "'Viña del Mar'"
      ]
     },
     "execution_count": 56,
     "metadata": {},
     "output_type": "execute_result"
    },
    {
     "data": {
      "text/plain": [
       "<matplotlib.axes._subplots.AxesSubplot at 0x7f0d17634278>"
      ]
     },
     "execution_count": 56,
     "metadata": {},
     "output_type": "execute_result"
    },
    {
     "data": {
      "text/plain": [
       "'Quilpué'"
      ]
     },
     "execution_count": 56,
     "metadata": {},
     "output_type": "execute_result"
    },
    {
     "data": {
      "text/plain": [
       "<matplotlib.axes._subplots.AxesSubplot at 0x7f0d17634278>"
      ]
     },
     "execution_count": 56,
     "metadata": {},
     "output_type": "execute_result"
    },
    {
     "data": {
      "text/plain": [
       "'Quillota'"
      ]
     },
     "execution_count": 56,
     "metadata": {},
     "output_type": "execute_result"
    },
    {
     "data": {
      "text/plain": [
       "<matplotlib.axes._subplots.AxesSubplot at 0x7f0d17634278>"
      ]
     },
     "execution_count": 56,
     "metadata": {},
     "output_type": "execute_result"
    },
    {
     "data": {
      "text/plain": [
       "'Quintero'"
      ]
     },
     "execution_count": 56,
     "metadata": {},
     "output_type": "execute_result"
    },
    {
     "data": {
      "text/plain": [
       "<matplotlib.axes._subplots.AxesSubplot at 0x7f0d17634278>"
      ]
     },
     "execution_count": 56,
     "metadata": {},
     "output_type": "execute_result"
    },
    {
     "data": {
      "text/plain": [
       "'La Ligua'"
      ]
     },
     "execution_count": 56,
     "metadata": {},
     "output_type": "execute_result"
    },
    {
     "data": {
      "text/plain": [
       "<matplotlib.axes._subplots.AxesSubplot at 0x7f0d17634278>"
      ]
     },
     "execution_count": 56,
     "metadata": {},
     "output_type": "execute_result"
    },
    {
     "data": {
      "text/plain": [
       "'Limache'"
      ]
     },
     "execution_count": 56,
     "metadata": {},
     "output_type": "execute_result"
    },
    {
     "data": {
      "text/plain": [
       "<matplotlib.axes._subplots.AxesSubplot at 0x7f0d17634278>"
      ]
     },
     "execution_count": 56,
     "metadata": {},
     "output_type": "execute_result"
    },
    {
     "data": {
      "text/plain": [
       "<matplotlib.legend.Legend at 0x7f0d179351d0>"
      ]
     },
     "execution_count": 56,
     "metadata": {},
     "output_type": "execute_result"
    },
    {
     "data": {
      "text/plain": [
       "Text(0, 0.5, 'Cantidad de atenciones')"
      ]
     },
     "execution_count": 56,
     "metadata": {},
     "output_type": "execute_result"
    },
    {
     "data": {
      "text/plain": [
       "<matplotlib.lines.Line2D at 0x7f0d174810b8>"
      ]
     },
     "execution_count": 56,
     "metadata": {},
     "output_type": "execute_result"
    },
    {
     "data": {
      "image/png": "[encoded data removed]",
      "text/plain": [
       "<Figure size 432x288 with 1 Axes>"
      ]
     },
     "metadata": {},
     "output_type": "display_data"
    }
   ],
   "source": [
    "for x in sectores:\n",
    "    comun = x.Comuna.value_counts().index[0]\n",
    "    comun\n",
    "    x.groupby(x.Fecha.dt.to_period('M')).Id.count().plot(label=str(comun))\n",
    "\n",
    "plt.legend(['Viña', 'Quilpué', 'Quillota','Quintero', 'La Ligua', 'Otros'], loc ='upper left')\n",
    "\n",
    "plt.ylabel('Cantidad de atenciones')\n",
    "\n",
    "plt.axvline(593, color='k', linestyle='--')\n"
   ]
  },
  {
   "cell_type": "markdown",
   "metadata": {},
   "source": [
    "Solicitudes por día de los distintos sectores"
   ]
  },
  {
   "cell_type": "code",
   "execution_count": 146,
   "metadata": {},
   "outputs": [
    {
     "name": "stdout",
     "output_type": "stream",
     "text": [
      "Total\n"
     ]
    },
    {
     "data": {
      "text/plain": [
       "139.8083333333333"
      ]
     },
     "execution_count": 146,
     "metadata": {},
     "output_type": "execute_result"
    },
    {
     "name": "stdout",
     "output_type": "stream",
     "text": [
      "Viña del Mar\n"
     ]
    },
    {
     "data": {
      "text/plain": [
       "52.18888888888889"
      ]
     },
     "execution_count": 146,
     "metadata": {},
     "output_type": "execute_result"
    },
    {
     "name": "stdout",
     "output_type": "stream",
     "text": [
      "Quilpué\n"
     ]
    },
    {
     "data": {
      "text/plain": [
       "32.606944444444444"
      ]
     },
     "execution_count": 146,
     "metadata": {},
     "output_type": "execute_result"
    },
    {
     "name": "stdout",
     "output_type": "stream",
     "text": [
      "Quillota\n"
     ]
    },
    {
     "data": {
      "text/plain": [
       "17.965277777777775"
      ]
     },
     "execution_count": 146,
     "metadata": {},
     "output_type": "execute_result"
    },
    {
     "name": "stdout",
     "output_type": "stream",
     "text": [
      "Quintero\n"
     ]
    },
    {
     "data": {
      "text/plain": [
       "14.816666666666668"
      ]
     },
     "execution_count": 146,
     "metadata": {},
     "output_type": "execute_result"
    },
    {
     "name": "stdout",
     "output_type": "stream",
     "text": [
      "La Ligua\n"
     ]
    },
    {
     "data": {
      "text/plain": [
       "8.004166666666665"
      ]
     },
     "execution_count": 146,
     "metadata": {},
     "output_type": "execute_result"
    },
    {
     "name": "stdout",
     "output_type": "stream",
     "text": [
      "Limache\n"
     ]
    },
    {
     "data": {
      "text/plain": [
       "14.251388888888885"
      ]
     },
     "execution_count": 146,
     "metadata": {},
     "output_type": "execute_result"
    }
   ],
   "source": [
    "print(\"Total\")\n",
    "\n",
    "(BD.groupby(BD.Fecha.dt.to_period('M')).Id.count()/30).mean()\n",
    "\n",
    "for x in sectores:\n",
    "    comun = x.Comuna.value_counts().index[0]\n",
    "    print(comun)\n",
    "    (x.groupby(x.Fecha.dt.to_period('M')).Id.count()/30).mean()\n"
   ]
  },
  {
   "cell_type": "markdown",
   "metadata": {},
   "source": [
    "brecha oportunidad"
   ]
  },
  {
   "cell_type": "code",
   "execution_count": 386,
   "metadata": {
    "scrolled": false
   },
   "outputs": [
    {
     "name": "stdout",
     "output_type": "stream",
     "text": [
      "Viña del Mar\n",
      "Quilpué\n",
      "Quillota\n",
      "Quintero\n",
      "La Ligua\n",
      "Limache\n"
     ]
    },
    {
     "data": {
      "text/html": [
       "<div>\n",
       "<style scoped>\n",
       "    .dataframe tbody tr th:only-of-type {\n",
       "        vertical-align: middle;\n",
       "    }\n",
       "\n",
       "    .dataframe tbody tr th {\n",
       "        vertical-align: top;\n",
       "    }\n",
       "\n",
       "    .dataframe thead th {\n",
       "        text-align: right;\n",
       "    }\n",
       "</style>\n",
       "<table border=\"1\" class=\"dataframe\">\n",
       "  <thead>\n",
       "    <tr style=\"text-align: right;\">\n",
       "      <th></th>\n",
       "      <th>Viña del Mar</th>\n",
       "      <th>Quilpué</th>\n",
       "      <th>Quillota</th>\n",
       "      <th>Quintero</th>\n",
       "      <th>La Ligua</th>\n",
       "      <th>Otros</th>\n",
       "    </tr>\n",
       "  </thead>\n",
       "  <tbody>\n",
       "    <tr>\n",
       "      <th>Igual</th>\n",
       "      <td>20066</td>\n",
       "      <td>10607</td>\n",
       "      <td>7828</td>\n",
       "      <td>7718</td>\n",
       "      <td>4166</td>\n",
       "      <td>3089</td>\n",
       "    </tr>\n",
       "    <tr>\n",
       "      <th>Menor</th>\n",
       "      <td>982</td>\n",
       "      <td>963</td>\n",
       "      <td>163</td>\n",
       "      <td>238</td>\n",
       "      <td>91</td>\n",
       "      <td>409</td>\n",
       "    </tr>\n",
       "    <tr>\n",
       "      <th>Mayor</th>\n",
       "      <td>683</td>\n",
       "      <td>237</td>\n",
       "      <td>355</td>\n",
       "      <td>170</td>\n",
       "      <td>71</td>\n",
       "      <td>46</td>\n",
       "    </tr>\n",
       "    <tr>\n",
       "      <th>Total</th>\n",
       "      <td>21786</td>\n",
       "      <td>11816</td>\n",
       "      <td>8350</td>\n",
       "      <td>8129</td>\n",
       "      <td>4330</td>\n",
       "      <td>3547</td>\n",
       "    </tr>\n",
       "  </tbody>\n",
       "</table>\n",
       "</div>"
      ],
      "text/plain": [
       "       Viña del Mar  Quilpué  Quillota  Quintero  La Ligua  Otros\n",
       "Igual         20066    10607      7828      7718      4166   3089\n",
       "Menor           982      963       163       238        91    409\n",
       "Mayor           683      237       355       170        71     46\n",
       "Total         21786    11816      8350      8129      4330   3547"
      ]
     },
     "execution_count": 386,
     "metadata": {},
     "output_type": "execute_result"
    },
    {
     "name": "stdout",
     "output_type": "stream",
     "text": [
      "Brecha de oportunidad de recursos menores a los indicados\n"
     ]
    },
    {
     "data": {
      "text/plain": [
       "Viña del Mar     4.507482\n",
       "Quilpué          8.149966\n",
       "Quillota         1.952096\n",
       "Quintero         2.927789\n",
       "La Ligua         2.101617\n",
       "Otros           11.530871\n",
       "dtype: float64"
      ]
     },
     "execution_count": 386,
     "metadata": {},
     "output_type": "execute_result"
    }
   ],
   "source": [
    "oportunidad = pd.DataFrame(index=['Igual', 'Menor', 'Mayor', 'Total'])\n",
    "\n",
    "for x in sectores:\n",
    "    comun = x.Comuna.value_counts().index[0]\n",
    "    print(comun)\n",
    "    dum = pd.crosstab(x['Tipo Requerido'],\n",
    "                      x['Tipo Despachado'], dropna=False)\n",
    "    \n",
    "    igual = dum.loc['m1']['m1'] + dum.loc['m2']['m2'] + dum.loc['m3']['m3']\n",
    "    menor = (dum.loc['m2']['m1'] +\n",
    "             dum.loc['m3']['m2'] + dum.loc['m3']['m1']  )\n",
    "    mayor = (dum.loc['m1']['m2'] + dum.loc['m1']['m3'] + dum.loc['m2']['m3'])\n",
    "    \n",
    "    res = [igual, menor, mayor, dum.sum().sum()]\n",
    "    oportunidad[comun] = res\n",
    "    \n",
    "dum = oportunidad.rename(columns={oportunidad.columns[-1]: 'Otros'})\n",
    "dum\n",
    "print('Brecha de oportunidad de recursos menores a los indicados')\n",
    "(dum.loc['Menor']/ dum.loc['Total'])*100\n",
    "\n",
    "    "
   ]
  },
  {
   "cell_type": "code",
   "execution_count": 414,
   "metadata": {},
   "outputs": [
    {
     "name": "stdout",
     "output_type": "stream",
     "text": [
      "Brecha oportunidad bases SAMU en %: 2.8722459254096657\n",
      "Brecha oportunidad teritorio hosp Quilpué %: 8.14996614759648\n"
     ]
    },
    {
     "data": {
      "text/plain": [
       "2.8374889752638635"
      ]
     },
     "execution_count": 414,
     "metadata": {},
     "output_type": "execute_result"
    }
   ],
   "source": [
    "op_SAMU = (\n",
    "    (dum.loc['Menor']/ dum.loc['Total'])*100)[\n",
    "    ['Viña del Mar', 'Quillota', 'Quintero', 'La Ligua']].mean()\n",
    "op_HQ = (\n",
    "    (dum.loc['Menor']/ dum.loc['Total'])*100)[['Quilpué']].mean()\n",
    "print('Brecha oportunidad bases SAMU en %:', op_SAMU)\n",
    "print('Brecha oportunidad teritorio hosp Quilpué %:', op_HQ)\n",
    "op_HQ/op_SAMU"
   ]
  },
  {
   "cell_type": "code",
   "execution_count": 420,
   "metadata": {
    "scrolled": true
   },
   "outputs": [
    {
     "data": {
      "text/plain": [
       "Index(['Id', 'Fecha', 'Motivo del Llamado', 'Submotivo del Llamado',\n",
       "       'Prioridad', 'Estado', 'Edad', 'Género', 'Dirección', 'Sector',\n",
       "       'Comuna', 'Región', 'Intervención', 'Tipo Traslado',\n",
       "       'Categoría Vehículo', 'Condición Traslado', 'En Regulación',\n",
       "       'En Despacho', 'En Curso', 'Atendida', 'Completado', 'Regulado',\n",
       "       'Usuario que Cierra', 'Móvil Agregado', 'Móvil Despachado',\n",
       "       'Móvil Salida', 'Móvil Llegada Lugar', 'Móvil en Traslado',\n",
       "       'Móvil Llegada a CA', 'Móvil Recepción Paciente',\n",
       "       'Móvil Camilla Retenida', 'Móvil Vuelta a Base', 'Móvil LLegada a Base',\n",
       "       'Móvil Finalizado', 'Nombre Vehículo', 'Tipo Requerido',\n",
       "       'Tipo Despachado', 'Km Recorrido', 'Chofer', 'Paramédico', 'Enfermero',\n",
       "       'Doctor', 'Longitud', 'Latitud', 'Diff_recep_Despachado',\n",
       "       'Diff_Despacho_Salida', 'Diff_salida_enellugar', 'Diff_z6_1',\n",
       "       'Diff_z6_2', 'Diff_z6_3'],\n",
       "      dtype='object')"
      ]
     },
     "execution_count": 420,
     "metadata": {},
     "output_type": "execute_result"
    },
    {
     "data": {
      "text/html": [
       "<div>\n",
       "<style scoped>\n",
       "    .dataframe tbody tr th:only-of-type {\n",
       "        vertical-align: middle;\n",
       "    }\n",
       "\n",
       "    .dataframe tbody tr th {\n",
       "        vertical-align: top;\n",
       "    }\n",
       "\n",
       "    .dataframe thead th {\n",
       "        text-align: right;\n",
       "    }\n",
       "</style>\n",
       "<table border=\"1\" class=\"dataframe\">\n",
       "  <thead>\n",
       "    <tr style=\"text-align: right;\">\n",
       "      <th></th>\n",
       "      <th>0</th>\n",
       "    </tr>\n",
       "  </thead>\n",
       "  <tbody>\n",
       "    <tr>\n",
       "      <th>0</th>\n",
       "      <td>Id</td>\n",
       "    </tr>\n",
       "    <tr>\n",
       "      <th>1</th>\n",
       "      <td>Fecha</td>\n",
       "    </tr>\n",
       "    <tr>\n",
       "      <th>2</th>\n",
       "      <td>Motivo del Llamado</td>\n",
       "    </tr>\n",
       "    <tr>\n",
       "      <th>3</th>\n",
       "      <td>Submotivo del Llamado</td>\n",
       "    </tr>\n",
       "    <tr>\n",
       "      <th>4</th>\n",
       "      <td>Prioridad</td>\n",
       "    </tr>\n",
       "    <tr>\n",
       "      <th>5</th>\n",
       "      <td>Estado</td>\n",
       "    </tr>\n",
       "    <tr>\n",
       "      <th>6</th>\n",
       "      <td>Edad</td>\n",
       "    </tr>\n",
       "    <tr>\n",
       "      <th>7</th>\n",
       "      <td>Género</td>\n",
       "    </tr>\n",
       "    <tr>\n",
       "      <th>8</th>\n",
       "      <td>Dirección</td>\n",
       "    </tr>\n",
       "    <tr>\n",
       "      <th>9</th>\n",
       "      <td>Sector</td>\n",
       "    </tr>\n",
       "    <tr>\n",
       "      <th>10</th>\n",
       "      <td>Comuna</td>\n",
       "    </tr>\n",
       "    <tr>\n",
       "      <th>11</th>\n",
       "      <td>Región</td>\n",
       "    </tr>\n",
       "    <tr>\n",
       "      <th>12</th>\n",
       "      <td>Intervención</td>\n",
       "    </tr>\n",
       "    <tr>\n",
       "      <th>13</th>\n",
       "      <td>Tipo Traslado</td>\n",
       "    </tr>\n",
       "    <tr>\n",
       "      <th>14</th>\n",
       "      <td>Categoría Vehículo</td>\n",
       "    </tr>\n",
       "    <tr>\n",
       "      <th>15</th>\n",
       "      <td>Condición Traslado</td>\n",
       "    </tr>\n",
       "    <tr>\n",
       "      <th>16</th>\n",
       "      <td>En Regulación</td>\n",
       "    </tr>\n",
       "    <tr>\n",
       "      <th>17</th>\n",
       "      <td>En Despacho</td>\n",
       "    </tr>\n",
       "    <tr>\n",
       "      <th>18</th>\n",
       "      <td>En Curso</td>\n",
       "    </tr>\n",
       "    <tr>\n",
       "      <th>19</th>\n",
       "      <td>Atendida</td>\n",
       "    </tr>\n",
       "    <tr>\n",
       "      <th>20</th>\n",
       "      <td>Completado</td>\n",
       "    </tr>\n",
       "    <tr>\n",
       "      <th>21</th>\n",
       "      <td>Regulado</td>\n",
       "    </tr>\n",
       "    <tr>\n",
       "      <th>22</th>\n",
       "      <td>Usuario que Cierra</td>\n",
       "    </tr>\n",
       "    <tr>\n",
       "      <th>23</th>\n",
       "      <td>Móvil Agregado</td>\n",
       "    </tr>\n",
       "    <tr>\n",
       "      <th>24</th>\n",
       "      <td>Móvil Despachado</td>\n",
       "    </tr>\n",
       "    <tr>\n",
       "      <th>25</th>\n",
       "      <td>Móvil Salida</td>\n",
       "    </tr>\n",
       "    <tr>\n",
       "      <th>26</th>\n",
       "      <td>Móvil Llegada Lugar</td>\n",
       "    </tr>\n",
       "    <tr>\n",
       "      <th>27</th>\n",
       "      <td>Móvil en Traslado</td>\n",
       "    </tr>\n",
       "    <tr>\n",
       "      <th>28</th>\n",
       "      <td>Móvil Llegada a CA</td>\n",
       "    </tr>\n",
       "    <tr>\n",
       "      <th>29</th>\n",
       "      <td>Móvil Recepción Paciente</td>\n",
       "    </tr>\n",
       "    <tr>\n",
       "      <th>30</th>\n",
       "      <td>Móvil Camilla Retenida</td>\n",
       "    </tr>\n",
       "    <tr>\n",
       "      <th>31</th>\n",
       "      <td>Móvil Vuelta a Base</td>\n",
       "    </tr>\n",
       "    <tr>\n",
       "      <th>32</th>\n",
       "      <td>Móvil LLegada a Base</td>\n",
       "    </tr>\n",
       "    <tr>\n",
       "      <th>33</th>\n",
       "      <td>Móvil Finalizado</td>\n",
       "    </tr>\n",
       "    <tr>\n",
       "      <th>34</th>\n",
       "      <td>Nombre Vehículo</td>\n",
       "    </tr>\n",
       "    <tr>\n",
       "      <th>35</th>\n",
       "      <td>Tipo Requerido</td>\n",
       "    </tr>\n",
       "    <tr>\n",
       "      <th>36</th>\n",
       "      <td>Tipo Despachado</td>\n",
       "    </tr>\n",
       "    <tr>\n",
       "      <th>37</th>\n",
       "      <td>Km Recorrido</td>\n",
       "    </tr>\n",
       "    <tr>\n",
       "      <th>38</th>\n",
       "      <td>Chofer</td>\n",
       "    </tr>\n",
       "    <tr>\n",
       "      <th>39</th>\n",
       "      <td>Paramédico</td>\n",
       "    </tr>\n",
       "    <tr>\n",
       "      <th>40</th>\n",
       "      <td>Enfermero</td>\n",
       "    </tr>\n",
       "    <tr>\n",
       "      <th>41</th>\n",
       "      <td>Doctor</td>\n",
       "    </tr>\n",
       "    <tr>\n",
       "      <th>42</th>\n",
       "      <td>Longitud</td>\n",
       "    </tr>\n",
       "    <tr>\n",
       "      <th>43</th>\n",
       "      <td>Latitud</td>\n",
       "    </tr>\n",
       "  </tbody>\n",
       "</table>\n",
       "</div>"
      ],
      "text/plain": [
       "                           0\n",
       "0                         Id\n",
       "1                      Fecha\n",
       "2         Motivo del Llamado\n",
       "3      Submotivo del Llamado\n",
       "4                  Prioridad\n",
       "5                     Estado\n",
       "6                       Edad\n",
       "7                     Género\n",
       "8                  Dirección\n",
       "9                     Sector\n",
       "10                    Comuna\n",
       "11                    Región\n",
       "12              Intervención\n",
       "13             Tipo Traslado\n",
       "14        Categoría Vehículo\n",
       "15        Condición Traslado\n",
       "16             En Regulación\n",
       "17               En Despacho\n",
       "18                  En Curso\n",
       "19                  Atendida\n",
       "20                Completado\n",
       "21                  Regulado\n",
       "22        Usuario que Cierra\n",
       "23            Móvil Agregado\n",
       "24          Móvil Despachado\n",
       "25              Móvil Salida\n",
       "26       Móvil Llegada Lugar\n",
       "27         Móvil en Traslado\n",
       "28        Móvil Llegada a CA\n",
       "29  Móvil Recepción Paciente\n",
       "30    Móvil Camilla Retenida\n",
       "31       Móvil Vuelta a Base\n",
       "32      Móvil LLegada a Base\n",
       "33          Móvil Finalizado\n",
       "34           Nombre Vehículo\n",
       "35            Tipo Requerido\n",
       "36           Tipo Despachado\n",
       "37              Km Recorrido\n",
       "38                    Chofer\n",
       "39                Paramédico\n",
       "40                 Enfermero\n",
       "41                    Doctor\n",
       "42                  Longitud\n",
       "43                   Latitud"
      ]
     },
     "execution_count": 420,
     "metadata": {},
     "output_type": "execute_result"
    }
   ],
   "source": [
    "BD.columns\n",
    "pd.DataFrame(['Id', 'Fecha', 'Motivo del Llamado', 'Submotivo del Llamado',\n",
    "       'Prioridad', 'Estado', 'Edad', 'Género', 'Dirección', 'Sector',\n",
    "       'Comuna', 'Región', 'Intervención', 'Tipo Traslado',\n",
    "       'Categoría Vehículo', 'Condición Traslado', 'En Regulación',\n",
    "       'En Despacho', 'En Curso', 'Atendida', 'Completado', 'Regulado',\n",
    "       'Usuario que Cierra', 'Móvil Agregado', 'Móvil Despachado',\n",
    "       'Móvil Salida', 'Móvil Llegada Lugar', 'Móvil en Traslado',\n",
    "       'Móvil Llegada a CA', 'Móvil Recepción Paciente',\n",
    "       'Móvil Camilla Retenida', 'Móvil Vuelta a Base', 'Móvil LLegada a Base',\n",
    "       'Móvil Finalizado', 'Nombre Vehículo', 'Tipo Requerido',\n",
    "       'Tipo Despachado', 'Km Recorrido', 'Chofer', 'Paramédico', 'Enfermero',\n",
    "       'Doctor', 'Longitud', 'Latitud'])"
   ]
  },
  {
   "cell_type": "markdown",
   "metadata": {},
   "source": [
    "salidas por día según sector"
   ]
  },
  {
   "cell_type": "code",
   "execution_count": 383,
   "metadata": {},
   "outputs": [
    {
     "name": "stdout",
     "output_type": "stream",
     "text": [
      "Total\n"
     ]
    },
    {
     "data": {
      "text/plain": [
       "82.0054794520548"
      ]
     },
     "execution_count": 383,
     "metadata": {},
     "output_type": "execute_result"
    },
    {
     "name": "stdout",
     "output_type": "stream",
     "text": [
      "Viña del Mar\n",
      "29.0493 ( 35.4236 )%\n",
      "Quilpué\n",
      "20.2082 ( 24.6425 )%\n",
      "Quillota\n",
      "12.4877 ( 15.2278 )%\n",
      "Quintero\n",
      "11.4575 ( 13.9717 )%\n",
      "La Ligua\n",
      "6.1589 ( 7.5104 )%\n",
      "Limache\n",
      "4.6072 ( 5.6182 )%\n"
     ]
    }
   ],
   "source": [
    "print(\"Total\")\n",
    "dum = BD.loc[(BD['Nombre Vehículo'].isna() == False) &\n",
    "                 (BD.Fecha > pd.Timestamp('2019-01-01'))\n",
    "            ]\n",
    "total = dum.groupby(dum.Fecha.dt.to_period('D')).Id.count().mean()\n",
    "total\n",
    "\n",
    "for x in sectores:\n",
    "    comun = x.Comuna.value_counts().index[0]\n",
    "    print(comun)\n",
    "    dum  = x.loc[(x['Nombre Vehículo'].isna() == False) &\n",
    "                 (x.Fecha > pd.Timestamp('2019-01-01'))\n",
    "    ]\n",
    "    valor = dum.groupby(dum.Fecha.dt.to_period('D')).Id.count().mean()\n",
    "    print(round(valor, 4), '(', round(valor/total*100, 4), ')%')"
   ]
  },
  {
   "cell_type": "code",
   "execution_count": null,
   "metadata": {
    "collapsed": true
   },
   "outputs": [],
   "source": []
  },
  {
   "cell_type": "code",
   "execution_count": null,
   "metadata": {
    "collapsed": true
   },
   "outputs": [],
   "source": []
  },
  {
   "cell_type": "code",
   "execution_count": 320,
   "metadata": {
    "scrolled": false
   },
   "outputs": [
    {
     "data": {
      "text/plain": [
       "Fecha\n",
       "8     2.271528\n",
       "9     2.993056\n",
       "10    4.186806\n",
       "11    4.164583\n",
       "12    4.381250\n",
       "13    4.068056\n",
       "14    4.169444\n",
       "15    3.791667\n",
       "16    4.059722\n",
       "17    3.986111\n",
       "18    3.893056\n",
       "19    3.498611\n",
       "Name: Id, dtype: float64"
      ]
     },
     "execution_count": 320,
     "metadata": {},
     "output_type": "execute_result"
    },
    {
     "data": {
      "text/plain": [
       "Fecha\n",
       "0     2.178472\n",
       "1     1.747222\n",
       "2     1.456944\n",
       "3     1.259722\n",
       "4     1.182639\n",
       "5     1.103472\n",
       "6     1.145139\n",
       "20    3.511111\n",
       "21    3.533333\n",
       "22    3.055556\n",
       "23    2.540972\n",
       "Name: Id, dtype: float64"
      ]
     },
     "execution_count": 320,
     "metadata": {},
     "output_type": "execute_result"
    }
   ],
   "source": [
    "((BD.groupby(BD.Fecha.dt.hour).Id.count())[list(range(8,20,1))]/(24*60))#.mean()\n",
    "((BD.groupby(BD.Fecha.dt.hour).Id.count())[list(range(0,7,1))+list(range(20,24,1))]/(24*60))#.mean()"
   ]
  },
  {
   "cell_type": "code",
   "execution_count": 367,
   "metadata": {
    "scrolled": true
   },
   "outputs": [
    {
     "data": {
      "text/plain": [
       "Fecha\n",
       "2018-01-15 08:00     3\n",
       "2018-01-15 09:00     8\n",
       "2018-01-15 10:00     5\n",
       "2018-01-15 11:00     7\n",
       "2018-01-15 12:00     9\n",
       "2018-01-15 13:00     8\n",
       "2018-01-15 14:00     5\n",
       "2018-01-15 15:00    14\n",
       "2018-01-15 16:00     6\n",
       "2018-01-15 17:00    10\n",
       "2018-01-15 18:00     6\n",
       "2018-01-15 19:00    10\n",
       "2018-01-15 20:00     5\n",
       "2018-01-15 21:00     3\n",
       "2018-01-15 22:00     8\n",
       "2018-01-15 23:00     3\n",
       "2018-01-16 00:00     2\n",
       "2018-01-16 01:00     7\n",
       "2018-01-16 02:00     2\n",
       "2018-01-16 03:00     3\n",
       "2018-01-16 04:00     3\n",
       "2018-01-16 05:00     1\n",
       "2018-01-16 07:00     5\n",
       "2018-01-16 08:00     1\n",
       "2018-01-16 09:00     7\n",
       "2018-01-16 10:00     7\n",
       "2018-01-16 11:00     5\n",
       "2018-01-16 12:00     4\n",
       "2018-01-16 13:00     3\n",
       "2018-01-16 14:00     5\n",
       "                    ..\n",
       "2019-12-30 18:00    12\n",
       "2019-12-30 19:00    10\n",
       "2019-12-30 20:00    10\n",
       "2019-12-30 21:00     6\n",
       "2019-12-30 22:00     5\n",
       "2019-12-30 23:00     7\n",
       "2019-12-31 00:00     8\n",
       "2019-12-31 01:00     3\n",
       "2019-12-31 02:00     5\n",
       "2019-12-31 03:00     6\n",
       "2019-12-31 04:00     3\n",
       "2019-12-31 05:00     1\n",
       "2019-12-31 06:00     4\n",
       "2019-12-31 07:00     4\n",
       "2019-12-31 08:00     4\n",
       "2019-12-31 09:00    11\n",
       "2019-12-31 10:00    13\n",
       "2019-12-31 11:00     2\n",
       "2019-12-31 12:00     7\n",
       "2019-12-31 13:00     8\n",
       "2019-12-31 14:00     5\n",
       "2019-12-31 15:00     8\n",
       "2019-12-31 16:00     8\n",
       "2019-12-31 17:00     5\n",
       "2019-12-31 18:00     3\n",
       "2019-12-31 19:00     9\n",
       "2019-12-31 20:00     8\n",
       "2019-12-31 21:00     5\n",
       "2019-12-31 22:00     5\n",
       "2019-12-31 23:00     6\n",
       "Freq: H, Name: Id, Length: 16515, dtype: int64"
      ]
     },
     "execution_count": 367,
     "metadata": {},
     "output_type": "execute_result"
    }
   ],
   "source": [
    "BD.groupby(BD.Fecha.dt.to_period('H')).Id.count()\n",
    "\n",
    "\n",
    "# BD.groupby(BD.Fecha.dt.to_period('H')).Id.count().mean()\n",
    "# (BD.groupby(BD.Fecha.dt.hour).Id.count())/(24*60)\n",
    "\n",
    "# BD.groupby(BD.Fecha.dt.to_period('H')).Id.count()[list(range(8,20,1))].sum()\n",
    "# BD.groupby(BD.Fecha.dt.to_period('H')).Id.count()[list(range(0,7,1))+list(range(20,24,1))].sum()"
   ]
  },
  {
   "cell_type": "code",
   "execution_count": 218,
   "metadata": {
    "scrolled": false
   },
   "outputs": [
    {
     "name": "stdout",
     "output_type": "stream",
     "text": [
      "Salidas diarias promedio\n"
     ]
    },
    {
     "data": {
      "text/plain": [
       "68.0486111111111"
      ]
     },
     "execution_count": 218,
     "metadata": {},
     "output_type": "execute_result"
    },
    {
     "name": "stdout",
     "output_type": "stream",
     "text": [
      "Viña del Mar\n"
     ]
    },
    {
     "data": {
      "text/plain": [
       "29.45277777777778"
      ]
     },
     "execution_count": 218,
     "metadata": {},
     "output_type": "execute_result"
    },
    {
     "name": "stdout",
     "output_type": "stream",
     "text": [
      "Quilpué\n"
     ]
    },
    {
     "data": {
      "text/plain": [
       "20.48888888888889"
      ]
     },
     "execution_count": 218,
     "metadata": {},
     "output_type": "execute_result"
    },
    {
     "name": "stdout",
     "output_type": "stream",
     "text": [
      "Quillota\n"
     ]
    },
    {
     "data": {
      "text/plain": [
       "12.661111111111111"
      ]
     },
     "execution_count": 218,
     "metadata": {},
     "output_type": "execute_result"
    },
    {
     "name": "stdout",
     "output_type": "stream",
     "text": [
      "Quintero\n"
     ]
    },
    {
     "data": {
      "text/plain": [
       "11.616666666666669"
      ]
     },
     "execution_count": 218,
     "metadata": {},
     "output_type": "execute_result"
    },
    {
     "name": "stdout",
     "output_type": "stream",
     "text": [
      "La Ligua\n"
     ]
    },
    {
     "data": {
      "text/plain": [
       "6.244444444444444"
      ]
     },
     "execution_count": 218,
     "metadata": {},
     "output_type": "execute_result"
    },
    {
     "name": "stdout",
     "output_type": "stream",
     "text": [
      "Limache\n"
     ]
    },
    {
     "data": {
      "text/plain": [
       "4.594444444444444"
      ]
     },
     "execution_count": 218,
     "metadata": {},
     "output_type": "execute_result"
    }
   ],
   "source": [
    "dum  = BD.loc[(BD['Nombre Vehículo'].isna() == False)]\n",
    "\n",
    "print('Salidas diarias promedio')\n",
    "(dum.groupby(dum.Fecha.dt.to_period('M')).Id.count()/30).mean()\n",
    "\n",
    "for x in sectores:\n",
    "    comun = x.Comuna.value_counts().index[0]\n",
    "    print(comun)\n",
    "    dum  = x.loc[(x['Nombre Vehículo'].isna() == False) &\n",
    "                 (x.Fecha > pd.Timestamp('2019-01-01'))\n",
    "    ]\n",
    "    (dum.groupby(dum.Fecha.dt.to_period('M')).Id.count()/30).mean()"
   ]
  },
  {
   "cell_type": "code",
   "execution_count": 356,
   "metadata": {
    "scrolled": false
   },
   "outputs": [
    {
     "name": "stdout",
     "output_type": "stream",
     "text": [
      "Viña del Mar\n"
     ]
    },
    {
     "data": {
      "text/plain": [
       "2.7568598679383713"
      ]
     },
     "execution_count": 356,
     "metadata": {},
     "output_type": "execute_result"
    },
    {
     "name": "stdout",
     "output_type": "stream",
     "text": [
      "salidas día 9.425\n",
      "salidas noche 4.902777777777778\n",
      "\n",
      "Quilpué\n"
     ]
    },
    {
     "data": {
      "text/plain": [
       "2.0608321629213484"
      ]
     },
     "execution_count": 356,
     "metadata": {},
     "output_type": "execute_result"
    },
    {
     "name": "stdout",
     "output_type": "stream",
     "text": [
      "salidas día 6.290277777777779\n",
      "salidas noche 3.6930555555555555\n",
      "\n",
      "Quillota\n"
     ]
    },
    {
     "data": {
      "text/plain": [
       "1.567118972619336"
      ]
     },
     "execution_count": 356,
     "metadata": {},
     "output_type": "execute_result"
    },
    {
     "name": "stdout",
     "output_type": "stream",
     "text": [
      "salidas día 3.9347222222222227\n",
      "salidas noche 2.2708333333333335\n",
      "\n",
      "Quintero\n"
     ]
    },
    {
     "data": {
      "text/plain": [
       "1.5741478530323152"
      ]
     },
     "execution_count": 356,
     "metadata": {},
     "output_type": "execute_result"
    },
    {
     "name": "stdout",
     "output_type": "stream",
     "text": [
      "salidas día 3.6944444444444446\n",
      "salidas noche 1.9930555555555556\n",
      "\n",
      "La Ligua\n"
     ]
    },
    {
     "data": {
      "text/plain": [
       "1.347124824684432"
      ]
     },
     "execution_count": 356,
     "metadata": {},
     "output_type": "execute_result"
    },
    {
     "name": "stdout",
     "output_type": "stream",
     "text": [
      "salidas día 2.0694444444444446\n",
      "salidas noche 0.9958333333333332\n",
      "\n",
      "Limache\n"
     ]
    },
    {
     "data": {
      "text/plain": [
       "1.4992694330800702"
      ]
     },
     "execution_count": 356,
     "metadata": {},
     "output_type": "execute_result"
    },
    {
     "name": "stdout",
     "output_type": "stream",
     "text": [
      "salidas día 1.4527777777777777\n",
      "salidas noche 0.7875\n",
      "\n"
     ]
    }
   ],
   "source": [
    "# no estoy seguro de esto.....\n",
    "\n",
    "for x in sectores:\n",
    "    comun = x.Comuna.value_counts().index[0]\n",
    "    print(comun)\n",
    "    dum  = x.loc[(x['Nombre Vehículo'].isna() == False) &\n",
    "                 (x.Fecha > pd.Timestamp('2019-01-01'))\n",
    "    ]\n",
    "    t_dia = (\n",
    "        (dum.groupby(dum.Fecha.dt.hour).Id.count())[\n",
    "            list(range(8,20,1))\n",
    "        ]/(12*60))\n",
    "    \n",
    "    t_noche = (\n",
    "        (dum.groupby(dum.Fecha.dt.hour).Id.count())[\n",
    "            list(range(0,7,1))+list(range(20,24,1))\n",
    "        ]/(12*60))\n",
    "    x.groupby(x.Fecha.dt.to_period('H')).Id.count().mean()\n",
    "    print('salidas día', t_dia.sum())\n",
    "    print('salidas noche', t_noche.sum())\n",
    "    print('')\n",
    "    "
   ]
  },
  {
   "cell_type": "code",
   "execution_count": null,
   "metadata": {
    "collapsed": true
   },
   "outputs": [],
   "source": []
  },
  {
   "cell_type": "code",
   "execution_count": null,
   "metadata": {
    "collapsed": true
   },
   "outputs": [],
   "source": []
  },
  {
   "cell_type": "code",
   "execution_count": null,
   "metadata": {
    "collapsed": true
   },
   "outputs": [],
   "source": []
  },
  {
   "cell_type": "code",
   "execution_count": null,
   "metadata": {
    "collapsed": true
   },
   "outputs": [],
   "source": []
  },
  {
   "cell_type": "code",
   "execution_count": null,
   "metadata": {
    "collapsed": true
   },
   "outputs": [],
   "source": []
  },
  {
   "cell_type": "code",
   "execution_count": null,
   "metadata": {
    "collapsed": true
   },
   "outputs": [],
   "source": []
  }
 ],
 "metadata": {
  "kernelspec": {
   "display_name": "Python 3",
   "language": "python",
   "name": "python3"
  },
  "language_info": {
   "codemirror_mode": {
    "name": "ipython",
    "version": 3
   },
   "file_extension": ".py",
   "mimetype": "text/x-python",
   "name": "python",
   "nbconvert_exporter": "python",
   "pygments_lexer": "ipython3",
   "version": "3.6.3"
  }
 },
 "nbformat": 4,
 "nbformat_minor": 2
}
