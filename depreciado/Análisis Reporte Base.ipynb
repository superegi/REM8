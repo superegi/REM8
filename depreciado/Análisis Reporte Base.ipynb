{
 "cells": [
  {
   "cell_type": "markdown",
   "metadata": {},
   "source": [
    "Análisis 'Reporte Base'\n",
    " =========="
   ]
  },
  {
   "cell_type": "markdown",
   "metadata": {},
   "source": [
    "Comienzo cargando todos los paquetes necesarios"
   ]
  },
  {
   "cell_type": "code",
   "execution_count": 1,
   "metadata": {},
   "outputs": [
    {
     "name": "stderr",
     "output_type": "stream",
     "text": [
      "/home/egidio/anaconda3/lib/python3.6/site-packages/statsmodels/compat/pandas.py:56: FutureWarning: The pandas.core.datetools module is deprecated and will be removed in a future version. Please use the pandas.tseries module instead.\n",
      "  from pandas.core import datetools\n"
     ]
    }
   ],
   "source": [
    "import pandas as pd\n",
    "import numpy as np\n",
    "import matplotlib.pyplot as plt\n",
    "import scipy \n",
    "from scipy import stats\n",
    "import statsmodels.api as sm\n",
    "from statsmodels.formula.api import ols\n",
    "import datetime as dt\n",
    "import datetime\n",
    "from datetime import timedelta  \n",
    "import timeboard as tb # turnos \n",
    "\n",
    "# para tratar de poner espanol\n",
    "from datetime import date, datetime, time\n",
    "from babel.dates import format_date, format_datetime, format_time, format_timedelta, Locale\n",
    "import locale                                    # para tratar de poner espanol\n",
    "#locale = Locale('es', 'CL')\n",
    "locale.setlocale(locale.LC_ALL,'es_ES.UTF-8')  \n",
    "\n",
    "import os\n",
    "import runpy\n",
    "from pyexcel_ods import get_data\n",
    "from matplotlib_venn import venn3\n",
    "from matplotlib_venn import venn2, venn2_circles\n",
    "import math\n",
    "\n",
    "from IPython.core.interactiveshell import InteractiveShell\n",
    "InteractiveShell.ast_node_interactivity = \"all\"\n",
    "%matplotlib inline\n",
    "\n",
    "\n",
    "#otro graficador\n",
    "import seaborn as sns\n",
    "\n",
    "#stats\n",
    "\n",
    "from sklearn.linear_model import LogisticRegression\n",
    "from sklearn import metrics\n",
    "from sklearn.model_selection import train_test_split\n",
    "from sklearn import model_selection\n",
    "from sklearn.model_selection import cross_val_score\n",
    "from sklearn.metrics import confusion_matrix\n",
    "from sklearn.metrics import classification_report"
   ]
  },
  {
   "cell_type": "code",
   "execution_count": 2,
   "metadata": {
    "collapsed": true
   },
   "outputs": [],
   "source": [
    "# cargo algunos scripts que me suelen servir para análisis"
   ]
  },
  {
   "cell_type": "code",
   "execution_count": 3,
   "metadata": {
    "scrolled": true
   },
   "outputs": [
    {
     "data": {
      "text/plain": [
       "['/home/egidio/Dropbox/Compucosas/programas py/lector_ODF.py',\n",
       " '/home/egidio/Dropbox/Compucosas/programas py/como importar',\n",
       " '/home/egidio/Dropbox/Compucosas/programas py/descripcion_univariada.py',\n",
       " '/home/egidio/Dropbox/Compucosas/programas py/características_operativas_de_test.py',\n",
       " '/home/egidio/Dropbox/Compucosas/programas py/percentiles.py',\n",
       " '/home/egidio/Dropbox/Compucosas/programas py/tabala_frecuencias.py',\n",
       " '/home/egidio/Dropbox/Compucosas/programas py/__pycache__/percentiles.cpython-36.pyc',\n",
       " '/home/egidio/Dropbox/Compucosas/programas py/__pycache__/lector_ODF.cpython-36.pyc',\n",
       " '/home/egidio/Dropbox/Compucosas/programas py/__pycache__/descripcion_univariada.cpython-36.pyc',\n",
       " '/home/egidio/Dropbox/Compucosas/programas py/__pycache__/características_operativas_de_test.cpython-36.pyc',\n",
       " '/home/egidio/Dropbox/Compucosas/programas py/__pycache__/tabala_frecuencias.cpython-36.pyc',\n",
       " '/home/egidio/Dropbox/Compucosas/programas py/__pycache__/funciones_locales.cpython-36.pyc']"
      ]
     },
     "execution_count": 3,
     "metadata": {},
     "output_type": "execute_result"
    }
   ],
   "source": [
    "#listo los archivos\n",
    "scripts = []\n",
    "for dirname, dirnames, filenames in os.walk('/home/egidio/Dropbox/Compucosas/programas py'):\n",
    "    for filename in filenames:\n",
    "        scripts.append(os.path.join(dirname, filename))\n",
    "\n",
    "scripts\n",
    "\n",
    "# los cargo\n",
    "for script in scripts:\n",
    "    if script[-3:] == '.py':\n",
    "        exec(open(str(script)).read())\n"
   ]
  },
  {
   "cell_type": "markdown",
   "metadata": {},
   "source": [
    "# Cargo la BD"
   ]
  },
  {
   "cell_type": "code",
   "execution_count": 4,
   "metadata": {
    "collapsed": true
   },
   "outputs": [],
   "source": [
    "BD = pd.read_pickle('./BD/eSAMU.pkl')"
   ]
  },
  {
   "cell_type": "code",
   "execution_count": 5,
   "metadata": {},
   "outputs": [
    {
     "data": {
      "text/plain": [
       "Index(['Id', 'Fecha', 'Motivo del Llamado', 'Submotivo del Llamado',\n",
       "       'Prioridad', 'Estado', 'Edad', 'Género', 'Dirección', 'Sector',\n",
       "       'Comuna', 'Región', 'Intervención', 'Tipo Traslado',\n",
       "       'Categoría Vehículo', 'Condición Traslado', 'En Regulación',\n",
       "       'En Despacho', 'En Curso', 'Atendida', 'Completado', 'Regulado',\n",
       "       'Usuario que Cierra', 'Móvil Agregado', 'Móvil Despachado',\n",
       "       'Móvil Salida', 'Móvil Llegada Lugar', 'Móvil en Traslado',\n",
       "       'Móvil Llegada a CA', 'Móvil Recepción Paciente',\n",
       "       'Móvil Camilla Retenida', 'Móvil Vuelta a Base', 'Móvil LLegada a Base',\n",
       "       'Móvil Finalizado', 'Nombre Vehículo', 'Tipo Requerido',\n",
       "       'Tipo Despachado', 'Km Recorrido', 'Chofer', 'Paramédico', 'Enfermero',\n",
       "       'Doctor', 'Longitud', 'Latitud', 'Diff_recep_Despachado',\n",
       "       'Diff_Despacho_Salida', 'Diff_salida_enellugar', 'Diff_z6_1',\n",
       "       'Diff_z6_2', 'Diff_z6_3'],\n",
       "      dtype='object')"
      ]
     },
     "execution_count": 5,
     "metadata": {},
     "output_type": "execute_result"
    }
   ],
   "source": [
    "BD.columns"
   ]
  },
  {
   "cell_type": "code",
   "execution_count": 6,
   "metadata": {},
   "outputs": [
    {
     "data": {
      "text/plain": [
       "Accidentes y Traumas           23.884862\n",
       "Dolor o Problema específico    23.017608\n",
       "Traslados                      18.107100\n",
       "Consciencia                    11.678898\n",
       "Sin patología urgencia          8.894796\n",
       "Otro                            7.537670\n",
       "Colapso                         4.836120\n",
       "Intoxicación                    2.042945\n",
       "Name: Motivo del Llamado, dtype: float64"
      ]
     },
     "execution_count": 6,
     "metadata": {},
     "output_type": "execute_result"
    },
    {
     "data": {
      "text/plain": [
       "Tr. Especialista                                    10.258271\n",
       "Accidente vehicular o transporte. Atropellos         8.579101\n",
       "Caídas leves                                         6.332042\n",
       "Compromiso de conciencia                             6.254026\n",
       "Dificultad respiratoria leve - moderada (disnea)     5.834006\n",
       "Fallecido                                            4.518611\n",
       "Malestar general adulto mayor                        3.955258\n",
       "Accidente múltiples víctimas (cualquier razón)       3.766567\n",
       "Tr. Exámen o Procedimiento                           3.374670\n",
       "Otros                                                2.629884\n",
       "Dolor de pecho                                       2.582711\n",
       "Convulsiones                                         2.555496\n",
       "Dolor o problemas abdominal                          2.394020\n",
       "Problemas de Diabetes                                2.127312\n",
       "Enfermedad terminal, dolor de cancer, agonico.       2.048388\n",
       "Name: Submotivo del Llamado, dtype: float64"
      ]
     },
     "execution_count": 6,
     "metadata": {},
     "output_type": "execute_result"
    },
    {
     "data": {
      "text/html": [
       "<div>\n",
       "<style scoped>\n",
       "    .dataframe tbody tr th:only-of-type {\n",
       "        vertical-align: middle;\n",
       "    }\n",
       "\n",
       "    .dataframe tbody tr th {\n",
       "        vertical-align: top;\n",
       "    }\n",
       "\n",
       "    .dataframe thead th {\n",
       "        text-align: right;\n",
       "    }\n",
       "</style>\n",
       "<table border=\"1\" class=\"dataframe\">\n",
       "  <thead>\n",
       "    <tr style=\"text-align: right;\">\n",
       "      <th>Prioridad</th>\n",
       "      <th>S1</th>\n",
       "      <th>S2</th>\n",
       "      <th>S3</th>\n",
       "      <th>S4</th>\n",
       "      <th>S5</th>\n",
       "      <th>Total</th>\n",
       "    </tr>\n",
       "    <tr>\n",
       "      <th>Submotivo del Llamado</th>\n",
       "      <th></th>\n",
       "      <th></th>\n",
       "      <th></th>\n",
       "      <th></th>\n",
       "      <th></th>\n",
       "      <th></th>\n",
       "    </tr>\n",
       "  </thead>\n",
       "  <tbody>\n",
       "    <tr>\n",
       "      <th>Tr. Especialista</th>\n",
       "      <td>1166</td>\n",
       "      <td>4022</td>\n",
       "      <td>3769</td>\n",
       "      <td>727</td>\n",
       "      <td>14</td>\n",
       "      <td>9698</td>\n",
       "    </tr>\n",
       "    <tr>\n",
       "      <th>Accidente vehicular o transporte. Atropellos</th>\n",
       "      <td>7229</td>\n",
       "      <td>801</td>\n",
       "      <td>75</td>\n",
       "      <td>19</td>\n",
       "      <td>4</td>\n",
       "      <td>8128</td>\n",
       "    </tr>\n",
       "    <tr>\n",
       "      <th>Compromiso de conciencia</th>\n",
       "      <td>1462</td>\n",
       "      <td>2279</td>\n",
       "      <td>1284</td>\n",
       "      <td>210</td>\n",
       "      <td>40</td>\n",
       "      <td>5275</td>\n",
       "    </tr>\n",
       "    <tr>\n",
       "      <th>Caídas leves</th>\n",
       "      <td>631</td>\n",
       "      <td>2063</td>\n",
       "      <td>1915</td>\n",
       "      <td>196</td>\n",
       "      <td>32</td>\n",
       "      <td>4837</td>\n",
       "    </tr>\n",
       "    <tr>\n",
       "      <th>Dificultad respiratoria leve - moderada (disnea)</th>\n",
       "      <td>275</td>\n",
       "      <td>1706</td>\n",
       "      <td>2466</td>\n",
       "      <td>274</td>\n",
       "      <td>35</td>\n",
       "      <td>4756</td>\n",
       "    </tr>\n",
       "    <tr>\n",
       "      <th>Fallecido</th>\n",
       "      <td>20</td>\n",
       "      <td>35</td>\n",
       "      <td>286</td>\n",
       "      <td>3728</td>\n",
       "      <td>530</td>\n",
       "      <td>4599</td>\n",
       "    </tr>\n",
       "    <tr>\n",
       "      <th>Accidente múltiples víctimas (cualquier razón)</th>\n",
       "      <td>3624</td>\n",
       "      <td>241</td>\n",
       "      <td>34</td>\n",
       "      <td>1</td>\n",
       "      <td>1</td>\n",
       "      <td>3901</td>\n",
       "    </tr>\n",
       "    <tr>\n",
       "      <th>Malestar general adulto mayor</th>\n",
       "      <td>63</td>\n",
       "      <td>635</td>\n",
       "      <td>1626</td>\n",
       "      <td>393</td>\n",
       "      <td>47</td>\n",
       "      <td>2764</td>\n",
       "    </tr>\n",
       "    <tr>\n",
       "      <th>Tr. Exámen o Procedimiento</th>\n",
       "      <td>300</td>\n",
       "      <td>973</td>\n",
       "      <td>1113</td>\n",
       "      <td>321</td>\n",
       "      <td>15</td>\n",
       "      <td>2722</td>\n",
       "    </tr>\n",
       "    <tr>\n",
       "      <th>Convulsiones</th>\n",
       "      <td>358</td>\n",
       "      <td>1018</td>\n",
       "      <td>462</td>\n",
       "      <td>53</td>\n",
       "      <td>22</td>\n",
       "      <td>1913</td>\n",
       "    </tr>\n",
       "  </tbody>\n",
       "</table>\n",
       "</div>"
      ],
      "text/plain": [
       "Prioridad                                           S1    S2    S3    S4   S5  \\\n",
       "Submotivo del Llamado                                                           \n",
       "Tr. Especialista                                  1166  4022  3769   727   14   \n",
       "Accidente vehicular o transporte. Atropellos      7229   801    75    19    4   \n",
       "Compromiso de conciencia                          1462  2279  1284   210   40   \n",
       "Caídas leves                                       631  2063  1915   196   32   \n",
       "Dificultad respiratoria leve - moderada (disnea)   275  1706  2466   274   35   \n",
       "Fallecido                                           20    35   286  3728  530   \n",
       "Accidente múltiples víctimas (cualquier razón)    3624   241    34     1    1   \n",
       "Malestar general adulto mayor                       63   635  1626   393   47   \n",
       "Tr. Exámen o Procedimiento                         300   973  1113   321   15   \n",
       "Convulsiones                                       358  1018   462    53   22   \n",
       "\n",
       "Prioridad                                         Total  \n",
       "Submotivo del Llamado                                    \n",
       "Tr. Especialista                                   9698  \n",
       "Accidente vehicular o transporte. Atropellos       8128  \n",
       "Compromiso de conciencia                           5275  \n",
       "Caídas leves                                       4837  \n",
       "Dificultad respiratoria leve - moderada (disnea)   4756  \n",
       "Fallecido                                          4599  \n",
       "Accidente múltiples víctimas (cualquier razón)     3901  \n",
       "Malestar general adulto mayor                      2764  \n",
       "Tr. Exámen o Procedimiento                         2722  \n",
       "Convulsiones                                       1913  "
      ]
     },
     "execution_count": 6,
     "metadata": {},
     "output_type": "execute_result"
    },
    {
     "data": {
      "text/html": [
       "<div>\n",
       "<style scoped>\n",
       "    .dataframe tbody tr th:only-of-type {\n",
       "        vertical-align: middle;\n",
       "    }\n",
       "\n",
       "    .dataframe tbody tr th {\n",
       "        vertical-align: top;\n",
       "    }\n",
       "\n",
       "    .dataframe thead th {\n",
       "        text-align: right;\n",
       "    }\n",
       "</style>\n",
       "<table border=\"1\" class=\"dataframe\">\n",
       "  <thead>\n",
       "    <tr style=\"text-align: right;\">\n",
       "      <th>Prioridad</th>\n",
       "      <th>S1</th>\n",
       "      <th>S2</th>\n",
       "      <th>S3</th>\n",
       "      <th>S4</th>\n",
       "      <th>S5</th>\n",
       "    </tr>\n",
       "    <tr>\n",
       "      <th>Submotivo del Llamado</th>\n",
       "      <th></th>\n",
       "      <th></th>\n",
       "      <th></th>\n",
       "      <th></th>\n",
       "      <th></th>\n",
       "    </tr>\n",
       "  </thead>\n",
       "  <tbody>\n",
       "    <tr>\n",
       "      <th>Tr. Especialista</th>\n",
       "      <td>1166</td>\n",
       "      <td>4022</td>\n",
       "      <td>3769</td>\n",
       "      <td>727</td>\n",
       "      <td>14</td>\n",
       "    </tr>\n",
       "    <tr>\n",
       "      <th>Accidente vehicular o transporte. Atropellos</th>\n",
       "      <td>7229</td>\n",
       "      <td>801</td>\n",
       "      <td>75</td>\n",
       "      <td>19</td>\n",
       "      <td>4</td>\n",
       "    </tr>\n",
       "    <tr>\n",
       "      <th>Compromiso de conciencia</th>\n",
       "      <td>1462</td>\n",
       "      <td>2279</td>\n",
       "      <td>1284</td>\n",
       "      <td>210</td>\n",
       "      <td>40</td>\n",
       "    </tr>\n",
       "    <tr>\n",
       "      <th>Caídas leves</th>\n",
       "      <td>631</td>\n",
       "      <td>2063</td>\n",
       "      <td>1915</td>\n",
       "      <td>196</td>\n",
       "      <td>32</td>\n",
       "    </tr>\n",
       "    <tr>\n",
       "      <th>Dificultad respiratoria leve - moderada (disnea)</th>\n",
       "      <td>275</td>\n",
       "      <td>1706</td>\n",
       "      <td>2466</td>\n",
       "      <td>274</td>\n",
       "      <td>35</td>\n",
       "    </tr>\n",
       "    <tr>\n",
       "      <th>Fallecido</th>\n",
       "      <td>20</td>\n",
       "      <td>35</td>\n",
       "      <td>286</td>\n",
       "      <td>3728</td>\n",
       "      <td>530</td>\n",
       "    </tr>\n",
       "    <tr>\n",
       "      <th>Accidente múltiples víctimas (cualquier razón)</th>\n",
       "      <td>3624</td>\n",
       "      <td>241</td>\n",
       "      <td>34</td>\n",
       "      <td>1</td>\n",
       "      <td>1</td>\n",
       "    </tr>\n",
       "    <tr>\n",
       "      <th>Malestar general adulto mayor</th>\n",
       "      <td>63</td>\n",
       "      <td>635</td>\n",
       "      <td>1626</td>\n",
       "      <td>393</td>\n",
       "      <td>47</td>\n",
       "    </tr>\n",
       "    <tr>\n",
       "      <th>Tr. Exámen o Procedimiento</th>\n",
       "      <td>300</td>\n",
       "      <td>973</td>\n",
       "      <td>1113</td>\n",
       "      <td>321</td>\n",
       "      <td>15</td>\n",
       "    </tr>\n",
       "    <tr>\n",
       "      <th>Convulsiones</th>\n",
       "      <td>358</td>\n",
       "      <td>1018</td>\n",
       "      <td>462</td>\n",
       "      <td>53</td>\n",
       "      <td>22</td>\n",
       "    </tr>\n",
       "  </tbody>\n",
       "</table>\n",
       "</div>"
      ],
      "text/plain": [
       "Prioridad                                           S1    S2    S3    S4   S5\n",
       "Submotivo del Llamado                                                        \n",
       "Tr. Especialista                                  1166  4022  3769   727   14\n",
       "Accidente vehicular o transporte. Atropellos      7229   801    75    19    4\n",
       "Compromiso de conciencia                          1462  2279  1284   210   40\n",
       "Caídas leves                                       631  2063  1915   196   32\n",
       "Dificultad respiratoria leve - moderada (disnea)   275  1706  2466   274   35\n",
       "Fallecido                                           20    35   286  3728  530\n",
       "Accidente múltiples víctimas (cualquier razón)    3624   241    34     1    1\n",
       "Malestar general adulto mayor                       63   635  1626   393   47\n",
       "Tr. Exámen o Procedimiento                         300   973  1113   321   15\n",
       "Convulsiones                                       358  1018   462    53   22"
      ]
     },
     "execution_count": 6,
     "metadata": {},
     "output_type": "execute_result"
    },
    {
     "data": {
      "text/plain": [
       "<matplotlib.axes._subplots.AxesSubplot at 0x7f895a717908>"
      ]
     },
     "execution_count": 6,
     "metadata": {},
     "output_type": "execute_result"
    },
    {
     "data": {
      "image/png": "[encoded data removed]",
      "text/plain": [
       "<Figure size 432x288 with 1 Axes>"
      ]
     },
     "metadata": {},
     "output_type": "display_data"
    }
   ],
   "source": [
    "BD['Motivo del Llamado'].value_counts(normalize=True)*100\n",
    "BD['Submotivo del Llamado'].value_counts(normalize=True).head(15)*100\n",
    "dum = pd.crosstab(BD['Submotivo del Llamado'],\n",
    "            BD.Prioridad, \n",
    "            margins=True,\n",
    "            margins_name = 'Total'\n",
    "           ).sort_values('Total', ascending=False)\n",
    "dum.drop('Total').head(10)\n",
    "tab = pd.crosstab(BD['Submotivo del Llamado'],\n",
    "            BD.Prioridad,\n",
    "            margins=True,\n",
    "            margins_name = 'All'\n",
    "           ).sort_values('All', ascending=False)\n",
    "\n",
    "tab = tab.drop('All',axis=1)\n",
    "tab = tab.drop('All',axis=0)\n",
    "tab.head(10)\n",
    "tab.head(10).plot(kind='barh')"
   ]
  },
  {
   "cell_type": "code",
   "execution_count": 7,
   "metadata": {
    "scrolled": true
   },
   "outputs": [
    {
     "name": "stdout",
     "output_type": "stream",
     "text": [
      "Accidentes y Traumas\n"
     ]
    },
    {
     "data": {
      "text/plain": [
       "Accidente vehicular o transporte. Atropellos      35.918569\n",
       "Caídas leves                                      26.510692\n",
       "Accidente múltiples víctimas (cualquier razón)    15.769684\n",
       "Caídas graves                                      6.908732\n",
       "Agresiones, ataques, asalto                        6.190892\n",
       "Name: Submotivo del Llamado, dtype: float64"
      ]
     },
     "execution_count": 7,
     "metadata": {},
     "output_type": "execute_result"
    },
    {
     "name": "stdout",
     "output_type": "stream",
     "text": [
      "Consciencia\n"
     ]
    },
    {
     "data": {
      "text/plain": [
       "Compromiso de conciencia                           53.549790\n",
       "Enfermedad Psiquiátrica o agitación psicomotora    14.641914\n",
       "Lipotimia recuperada                               14.587541\n",
       "Comportamientos extraños                           13.189374\n",
       "Focalidad Neurológica. Compromiso neurologico       4.023613\n",
       "Name: Submotivo del Llamado, dtype: float64"
      ]
     },
     "execution_count": 7,
     "metadata": {},
     "output_type": "execute_result"
    },
    {
     "name": "stdout",
     "output_type": "stream",
     "text": [
      "Dolor o Problema específico\n"
     ]
    },
    {
     "data": {
      "text/plain": [
       "Dificultad respiratoria leve - moderada (disnea)    25.345840\n",
       "Dolor de pecho                                      11.220589\n",
       "Dolor o problemas abdominal                         10.400820\n",
       "Problemas de Diabetes                                9.242108\n",
       "Enfermedad terminal, dolor de cancer, agonico.       8.899224\n",
       "Name: Submotivo del Llamado, dtype: float64"
      ]
     },
     "execution_count": 7,
     "metadata": {},
     "output_type": "execute_result"
    },
    {
     "name": "stdout",
     "output_type": "stream",
     "text": [
      "Sin patología urgencia\n"
     ]
    },
    {
     "data": {
      "text/plain": [
       "Malestar general adulto mayor            44.467109\n",
       "Malfunción de sondas o vias              20.428353\n",
       "Malestar general adulto                  17.032126\n",
       "Crisis de Panico, Angustia o Nerviosa     7.271800\n",
       "Heridas simples                           2.264151\n",
       "Name: Submotivo del Llamado, dtype: float64"
      ]
     },
     "execution_count": 7,
     "metadata": {},
     "output_type": "execute_result"
    },
    {
     "name": "stdout",
     "output_type": "stream",
     "text": [
      "Traslados\n"
     ]
    },
    {
     "data": {
      "text/plain": [
       "Tr. Especialista              56.653307\n",
       "Tr. Exámen o Procedimiento    18.637275\n",
       "Tr. Rescate                    6.918838\n",
       "Tr. Domicilio                  6.382766\n",
       "Tr. Cupo                       3.947896\n",
       "Name: Submotivo del Llamado, dtype: float64"
      ]
     },
     "execution_count": 7,
     "metadata": {},
     "output_type": "execute_result"
    },
    {
     "name": "stdout",
     "output_type": "stream",
     "text": [
      "Otro\n"
     ]
    },
    {
     "data": {
      "text/plain": [
       "Fallecido                        59.947045\n",
       "Otros                            34.889878\n",
       "Transporte Personal               1.083163\n",
       "Caso social                       0.962811\n",
       "Solicitud de consejo de salud     0.818390\n",
       "Name: Submotivo del Llamado, dtype: float64"
      ]
     },
     "execution_count": 7,
     "metadata": {},
     "output_type": "execute_result"
    },
    {
     "name": "stdout",
     "output_type": "stream",
     "text": [
      "Colapso\n"
     ]
    },
    {
     "data": {
      "text/plain": [
       "Convulsiones                                         52.841868\n",
       "Inconciente, desmayo. Respirando                     26.955543\n",
       "Colapso respiratorio o circulatorio. PCR. Asfixia    19.170887\n",
       "OVACE                                                 1.031701\n",
       "Name: Submotivo del Llamado, dtype: float64"
      ]
     },
     "execution_count": 7,
     "metadata": {},
     "output_type": "execute_result"
    },
    {
     "name": "stdout",
     "output_type": "stream",
     "text": [
      "Intoxicación\n"
     ]
    },
    {
     "data": {
      "text/plain": [
       "Sobredosis, envenenamientos e intoxicaciones      57.282416\n",
       "Exposición o fuga materiales, gases peligrosos    30.595027\n",
       "Estado embriaguez                                 12.122558\n",
       "Name: Submotivo del Llamado, dtype: float64"
      ]
     },
     "execution_count": 7,
     "metadata": {},
     "output_type": "execute_result"
    },
    {
     "name": "stdout",
     "output_type": "stream",
     "text": [
      "nan\n"
     ]
    },
    {
     "data": {
      "text/plain": [
       "Series([], Name: Submotivo del Llamado, dtype: float64)"
      ]
     },
     "execution_count": 7,
     "metadata": {},
     "output_type": "execute_result"
    }
   ],
   "source": [
    "for x in BD['Motivo del Llamado'].unique():\n",
    "    print(x)\n",
    "    BD.loc[BD['Motivo del Llamado']== x]['Submotivo del Llamado'].value_counts(normalize=True).head(5)*100"
   ]
  },
  {
   "cell_type": "code",
   "execution_count": 7,
   "metadata": {},
   "outputs": [
    {
     "data": {
      "text/plain": [
       "S3    24075\n",
       "S5     1221\n",
       "S1    20238\n",
       "S2    22548\n",
       "S4     9624\n",
       "Name: Prioridad, dtype: int64"
      ]
     },
     "execution_count": 7,
     "metadata": {},
     "output_type": "execute_result"
    },
    {
     "data": {
      "text/plain": [
       "<matplotlib.axes._subplots.AxesSubplot at 0x7ff516859240>"
      ]
     },
     "execution_count": 7,
     "metadata": {},
     "output_type": "execute_result"
    },
    {
     "data": {
      "image/png": "[encoded data removed]",
      "text/plain": [
       "<Figure size 432x288 with 1 Axes>"
      ]
     },
     "metadata": {},
     "output_type": "display_data"
    }
   ],
   "source": [
    "BD.Prioridad.value_counts(sort=False)#.plot('bar')\n",
    "pd.Categorical(BD.Prioridad).value_counts().plot('bar')"
   ]
  },
  {
   "cell_type": "code",
   "execution_count": 8,
   "metadata": {},
   "outputs": [
    {
     "data": {
      "text/plain": [
       "<matplotlib.axes._subplots.AxesSubplot at 0x7ff516737240>"
      ]
     },
     "execution_count": 8,
     "metadata": {},
     "output_type": "execute_result"
    },
    {
     "data": {
      "image/png": "[encoded data removed]",
      "text/plain": [
       "<Figure size 432x288 with 1 Axes>"
      ]
     },
     "metadata": {},
     "output_type": "display_data"
    }
   ],
   "source": [
    "BD.groupby(BD.Fecha.dt.hour).Id.count().plot()\n"
   ]
  },
  {
   "cell_type": "code",
   "execution_count": 9,
   "metadata": {},
   "outputs": [
    {
     "data": {
      "text/plain": [
       "Fecha\n",
       "2018-01    2299\n",
       "2018-02    3513\n",
       "2018-03    3855\n",
       "2018-04    3542\n",
       "2018-05    4144\n",
       "2018-06    4164\n",
       "2018-07    4011\n",
       "2018-08    4558\n",
       "2018-09    4125\n",
       "2018-10    4163\n",
       "2018-11    4283\n",
       "2018-12    4653\n",
       "2019-01    4532\n",
       "2019-02    4077\n",
       "2019-03    4498\n",
       "2019-04    4152\n",
       "2019-05    4177\n",
       "2019-06    3977\n",
       "2019-07    4605\n",
       "2019-08    4567\n",
       "2019-09    4497\n",
       "2019-10    4849\n",
       "2019-11    4566\n",
       "2019-12    4855\n",
       "2020-01    4855\n",
       "Freq: M, Name: Id, dtype: int64"
      ]
     },
     "execution_count": 9,
     "metadata": {},
     "output_type": "execute_result"
    },
    {
     "data": {
      "text/plain": [
       "<matplotlib.axes._subplots.AxesSubplot at 0x7ff516054160>"
      ]
     },
     "execution_count": 9,
     "metadata": {},
     "output_type": "execute_result"
    },
    {
     "data": {
      "image/png": "[encoded data removed]",
      "text/plain": [
       "<Figure size 432x288 with 1 Axes>"
      ]
     },
     "metadata": {},
     "output_type": "display_data"
    }
   ],
   "source": [
    "#atenciones mensuales\n",
    "BD.groupby(BD.Fecha.dt.to_period('M')).Id.count()\n",
    "BD.groupby(BD.Fecha.dt.to_period('M')).Id.count().plot()"
   ]
  },
  {
   "cell_type": "code",
   "execution_count": 10,
   "metadata": {
    "scrolled": true
   },
   "outputs": [
    {
     "data": {
      "text/plain": [
       "<matplotlib.axes._subplots.AxesSubplot at 0x7ff4fb72ce80>"
      ]
     },
     "execution_count": 10,
     "metadata": {},
     "output_type": "execute_result"
    },
    {
     "data": {
      "text/plain": [
       "(0, 110)"
      ]
     },
     "execution_count": 10,
     "metadata": {},
     "output_type": "execute_result"
    },
    {
     "data": {
      "text/plain": [
       "Text(0.5, 1.0, 'Histograma edad')"
      ]
     },
     "execution_count": 10,
     "metadata": {},
     "output_type": "execute_result"
    },
    {
     "data": {
      "image/png": "[encoded data removed]",
      "text/plain": [
       "<Figure size 432x288 with 1 Axes>"
      ]
     },
     "metadata": {},
     "output_type": "display_data"
    }
   ],
   "source": [
    "BD.Edad.hist(bins=30)\n",
    "plt.xlim([0,110])\n",
    "plt.title('Histograma edad')"
   ]
  },
  {
   "cell_type": "code",
   "execution_count": 11,
   "metadata": {},
   "outputs": [
    {
     "data": {
      "text/plain": [
       "Index(['Id', 'Fecha', 'Motivo del Llamado', 'Submotivo del Llamado',\n",
       "       'Prioridad', 'Estado', 'Edad', 'Género', 'Dirección', 'Sector',\n",
       "       'Comuna', 'Región', 'Intervención', 'Tipo Traslado',\n",
       "       'Categoría Vehículo', 'Condición Traslado', 'En Regulación',\n",
       "       'En Despacho', 'En Curso', 'Atendida', 'Completado', 'Regulado',\n",
       "       'Usuario que Cierra', 'Móvil Agregado', 'Móvil Despachado',\n",
       "       'Móvil Salida', 'Móvil Llegada Lugar', 'Móvil en Traslado',\n",
       "       'Móvil Llegada a CA', 'Móvil Recepción Paciente',\n",
       "       'Móvil Camilla Retenida', 'Móvil Vuelta a Base', 'Móvil LLegada a Base',\n",
       "       'Móvil Finalizado', 'Nombre Vehículo', 'Tipo Requerido',\n",
       "       'Tipo Despachado', 'Km Recorrido', 'Chofer', 'Paramédico', 'Enfermero',\n",
       "       'Doctor', 'Longitud', 'Latitud', 'Diff_recep_Despachado',\n",
       "       'Diff_Despacho_Salida', 'Diff_salida_enellugar', 'Diff_z6_1',\n",
       "       'Diff_z6_2', 'Diff_z6_3'],\n",
       "      dtype='object')"
      ]
     },
     "execution_count": 11,
     "metadata": {},
     "output_type": "execute_result"
    }
   ],
   "source": [
    "BD.columns"
   ]
  },
  {
   "cell_type": "code",
   "execution_count": 12,
   "metadata": {
    "scrolled": true
   },
   "outputs": [
    {
     "data": {
      "text/plain": [
       "count                     39830\n",
       "mean     0 days 00:07:51.595229\n",
       "std      0 days 00:18:49.292203\n",
       "min             0 days 00:00:02\n",
       "25%             0 days 00:00:47\n",
       "50%             0 days 00:03:03\n",
       "75%             0 days 00:07:50\n",
       "max             1 days 02:44:39\n",
       "Name: Diff_Despacho_Salida, dtype: object"
      ]
     },
     "execution_count": 12,
     "metadata": {},
     "output_type": "execute_result"
    },
    {
     "data": {
      "text/plain": [
       "<matplotlib.axes._subplots.AxesSubplot at 0x7ff515fdebe0>"
      ]
     },
     "execution_count": 12,
     "metadata": {},
     "output_type": "execute_result"
    },
    {
     "data": {
      "text/plain": [
       "(0, 10)"
      ]
     },
     "execution_count": 12,
     "metadata": {},
     "output_type": "execute_result"
    },
    {
     "data": {
      "text/plain": [
       "Text(0.5, 1.0, 'Diff salida  indicada vs real')"
      ]
     },
     "execution_count": 12,
     "metadata": {},
     "output_type": "execute_result"
    },
    {
     "data": {
      "image/png": "[encoded data removed]",
      "text/plain": [
       "<Figure size 432x288 with 1 Axes>"
      ]
     },
     "metadata": {},
     "output_type": "display_data"
    }
   ],
   "source": [
    "BD.Diff_Despacho_Salida.describe()\n",
    "(BD.Diff_Despacho_Salida.dt.seconds/60).hist(bins=1000)\n",
    "plt.xlim([0,10])\n",
    "plt.title('Diff salida  indicada vs real')"
   ]
  },
  {
   "cell_type": "code",
   "execution_count": 13,
   "metadata": {},
   "outputs": [
    {
     "data": {
      "text/plain": [
       "0   NaT\n",
       "1   NaT\n",
       "2   NaT\n",
       "3   NaT\n",
       "4   NaT\n",
       "Name: En Regulación, dtype: datetime64[ns]"
      ]
     },
     "execution_count": 13,
     "metadata": {},
     "output_type": "execute_result"
    }
   ],
   "source": [
    "BD['En Regulación'].head()"
   ]
  },
  {
   "cell_type": "code",
   "execution_count": 14,
   "metadata": {},
   "outputs": [
    {
     "data": {
      "text/plain": [
       "count                     39830\n",
       "mean     0 days 00:07:51.595229\n",
       "std      0 days 00:18:49.292203\n",
       "min             0 days 00:00:02\n",
       "25%             0 days 00:00:47\n",
       "50%             0 days 00:03:03\n",
       "75%             0 days 00:07:50\n",
       "max             1 days 02:44:39\n",
       "Name: Diff_Despacho_Salida, dtype: object"
      ]
     },
     "execution_count": 14,
     "metadata": {},
     "output_type": "execute_result"
    },
    {
     "data": {
      "text/plain": [
       "<matplotlib.axes._subplots.AxesSubplot at 0x7ff4fb758d30>"
      ]
     },
     "execution_count": 14,
     "metadata": {},
     "output_type": "execute_result"
    },
    {
     "data": {
      "text/plain": [
       "(0, 10)"
      ]
     },
     "execution_count": 14,
     "metadata": {},
     "output_type": "execute_result"
    },
    {
     "data": {
      "text/plain": [
       "Text(0.5, 1.0, 'Diff salida  indicada vs real')"
      ]
     },
     "execution_count": 14,
     "metadata": {},
     "output_type": "execute_result"
    },
    {
     "data": {
      "image/png": "[encoded data removed]",
      "text/plain": [
       "<Figure size 432x288 with 1 Axes>"
      ]
     },
     "metadata": {},
     "output_type": "display_data"
    }
   ],
   "source": [
    "BD.Diff_Despacho_Salida.describe()\n",
    "(BD.Diff_Despacho_Salida.dt.seconds/60).hist(bins=1000)\n",
    "plt.xlim([0,10])\n",
    "plt.title('Diff salida  indicada vs real')"
   ]
  },
  {
   "cell_type": "code",
   "execution_count": 15,
   "metadata": {},
   "outputs": [
    {
     "data": {
      "text/plain": [
       "Index(['Id', 'Fecha', 'Motivo del Llamado', 'Submotivo del Llamado',\n",
       "       'Prioridad', 'Estado', 'Edad', 'Género', 'Dirección', 'Sector',\n",
       "       'Comuna', 'Región', 'Intervención', 'Tipo Traslado',\n",
       "       'Categoría Vehículo', 'Condición Traslado', 'En Regulación',\n",
       "       'En Despacho', 'En Curso', 'Atendida', 'Completado', 'Regulado',\n",
       "       'Usuario que Cierra', 'Móvil Agregado', 'Móvil Despachado',\n",
       "       'Móvil Salida', 'Móvil Llegada Lugar', 'Móvil en Traslado',\n",
       "       'Móvil Llegada a CA', 'Móvil Recepción Paciente',\n",
       "       'Móvil Camilla Retenida', 'Móvil Vuelta a Base', 'Móvil LLegada a Base',\n",
       "       'Móvil Finalizado', 'Nombre Vehículo', 'Tipo Requerido',\n",
       "       'Tipo Despachado', 'Km Recorrido', 'Chofer', 'Paramédico', 'Enfermero',\n",
       "       'Doctor', 'Longitud', 'Latitud', 'Diff_recep_Despachado',\n",
       "       'Diff_Despacho_Salida', 'Diff_salida_enellugar', 'Diff_z6_1',\n",
       "       'Diff_z6_2', 'Diff_z6_3'],\n",
       "      dtype='object')"
      ]
     },
     "execution_count": 15,
     "metadata": {},
     "output_type": "execute_result"
    },
    {
     "data": {
      "text/html": [
       "<div>\n",
       "<style scoped>\n",
       "    .dataframe tbody tr th:only-of-type {\n",
       "        vertical-align: middle;\n",
       "    }\n",
       "\n",
       "    .dataframe tbody tr th {\n",
       "        vertical-align: top;\n",
       "    }\n",
       "\n",
       "    .dataframe thead th {\n",
       "        text-align: right;\n",
       "    }\n",
       "</style>\n",
       "<table border=\"1\" class=\"dataframe\">\n",
       "  <thead>\n",
       "    <tr style=\"text-align: right;\">\n",
       "      <th></th>\n",
       "      <th>En Regulación</th>\n",
       "      <th>En Despacho</th>\n",
       "      <th>En Curso</th>\n",
       "      <th>Atendida</th>\n",
       "      <th>Completado</th>\n",
       "      <th>Regulado</th>\n",
       "      <th>Usuario que Cierra</th>\n",
       "      <th>Móvil Agregado</th>\n",
       "      <th>Móvil Despachado</th>\n",
       "      <th>Móvil Salida</th>\n",
       "      <th>...</th>\n",
       "      <th>Móvil Camilla Retenida</th>\n",
       "      <th>Móvil Vuelta a Base</th>\n",
       "      <th>Móvil LLegada a Base</th>\n",
       "      <th>Móvil Finalizado</th>\n",
       "      <th>Nombre Vehículo</th>\n",
       "      <th>Tipo Requerido</th>\n",
       "      <th>Tipo Despachado</th>\n",
       "      <th>Km Recorrido</th>\n",
       "      <th>Chofer</th>\n",
       "      <th>Paramédico</th>\n",
       "    </tr>\n",
       "  </thead>\n",
       "  <tbody>\n",
       "    <tr>\n",
       "      <th>0</th>\n",
       "      <td>NaT</td>\n",
       "      <td>2020-02-01 02:59:47</td>\n",
       "      <td>2020-02-01 03:02:55</td>\n",
       "      <td>NaT</td>\n",
       "      <td>2020-02-01 03:25:38</td>\n",
       "      <td>NaT</td>\n",
       "      <td>Roberto Quinlan E.</td>\n",
       "      <td>NaT</td>\n",
       "      <td>2020-02-01 03:01:35</td>\n",
       "      <td>2020-02-01 03:02:46</td>\n",
       "      <td>...</td>\n",
       "      <td>NaT</td>\n",
       "      <td>2020-02-01 03:09:33</td>\n",
       "      <td>2020-02-01 03:25:32</td>\n",
       "      <td>2020-02-01 03:25:38</td>\n",
       "      <td>R23</td>\n",
       "      <td>m2</td>\n",
       "      <td>m2</td>\n",
       "      <td>5</td>\n",
       "      <td>Leonardo David Quiroz Alvarez</td>\n",
       "      <td>Nicolás Silva morales</td>\n",
       "    </tr>\n",
       "    <tr>\n",
       "      <th>1</th>\n",
       "      <td>NaT</td>\n",
       "      <td>NaT</td>\n",
       "      <td>NaT</td>\n",
       "      <td>NaT</td>\n",
       "      <td>2020-02-01 04:43:04</td>\n",
       "      <td>NaT</td>\n",
       "      <td>Luz Maria Gonzalez Nuñez</td>\n",
       "      <td>NaT</td>\n",
       "      <td>NaT</td>\n",
       "      <td>NaT</td>\n",
       "      <td>...</td>\n",
       "      <td>NaT</td>\n",
       "      <td>NaT</td>\n",
       "      <td>NaT</td>\n",
       "      <td>NaT</td>\n",
       "      <td>NaN</td>\n",
       "      <td>NaN</td>\n",
       "      <td>NaN</td>\n",
       "      <td>No informado</td>\n",
       "      <td>NaN</td>\n",
       "      <td>NaN</td>\n",
       "    </tr>\n",
       "  </tbody>\n",
       "</table>\n",
       "<p>2 rows × 24 columns</p>\n",
       "</div>"
      ],
      "text/plain": [
       "  En Regulación         En Despacho            En Curso Atendida  \\\n",
       "0           NaT 2020-02-01 02:59:47 2020-02-01 03:02:55      NaT   \n",
       "1           NaT                 NaT                 NaT      NaT   \n",
       "\n",
       "           Completado Regulado        Usuario que Cierra Móvil Agregado  \\\n",
       "0 2020-02-01 03:25:38      NaT        Roberto Quinlan E.            NaT   \n",
       "1 2020-02-01 04:43:04      NaT  Luz Maria Gonzalez Nuñez            NaT   \n",
       "\n",
       "     Móvil Despachado        Móvil Salida          ...            \\\n",
       "0 2020-02-01 03:01:35 2020-02-01 03:02:46          ...             \n",
       "1                 NaT                 NaT          ...             \n",
       "\n",
       "  Móvil Camilla Retenida Móvil Vuelta a Base Móvil LLegada a Base  \\\n",
       "0                    NaT 2020-02-01 03:09:33  2020-02-01 03:25:32   \n",
       "1                    NaT                 NaT                  NaT   \n",
       "\n",
       "     Móvil Finalizado Nombre Vehículo Tipo Requerido Tipo Despachado  \\\n",
       "0 2020-02-01 03:25:38             R23             m2              m2   \n",
       "1                 NaT             NaN            NaN             NaN   \n",
       "\n",
       "   Km Recorrido                         Chofer             Paramédico  \n",
       "0             5  Leonardo David Quiroz Alvarez  Nicolás Silva morales  \n",
       "1  No informado                            NaN                    NaN  \n",
       "\n",
       "[2 rows x 24 columns]"
      ]
     },
     "execution_count": 15,
     "metadata": {},
     "output_type": "execute_result"
    }
   ],
   "source": [
    "# BD.Doctor.value_counts()\n",
    "BD.columns\n",
    "BD[[ 'En Regulación',\n",
    "       'En Despacho', 'En Curso', 'Atendida', 'Completado', 'Regulado',\n",
    "       'Usuario que Cierra', 'Móvil Agregado', 'Móvil Despachado',\n",
    "       'Móvil Salida', 'Móvil Llegada Lugar', 'Móvil en Traslado',\n",
    "       'Móvil Llegada a CA', 'Móvil Recepción Paciente',\n",
    "       'Móvil Camilla Retenida', 'Móvil Vuelta a Base', 'Móvil LLegada a Base',\n",
    "       'Móvil Finalizado', 'Nombre Vehículo', 'Tipo Requerido',\n",
    "       'Tipo Despachado', 'Km Recorrido', 'Chofer', 'Paramédico']].head(2)"
   ]
  },
  {
   "cell_type": "code",
   "execution_count": null,
   "metadata": {
    "collapsed": true
   },
   "outputs": [],
   "source": []
  },
  {
   "cell_type": "markdown",
   "metadata": {
    "collapsed": true
   },
   "source": [
    "# Solicitudes al CR"
   ]
  },
  {
   "cell_type": "code",
   "execution_count": 16,
   "metadata": {},
   "outputs": [
    {
     "data": {
      "text/plain": [
       "Index(['Id', 'Fecha', 'Motivo del Llamado', 'Submotivo del Llamado',\n",
       "       'Prioridad', 'Estado', 'Edad', 'Género', 'Dirección', 'Sector',\n",
       "       'Comuna', 'Región', 'Intervención', 'Tipo Traslado',\n",
       "       'Categoría Vehículo', 'Condición Traslado', 'En Regulación',\n",
       "       'En Despacho', 'En Curso', 'Atendida', 'Completado', 'Regulado',\n",
       "       'Usuario que Cierra', 'Móvil Agregado', 'Móvil Despachado',\n",
       "       'Móvil Salida', 'Móvil Llegada Lugar', 'Móvil en Traslado',\n",
       "       'Móvil Llegada a CA', 'Móvil Recepción Paciente',\n",
       "       'Móvil Camilla Retenida', 'Móvil Vuelta a Base', 'Móvil LLegada a Base',\n",
       "       'Móvil Finalizado', 'Nombre Vehículo', 'Tipo Requerido',\n",
       "       'Tipo Despachado', 'Km Recorrido', 'Chofer', 'Paramédico', 'Enfermero',\n",
       "       'Doctor', 'Longitud', 'Latitud', 'Diff_recep_Despachado',\n",
       "       'Diff_Despacho_Salida', 'Diff_salida_enellugar', 'Diff_z6_1',\n",
       "       'Diff_z6_2', 'Diff_z6_3'],\n",
       "      dtype='object')"
      ]
     },
     "execution_count": 16,
     "metadata": {},
     "output_type": "execute_result"
    }
   ],
   "source": [
    "BD.columns"
   ]
  },
  {
   "cell_type": "code",
   "execution_count": 17,
   "metadata": {
    "collapsed": true,
    "scrolled": false
   },
   "outputs": [],
   "source": [
    "# BD.Comuna.value_counts()#.sum()\n",
    "\n",
    "sector_vina = BD.loc[(BD.Comuna == 'Viña del Mar') | (BD.Comuna == 'Concón') |\n",
    "             (BD['Nombre Vehículo'].str.contains('R2'))\n",
    "            ].copy()\n",
    "\n",
    "sector_quilpue = BD.loc[(BD.Comuna == 'Quilpué') | (BD.Comuna == 'Villa Alemana') |\n",
    "             (BD['Nombre Vehículo'].str.contains('R3'))\n",
    "            ].copy()\n",
    "\n",
    "sector_quillota = BD.loc[(BD.Comuna == 'Quillota') |\n",
    "             (BD['Nombre Vehículo'].str.contains('R6'))\n",
    "            ].copy()\n",
    "\n",
    "sector_quintero = BD.loc[(BD.Comuna == 'Quintero') | (BD.Comuna == 'Puchuncaví') | \n",
    "             (BD['Nombre Vehículo'].str.contains('R1'))\n",
    "            ].copy()\n",
    "\n",
    "sector_ligua = BD.loc[(BD.Comuna == 'La Ligua') | (BD.Comuna == 'Nogales') |\n",
    "                      (BD.Comuna == 'Zapallar') |\n",
    "             (BD['Nombre Vehículo'].str.contains('R8'))\n",
    "            ].copy()\n",
    "\n",
    "sector_otros =  BD.loc[(BD.Id.isin(sector_vina.Id)==False) &\n",
    "                       (BD.Id.isin(sector_quilpue.Id)==False) &\n",
    "                       (BD.Id.isin(sector_quillota.Id)==False) &\n",
    "                       (BD.Id.isin(sector_quintero.Id)==False) &\n",
    "                       (BD.Id.isin(sector_ligua.Id)==False) \n",
    "                      ].copy()\n",
    "\n",
    "sectores = [sector_vina, sector_quilpue, sector_quillota,\n",
    "            sector_quintero, sector_ligua, sector_otros]"
   ]
  },
  {
   "cell_type": "code",
   "execution_count": 18,
   "metadata": {},
   "outputs": [
    {
     "data": {
      "text/plain": [
       "'Viña del Mar'"
      ]
     },
     "execution_count": 18,
     "metadata": {},
     "output_type": "execute_result"
    },
    {
     "data": {
      "text/plain": [
       "<matplotlib.axes._subplots.AxesSubplot at 0x7ff4fa56b748>"
      ]
     },
     "execution_count": 18,
     "metadata": {},
     "output_type": "execute_result"
    },
    {
     "data": {
      "text/plain": [
       "'Quilpué'"
      ]
     },
     "execution_count": 18,
     "metadata": {},
     "output_type": "execute_result"
    },
    {
     "data": {
      "text/plain": [
       "<matplotlib.axes._subplots.AxesSubplot at 0x7ff4fa56b748>"
      ]
     },
     "execution_count": 18,
     "metadata": {},
     "output_type": "execute_result"
    },
    {
     "data": {
      "text/plain": [
       "'Quillota'"
      ]
     },
     "execution_count": 18,
     "metadata": {},
     "output_type": "execute_result"
    },
    {
     "data": {
      "text/plain": [
       "<matplotlib.axes._subplots.AxesSubplot at 0x7ff4fa56b748>"
      ]
     },
     "execution_count": 18,
     "metadata": {},
     "output_type": "execute_result"
    },
    {
     "data": {
      "text/plain": [
       "'Quintero'"
      ]
     },
     "execution_count": 18,
     "metadata": {},
     "output_type": "execute_result"
    },
    {
     "data": {
      "text/plain": [
       "<matplotlib.axes._subplots.AxesSubplot at 0x7ff4fa56b748>"
      ]
     },
     "execution_count": 18,
     "metadata": {},
     "output_type": "execute_result"
    },
    {
     "data": {
      "text/plain": [
       "'La Ligua'"
      ]
     },
     "execution_count": 18,
     "metadata": {},
     "output_type": "execute_result"
    },
    {
     "data": {
      "text/plain": [
       "<matplotlib.axes._subplots.AxesSubplot at 0x7ff4fa56b748>"
      ]
     },
     "execution_count": 18,
     "metadata": {},
     "output_type": "execute_result"
    },
    {
     "data": {
      "text/plain": [
       "'Limache'"
      ]
     },
     "execution_count": 18,
     "metadata": {},
     "output_type": "execute_result"
    },
    {
     "data": {
      "text/plain": [
       "<matplotlib.axes._subplots.AxesSubplot at 0x7ff4fa56b748>"
      ]
     },
     "execution_count": 18,
     "metadata": {},
     "output_type": "execute_result"
    },
    {
     "data": {
      "text/plain": [
       "<matplotlib.legend.Legend at 0x7ff4fa289dd8>"
      ]
     },
     "execution_count": 18,
     "metadata": {},
     "output_type": "execute_result"
    },
    {
     "data": {
      "text/plain": [
       "Text(0, 0.5, 'Cantidad de atenciones')"
      ]
     },
     "execution_count": 18,
     "metadata": {},
     "output_type": "execute_result"
    },
    {
     "data": {
      "text/plain": [
       "<matplotlib.lines.Line2D at 0x7ff4fa378eb8>"
      ]
     },
     "execution_count": 18,
     "metadata": {},
     "output_type": "execute_result"
    },
    {
     "data": {
      "image/png": "[encoded data removed]",
      "text/plain": [
       "<Figure size 432x288 with 1 Axes>"
      ]
     },
     "metadata": {},
     "output_type": "display_data"
    }
   ],
   "source": [
    "for x in sectores:\n",
    "    comun = x.Comuna.value_counts().index[0]\n",
    "    comun\n",
    "    x.groupby(x.Fecha.dt.to_period('M')).Id.count().plot(label=str(comun))\n",
    "\n",
    "plt.legend(['Viña', 'Quilpué', 'Quillota','Quintero', 'La Ligua', 'Otros'], loc ='upper left')\n",
    "\n",
    "plt.ylabel('Cantidad de atenciones')\n",
    "\n",
    "plt.axvline(593, color='k', linestyle='--')\n"
   ]
  },
  {
   "cell_type": "markdown",
   "metadata": {},
   "source": [
    "Solicitudes por día de los distintos sectores"
   ]
  },
  {
   "cell_type": "code",
   "execution_count": 19,
   "metadata": {},
   "outputs": [
    {
     "name": "stdout",
     "output_type": "stream",
     "text": [
      "Total\n"
     ]
    },
    {
     "data": {
      "text/plain": [
       "140.68933333333334"
      ]
     },
     "execution_count": 19,
     "metadata": {},
     "output_type": "execute_result"
    },
    {
     "name": "stdout",
     "output_type": "stream",
     "text": [
      "Viña del Mar\n"
     ]
    },
    {
     "data": {
      "text/plain": [
       "52.23866666666667"
      ]
     },
     "execution_count": 19,
     "metadata": {},
     "output_type": "execute_result"
    },
    {
     "name": "stdout",
     "output_type": "stream",
     "text": [
      "Quilpué\n"
     ]
    },
    {
     "data": {
      "text/plain": [
       "32.885333333333335"
      ]
     },
     "execution_count": 19,
     "metadata": {},
     "output_type": "execute_result"
    },
    {
     "name": "stdout",
     "output_type": "stream",
     "text": [
      "Quillota\n"
     ]
    },
    {
     "data": {
      "text/plain": [
       "17.912"
      ]
     },
     "execution_count": 19,
     "metadata": {},
     "output_type": "execute_result"
    },
    {
     "name": "stdout",
     "output_type": "stream",
     "text": [
      "Quintero\n"
     ]
    },
    {
     "data": {
      "text/plain": [
       "15.014666666666667"
      ]
     },
     "execution_count": 19,
     "metadata": {},
     "output_type": "execute_result"
    },
    {
     "name": "stdout",
     "output_type": "stream",
     "text": [
      "La Ligua\n"
     ]
    },
    {
     "data": {
      "text/plain": [
       "8.150666666666664"
      ]
     },
     "execution_count": 19,
     "metadata": {},
     "output_type": "execute_result"
    },
    {
     "name": "stdout",
     "output_type": "stream",
     "text": [
      "Limache\n"
     ]
    },
    {
     "data": {
      "text/plain": [
       "14.547999999999996"
      ]
     },
     "execution_count": 19,
     "metadata": {},
     "output_type": "execute_result"
    }
   ],
   "source": [
    "print(\"Total\")\n",
    "\n",
    "(BD.groupby(BD.Fecha.dt.to_period('M')).Id.count()/30).mean()\n",
    "\n",
    "for x in sectores:\n",
    "    comun = x.Comuna.value_counts().index[0]\n",
    "    print(comun)\n",
    "    (x.groupby(x.Fecha.dt.to_period('M')).Id.count()/30).mean()\n"
   ]
  },
  {
   "cell_type": "markdown",
   "metadata": {},
   "source": [
    "brecha oportunidad"
   ]
  },
  {
   "cell_type": "code",
   "execution_count": 20,
   "metadata": {
    "scrolled": false
   },
   "outputs": [
    {
     "name": "stdout",
     "output_type": "stream",
     "text": [
      "Viña del Mar\n",
      "Quilpué\n",
      "Quillota\n",
      "Quintero\n",
      "La Ligua\n",
      "Limache\n"
     ]
    },
    {
     "data": {
      "text/html": [
       "<div>\n",
       "<style scoped>\n",
       "    .dataframe tbody tr th:only-of-type {\n",
       "        vertical-align: middle;\n",
       "    }\n",
       "\n",
       "    .dataframe tbody tr th {\n",
       "        vertical-align: top;\n",
       "    }\n",
       "\n",
       "    .dataframe thead th {\n",
       "        text-align: right;\n",
       "    }\n",
       "</style>\n",
       "<table border=\"1\" class=\"dataframe\">\n",
       "  <thead>\n",
       "    <tr style=\"text-align: right;\">\n",
       "      <th></th>\n",
       "      <th>Viña del Mar</th>\n",
       "      <th>Quilpué</th>\n",
       "      <th>Quillota</th>\n",
       "      <th>Quintero</th>\n",
       "      <th>La Ligua</th>\n",
       "      <th>Otros</th>\n",
       "    </tr>\n",
       "  </thead>\n",
       "  <tbody>\n",
       "    <tr>\n",
       "      <th>Igual</th>\n",
       "      <td>20870</td>\n",
       "      <td>11142</td>\n",
       "      <td>8151</td>\n",
       "      <td>8062</td>\n",
       "      <td>4425</td>\n",
       "      <td>3252</td>\n",
       "    </tr>\n",
       "    <tr>\n",
       "      <th>Menor</th>\n",
       "      <td>1015</td>\n",
       "      <td>997</td>\n",
       "      <td>171</td>\n",
       "      <td>257</td>\n",
       "      <td>100</td>\n",
       "      <td>429</td>\n",
       "    </tr>\n",
       "    <tr>\n",
       "      <th>Mayor</th>\n",
       "      <td>718</td>\n",
       "      <td>256</td>\n",
       "      <td>361</td>\n",
       "      <td>174</td>\n",
       "      <td>75</td>\n",
       "      <td>47</td>\n",
       "    </tr>\n",
       "    <tr>\n",
       "      <th>Total</th>\n",
       "      <td>22659</td>\n",
       "      <td>12404</td>\n",
       "      <td>8687</td>\n",
       "      <td>8496</td>\n",
       "      <td>4602</td>\n",
       "      <td>3732</td>\n",
       "    </tr>\n",
       "  </tbody>\n",
       "</table>\n",
       "</div>"
      ],
      "text/plain": [
       "       Viña del Mar  Quilpué  Quillota  Quintero  La Ligua  Otros\n",
       "Igual         20870    11142      8151      8062      4425   3252\n",
       "Menor          1015      997       171       257       100    429\n",
       "Mayor           718      256       361       174        75     47\n",
       "Total         22659    12404      8687      8496      4602   3732"
      ]
     },
     "execution_count": 20,
     "metadata": {},
     "output_type": "execute_result"
    },
    {
     "name": "stdout",
     "output_type": "stream",
     "text": [
      "Brecha de oportunidad de recursos menores a los indicados\n"
     ]
    },
    {
     "data": {
      "text/plain": [
       "Viña del Mar     4.479456\n",
       "Quilpué          8.037730\n",
       "Quillota         1.968459\n",
       "Quintero         3.024953\n",
       "La Ligua         2.172968\n",
       "Otros           11.495177\n",
       "dtype: float64"
      ]
     },
     "execution_count": 20,
     "metadata": {},
     "output_type": "execute_result"
    }
   ],
   "source": [
    "oportunidad = pd.DataFrame(index=['Igual', 'Menor', 'Mayor', 'Total'])\n",
    "\n",
    "for x in sectores:\n",
    "    comun = x.Comuna.value_counts().index[0]\n",
    "    print(comun)\n",
    "    dum = pd.crosstab(x['Tipo Requerido'],\n",
    "                      x['Tipo Despachado'], dropna=False)\n",
    "    \n",
    "    igual = dum.loc['m1']['m1'] + dum.loc['m2']['m2'] + dum.loc['m3']['m3']\n",
    "    menor = (dum.loc['m2']['m1'] +\n",
    "             dum.loc['m3']['m2'] + dum.loc['m3']['m1']  )\n",
    "    mayor = (dum.loc['m1']['m2'] + dum.loc['m1']['m3'] + dum.loc['m2']['m3'])\n",
    "    \n",
    "    res = [igual, menor, mayor, dum.sum().sum()]\n",
    "    oportunidad[comun] = res\n",
    "    \n",
    "dum = oportunidad.rename(columns={oportunidad.columns[-1]: 'Otros'})\n",
    "dum\n",
    "print('Brecha de oportunidad de recursos menores a los indicados')\n",
    "(dum.loc['Menor']/ dum.loc['Total'])*100\n",
    "\n",
    "    "
   ]
  },
  {
   "cell_type": "code",
   "execution_count": 21,
   "metadata": {},
   "outputs": [
    {
     "name": "stdout",
     "output_type": "stream",
     "text": [
      "Brecha oportunidad bases SAMU en %: 2.9114590241730873\n",
      "Brecha oportunidad teritorio hosp Quilpué %: 8.037729764592067\n"
     ]
    },
    {
     "data": {
      "text/plain": [
       "2.760722269438411"
      ]
     },
     "execution_count": 21,
     "metadata": {},
     "output_type": "execute_result"
    }
   ],
   "source": [
    "op_SAMU = (\n",
    "    (dum.loc['Menor']/ dum.loc['Total'])*100)[\n",
    "    ['Viña del Mar', 'Quillota', 'Quintero', 'La Ligua']].mean()\n",
    "op_HQ = (\n",
    "    (dum.loc['Menor']/ dum.loc['Total'])*100)[['Quilpué']].mean()\n",
    "print('Brecha oportunidad bases SAMU en %:', op_SAMU)\n",
    "print('Brecha oportunidad teritorio hosp Quilpué %:', op_HQ)\n",
    "op_HQ/op_SAMU"
   ]
  },
  {
   "cell_type": "code",
   "execution_count": 22,
   "metadata": {
    "scrolled": true
   },
   "outputs": [
    {
     "data": {
      "text/plain": [
       "Index(['Id', 'Fecha', 'Motivo del Llamado', 'Submotivo del Llamado',\n",
       "       'Prioridad', 'Estado', 'Edad', 'Género', 'Dirección', 'Sector',\n",
       "       'Comuna', 'Región', 'Intervención', 'Tipo Traslado',\n",
       "       'Categoría Vehículo', 'Condición Traslado', 'En Regulación',\n",
       "       'En Despacho', 'En Curso', 'Atendida', 'Completado', 'Regulado',\n",
       "       'Usuario que Cierra', 'Móvil Agregado', 'Móvil Despachado',\n",
       "       'Móvil Salida', 'Móvil Llegada Lugar', 'Móvil en Traslado',\n",
       "       'Móvil Llegada a CA', 'Móvil Recepción Paciente',\n",
       "       'Móvil Camilla Retenida', 'Móvil Vuelta a Base', 'Móvil LLegada a Base',\n",
       "       'Móvil Finalizado', 'Nombre Vehículo', 'Tipo Requerido',\n",
       "       'Tipo Despachado', 'Km Recorrido', 'Chofer', 'Paramédico', 'Enfermero',\n",
       "       'Doctor', 'Longitud', 'Latitud', 'Diff_recep_Despachado',\n",
       "       'Diff_Despacho_Salida', 'Diff_salida_enellugar', 'Diff_z6_1',\n",
       "       'Diff_z6_2', 'Diff_z6_3'],\n",
       "      dtype='object')"
      ]
     },
     "execution_count": 22,
     "metadata": {},
     "output_type": "execute_result"
    },
    {
     "data": {
      "text/html": [
       "<div>\n",
       "<style scoped>\n",
       "    .dataframe tbody tr th:only-of-type {\n",
       "        vertical-align: middle;\n",
       "    }\n",
       "\n",
       "    .dataframe tbody tr th {\n",
       "        vertical-align: top;\n",
       "    }\n",
       "\n",
       "    .dataframe thead th {\n",
       "        text-align: right;\n",
       "    }\n",
       "</style>\n",
       "<table border=\"1\" class=\"dataframe\">\n",
       "  <thead>\n",
       "    <tr style=\"text-align: right;\">\n",
       "      <th></th>\n",
       "      <th>0</th>\n",
       "    </tr>\n",
       "  </thead>\n",
       "  <tbody>\n",
       "    <tr>\n",
       "      <th>0</th>\n",
       "      <td>Id</td>\n",
       "    </tr>\n",
       "    <tr>\n",
       "      <th>1</th>\n",
       "      <td>Fecha</td>\n",
       "    </tr>\n",
       "    <tr>\n",
       "      <th>2</th>\n",
       "      <td>Motivo del Llamado</td>\n",
       "    </tr>\n",
       "    <tr>\n",
       "      <th>3</th>\n",
       "      <td>Submotivo del Llamado</td>\n",
       "    </tr>\n",
       "    <tr>\n",
       "      <th>4</th>\n",
       "      <td>Prioridad</td>\n",
       "    </tr>\n",
       "    <tr>\n",
       "      <th>5</th>\n",
       "      <td>Estado</td>\n",
       "    </tr>\n",
       "    <tr>\n",
       "      <th>6</th>\n",
       "      <td>Edad</td>\n",
       "    </tr>\n",
       "    <tr>\n",
       "      <th>7</th>\n",
       "      <td>Género</td>\n",
       "    </tr>\n",
       "    <tr>\n",
       "      <th>8</th>\n",
       "      <td>Dirección</td>\n",
       "    </tr>\n",
       "    <tr>\n",
       "      <th>9</th>\n",
       "      <td>Sector</td>\n",
       "    </tr>\n",
       "    <tr>\n",
       "      <th>10</th>\n",
       "      <td>Comuna</td>\n",
       "    </tr>\n",
       "    <tr>\n",
       "      <th>11</th>\n",
       "      <td>Región</td>\n",
       "    </tr>\n",
       "    <tr>\n",
       "      <th>12</th>\n",
       "      <td>Intervención</td>\n",
       "    </tr>\n",
       "    <tr>\n",
       "      <th>13</th>\n",
       "      <td>Tipo Traslado</td>\n",
       "    </tr>\n",
       "    <tr>\n",
       "      <th>14</th>\n",
       "      <td>Categoría Vehículo</td>\n",
       "    </tr>\n",
       "    <tr>\n",
       "      <th>15</th>\n",
       "      <td>Condición Traslado</td>\n",
       "    </tr>\n",
       "    <tr>\n",
       "      <th>16</th>\n",
       "      <td>En Regulación</td>\n",
       "    </tr>\n",
       "    <tr>\n",
       "      <th>17</th>\n",
       "      <td>En Despacho</td>\n",
       "    </tr>\n",
       "    <tr>\n",
       "      <th>18</th>\n",
       "      <td>En Curso</td>\n",
       "    </tr>\n",
       "    <tr>\n",
       "      <th>19</th>\n",
       "      <td>Atendida</td>\n",
       "    </tr>\n",
       "    <tr>\n",
       "      <th>20</th>\n",
       "      <td>Completado</td>\n",
       "    </tr>\n",
       "    <tr>\n",
       "      <th>21</th>\n",
       "      <td>Regulado</td>\n",
       "    </tr>\n",
       "    <tr>\n",
       "      <th>22</th>\n",
       "      <td>Usuario que Cierra</td>\n",
       "    </tr>\n",
       "    <tr>\n",
       "      <th>23</th>\n",
       "      <td>Móvil Agregado</td>\n",
       "    </tr>\n",
       "    <tr>\n",
       "      <th>24</th>\n",
       "      <td>Móvil Despachado</td>\n",
       "    </tr>\n",
       "    <tr>\n",
       "      <th>25</th>\n",
       "      <td>Móvil Salida</td>\n",
       "    </tr>\n",
       "    <tr>\n",
       "      <th>26</th>\n",
       "      <td>Móvil Llegada Lugar</td>\n",
       "    </tr>\n",
       "    <tr>\n",
       "      <th>27</th>\n",
       "      <td>Móvil en Traslado</td>\n",
       "    </tr>\n",
       "    <tr>\n",
       "      <th>28</th>\n",
       "      <td>Móvil Llegada a CA</td>\n",
       "    </tr>\n",
       "    <tr>\n",
       "      <th>29</th>\n",
       "      <td>Móvil Recepción Paciente</td>\n",
       "    </tr>\n",
       "    <tr>\n",
       "      <th>30</th>\n",
       "      <td>Móvil Camilla Retenida</td>\n",
       "    </tr>\n",
       "    <tr>\n",
       "      <th>31</th>\n",
       "      <td>Móvil Vuelta a Base</td>\n",
       "    </tr>\n",
       "    <tr>\n",
       "      <th>32</th>\n",
       "      <td>Móvil LLegada a Base</td>\n",
       "    </tr>\n",
       "    <tr>\n",
       "      <th>33</th>\n",
       "      <td>Móvil Finalizado</td>\n",
       "    </tr>\n",
       "    <tr>\n",
       "      <th>34</th>\n",
       "      <td>Nombre Vehículo</td>\n",
       "    </tr>\n",
       "    <tr>\n",
       "      <th>35</th>\n",
       "      <td>Tipo Requerido</td>\n",
       "    </tr>\n",
       "    <tr>\n",
       "      <th>36</th>\n",
       "      <td>Tipo Despachado</td>\n",
       "    </tr>\n",
       "    <tr>\n",
       "      <th>37</th>\n",
       "      <td>Km Recorrido</td>\n",
       "    </tr>\n",
       "    <tr>\n",
       "      <th>38</th>\n",
       "      <td>Chofer</td>\n",
       "    </tr>\n",
       "    <tr>\n",
       "      <th>39</th>\n",
       "      <td>Paramédico</td>\n",
       "    </tr>\n",
       "    <tr>\n",
       "      <th>40</th>\n",
       "      <td>Enfermero</td>\n",
       "    </tr>\n",
       "    <tr>\n",
       "      <th>41</th>\n",
       "      <td>Doctor</td>\n",
       "    </tr>\n",
       "    <tr>\n",
       "      <th>42</th>\n",
       "      <td>Longitud</td>\n",
       "    </tr>\n",
       "    <tr>\n",
       "      <th>43</th>\n",
       "      <td>Latitud</td>\n",
       "    </tr>\n",
       "  </tbody>\n",
       "</table>\n",
       "</div>"
      ],
      "text/plain": [
       "                           0\n",
       "0                         Id\n",
       "1                      Fecha\n",
       "2         Motivo del Llamado\n",
       "3      Submotivo del Llamado\n",
       "4                  Prioridad\n",
       "5                     Estado\n",
       "6                       Edad\n",
       "7                     Género\n",
       "8                  Dirección\n",
       "9                     Sector\n",
       "10                    Comuna\n",
       "11                    Región\n",
       "12              Intervención\n",
       "13             Tipo Traslado\n",
       "14        Categoría Vehículo\n",
       "15        Condición Traslado\n",
       "16             En Regulación\n",
       "17               En Despacho\n",
       "18                  En Curso\n",
       "19                  Atendida\n",
       "20                Completado\n",
       "21                  Regulado\n",
       "22        Usuario que Cierra\n",
       "23            Móvil Agregado\n",
       "24          Móvil Despachado\n",
       "25              Móvil Salida\n",
       "26       Móvil Llegada Lugar\n",
       "27         Móvil en Traslado\n",
       "28        Móvil Llegada a CA\n",
       "29  Móvil Recepción Paciente\n",
       "30    Móvil Camilla Retenida\n",
       "31       Móvil Vuelta a Base\n",
       "32      Móvil LLegada a Base\n",
       "33          Móvil Finalizado\n",
       "34           Nombre Vehículo\n",
       "35            Tipo Requerido\n",
       "36           Tipo Despachado\n",
       "37              Km Recorrido\n",
       "38                    Chofer\n",
       "39                Paramédico\n",
       "40                 Enfermero\n",
       "41                    Doctor\n",
       "42                  Longitud\n",
       "43                   Latitud"
      ]
     },
     "execution_count": 22,
     "metadata": {},
     "output_type": "execute_result"
    }
   ],
   "source": [
    "BD.columns\n",
    "pd.DataFrame(['Id', 'Fecha', 'Motivo del Llamado', 'Submotivo del Llamado',\n",
    "       'Prioridad', 'Estado', 'Edad', 'Género', 'Dirección', 'Sector',\n",
    "       'Comuna', 'Región', 'Intervención', 'Tipo Traslado',\n",
    "       'Categoría Vehículo', 'Condición Traslado', 'En Regulación',\n",
    "       'En Despacho', 'En Curso', 'Atendida', 'Completado', 'Regulado',\n",
    "       'Usuario que Cierra', 'Móvil Agregado', 'Móvil Despachado',\n",
    "       'Móvil Salida', 'Móvil Llegada Lugar', 'Móvil en Traslado',\n",
    "       'Móvil Llegada a CA', 'Móvil Recepción Paciente',\n",
    "       'Móvil Camilla Retenida', 'Móvil Vuelta a Base', 'Móvil LLegada a Base',\n",
    "       'Móvil Finalizado', 'Nombre Vehículo', 'Tipo Requerido',\n",
    "       'Tipo Despachado', 'Km Recorrido', 'Chofer', 'Paramédico', 'Enfermero',\n",
    "       'Doctor', 'Longitud', 'Latitud'])"
   ]
  },
  {
   "cell_type": "markdown",
   "metadata": {},
   "source": [
    "salidas por día según sector"
   ]
  },
  {
   "cell_type": "code",
   "execution_count": 23,
   "metadata": {},
   "outputs": [
    {
     "name": "stdout",
     "output_type": "stream",
     "text": [
      "Total\n"
     ]
    },
    {
     "data": {
      "text/plain": [
       "82.29040404040404"
      ]
     },
     "execution_count": 23,
     "metadata": {},
     "output_type": "execute_result"
    },
    {
     "name": "stdout",
     "output_type": "stream",
     "text": [
      "Viña del Mar\n",
      "28.9444 ( 35.1735 )%\n",
      "Quilpué\n",
      "20.5758 ( 25.0038 )%\n",
      "Quillota\n",
      "12.3763 ( 15.0397 )%\n",
      "Quintero\n",
      "11.5505 ( 14.0363 )%\n",
      "La Ligua\n",
      "6.3232 ( 7.684 )%\n",
      "Limache\n",
      "4.5733 ( 5.5575 )%\n"
     ]
    }
   ],
   "source": [
    "print(\"Total\")\n",
    "dum = BD.loc[(BD['Nombre Vehículo'].isna() == False) &\n",
    "                 (BD.Fecha > pd.Timestamp('2019-01-01'))\n",
    "            ]\n",
    "total = dum.groupby(dum.Fecha.dt.to_period('D')).Id.count().mean()\n",
    "total\n",
    "\n",
    "for x in sectores:\n",
    "    comun = x.Comuna.value_counts().index[0]\n",
    "    print(comun)\n",
    "    dum  = x.loc[(x['Nombre Vehículo'].isna() == False) &\n",
    "                 (x.Fecha > pd.Timestamp('2019-01-01'))\n",
    "    ]\n",
    "    valor = dum.groupby(dum.Fecha.dt.to_period('D')).Id.count().mean()\n",
    "    print(round(valor, 4), '(', round(valor/total*100, 4), ')%')"
   ]
  },
  {
   "cell_type": "code",
   "execution_count": null,
   "metadata": {
    "collapsed": true
   },
   "outputs": [],
   "source": []
  },
  {
   "cell_type": "code",
   "execution_count": null,
   "metadata": {
    "collapsed": true
   },
   "outputs": [],
   "source": []
  },
  {
   "cell_type": "code",
   "execution_count": 24,
   "metadata": {
    "scrolled": false
   },
   "outputs": [
    {
     "data": {
      "text/plain": [
       "Fecha\n",
       "8     2.376389\n",
       "9     3.104167\n",
       "10    4.358333\n",
       "11    4.327083\n",
       "12    4.558333\n",
       "13    4.229167\n",
       "14    4.345139\n",
       "15    3.986806\n",
       "16    4.231944\n",
       "17    4.165972\n",
       "18    4.090278\n",
       "19    3.670833\n",
       "Name: Id, dtype: float64"
      ]
     },
     "execution_count": 24,
     "metadata": {},
     "output_type": "execute_result"
    },
    {
     "data": {
      "text/plain": [
       "Fecha\n",
       "0     2.291667\n",
       "1     1.868056\n",
       "2     1.544444\n",
       "3     1.335417\n",
       "4     1.246528\n",
       "5     1.161111\n",
       "6     1.206250\n",
       "20    3.715972\n",
       "21    3.761806\n",
       "22    3.224306\n",
       "23    2.693750\n",
       "Name: Id, dtype: float64"
      ]
     },
     "execution_count": 24,
     "metadata": {},
     "output_type": "execute_result"
    }
   ],
   "source": [
    "((BD.groupby(BD.Fecha.dt.hour).Id.count())[list(range(8,20,1))]/(24*60))#.mean()\n",
    "((BD.groupby(BD.Fecha.dt.hour).Id.count())[list(range(0,7,1))+list(range(20,24,1))]/(24*60))#.mean()"
   ]
  },
  {
   "cell_type": "code",
   "execution_count": 25,
   "metadata": {
    "scrolled": true
   },
   "outputs": [
    {
     "data": {
      "text/plain": [
       "Fecha\n",
       "2018-01-15 08:00     3\n",
       "2018-01-15 09:00     8\n",
       "2018-01-15 10:00     5\n",
       "2018-01-15 11:00     7\n",
       "2018-01-15 12:00     9\n",
       "2018-01-15 13:00     8\n",
       "2018-01-15 14:00     5\n",
       "2018-01-15 15:00    14\n",
       "2018-01-15 16:00     6\n",
       "2018-01-15 17:00    10\n",
       "2018-01-15 18:00     6\n",
       "2018-01-15 19:00    10\n",
       "2018-01-15 20:00     5\n",
       "2018-01-15 21:00     3\n",
       "2018-01-15 22:00     8\n",
       "2018-01-15 23:00     3\n",
       "2018-01-16 00:00     2\n",
       "2018-01-16 01:00     7\n",
       "2018-01-16 02:00     2\n",
       "2018-01-16 03:00     3\n",
       "2018-01-16 04:00     3\n",
       "2018-01-16 05:00     1\n",
       "2018-01-16 07:00     5\n",
       "2018-01-16 08:00     1\n",
       "2018-01-16 09:00     7\n",
       "2018-01-16 10:00     7\n",
       "2018-01-16 11:00     5\n",
       "2018-01-16 12:00     4\n",
       "2018-01-16 13:00     3\n",
       "2018-01-16 14:00     5\n",
       "                    ..\n",
       "2020-01-30 17:00    11\n",
       "2020-01-30 18:00    13\n",
       "2020-01-30 19:00     6\n",
       "2020-01-30 20:00     7\n",
       "2020-01-30 21:00    11\n",
       "2020-01-30 22:00     7\n",
       "2020-01-30 23:00     7\n",
       "2020-01-31 00:00     5\n",
       "2020-01-31 01:00     6\n",
       "2020-01-31 02:00     4\n",
       "2020-01-31 03:00     2\n",
       "2020-01-31 04:00     2\n",
       "2020-01-31 06:00     7\n",
       "2020-01-31 07:00     3\n",
       "2020-01-31 08:00     7\n",
       "2020-01-31 09:00     2\n",
       "2020-01-31 10:00     5\n",
       "2020-01-31 11:00     7\n",
       "2020-01-31 12:00     7\n",
       "2020-01-31 13:00     7\n",
       "2020-01-31 14:00     5\n",
       "2020-01-31 15:00     5\n",
       "2020-01-31 16:00     9\n",
       "2020-01-31 17:00    10\n",
       "2020-01-31 18:00     4\n",
       "2020-01-31 19:00    10\n",
       "2020-01-31 20:00    14\n",
       "2020-01-31 21:00     8\n",
       "2020-01-31 22:00    16\n",
       "2020-01-31 23:00    14\n",
       "Freq: H, Name: Id, Length: 17240, dtype: int64"
      ]
     },
     "execution_count": 25,
     "metadata": {},
     "output_type": "execute_result"
    }
   ],
   "source": [
    "BD.groupby(BD.Fecha.dt.to_period('H')).Id.count()\n",
    "\n",
    "\n",
    "# BD.groupby(BD.Fecha.dt.to_period('H')).Id.count().mean()\n",
    "# (BD.groupby(BD.Fecha.dt.hour).Id.count())/(24*60)\n",
    "\n",
    "# BD.groupby(BD.Fecha.dt.to_period('H')).Id.count()[list(range(8,20,1))].sum()\n",
    "# BD.groupby(BD.Fecha.dt.to_period('H')).Id.count()[list(range(0,7,1))+list(range(20,24,1))].sum()"
   ]
  },
  {
   "cell_type": "code",
   "execution_count": 26,
   "metadata": {
    "scrolled": false
   },
   "outputs": [
    {
     "name": "stdout",
     "output_type": "stream",
     "text": [
      "Salidas diarias promedio\n"
     ]
    },
    {
     "data": {
      "text/plain": [
       "68.86666666666666"
      ]
     },
     "execution_count": 26,
     "metadata": {},
     "output_type": "execute_result"
    },
    {
     "name": "stdout",
     "output_type": "stream",
     "text": [
      "Viña del Mar\n"
     ]
    },
    {
     "data": {
      "text/plain": [
       "29.38974358974359"
      ]
     },
     "execution_count": 26,
     "metadata": {},
     "output_type": "execute_result"
    },
    {
     "name": "stdout",
     "output_type": "stream",
     "text": [
      "Quilpué\n"
     ]
    },
    {
     "data": {
      "text/plain": [
       "20.892307692307693"
      ]
     },
     "execution_count": 26,
     "metadata": {},
     "output_type": "execute_result"
    },
    {
     "name": "stdout",
     "output_type": "stream",
     "text": [
      "Quillota\n"
     ]
    },
    {
     "data": {
      "text/plain": [
       "12.566666666666666"
      ]
     },
     "execution_count": 26,
     "metadata": {},
     "output_type": "execute_result"
    },
    {
     "name": "stdout",
     "output_type": "stream",
     "text": [
      "Quintero\n"
     ]
    },
    {
     "data": {
      "text/plain": [
       "11.728205128205131"
      ]
     },
     "execution_count": 26,
     "metadata": {},
     "output_type": "execute_result"
    },
    {
     "name": "stdout",
     "output_type": "stream",
     "text": [
      "La Ligua\n"
     ]
    },
    {
     "data": {
      "text/plain": [
       "6.42051282051282"
      ]
     },
     "execution_count": 26,
     "metadata": {},
     "output_type": "execute_result"
    },
    {
     "name": "stdout",
     "output_type": "stream",
     "text": [
      "Limache\n"
     ]
    },
    {
     "data": {
      "text/plain": [
       "4.561538461538461"
      ]
     },
     "execution_count": 26,
     "metadata": {},
     "output_type": "execute_result"
    }
   ],
   "source": [
    "dum  = BD.loc[(BD['Nombre Vehículo'].isna() == False)]\n",
    "\n",
    "print('Salidas diarias promedio')\n",
    "(dum.groupby(dum.Fecha.dt.to_period('M')).Id.count()/30).mean()\n",
    "\n",
    "for x in sectores:\n",
    "    comun = x.Comuna.value_counts().index[0]\n",
    "    print(comun)\n",
    "    dum  = x.loc[(x['Nombre Vehículo'].isna() == False) &\n",
    "                 (x.Fecha > pd.Timestamp('2019-01-01'))\n",
    "    ]\n",
    "    (dum.groupby(dum.Fecha.dt.to_period('M')).Id.count()/30).mean()"
   ]
  },
  {
   "cell_type": "code",
   "execution_count": 27,
   "metadata": {
    "scrolled": false
   },
   "outputs": [
    {
     "name": "stdout",
     "output_type": "stream",
     "text": [
      "Viña del Mar\n"
     ]
    },
    {
     "data": {
      "text/plain": [
       "2.755010196188735"
      ]
     },
     "execution_count": 27,
     "metadata": {},
     "output_type": "execute_result"
    },
    {
     "name": "stdout",
     "output_type": "stream",
     "text": [
      "salidas día 10.152777777777777\n",
      "salidas noche 5.347222222222221\n",
      "\n",
      "Quilpué\n"
     ]
    },
    {
     "data": {
      "text/plain": [
       "2.061690211485413"
      ]
     },
     "execution_count": 27,
     "metadata": {},
     "output_type": "execute_result"
    },
    {
     "name": "stdout",
     "output_type": "stream",
     "text": [
      "salidas día 6.883333333333333\n",
      "salidas noche 4.152777777777778\n",
      "\n",
      "Quillota\n"
     ]
    },
    {
     "data": {
      "text/plain": [
       "1.5657342657342657"
      ]
     },
     "execution_count": 27,
     "metadata": {},
     "output_type": "execute_result"
    },
    {
     "name": "stdout",
     "output_type": "stream",
     "text": [
      "salidas día 4.215277777777778\n",
      "salidas noche 2.459722222222222\n",
      "\n",
      "Quintero\n"
     ]
    },
    {
     "data": {
      "text/plain": [
       "1.5813790198005897"
      ]
     },
     "execution_count": 27,
     "metadata": {},
     "output_type": "execute_result"
    },
    {
     "name": "stdout",
     "output_type": "stream",
     "text": [
      "salidas día 3.9972222222222222\n",
      "salidas noche 2.225\n",
      "\n",
      "La Ligua\n"
     ]
    },
    {
     "data": {
      "text/plain": [
       "1.3482576091751213"
      ]
     },
     "execution_count": 27,
     "metadata": {},
     "output_type": "execute_result"
    },
    {
     "name": "stdout",
     "output_type": "stream",
     "text": [
      "salidas día 2.2805555555555554\n",
      "salidas noche 1.1347222222222222\n",
      "\n",
      "Limache\n"
     ]
    },
    {
     "data": {
      "text/plain": [
       "1.5128951747088186"
      ]
     },
     "execution_count": 27,
     "metadata": {},
     "output_type": "execute_result"
    },
    {
     "name": "stdout",
     "output_type": "stream",
     "text": [
      "salidas día 1.5624999999999998\n",
      "salidas noche 0.8472222222222221\n",
      "\n"
     ]
    }
   ],
   "source": [
    "# no estoy seguro de esto.....\n",
    "\n",
    "for x in sectores:\n",
    "    comun = x.Comuna.value_counts().index[0]\n",
    "    print(comun)\n",
    "    dum  = x.loc[(x['Nombre Vehículo'].isna() == False) &\n",
    "                 (x.Fecha > pd.Timestamp('2019-01-01'))\n",
    "    ]\n",
    "    t_dia = (\n",
    "        (dum.groupby(dum.Fecha.dt.hour).Id.count())[\n",
    "            list(range(8,20,1))\n",
    "        ]/(12*60))\n",
    "    \n",
    "    t_noche = (\n",
    "        (dum.groupby(dum.Fecha.dt.hour).Id.count())[\n",
    "            list(range(0,7,1))+list(range(20,24,1))\n",
    "        ]/(12*60))\n",
    "    x.groupby(x.Fecha.dt.to_period('H')).Id.count().mean()\n",
    "    print('salidas día', t_dia.sum())\n",
    "    print('salidas noche', t_noche.sum())\n",
    "    print('')\n",
    "    "
   ]
  },
  {
   "cell_type": "markdown",
   "metadata": {
    "collapsed": true
   },
   "source": [
    "Reporte mensual\n",
    "====================="
   ]
  },
  {
   "cell_type": "code",
   "execution_count": 30,
   "metadata": {},
   "outputs": [
    {
     "data": {
      "text/plain": [
       "Index(['Id', 'Fecha', 'Motivo del Llamado', 'Submotivo del Llamado',\n",
       "       'Prioridad', 'Estado', 'Edad', 'Género', 'Dirección', 'Sector',\n",
       "       'Comuna', 'Región', 'Intervención', 'Tipo Traslado',\n",
       "       'Categoría Vehículo', 'Condición Traslado', 'En Regulación',\n",
       "       'En Despacho', 'En Curso', 'Atendida', 'Completado', 'Regulado',\n",
       "       'Usuario que Cierra', 'Móvil Agregado', 'Móvil Despachado',\n",
       "       'Móvil Salida', 'Móvil Llegada Lugar', 'Móvil en Traslado',\n",
       "       'Móvil Llegada a CA', 'Móvil Recepción Paciente',\n",
       "       'Móvil Camilla Retenida', 'Móvil Vuelta a Base', 'Móvil LLegada a Base',\n",
       "       'Móvil Finalizado', 'Nombre Vehículo', 'Tipo Requerido',\n",
       "       'Tipo Despachado', 'Km Recorrido', 'Chofer', 'Paramédico', 'Enfermero',\n",
       "       'Doctor', 'Longitud', 'Latitud', 'Diff_recep_Despachado',\n",
       "       'Diff_Despacho_Salida', 'Diff_salida_enellugar', 'Diff_z6_1',\n",
       "       'Diff_z6_2', 'Diff_z6_3'],\n",
       "      dtype='object')"
      ]
     },
     "execution_count": 30,
     "metadata": {},
     "output_type": "execute_result"
    }
   ],
   "source": [
    "BD.columns"
   ]
  },
  {
   "cell_type": "code",
   "execution_count": 36,
   "metadata": {},
   "outputs": [
    {
     "data": {
      "text/plain": [
       "count                  105517\n",
       "unique                  91842\n",
       "top       2018-11-23 14:30:10\n",
       "freq                      442\n",
       "first     2018-01-15 08:45:15\n",
       "last      2020-01-31 23:58:13\n",
       "Name: Fecha, dtype: object"
      ]
     },
     "execution_count": 36,
     "metadata": {},
     "output_type": "execute_result"
    },
    {
     "data": {
      "text/plain": [
       "4220.68"
      ]
     },
     "execution_count": 36,
     "metadata": {},
     "output_type": "execute_result"
    }
   ],
   "source": [
    "BD.Fecha.describe()\n",
    "BD.groupby(BD.Fecha.dt.to_period('M')).Id.count()\n"
   ]
  },
  {
   "cell_type": "code",
   "execution_count": 42,
   "metadata": {},
   "outputs": [
    {
     "data": {
      "text/html": [
       "<div>\n",
       "<style scoped>\n",
       "    .dataframe tbody tr th:only-of-type {\n",
       "        vertical-align: middle;\n",
       "    }\n",
       "\n",
       "    .dataframe tbody tr th {\n",
       "        vertical-align: top;\n",
       "    }\n",
       "\n",
       "    .dataframe thead th {\n",
       "        text-align: right;\n",
       "    }\n",
       "</style>\n",
       "<table border=\"1\" class=\"dataframe\">\n",
       "  <thead>\n",
       "    <tr style=\"text-align: right;\">\n",
       "      <th></th>\n",
       "      <th>n</th>\n",
       "      <th>%</th>\n",
       "    </tr>\n",
       "    <tr>\n",
       "      <th>Motivo del Llamado</th>\n",
       "      <th></th>\n",
       "      <th></th>\n",
       "    </tr>\n",
       "  </thead>\n",
       "  <tbody>\n",
       "    <tr>\n",
       "      <th>Accidentes y Traumas</th>\n",
       "      <td>24998</td>\n",
       "      <td>23.69</td>\n",
       "    </tr>\n",
       "    <tr>\n",
       "      <th>Dolor o Problema específico</th>\n",
       "      <td>24445</td>\n",
       "      <td>23.17</td>\n",
       "    </tr>\n",
       "    <tr>\n",
       "      <th>Traslados</th>\n",
       "      <td>18903</td>\n",
       "      <td>17.92</td>\n",
       "    </tr>\n",
       "    <tr>\n",
       "      <th>Consciencia</th>\n",
       "      <td>12343</td>\n",
       "      <td>11.70</td>\n",
       "    </tr>\n",
       "    <tr>\n",
       "      <th>Sin patología urgencia</th>\n",
       "      <td>9451</td>\n",
       "      <td>8.96</td>\n",
       "    </tr>\n",
       "    <tr>\n",
       "      <th>Otro</th>\n",
       "      <td>8069</td>\n",
       "      <td>7.65</td>\n",
       "    </tr>\n",
       "    <tr>\n",
       "      <th>Colapso</th>\n",
       "      <td>5112</td>\n",
       "      <td>4.85</td>\n",
       "    </tr>\n",
       "    <tr>\n",
       "      <th>Intoxicación</th>\n",
       "      <td>2189</td>\n",
       "      <td>2.07</td>\n",
       "    </tr>\n",
       "    <tr>\n",
       "      <th>Total</th>\n",
       "      <td>105510</td>\n",
       "      <td>100.01</td>\n",
       "    </tr>\n",
       "  </tbody>\n",
       "</table>\n",
       "</div>"
      ],
      "text/plain": [
       "                                  n       %\n",
       "Motivo del Llamado                         \n",
       "Accidentes y Traumas          24998   23.69\n",
       "Dolor o Problema específico   24445   23.17\n",
       "Traslados                     18903   17.92\n",
       "Consciencia                   12343   11.70\n",
       "Sin patología urgencia         9451    8.96\n",
       "Otro                           8069    7.65\n",
       "Colapso                        5112    4.85\n",
       "Intoxicación                   2189    2.07\n",
       "Total                        105510  100.01"
      ]
     },
     "execution_count": 42,
     "metadata": {},
     "output_type": "execute_result"
    },
    {
     "data": {
      "text/html": [
       "<div>\n",
       "<style scoped>\n",
       "    .dataframe tbody tr th:only-of-type {\n",
       "        vertical-align: middle;\n",
       "    }\n",
       "\n",
       "    .dataframe tbody tr th {\n",
       "        vertical-align: top;\n",
       "    }\n",
       "\n",
       "    .dataframe thead th {\n",
       "        text-align: right;\n",
       "    }\n",
       "</style>\n",
       "<table border=\"1\" class=\"dataframe\">\n",
       "  <thead>\n",
       "    <tr style=\"text-align: right;\">\n",
       "      <th></th>\n",
       "      <th>n</th>\n",
       "      <th>%</th>\n",
       "    </tr>\n",
       "    <tr>\n",
       "      <th>Tipo Despachado</th>\n",
       "      <th></th>\n",
       "      <th></th>\n",
       "    </tr>\n",
       "  </thead>\n",
       "  <tbody>\n",
       "    <tr>\n",
       "      <th>m1</th>\n",
       "      <td>38328</td>\n",
       "      <td>60.19</td>\n",
       "    </tr>\n",
       "    <tr>\n",
       "      <th>m2</th>\n",
       "      <td>23384</td>\n",
       "      <td>36.72</td>\n",
       "    </tr>\n",
       "    <tr>\n",
       "      <th>m3</th>\n",
       "      <td>1881</td>\n",
       "      <td>2.95</td>\n",
       "    </tr>\n",
       "    <tr>\n",
       "      <th>x5</th>\n",
       "      <td>84</td>\n",
       "      <td>0.13</td>\n",
       "    </tr>\n",
       "    <tr>\n",
       "      <th>Total</th>\n",
       "      <td>63677</td>\n",
       "      <td>99.99</td>\n",
       "    </tr>\n",
       "  </tbody>\n",
       "</table>\n",
       "</div>"
      ],
      "text/plain": [
       "                     n      %\n",
       "Tipo Despachado              \n",
       "m1               38328  60.19\n",
       "m2               23384  36.72\n",
       "m3                1881   2.95\n",
       "x5                  84   0.13\n",
       "Total            63677  99.99"
      ]
     },
     "execution_count": 42,
     "metadata": {},
     "output_type": "execute_result"
    },
    {
     "data": {
      "text/html": [
       "<div>\n",
       "<style scoped>\n",
       "    .dataframe tbody tr th:only-of-type {\n",
       "        vertical-align: middle;\n",
       "    }\n",
       "\n",
       "    .dataframe tbody tr th {\n",
       "        vertical-align: top;\n",
       "    }\n",
       "\n",
       "    .dataframe thead th {\n",
       "        text-align: right;\n",
       "    }\n",
       "</style>\n",
       "<table border=\"1\" class=\"dataframe\">\n",
       "  <thead>\n",
       "    <tr style=\"text-align: right;\">\n",
       "      <th></th>\n",
       "      <th>n</th>\n",
       "      <th>%</th>\n",
       "    </tr>\n",
       "    <tr>\n",
       "      <th>Prioridad</th>\n",
       "      <th></th>\n",
       "      <th></th>\n",
       "    </tr>\n",
       "  </thead>\n",
       "  <tbody>\n",
       "    <tr>\n",
       "      <th>S3</th>\n",
       "      <td>24075</td>\n",
       "      <td>30.98</td>\n",
       "    </tr>\n",
       "    <tr>\n",
       "      <th>S2</th>\n",
       "      <td>22548</td>\n",
       "      <td>29.02</td>\n",
       "    </tr>\n",
       "    <tr>\n",
       "      <th>S1</th>\n",
       "      <td>20238</td>\n",
       "      <td>26.04</td>\n",
       "    </tr>\n",
       "    <tr>\n",
       "      <th>S4</th>\n",
       "      <td>9624</td>\n",
       "      <td>12.39</td>\n",
       "    </tr>\n",
       "    <tr>\n",
       "      <th>S5</th>\n",
       "      <td>1221</td>\n",
       "      <td>1.57</td>\n",
       "    </tr>\n",
       "    <tr>\n",
       "      <th>Total</th>\n",
       "      <td>77706</td>\n",
       "      <td>100.00</td>\n",
       "    </tr>\n",
       "  </tbody>\n",
       "</table>\n",
       "</div>"
      ],
      "text/plain": [
       "               n       %\n",
       "Prioridad               \n",
       "S3         24075   30.98\n",
       "S2         22548   29.02\n",
       "S1         20238   26.04\n",
       "S4          9624   12.39\n",
       "S5          1221    1.57\n",
       "Total      77706  100.00"
      ]
     },
     "execution_count": 42,
     "metadata": {},
     "output_type": "execute_result"
    }
   ],
   "source": [
    "tab_frec(BD['Motivo del Llamado'])\n",
    "tab_frec(BD['Tipo Despachado'])\n",
    "tab_frec(BD['Prioridad'])\n"
   ]
  },
  {
   "cell_type": "code",
   "execution_count": 52,
   "metadata": {},
   "outputs": [
    {
     "data": {
      "text/plain": [
       "True     0.945459\n",
       "False    0.054541\n",
       "Name: Móvil Camilla Retenida, dtype: float64"
      ]
     },
     "execution_count": 52,
     "metadata": {},
     "output_type": "execute_result"
    }
   ],
   "source": [
    "BD['Móvil Camilla Retenida'].isna().value_counts(normalize=True)"
   ]
  },
  {
   "cell_type": "code",
   "execution_count": null,
   "metadata": {
    "collapsed": true
   },
   "outputs": [],
   "source": []
  },
  {
   "cell_type": "code",
   "execution_count": null,
   "metadata": {
    "collapsed": true
   },
   "outputs": [],
   "source": []
  },
  {
   "cell_type": "code",
   "execution_count": null,
   "metadata": {
    "collapsed": true
   },
   "outputs": [],
   "source": []
  },
  {
   "cell_type": "code",
   "execution_count": null,
   "metadata": {
    "collapsed": true
   },
   "outputs": [],
   "source": []
  },
  {
   "cell_type": "code",
   "execution_count": null,
   "metadata": {
    "collapsed": true
   },
   "outputs": [],
   "source": []
  },
  {
   "cell_type": "code",
   "execution_count": null,
   "metadata": {
    "collapsed": true
   },
   "outputs": [],
   "source": []
  }
 ],
 "metadata": {
  "kernelspec": {
   "display_name": "Python 3",
   "language": "python",
   "name": "python3"
  },
  "language_info": {
   "codemirror_mode": {
    "name": "ipython",
    "version": 3
   },
   "file_extension": ".py",
   "mimetype": "text/x-python",
   "name": "python",
   "nbconvert_exporter": "python",
   "pygments_lexer": "ipython3",
   "version": "3.6.3"
  }
 },
 "nbformat": 4,
 "nbformat_minor": 2
}
