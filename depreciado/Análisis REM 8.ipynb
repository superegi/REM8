{
 "cells": [
  {
   "cell_type": "markdown",
   "metadata": {},
   "source": [
    "Análisis REM8\n",
    " =========="
   ]
  },
  {
   "cell_type": "markdown",
   "metadata": {},
   "source": [
    "Comienzo cargando todos los paquetes necesarios"
   ]
  },
  {
   "cell_type": "code",
   "execution_count": 1,
   "metadata": {},
   "outputs": [],
   "source": [
    "import pandas as pd\n",
    "import numpy as np\n",
    "import matplotlib.pyplot as plt\n",
    "import scipy \n",
    "from scipy import stats\n",
    "import statsmodels.api as sm\n",
    "from statsmodels.formula.api import ols\n",
    "import datetime as dt\n",
    "import datetime\n",
    "from datetime import timedelta  \n",
    "import timeboard as tb # turnos \n",
    "\n",
    "# para tratar de poner espanol\n",
    "from datetime import date, datetime, time\n",
    "from babel.dates import format_date, format_datetime, format_time, format_timedelta, Locale\n",
    "import locale                                    # para tratar de poner espanol\n",
    "#locale = Locale('es', 'CL')\n",
    "#locale.setlocale(locale.LC_ALL,'es_ES.UTF-8')  \n",
    "\n",
    "import os\n",
    "import runpy\n",
    "from pyexcel_ods import get_data\n",
    "from matplotlib_venn import venn3\n",
    "from matplotlib_venn import venn2, venn2_circles\n",
    "import math\n",
    "\n",
    "from IPython.core.interactiveshell import InteractiveShell\n",
    "InteractiveShell.ast_node_interactivity = \"all\"\n",
    "%matplotlib inline\n",
    "\n",
    "\n",
    "#otro graficador\n",
    "import seaborn as sns\n",
    "\n",
    "#stats\n",
    "\n",
    "from sklearn.linear_model import LogisticRegression\n",
    "from sklearn import metrics\n",
    "from sklearn.model_selection import train_test_split\n",
    "from sklearn import model_selection\n",
    "from sklearn.model_selection import cross_val_score\n",
    "from sklearn.metrics import confusion_matrix\n",
    "from sklearn.metrics import classification_report"
   ]
  },
  {
   "cell_type": "code",
   "execution_count": 2,
   "metadata": {},
   "outputs": [],
   "source": [
    "# cargo algunos scripts que me suelen servir para análisis"
   ]
  },
  {
   "cell_type": "code",
   "execution_count": 3,
   "metadata": {
    "scrolled": true
   },
   "outputs": [
    {
     "data": {
      "text/plain": [
       "['/home/egidio/Dropbox/Compucosas/programas py/percentiles.py',\n",
       " '/home/egidio/Dropbox/Compucosas/programas py/características_operativas_de_test.py',\n",
       " '/home/egidio/Dropbox/Compucosas/programas py/lector_ODF.py',\n",
       " '/home/egidio/Dropbox/Compucosas/programas py/como importar',\n",
       " '/home/egidio/Dropbox/Compucosas/programas py/tabala_frecuencias.py',\n",
       " '/home/egidio/Dropbox/Compucosas/programas py/descripcion_univariada.py',\n",
       " '/home/egidio/Dropbox/Compucosas/programas py/__pycache__/características_operativas_de_test.cpython-36.pyc',\n",
       " '/home/egidio/Dropbox/Compucosas/programas py/__pycache__/tabala_frecuencias.cpython-36.pyc',\n",
       " '/home/egidio/Dropbox/Compucosas/programas py/__pycache__/lector_ODF.cpython-36.pyc',\n",
       " '/home/egidio/Dropbox/Compucosas/programas py/__pycache__/percentiles.cpython-36.pyc',\n",
       " '/home/egidio/Dropbox/Compucosas/programas py/__pycache__/funciones_locales.cpython-36.pyc',\n",
       " '/home/egidio/Dropbox/Compucosas/programas py/__pycache__/descripcion_univariada.cpython-36.pyc']"
      ]
     },
     "execution_count": 3,
     "metadata": {},
     "output_type": "execute_result"
    }
   ],
   "source": [
    "#listo los archivos\n",
    "scripts = []\n",
    "for dirname, dirnames, filenames in os.walk('/home/egidio/Dropbox/Compucosas/programas py'):\n",
    "    for filename in filenames:\n",
    "        scripts.append(os.path.join(dirname, filename))\n",
    "\n",
    "scripts\n",
    "\n",
    "# los cargo\n",
    "for script in scripts:\n",
    "    if script[-3:] == '.py':\n",
    "        exec(open(str(script)).read())\n"
   ]
  },
  {
   "cell_type": "markdown",
   "metadata": {},
   "source": [
    "# Cargo la BD"
   ]
  },
  {
   "cell_type": "code",
   "execution_count": 4,
   "metadata": {},
   "outputs": [],
   "source": [
    "BD = pd.read_pickle('./BD/eSAMU.pkl')"
   ]
  },
  {
   "cell_type": "code",
   "execution_count": 5,
   "metadata": {},
   "outputs": [
    {
     "data": {
      "text/plain": [
       "Index(['Id', 'Fecha', 'Motivo del Llamado', 'Submotivo del Llamado',\n",
       "       'Prioridad', 'Estado', 'Edad', 'Género', 'Dirección', 'Sector',\n",
       "       'Comuna', 'Región', 'Intervención', 'Tipo Traslado',\n",
       "       'Categoría Vehículo', 'Condición Traslado', 'En Regulación',\n",
       "       'En Despacho', 'En Curso', 'Atendida', 'Completado', 'Regulado',\n",
       "       'Usuario que Cierra', 'Móvil Agregado', 'Móvil Despachado',\n",
       "       'Móvil Salida', 'Móvil Llegada Lugar', 'Móvil en Traslado',\n",
       "       'Móvil Llegada a CA', 'Móvil Recepción Paciente',\n",
       "       'Móvil Camilla Retenida', 'Móvil Vuelta a Base', 'Móvil LLegada a Base',\n",
       "       'Móvil Finalizado', 'Nombre Vehículo', 'Tipo Requerido',\n",
       "       'Tipo Despachado', 'Km Recorrido', 'Chofer', 'Paramédico', 'Enfermero',\n",
       "       'Doctor', 'Longitud', 'Latitud', 'Diff_recep_Despachado',\n",
       "       'Diff_Despacho_Salida', 'Diff_salida_enellugar', 'Diff_z6_1',\n",
       "       'Diff_z6_2', 'Diff_z6_3'],\n",
       "      dtype='object')"
      ]
     },
     "execution_count": 5,
     "metadata": {},
     "output_type": "execute_result"
    },
    {
     "data": {
      "text/plain": [
       "count                  153884\n",
       "unique                 136387\n",
       "top       2018-11-23 14:30:10\n",
       "freq                      442\n",
       "first     2018-01-15 08:45:15\n",
       "last      2020-11-30 23:46:40\n",
       "Name: Fecha, dtype: object"
      ]
     },
     "execution_count": 5,
     "metadata": {},
     "output_type": "execute_result"
    },
    {
     "data": {
      "text/html": [
       "<div>\n",
       "<style scoped>\n",
       "    .dataframe tbody tr th:only-of-type {\n",
       "        vertical-align: middle;\n",
       "    }\n",
       "\n",
       "    .dataframe tbody tr th {\n",
       "        vertical-align: top;\n",
       "    }\n",
       "\n",
       "    .dataframe thead th {\n",
       "        text-align: right;\n",
       "    }\n",
       "</style>\n",
       "<table border=\"1\" class=\"dataframe\">\n",
       "  <thead>\n",
       "    <tr style=\"text-align: right;\">\n",
       "      <th></th>\n",
       "      <th>Id</th>\n",
       "      <th>Fecha</th>\n",
       "      <th>Motivo del Llamado</th>\n",
       "      <th>Submotivo del Llamado</th>\n",
       "      <th>Prioridad</th>\n",
       "      <th>Estado</th>\n",
       "      <th>Edad</th>\n",
       "      <th>Género</th>\n",
       "      <th>Dirección</th>\n",
       "      <th>Sector</th>\n",
       "      <th>...</th>\n",
       "      <th>Enfermero</th>\n",
       "      <th>Doctor</th>\n",
       "      <th>Longitud</th>\n",
       "      <th>Latitud</th>\n",
       "      <th>Diff_recep_Despachado</th>\n",
       "      <th>Diff_Despacho_Salida</th>\n",
       "      <th>Diff_salida_enellugar</th>\n",
       "      <th>Diff_z6_1</th>\n",
       "      <th>Diff_z6_2</th>\n",
       "      <th>Diff_z6_3</th>\n",
       "    </tr>\n",
       "  </thead>\n",
       "  <tbody>\n",
       "    <tr>\n",
       "      <th>0</th>\n",
       "      <td>173592</td>\n",
       "      <td>2020-07-31 23:55:20</td>\n",
       "      <td>Consciencia</td>\n",
       "      <td>Comportamientos extraños</td>\n",
       "      <td>S3</td>\n",
       "      <td>Completado</td>\n",
       "      <td>90.0</td>\n",
       "      <td>Masculino</td>\n",
       "      <td>calle caupolican 86, viña del mar</td>\n",
       "      <td>Achupallas</td>\n",
       "      <td>...</td>\n",
       "      <td>NaN</td>\n",
       "      <td>NaN</td>\n",
       "      <td>NaN</td>\n",
       "      <td>NaN</td>\n",
       "      <td>00:08:22</td>\n",
       "      <td>00:00:03</td>\n",
       "      <td>NaT</td>\n",
       "      <td>NaT</td>\n",
       "      <td>NaT</td>\n",
       "      <td>NaT</td>\n",
       "    </tr>\n",
       "    <tr>\n",
       "      <th>1</th>\n",
       "      <td>173591</td>\n",
       "      <td>2020-07-31 23:55:02</td>\n",
       "      <td>Traslados</td>\n",
       "      <td>Tr. Rescate</td>\n",
       "      <td>S3</td>\n",
       "      <td>Completado</td>\n",
       "      <td>65.0</td>\n",
       "      <td>Masculino</td>\n",
       "      <td>NaN</td>\n",
       "      <td>NaN</td>\n",
       "      <td>...</td>\n",
       "      <td>NaN</td>\n",
       "      <td>NaN</td>\n",
       "      <td>NaN</td>\n",
       "      <td>NaN</td>\n",
       "      <td>00:03:45</td>\n",
       "      <td>00:05:00</td>\n",
       "      <td>00:11:36</td>\n",
       "      <td>01:26:14</td>\n",
       "      <td>NaT</td>\n",
       "      <td>00:04:16</td>\n",
       "    </tr>\n",
       "  </tbody>\n",
       "</table>\n",
       "<p>2 rows × 50 columns</p>\n",
       "</div>"
      ],
      "text/plain": [
       "       Id               Fecha Motivo del Llamado     Submotivo del Llamado  \\\n",
       "0  173592 2020-07-31 23:55:20        Consciencia  Comportamientos extraños   \n",
       "1  173591 2020-07-31 23:55:02          Traslados               Tr. Rescate   \n",
       "\n",
       "  Prioridad      Estado  Edad     Género                          Dirección  \\\n",
       "0        S3  Completado  90.0  Masculino  calle caupolican 86, viña del mar   \n",
       "1        S3  Completado  65.0  Masculino                                NaN   \n",
       "\n",
       "       Sector  ... Enfermero Doctor Longitud Latitud Diff_recep_Despachado  \\\n",
       "0  Achupallas  ...       NaN    NaN      NaN     NaN              00:08:22   \n",
       "1         NaN  ...       NaN    NaN      NaN     NaN              00:03:45   \n",
       "\n",
       "  Diff_Despacho_Salida Diff_salida_enellugar Diff_z6_1 Diff_z6_2 Diff_z6_3  \n",
       "0             00:00:03                   NaT       NaT       NaT       NaT  \n",
       "1             00:05:00              00:11:36  01:26:14       NaT  00:04:16  \n",
       "\n",
       "[2 rows x 50 columns]"
      ]
     },
     "execution_count": 5,
     "metadata": {},
     "output_type": "execute_result"
    }
   ],
   "source": [
    "BD.columns\n",
    "BD.Fecha.describe()\n",
    "BD.head(2)\n"
   ]
  },
  {
   "cell_type": "markdown",
   "metadata": {},
   "source": [
    "para efectos de este análisis es importante dividir ambulancias según su complejidad"
   ]
  },
  {
   "cell_type": "code",
   "execution_count": 6,
   "metadata": {},
   "outputs": [],
   "source": [
    "BD['Bas_avan'] = BD['Tipo Despachado'] \n",
    "BD.loc[BD['Tipo Despachado'] == 'm1' , 'Bas_avan' ] = 'Básico'\n",
    "BD.loc[BD['Tipo Despachado'] == 'm2' , 'Bas_avan' ] = 'Avanzado'\n",
    "BD.loc[BD['Tipo Despachado'] == 'm3' , 'Bas_avan' ] = 'Avanzado'\n",
    "BD.loc[BD['Tipo Despachado'] == 'x5' , 'Bas_avan' ] = 'Avanzado'"
   ]
  },
  {
   "cell_type": "markdown",
   "metadata": {},
   "source": [
    "defino Bas_avan como categórico"
   ]
  },
  {
   "cell_type": "markdown",
   "metadata": {},
   "source": [
    "# defino la BD con la que trabajaré"
   ]
  },
  {
   "cell_type": "markdown",
   "metadata": {},
   "source": [
    "El informe a continuación es un análisis del:\n",
    "* fecha\n",
    "* sector"
   ]
  },
  {
   "cell_type": "markdown",
   "metadata": {},
   "source": [
    "## según fecha"
   ]
  },
  {
   "cell_type": "code",
   "execution_count": 7,
   "metadata": {},
   "outputs": [
    {
     "data": {
      "text/plain": [
       "array([Period('2020-11', 'M')], dtype=object)"
      ]
     },
     "execution_count": 7,
     "metadata": {},
     "output_type": "execute_result"
    }
   ],
   "source": [
    "rango = (                                            #mes Noviembre\n",
    "    (BD.Fecha > pd.to_datetime('2020-11-01')) &\n",
    "    (BD.Fecha < pd.to_datetime('2020-11-30'))\n",
    ")\n",
    "\n",
    "db1 = BD[rango].copy()\n",
    "np.sort(db1.Fecha.dt.to_period('M').unique())"
   ]
  },
  {
   "cell_type": "markdown",
   "metadata": {},
   "source": [
    "## segun ambulancias"
   ]
  },
  {
   "cell_type": "code",
   "execution_count": 8,
   "metadata": {},
   "outputs": [
    {
     "data": {
      "text/plain": [
       "array(['R32', 'R13', nan, 'R64', 'R71', 'AP15', 'R33', 'R26', 'R21',\n",
       "       'R42', 'R22', 'AP51', 'R24', 'R80', 'R57', 'R31', 'AP28', 'R52',\n",
       "       'R100', 'R12', 'R11', 'R62', 'AP1', 'Móvil Artificio', 'R91',\n",
       "       'VIR SAMU SSVQ', 'AP11', 'R92', 'R43', 'Móvil Hijuelas', 'R82',\n",
       "       'MOVIL PAPUDO', 'R50', 'AP18', 'R72', 'R23', 'R73',\n",
       "       'Corona-movil olmue', 'W56', 'R101', 'R10', 'R44', 'sapu zapallar',\n",
       "       'movil rema', 'R53', 'R51', 'MOVIL LONCURA', 'AP-17 Loncura',\n",
       "       'Móvil Las Parcelas', 'R41', 'REMA  Poli Naval Villa Alemana',\n",
       "       'Móvil Nogales', 'R84', 'R102', 'AP27', 'R61',\n",
       "       'Corona-movil puchuncavi', 'R20', 'AT90', 'MOVIL SAPU VENTANA',\n",
       "       'R83', 'Móvil Ventana', 'AT51', 'REMA Hospital Naval', 'AP26',\n",
       "       'AP16', 'AP41', 'R35'], dtype=object)"
      ]
     },
     "execution_count": 8,
     "metadata": {},
     "output_type": "execute_result"
    }
   ],
   "source": [
    "db1['Nombre Vehículo'].unique()"
   ]
  },
  {
   "cell_type": "markdown",
   "metadata": {},
   "source": [
    "elegir uno"
   ]
  },
  {
   "cell_type": "code",
   "execution_count": 9,
   "metadata": {},
   "outputs": [],
   "source": [
    "# Comentar todo o no\n",
    "\n",
    "sector = db1['Nombre Vehículo'].str.contains('R3') == True\n",
    "db1 = db1[sector]"
   ]
  },
  {
   "cell_type": "code",
   "execution_count": 10,
   "metadata": {},
   "outputs": [
    {
     "data": {
      "text/plain": [
       "'Este es un inforque que considera el mes de November. En el territorio de Quilpué.\\n'"
      ]
     },
     "execution_count": 10,
     "metadata": {},
     "output_type": "execute_result"
    }
   ],
   "source": [
    "texto1 = 'Este es un inforque que considera el mes de '\n",
    "texto2 = 'En el territorio de '\n",
    "\n",
    "# sector = 'SSVQ'\n",
    "sector = db1.Comuna.value_counts().index[0]\n",
    "\n",
    "mes= db1.Fecha.describe()[4].strftime('%B')\n",
    "\n",
    "result = texto1 + mes + '. ' + texto2 + sector + '.' + '\\n'\n",
    "result\n",
    "print(result, file=open('Informe.txt','a'))"
   ]
  },
  {
   "cell_type": "code",
   "execution_count": 11,
   "metadata": {},
   "outputs": [
    {
     "data": {
      "text/plain": [
       "Quilpué          269\n",
       "Villa Alemana     16\n",
       "Limache            2\n",
       "Viña del Mar       1\n",
       "Name: Comuna, dtype: int64"
      ]
     },
     "execution_count": 11,
     "metadata": {},
     "output_type": "execute_result"
    }
   ],
   "source": [
    "db1.Comuna.value_counts()"
   ]
  },
  {
   "cell_type": "markdown",
   "metadata": {},
   "source": [
    "# defino el archivo donde guardaré la info"
   ]
  },
  {
   "cell_type": "markdown",
   "metadata": {},
   "source": [
    "Será un archivo"
   ]
  },
  {
   "cell_type": "markdown",
   "metadata": {},
   "source": [
    "como dividir por fecha"
   ]
  },
  {
   "cell_type": "code",
   "execution_count": 12,
   "metadata": {},
   "outputs": [
    {
     "data": {
      "text/plain": [
       "array([Period('2020-11', 'M')], dtype=object)"
      ]
     },
     "execution_count": 12,
     "metadata": {},
     "output_type": "execute_result"
    }
   ],
   "source": [
    "np.sort(db1.Fecha.dt.to_period('M').unique())"
   ]
  },
  {
   "cell_type": "markdown",
   "metadata": {},
   "source": [
    "## Sección K: INTERVENCIONES PRE HOSPITALARIAS (SAMU)"
   ]
  },
  {
   "cell_type": "markdown",
   "metadata": {},
   "source": [
    "prestaciones según recurso"
   ]
  },
  {
   "cell_type": "code",
   "execution_count": 13,
   "metadata": {
    "scrolled": true
   },
   "outputs": [
    {
     "name": "stdout",
     "output_type": "stream",
     "text": [
      "Por Mes\n"
     ]
    },
    {
     "data": {
      "text/plain": [
       "Period('2020-11', 'M')"
      ]
     },
     "execution_count": 13,
     "metadata": {},
     "output_type": "execute_result"
    },
    {
     "data": {
      "text/html": [
       "<div>\n",
       "<style scoped>\n",
       "    .dataframe tbody tr th:only-of-type {\n",
       "        vertical-align: middle;\n",
       "    }\n",
       "\n",
       "    .dataframe tbody tr th {\n",
       "        vertical-align: top;\n",
       "    }\n",
       "\n",
       "    .dataframe thead th {\n",
       "        text-align: right;\n",
       "    }\n",
       "</style>\n",
       "<table border=\"1\" class=\"dataframe\">\n",
       "  <thead>\n",
       "    <tr style=\"text-align: right;\">\n",
       "      <th>Tiempo llegada al lugar</th>\n",
       "      <th>Menos 20 min</th>\n",
       "      <th>20 a 40 min</th>\n",
       "      <th>Más 40 min</th>\n",
       "      <th>Total</th>\n",
       "    </tr>\n",
       "    <tr>\n",
       "      <th>Tipo Móvil</th>\n",
       "      <th></th>\n",
       "      <th></th>\n",
       "      <th></th>\n",
       "      <th></th>\n",
       "    </tr>\n",
       "  </thead>\n",
       "  <tbody>\n",
       "    <tr>\n",
       "      <th>Avanzado</th>\n",
       "      <td>2</td>\n",
       "      <td>1</td>\n",
       "      <td>86</td>\n",
       "      <td>137</td>\n",
       "    </tr>\n",
       "    <tr>\n",
       "      <th>Básico</th>\n",
       "      <td>6</td>\n",
       "      <td>2</td>\n",
       "      <td>104</td>\n",
       "      <td>157</td>\n",
       "    </tr>\n",
       "    <tr>\n",
       "      <th>Total</th>\n",
       "      <td>8</td>\n",
       "      <td>3</td>\n",
       "      <td>255</td>\n",
       "      <td>382</td>\n",
       "    </tr>\n",
       "  </tbody>\n",
       "</table>\n",
       "</div>"
      ],
      "text/plain": [
       "Tiempo llegada al lugar  Menos 20 min  20 a 40 min  Más 40 min  Total\n",
       "Tipo Móvil                                                           \n",
       "Avanzado                            2            1          86    137\n",
       "Básico                              6            2         104    157\n",
       "Total                               8            3         255    382"
      ]
     },
     "execution_count": 13,
     "metadata": {},
     "output_type": "execute_result"
    }
   ],
   "source": [
    "# los tiempos de z17 al z8 los divido según requisito planilla\n",
    "cortado = pd.cut(\n",
    "    db1.Diff_salida_enellugar.dt.seconds,\n",
    "    [0, 20, 40, 1000000],\n",
    "    labels = ['Menos 20 min',  '20 a 40 min',  'Más 40 min'])\n",
    "\n",
    "# tabulo\n",
    "#pd.crosstab(db1.Bas_avan, cortado, margins=True, margins_name= 'Total')\n",
    "\n",
    "# tabulo por mes\n",
    "print('Por Mes')\n",
    "dum1 = cortado\n",
    "for fecha in np.sort(db1.Fecha.dt.to_period('M').unique()):\n",
    "    fecha\n",
    "    test = db1.loc[db1.Fecha.dt.to_period('M') == fecha]\n",
    "    result = pd.crosstab(\n",
    "        test['Bas_avan'],\n",
    "        dum1,\n",
    "        margins=True, margins_name= 'Total', dropna=False)\n",
    "    result.columns.name = 'Tiempo llegada al lugar'\n",
    "    result.index.name = 'Tipo Móvil'\n",
    "    result"
   ]
  },
  {
   "cell_type": "markdown",
   "metadata": {},
   "source": [
    "escribo en el archivo"
   ]
  },
  {
   "cell_type": "code",
   "execution_count": 14,
   "metadata": {},
   "outputs": [
    {
     "data": {
      "text/plain": [
       "'Sección K: INTERVENCIONES PRE HOSPITALARIAS (SAMU)'"
      ]
     },
     "execution_count": 14,
     "metadata": {},
     "output_type": "execute_result"
    },
    {
     "data": {
      "text/plain": [
       "'Se asume que todas las intervenciones críticas son realizadas por móviles avanzados y que las no-críticas por móviles básicos. Esto determina que las casillas de las prestaciones críticas tengan valores de cero para móviles básicos y las prestaciones no-críticas tengan valores cero para móviles avanzados. \\n \\n'"
      ]
     },
     "execution_count": 14,
     "metadata": {},
     "output_type": "execute_result"
    },
    {
     "data": {
      "text/html": [
       "<div>\n",
       "<style scoped>\n",
       "    .dataframe tbody tr th:only-of-type {\n",
       "        vertical-align: middle;\n",
       "    }\n",
       "\n",
       "    .dataframe tbody tr th {\n",
       "        vertical-align: top;\n",
       "    }\n",
       "\n",
       "    .dataframe thead th {\n",
       "        text-align: right;\n",
       "    }\n",
       "</style>\n",
       "<table border=\"1\" class=\"dataframe\">\n",
       "  <thead>\n",
       "    <tr style=\"text-align: right;\">\n",
       "      <th>Tiempo llegada al lugar</th>\n",
       "      <th>Menos 20 min</th>\n",
       "      <th>20 a 40 min</th>\n",
       "      <th>Más 40 min</th>\n",
       "      <th>Total</th>\n",
       "    </tr>\n",
       "    <tr>\n",
       "      <th>Tipo Móvil</th>\n",
       "      <th></th>\n",
       "      <th></th>\n",
       "      <th></th>\n",
       "      <th></th>\n",
       "    </tr>\n",
       "  </thead>\n",
       "  <tbody>\n",
       "    <tr>\n",
       "      <th>Avanzado</th>\n",
       "      <td>2</td>\n",
       "      <td>1</td>\n",
       "      <td>86</td>\n",
       "      <td>137</td>\n",
       "    </tr>\n",
       "    <tr>\n",
       "      <th>Básico</th>\n",
       "      <td>6</td>\n",
       "      <td>2</td>\n",
       "      <td>104</td>\n",
       "      <td>157</td>\n",
       "    </tr>\n",
       "    <tr>\n",
       "      <th>Total</th>\n",
       "      <td>8</td>\n",
       "      <td>3</td>\n",
       "      <td>255</td>\n",
       "      <td>382</td>\n",
       "    </tr>\n",
       "  </tbody>\n",
       "</table>\n",
       "</div>"
      ],
      "text/plain": [
       "Tiempo llegada al lugar  Menos 20 min  20 a 40 min  Más 40 min  Total\n",
       "Tipo Móvil                                                           \n",
       "Avanzado                            2            1          86    137\n",
       "Básico                              6            2         104    157\n",
       "Total                               8            3         255    382"
      ]
     },
     "execution_count": 14,
     "metadata": {},
     "output_type": "execute_result"
    }
   ],
   "source": [
    "titulo = 'Sección K: INTERVENCIONES PRE HOSPITALARIAS (SAMU)'\n",
    "texto = 'Se asume que todas las intervenciones críticas son realizadas \\\n",
    "por móviles avanzados y que las no-críticas por móviles básicos. Esto \\\n",
    "determina que las casillas de las prestaciones críticas tengan valores \\\n",
    "de cero para móviles básicos y las prestaciones no-críticas tengan \\\n",
    "valores cero para móviles avanzados. \\n \\n'\n",
    "espacios = '\\n \\n'\n",
    "\n",
    "titulo\n",
    "texto\n",
    "result\n",
    "\n",
    "print(titulo, file=open('Informe.txt','a'))\n",
    "print(texto, file=open('Informe.txt','a'))\n",
    "print(result, file=open('Informe.txt','a'))\n",
    "print(espacios, file=open('Informe.txt','a'))"
   ]
  },
  {
   "cell_type": "markdown",
   "metadata": {},
   "source": [
    "## Sección L:  TRASLADOS PRIMARIOS A UNIDADES DE URGENCIA (Desde el lugar del evento a unidad de Emergencia)"
   ]
  },
  {
   "cell_type": "code",
   "execution_count": 15,
   "metadata": {},
   "outputs": [
    {
     "data": {
      "text/plain": [
       "enrutado    178\n",
       "Name: Categoría Vehículo, dtype: int64"
      ]
     },
     "execution_count": 15,
     "metadata": {},
     "output_type": "execute_result"
    }
   ],
   "source": [
    "db1['Categoría Vehículo'].value_counts()\n",
    "#pd.crosstab(db1['Categoría Vehículo'], test['Bas_avan'])\n",
    "\n",
    "db1['Categoría Vehículo'] = pd.Categorical(db1['Categoría Vehículo'],\n",
    "                                           categories=['samu', 'enrutado', 'nosamu'])"
   ]
  },
  {
   "cell_type": "code",
   "execution_count": 16,
   "metadata": {},
   "outputs": [
    {
     "data": {
      "text/plain": [
       "Period('2020-11', 'M')"
      ]
     },
     "execution_count": 16,
     "metadata": {},
     "output_type": "execute_result"
    },
    {
     "data": {
      "text/plain": [
       "Categoría Vehículo  Tipo móvil\n",
       "samu                Avanzado       0\n",
       "                    Básico         0\n",
       "enrutado            Avanzado      29\n",
       "                    Básico        58\n",
       "nosamu              Avanzado       0\n",
       "                    Básico         0\n",
       "Name: Id, dtype: int64"
      ]
     },
     "execution_count": 16,
     "metadata": {},
     "output_type": "execute_result"
    }
   ],
   "source": [
    "for fecha in np.sort(db1.Fecha.dt.to_period('M').unique()):\n",
    "    fecha\n",
    "    test = db1.loc[db1.Fecha.dt.to_period('M') == fecha]\n",
    "    test = test.loc[test['Motivo del Llamado'] != 'Traslados']\n",
    "    result = test.groupby(['Categoría Vehículo', 'Bas_avan' ])['Id'].count()\n",
    "    result.index.names = ['Categoría Vehículo', 'Tipo móvil']\n",
    "    result"
   ]
  },
  {
   "cell_type": "markdown",
   "metadata": {},
   "source": [
    "escribo en el archivo"
   ]
  },
  {
   "cell_type": "code",
   "execution_count": 17,
   "metadata": {},
   "outputs": [
    {
     "data": {
      "text/plain": [
       "' Sección L:  TRASLADOS PRIMARIOS A UNIDADES DE URGENCIA'"
      ]
     },
     "execution_count": 17,
     "metadata": {},
     "output_type": "execute_result"
    },
    {
     "data": {
      "text/plain": [
       "' '"
      ]
     },
     "execution_count": 17,
     "metadata": {},
     "output_type": "execute_result"
    },
    {
     "data": {
      "text/plain": [
       "Categoría Vehículo  Tipo móvil\n",
       "samu                Avanzado       0\n",
       "                    Básico         0\n",
       "enrutado            Avanzado      29\n",
       "                    Básico        58\n",
       "nosamu              Avanzado       0\n",
       "                    Básico         0\n",
       "Name: Id, dtype: int64"
      ]
     },
     "execution_count": 17,
     "metadata": {},
     "output_type": "execute_result"
    }
   ],
   "source": [
    "titulo = ' Sección L:  TRASLADOS PRIMARIOS A UNIDADES DE URGENCIA'\n",
    "texto = ' '\n",
    "\n",
    "titulo\n",
    "texto\n",
    "result\n",
    "\n",
    "print(titulo, file=open('Informe.txt','a'))\n",
    "print(texto, file=open('Informe.txt','a'))\n",
    "print(result, file=open('Informe.txt','a'))\n",
    "print(espacios, file=open('Informe.txt','a'))"
   ]
  },
  {
   "cell_type": "markdown",
   "metadata": {},
   "source": [
    "## Sección M: TRASLADO SECUNDARIO (Desde un Establecimiento a Otro)"
   ]
  },
  {
   "cell_type": "code",
   "execution_count": 18,
   "metadata": {},
   "outputs": [
    {
     "data": {
      "text/plain": [
       "Period('2020-11', 'M')"
      ]
     },
     "execution_count": 18,
     "metadata": {},
     "output_type": "execute_result"
    },
    {
     "data": {
      "text/plain": [
       "Categoría Vehículo  Tipo móvil\n",
       "samu                Avanzado       0\n",
       "                    Básico         0\n",
       "enrutado            Avanzado      30\n",
       "                    Básico        12\n",
       "nosamu              Avanzado       0\n",
       "                    Básico         0\n",
       "Name: Id, dtype: int64"
      ]
     },
     "execution_count": 18,
     "metadata": {},
     "output_type": "execute_result"
    }
   ],
   "source": [
    "for fecha in np.sort(db1.Fecha.dt.to_period('M').unique()):\n",
    "    fecha\n",
    "    test = db1.loc[db1.Fecha.dt.to_period('M') == fecha]\n",
    "    test = test.loc[test['Motivo del Llamado'] == 'Traslados']\n",
    "    result = test.groupby(['Categoría Vehículo', 'Bas_avan' ])['Id'].count()\n",
    "    result.index.names = ['Categoría Vehículo', 'Tipo móvil']\n",
    "    result"
   ]
  },
  {
   "cell_type": "code",
   "execution_count": 19,
   "metadata": {},
   "outputs": [
    {
     "data": {
      "text/plain": [
       "' Sección M: TRASLADO SECUNDARIO (Desde un Establecimiento a Otro)'"
      ]
     },
     "execution_count": 19,
     "metadata": {},
     "output_type": "execute_result"
    },
    {
     "data": {
      "text/plain": [
       "' '"
      ]
     },
     "execution_count": 19,
     "metadata": {},
     "output_type": "execute_result"
    },
    {
     "data": {
      "text/plain": [
       "Categoría Vehículo  Tipo móvil\n",
       "samu                Avanzado       0\n",
       "                    Básico         0\n",
       "enrutado            Avanzado      30\n",
       "                    Básico        12\n",
       "nosamu              Avanzado       0\n",
       "                    Básico         0\n",
       "Name: Id, dtype: int64"
      ]
     },
     "execution_count": 19,
     "metadata": {},
     "output_type": "execute_result"
    }
   ],
   "source": [
    "titulo = ' Sección M: TRASLADO SECUNDARIO (Desde un Establecimiento a Otro)'\n",
    "texto = ' '\n",
    "\n",
    "titulo\n",
    "texto\n",
    "result\n",
    "\n",
    "print(titulo, file=open('Informe.txt','a'))\n",
    "print(texto, file=open('Informe.txt','a'))\n",
    "print(result, file=open('Informe.txt','a'))\n",
    "print(espacios, file=open('Informe.txt','a'))"
   ]
  },
  {
   "cell_type": "markdown",
   "metadata": {},
   "source": [
    "# Sección N: CLASIFICACION DE LAS INTERVENCIONES POR GRANDES GRUPOS DE DIAGNOSTICOS (SAMU)"
   ]
  },
  {
   "cell_type": "code",
   "execution_count": 20,
   "metadata": {},
   "outputs": [],
   "source": [
    "db1['Patol'] = np.nan\n",
    "db1.loc[db1['Submotivo del Llamado'] == 'Accidente vehicular o transporte. Atropellos',\n",
    "        'Patol'] = 'PoliTMT'\n",
    "db1.loc[db1['Submotivo del Llamado'] == 'Accidente múltiples víctimas (cualquier razón)',\n",
    "        'Patol'] = 'PoliTMT'\n",
    "db1.loc[db1['Submotivo del Llamado'] == 'Caídas graves',\n",
    "        'Patol'] = 'PoliTMT'\n",
    "\n",
    "db1.loc[db1['Submotivo del Llamado'] == 'Colapso respiratorio o circulatorio. PCR. Asfixia',\n",
    "        'Patol'] = 'PCR'\n",
    "\n",
    "db1.loc[db1['Submotivo del Llamado'] == 'Dolor de pecho',\n",
    "        'Patol'] = 'SCA'\n",
    "\n",
    "db1.loc[db1['Patol'].isnull(),\n",
    "        'Patol'] = 'Otros'\n",
    "\n",
    "db1['Patol'] = pd.Categorical(\n",
    "    db1['Patol'],\n",
    "    categories=['PCR', 'PoliTMT', 'SCA', 'Otros'],\n",
    "    ordered = True\n",
    ")"
   ]
  },
  {
   "cell_type": "code",
   "execution_count": 21,
   "metadata": {},
   "outputs": [],
   "source": [
    "db1.loc[db1['Género'] == 'Femenino', 'Género'] = 'Fem'\n",
    "db1.loc[db1['Género'] == 'Masculino', 'Género'] = 'Mas'\n",
    "\n",
    "db1['Género'] = pd.Categorical(db1['Género'], categories=['Mas', 'Fem'], ordered=True)"
   ]
  },
  {
   "cell_type": "code",
   "execution_count": 22,
   "metadata": {
    "scrolled": true
   },
   "outputs": [
    {
     "data": {
      "text/plain": [
       "Period('2020-11', 'M')"
      ]
     },
     "execution_count": 22,
     "metadata": {},
     "output_type": "execute_result"
    },
    {
     "data": {
      "text/plain": [
       "SCA          8\n",
       "PCR          4\n",
       "PoliTMT     41\n",
       "Otros      329\n",
       "Name: Patol, dtype: int64"
      ]
     },
     "execution_count": 22,
     "metadata": {},
     "output_type": "execute_result"
    },
    {
     "data": {
      "text/html": [
       "<div>\n",
       "<style scoped>\n",
       "    .dataframe tbody tr th:only-of-type {\n",
       "        vertical-align: middle;\n",
       "    }\n",
       "\n",
       "    .dataframe tbody tr th {\n",
       "        vertical-align: top;\n",
       "    }\n",
       "\n",
       "    .dataframe thead th {\n",
       "        text-align: right;\n",
       "    }\n",
       "</style>\n",
       "<table border=\"1\" class=\"dataframe\">\n",
       "  <thead>\n",
       "    <tr style=\"text-align: right;\">\n",
       "      <th>Género</th>\n",
       "      <th>Masc</th>\n",
       "      <th>Feme</th>\n",
       "    </tr>\n",
       "    <tr>\n",
       "      <th>Patol</th>\n",
       "      <th></th>\n",
       "      <th></th>\n",
       "    </tr>\n",
       "  </thead>\n",
       "  <tbody>\n",
       "    <tr>\n",
       "      <th>SCA</th>\n",
       "      <td>5</td>\n",
       "      <td>2</td>\n",
       "    </tr>\n",
       "    <tr>\n",
       "      <th>PCR</th>\n",
       "      <td>4</td>\n",
       "      <td>0</td>\n",
       "    </tr>\n",
       "    <tr>\n",
       "      <th>PoliTMT</th>\n",
       "      <td>17</td>\n",
       "      <td>21</td>\n",
       "    </tr>\n",
       "    <tr>\n",
       "      <th>Otros</th>\n",
       "      <td>158</td>\n",
       "      <td>167</td>\n",
       "    </tr>\n",
       "  </tbody>\n",
       "</table>\n",
       "</div>"
      ],
      "text/plain": [
       "Género   Masc  Feme\n",
       "Patol              \n",
       "SCA         5     2\n",
       "PCR         4     0\n",
       "PoliTMT    17    21\n",
       "Otros     158   167"
      ]
     },
     "execution_count": 22,
     "metadata": {},
     "output_type": "execute_result"
    },
    {
     "data": {
      "text/html": [
       "<div>\n",
       "<style scoped>\n",
       "    .dataframe tbody tr th:only-of-type {\n",
       "        vertical-align: middle;\n",
       "    }\n",
       "\n",
       "    .dataframe tbody tr th {\n",
       "        vertical-align: top;\n",
       "    }\n",
       "\n",
       "    .dataframe thead tr th {\n",
       "        text-align: left;\n",
       "    }\n",
       "\n",
       "    .dataframe thead tr:last-of-type th {\n",
       "        text-align: right;\n",
       "    }\n",
       "</style>\n",
       "<table border=\"1\" class=\"dataframe\">\n",
       "  <thead>\n",
       "    <tr>\n",
       "      <th>Edad</th>\n",
       "      <th colspan=\"2\" halign=\"left\">[0, 5)</th>\n",
       "      <th colspan=\"2\" halign=\"left\">[5, 10)</th>\n",
       "      <th colspan=\"2\" halign=\"left\">[10, 15)</th>\n",
       "      <th colspan=\"2\" halign=\"left\">[15, 20)</th>\n",
       "    </tr>\n",
       "    <tr>\n",
       "      <th>Género</th>\n",
       "      <th>Masc</th>\n",
       "      <th>Feme</th>\n",
       "      <th>Masc</th>\n",
       "      <th>Feme</th>\n",
       "      <th>Masc</th>\n",
       "      <th>Feme</th>\n",
       "      <th>Masc</th>\n",
       "      <th>Feme</th>\n",
       "    </tr>\n",
       "    <tr>\n",
       "      <th>Patol</th>\n",
       "      <th></th>\n",
       "      <th></th>\n",
       "      <th></th>\n",
       "      <th></th>\n",
       "      <th></th>\n",
       "      <th></th>\n",
       "      <th></th>\n",
       "      <th></th>\n",
       "    </tr>\n",
       "  </thead>\n",
       "  <tbody>\n",
       "    <tr>\n",
       "      <th>SCA</th>\n",
       "      <td>0</td>\n",
       "      <td>0</td>\n",
       "      <td>0</td>\n",
       "      <td>0</td>\n",
       "      <td>0</td>\n",
       "      <td>0</td>\n",
       "      <td>0</td>\n",
       "      <td>0</td>\n",
       "    </tr>\n",
       "    <tr>\n",
       "      <th>PCR</th>\n",
       "      <td>0</td>\n",
       "      <td>0</td>\n",
       "      <td>0</td>\n",
       "      <td>0</td>\n",
       "      <td>0</td>\n",
       "      <td>0</td>\n",
       "      <td>0</td>\n",
       "      <td>0</td>\n",
       "    </tr>\n",
       "    <tr>\n",
       "      <th>PoliTMT</th>\n",
       "      <td>0</td>\n",
       "      <td>2</td>\n",
       "      <td>0</td>\n",
       "      <td>1</td>\n",
       "      <td>0</td>\n",
       "      <td>1</td>\n",
       "      <td>2</td>\n",
       "      <td>0</td>\n",
       "    </tr>\n",
       "    <tr>\n",
       "      <th>Otros</th>\n",
       "      <td>1</td>\n",
       "      <td>0</td>\n",
       "      <td>1</td>\n",
       "      <td>2</td>\n",
       "      <td>4</td>\n",
       "      <td>1</td>\n",
       "      <td>2</td>\n",
       "      <td>4</td>\n",
       "    </tr>\n",
       "  </tbody>\n",
       "</table>\n",
       "</div>"
      ],
      "text/plain": [
       "Edad    [0, 5)      [5, 10)      [10, 15)      [15, 20)     \n",
       "Género    Masc Feme    Masc Feme     Masc Feme     Masc Feme\n",
       "Patol                                                       \n",
       "SCA          0    0       0    0        0    0        0    0\n",
       "PCR          0    0       0    0        0    0        0    0\n",
       "PoliTMT      0    2       0    1        0    1        2    0\n",
       "Otros        1    0       1    2        4    1        2    4"
      ]
     },
     "execution_count": 22,
     "metadata": {},
     "output_type": "execute_result"
    },
    {
     "data": {
      "text/html": [
       "<div>\n",
       "<style scoped>\n",
       "    .dataframe tbody tr th:only-of-type {\n",
       "        vertical-align: middle;\n",
       "    }\n",
       "\n",
       "    .dataframe tbody tr th {\n",
       "        vertical-align: top;\n",
       "    }\n",
       "\n",
       "    .dataframe thead tr th {\n",
       "        text-align: left;\n",
       "    }\n",
       "\n",
       "    .dataframe thead tr:last-of-type th {\n",
       "        text-align: right;\n",
       "    }\n",
       "</style>\n",
       "<table border=\"1\" class=\"dataframe\">\n",
       "  <thead>\n",
       "    <tr>\n",
       "      <th>Edad</th>\n",
       "      <th colspan=\"2\" halign=\"left\">[20, 25)</th>\n",
       "      <th colspan=\"2\" halign=\"left\">[25, 30)</th>\n",
       "      <th colspan=\"2\" halign=\"left\">[30, 35)</th>\n",
       "      <th colspan=\"2\" halign=\"left\">[35, 40)</th>\n",
       "    </tr>\n",
       "    <tr>\n",
       "      <th>Género</th>\n",
       "      <th>Masc</th>\n",
       "      <th>Feme</th>\n",
       "      <th>Masc</th>\n",
       "      <th>Feme</th>\n",
       "      <th>Masc</th>\n",
       "      <th>Feme</th>\n",
       "      <th>Masc</th>\n",
       "      <th>Feme</th>\n",
       "    </tr>\n",
       "    <tr>\n",
       "      <th>Patol</th>\n",
       "      <th></th>\n",
       "      <th></th>\n",
       "      <th></th>\n",
       "      <th></th>\n",
       "      <th></th>\n",
       "      <th></th>\n",
       "      <th></th>\n",
       "      <th></th>\n",
       "    </tr>\n",
       "  </thead>\n",
       "  <tbody>\n",
       "    <tr>\n",
       "      <th>SCA</th>\n",
       "      <td>0</td>\n",
       "      <td>0</td>\n",
       "      <td>0</td>\n",
       "      <td>0</td>\n",
       "      <td>0</td>\n",
       "      <td>0</td>\n",
       "      <td>1</td>\n",
       "      <td>0</td>\n",
       "    </tr>\n",
       "    <tr>\n",
       "      <th>PCR</th>\n",
       "      <td>0</td>\n",
       "      <td>0</td>\n",
       "      <td>0</td>\n",
       "      <td>0</td>\n",
       "      <td>1</td>\n",
       "      <td>0</td>\n",
       "      <td>0</td>\n",
       "      <td>0</td>\n",
       "    </tr>\n",
       "    <tr>\n",
       "      <th>PoliTMT</th>\n",
       "      <td>2</td>\n",
       "      <td>2</td>\n",
       "      <td>2</td>\n",
       "      <td>2</td>\n",
       "      <td>1</td>\n",
       "      <td>1</td>\n",
       "      <td>1</td>\n",
       "      <td>3</td>\n",
       "    </tr>\n",
       "    <tr>\n",
       "      <th>Otros</th>\n",
       "      <td>3</td>\n",
       "      <td>6</td>\n",
       "      <td>0</td>\n",
       "      <td>4</td>\n",
       "      <td>6</td>\n",
       "      <td>6</td>\n",
       "      <td>2</td>\n",
       "      <td>4</td>\n",
       "    </tr>\n",
       "  </tbody>\n",
       "</table>\n",
       "</div>"
      ],
      "text/plain": [
       "Edad    [20, 25)      [25, 30)      [30, 35)      [35, 40)     \n",
       "Género      Masc Feme     Masc Feme     Masc Feme     Masc Feme\n",
       "Patol                                                          \n",
       "SCA            0    0        0    0        0    0        1    0\n",
       "PCR            0    0        0    0        1    0        0    0\n",
       "PoliTMT        2    2        2    2        1    1        1    3\n",
       "Otros          3    6        0    4        6    6        2    4"
      ]
     },
     "execution_count": 22,
     "metadata": {},
     "output_type": "execute_result"
    },
    {
     "data": {
      "text/html": [
       "<div>\n",
       "<style scoped>\n",
       "    .dataframe tbody tr th:only-of-type {\n",
       "        vertical-align: middle;\n",
       "    }\n",
       "\n",
       "    .dataframe tbody tr th {\n",
       "        vertical-align: top;\n",
       "    }\n",
       "\n",
       "    .dataframe thead tr th {\n",
       "        text-align: left;\n",
       "    }\n",
       "\n",
       "    .dataframe thead tr:last-of-type th {\n",
       "        text-align: right;\n",
       "    }\n",
       "</style>\n",
       "<table border=\"1\" class=\"dataframe\">\n",
       "  <thead>\n",
       "    <tr>\n",
       "      <th>Edad</th>\n",
       "      <th colspan=\"2\" halign=\"left\">[40, 45)</th>\n",
       "      <th colspan=\"2\" halign=\"left\">[45, 50)</th>\n",
       "      <th colspan=\"2\" halign=\"left\">[50, 55)</th>\n",
       "      <th colspan=\"2\" halign=\"left\">[55, 60)</th>\n",
       "    </tr>\n",
       "    <tr>\n",
       "      <th>Género</th>\n",
       "      <th>Masc</th>\n",
       "      <th>Feme</th>\n",
       "      <th>Masc</th>\n",
       "      <th>Feme</th>\n",
       "      <th>Masc</th>\n",
       "      <th>Feme</th>\n",
       "      <th>Masc</th>\n",
       "      <th>Feme</th>\n",
       "    </tr>\n",
       "    <tr>\n",
       "      <th>Patol</th>\n",
       "      <th></th>\n",
       "      <th></th>\n",
       "      <th></th>\n",
       "      <th></th>\n",
       "      <th></th>\n",
       "      <th></th>\n",
       "      <th></th>\n",
       "      <th></th>\n",
       "    </tr>\n",
       "  </thead>\n",
       "  <tbody>\n",
       "    <tr>\n",
       "      <th>SCA</th>\n",
       "      <td>1</td>\n",
       "      <td>0</td>\n",
       "      <td>0</td>\n",
       "      <td>0</td>\n",
       "      <td>0</td>\n",
       "      <td>0</td>\n",
       "      <td>0</td>\n",
       "      <td>0</td>\n",
       "    </tr>\n",
       "    <tr>\n",
       "      <th>PCR</th>\n",
       "      <td>1</td>\n",
       "      <td>0</td>\n",
       "      <td>0</td>\n",
       "      <td>0</td>\n",
       "      <td>0</td>\n",
       "      <td>0</td>\n",
       "      <td>0</td>\n",
       "      <td>0</td>\n",
       "    </tr>\n",
       "    <tr>\n",
       "      <th>PoliTMT</th>\n",
       "      <td>1</td>\n",
       "      <td>0</td>\n",
       "      <td>0</td>\n",
       "      <td>0</td>\n",
       "      <td>2</td>\n",
       "      <td>2</td>\n",
       "      <td>1</td>\n",
       "      <td>4</td>\n",
       "    </tr>\n",
       "    <tr>\n",
       "      <th>Otros</th>\n",
       "      <td>8</td>\n",
       "      <td>2</td>\n",
       "      <td>21</td>\n",
       "      <td>3</td>\n",
       "      <td>6</td>\n",
       "      <td>8</td>\n",
       "      <td>13</td>\n",
       "      <td>5</td>\n",
       "    </tr>\n",
       "  </tbody>\n",
       "</table>\n",
       "</div>"
      ],
      "text/plain": [
       "Edad    [40, 45)      [45, 50)      [50, 55)      [55, 60)     \n",
       "Género      Masc Feme     Masc Feme     Masc Feme     Masc Feme\n",
       "Patol                                                          \n",
       "SCA            1    0        0    0        0    0        0    0\n",
       "PCR            1    0        0    0        0    0        0    0\n",
       "PoliTMT        1    0        0    0        2    2        1    4\n",
       "Otros          8    2       21    3        6    8       13    5"
      ]
     },
     "execution_count": 22,
     "metadata": {},
     "output_type": "execute_result"
    },
    {
     "data": {
      "text/html": [
       "<div>\n",
       "<style scoped>\n",
       "    .dataframe tbody tr th:only-of-type {\n",
       "        vertical-align: middle;\n",
       "    }\n",
       "\n",
       "    .dataframe tbody tr th {\n",
       "        vertical-align: top;\n",
       "    }\n",
       "\n",
       "    .dataframe thead tr th {\n",
       "        text-align: left;\n",
       "    }\n",
       "\n",
       "    .dataframe thead tr:last-of-type th {\n",
       "        text-align: right;\n",
       "    }\n",
       "</style>\n",
       "<table border=\"1\" class=\"dataframe\">\n",
       "  <thead>\n",
       "    <tr>\n",
       "      <th>Edad</th>\n",
       "      <th colspan=\"2\" halign=\"left\">[60, 65)</th>\n",
       "      <th colspan=\"2\" halign=\"left\">[65, 70)</th>\n",
       "      <th colspan=\"2\" halign=\"left\">[70, 75)</th>\n",
       "      <th colspan=\"2\" halign=\"left\">[75, 80)</th>\n",
       "      <th colspan=\"2\" halign=\"left\">[80, 85)</th>\n",
       "    </tr>\n",
       "    <tr>\n",
       "      <th>Género</th>\n",
       "      <th>Masc</th>\n",
       "      <th>Feme</th>\n",
       "      <th>Masc</th>\n",
       "      <th>Feme</th>\n",
       "      <th>Masc</th>\n",
       "      <th>Feme</th>\n",
       "      <th>Masc</th>\n",
       "      <th>Feme</th>\n",
       "      <th>Masc</th>\n",
       "      <th>Feme</th>\n",
       "    </tr>\n",
       "    <tr>\n",
       "      <th>Patol</th>\n",
       "      <th></th>\n",
       "      <th></th>\n",
       "      <th></th>\n",
       "      <th></th>\n",
       "      <th></th>\n",
       "      <th></th>\n",
       "      <th></th>\n",
       "      <th></th>\n",
       "      <th></th>\n",
       "      <th></th>\n",
       "    </tr>\n",
       "  </thead>\n",
       "  <tbody>\n",
       "    <tr>\n",
       "      <th>SCA</th>\n",
       "      <td>1</td>\n",
       "      <td>0</td>\n",
       "      <td>0</td>\n",
       "      <td>0</td>\n",
       "      <td>0</td>\n",
       "      <td>0</td>\n",
       "      <td>0</td>\n",
       "      <td>0</td>\n",
       "      <td>1</td>\n",
       "      <td>0</td>\n",
       "    </tr>\n",
       "    <tr>\n",
       "      <th>PCR</th>\n",
       "      <td>0</td>\n",
       "      <td>0</td>\n",
       "      <td>1</td>\n",
       "      <td>0</td>\n",
       "      <td>0</td>\n",
       "      <td>0</td>\n",
       "      <td>0</td>\n",
       "      <td>0</td>\n",
       "      <td>0</td>\n",
       "      <td>0</td>\n",
       "    </tr>\n",
       "    <tr>\n",
       "      <th>PoliTMT</th>\n",
       "      <td>1</td>\n",
       "      <td>0</td>\n",
       "      <td>2</td>\n",
       "      <td>0</td>\n",
       "      <td>0</td>\n",
       "      <td>1</td>\n",
       "      <td>1</td>\n",
       "      <td>0</td>\n",
       "      <td>0</td>\n",
       "      <td>0</td>\n",
       "    </tr>\n",
       "    <tr>\n",
       "      <th>Otros</th>\n",
       "      <td>3</td>\n",
       "      <td>19</td>\n",
       "      <td>11</td>\n",
       "      <td>16</td>\n",
       "      <td>25</td>\n",
       "      <td>17</td>\n",
       "      <td>16</td>\n",
       "      <td>17</td>\n",
       "      <td>17</td>\n",
       "      <td>18</td>\n",
       "    </tr>\n",
       "  </tbody>\n",
       "</table>\n",
       "</div>"
      ],
      "text/plain": [
       "Edad    [60, 65)      [65, 70)      [70, 75)      [75, 80)      [80, 85)     \n",
       "Género      Masc Feme     Masc Feme     Masc Feme     Masc Feme     Masc Feme\n",
       "Patol                                                                        \n",
       "SCA            1    0        0    0        0    0        0    0        1    0\n",
       "PCR            0    0        1    0        0    0        0    0        0    0\n",
       "PoliTMT        1    0        2    0        0    1        1    0        0    0\n",
       "Otros          3   19       11   16       25   17       16   17       17   18"
      ]
     },
     "execution_count": 22,
     "metadata": {},
     "output_type": "execute_result"
    }
   ],
   "source": [
    "for fecha in np.sort(db1.Fecha.dt.to_period('M').unique()):\n",
    "    fecha\n",
    "    test = db1.loc[db1.Fecha.dt.to_period('M') == fecha]\n",
    "    dum1 = pd.cut(test.Edad, range(0, 90, 5), right=False)  \n",
    "    test['Patol'].value_counts(sort= False)\n",
    "    result0 = pd.crosstab(test['Patol'], test['Género'])\n",
    "    separador = ' -----------------------------------------------------------------'\n",
    "    result1 = pd.crosstab(test['Patol'], [dum1, test['Género']]).iloc[:,:8]\n",
    "    result2 = pd.crosstab(test['Patol'], [dum1, test['Género']]).iloc[:,8:16]\n",
    "    result3 = pd.crosstab(test['Patol'], [dum1, test['Género']]).iloc[:,16:24]\n",
    "    result4 = pd.crosstab(test['Patol'], [dum1, test['Género']]).iloc[:,24:]\n",
    "    result0\n",
    "    result1\n",
    "    result2\n",
    "    result3\n",
    "    result4"
   ]
  },
  {
   "cell_type": "code",
   "execution_count": 23,
   "metadata": {},
   "outputs": [
    {
     "data": {
      "text/plain": [
       "' Sección N: TRASLADO SECUNDARIO (Desde un Establecimiento a Otro)'"
      ]
     },
     "execution_count": 23,
     "metadata": {},
     "output_type": "execute_result"
    },
    {
     "data": {
      "text/plain": [
       "'Es una tabla larga, por lo que se divide en varios espacios '"
      ]
     },
     "execution_count": 23,
     "metadata": {},
     "output_type": "execute_result"
    }
   ],
   "source": [
    "titulo = ' Sección N: TRASLADO SECUNDARIO (Desde un Establecimiento a Otro)'\n",
    "texto = 'Es una tabla larga, por lo que se divide en varios espacios '\n",
    "\n",
    "titulo\n",
    "texto\n",
    "#result\n",
    "\n",
    "print(titulo, file=open('Informe.txt','a'))\n",
    "print(texto, file=open('Informe.txt','a'))\n",
    "print(result0, file=open('Informe.txt','a'))\n",
    "print(separador,file=open('Informe.txt','a'))  #Separador\n",
    "print(result1, file=open('Informe.txt','a'))\n",
    "print(separador,file=open('Informe.txt','a'))  #Separador\n",
    "print(result2, file=open('Informe.txt','a'))\n",
    "print(separador,file=open('Informe.txt','a'))  #Separador\n",
    "print(result3, file=open('Informe.txt','a'))\n",
    "print(separador,file=open('Informe.txt','a'))  #Separador\n",
    "print(result4, file=open('Informe.txt','a'))\n",
    "print(separador,file=open('Informe.txt','a'))  #Separador\n",
    "print(espacios, file=open('Informe.txt','a'))"
   ]
  },
  {
   "cell_type": "markdown",
   "metadata": {},
   "source": [
    "# Finalización\n",
    "Fin informe REM8"
   ]
  },
  {
   "cell_type": "code",
   "execution_count": 24,
   "metadata": {},
   "outputs": [],
   "source": [
    "print('Fin informe REM 8', file=open('Informe.txt','a'))\n"
   ]
  },
  {
   "cell_type": "markdown",
   "metadata": {},
   "source": [
    "# Análisis posteriores extra"
   ]
  },
  {
   "cell_type": "code",
   "execution_count": 25,
   "metadata": {
    "scrolled": true
   },
   "outputs": [
    {
     "data": {
      "text/html": [
       "<div>\n",
       "<style scoped>\n",
       "    .dataframe tbody tr th:only-of-type {\n",
       "        vertical-align: middle;\n",
       "    }\n",
       "\n",
       "    .dataframe tbody tr th {\n",
       "        vertical-align: top;\n",
       "    }\n",
       "\n",
       "    .dataframe thead th {\n",
       "        text-align: right;\n",
       "    }\n",
       "</style>\n",
       "<table border=\"1\" class=\"dataframe\">\n",
       "  <thead>\n",
       "    <tr style=\"text-align: right;\">\n",
       "      <th></th>\n",
       "      <th>Submotivo del Llamado</th>\n",
       "      <th>Id</th>\n",
       "    </tr>\n",
       "  </thead>\n",
       "  <tbody>\n",
       "    <tr>\n",
       "      <th>143</th>\n",
       "      <td>Fallecido</td>\n",
       "      <td>199727</td>\n",
       "    </tr>\n",
       "    <tr>\n",
       "      <th>203</th>\n",
       "      <td>Fallecido</td>\n",
       "      <td>199649</td>\n",
       "    </tr>\n",
       "    <tr>\n",
       "      <th>340</th>\n",
       "      <td>Otros</td>\n",
       "      <td>199427</td>\n",
       "    </tr>\n",
       "    <tr>\n",
       "      <th>344</th>\n",
       "      <td>Fallecido</td>\n",
       "      <td>199404</td>\n",
       "    </tr>\n",
       "    <tr>\n",
       "      <th>370</th>\n",
       "      <td>Fallecido</td>\n",
       "      <td>199336</td>\n",
       "    </tr>\n",
       "    <tr>\n",
       "      <th>397</th>\n",
       "      <td>Fallecido</td>\n",
       "      <td>199246</td>\n",
       "    </tr>\n",
       "    <tr>\n",
       "      <th>568</th>\n",
       "      <td>Otros</td>\n",
       "      <td>198923</td>\n",
       "    </tr>\n",
       "    <tr>\n",
       "      <th>642</th>\n",
       "      <td>Caso social</td>\n",
       "      <td>198828</td>\n",
       "    </tr>\n",
       "    <tr>\n",
       "      <th>856</th>\n",
       "      <td>Fallecido</td>\n",
       "      <td>198531</td>\n",
       "    </tr>\n",
       "    <tr>\n",
       "      <th>872</th>\n",
       "      <td>Fallecido</td>\n",
       "      <td>198508</td>\n",
       "    </tr>\n",
       "    <tr>\n",
       "      <th>1157</th>\n",
       "      <td>Otros</td>\n",
       "      <td>198031</td>\n",
       "    </tr>\n",
       "    <tr>\n",
       "      <th>1264</th>\n",
       "      <td>Fallecido</td>\n",
       "      <td>197873</td>\n",
       "    </tr>\n",
       "    <tr>\n",
       "      <th>1355</th>\n",
       "      <td>Fallecido</td>\n",
       "      <td>197744</td>\n",
       "    </tr>\n",
       "    <tr>\n",
       "      <th>1359</th>\n",
       "      <td>Fallecido</td>\n",
       "      <td>197738</td>\n",
       "    </tr>\n",
       "    <tr>\n",
       "      <th>1605</th>\n",
       "      <td>Fallecido</td>\n",
       "      <td>197419</td>\n",
       "    </tr>\n",
       "    <tr>\n",
       "      <th>1632</th>\n",
       "      <td>Fallecido</td>\n",
       "      <td>197368</td>\n",
       "    </tr>\n",
       "    <tr>\n",
       "      <th>1633</th>\n",
       "      <td>Fallecido</td>\n",
       "      <td>197363</td>\n",
       "    </tr>\n",
       "    <tr>\n",
       "      <th>1757</th>\n",
       "      <td>Fallecido</td>\n",
       "      <td>197149</td>\n",
       "    </tr>\n",
       "    <tr>\n",
       "      <th>1836</th>\n",
       "      <td>Fallecido</td>\n",
       "      <td>197025</td>\n",
       "    </tr>\n",
       "    <tr>\n",
       "      <th>1965</th>\n",
       "      <td>Fallecido</td>\n",
       "      <td>196824</td>\n",
       "    </tr>\n",
       "    <tr>\n",
       "      <th>2097</th>\n",
       "      <td>Fallecido</td>\n",
       "      <td>196690</td>\n",
       "    </tr>\n",
       "    <tr>\n",
       "      <th>2166</th>\n",
       "      <td>Fallecido</td>\n",
       "      <td>196548</td>\n",
       "    </tr>\n",
       "    <tr>\n",
       "      <th>2237</th>\n",
       "      <td>Fallecido</td>\n",
       "      <td>196411</td>\n",
       "    </tr>\n",
       "    <tr>\n",
       "      <th>2452</th>\n",
       "      <td>Fallecido</td>\n",
       "      <td>196106</td>\n",
       "    </tr>\n",
       "    <tr>\n",
       "      <th>2466</th>\n",
       "      <td>Fallecido</td>\n",
       "      <td>196073</td>\n",
       "    </tr>\n",
       "    <tr>\n",
       "      <th>2540</th>\n",
       "      <td>Fallecido</td>\n",
       "      <td>195972</td>\n",
       "    </tr>\n",
       "    <tr>\n",
       "      <th>2566</th>\n",
       "      <td>Otros</td>\n",
       "      <td>195882</td>\n",
       "    </tr>\n",
       "    <tr>\n",
       "      <th>2666</th>\n",
       "      <td>Fallecido</td>\n",
       "      <td>195726</td>\n",
       "    </tr>\n",
       "    <tr>\n",
       "      <th>2818</th>\n",
       "      <td>Fallecido</td>\n",
       "      <td>195484</td>\n",
       "    </tr>\n",
       "    <tr>\n",
       "      <th>2911</th>\n",
       "      <td>Fallecido</td>\n",
       "      <td>195325</td>\n",
       "    </tr>\n",
       "    <tr>\n",
       "      <th>2937</th>\n",
       "      <td>Fallecido</td>\n",
       "      <td>195285</td>\n",
       "    </tr>\n",
       "    <tr>\n",
       "      <th>3053</th>\n",
       "      <td>Otros</td>\n",
       "      <td>195040</td>\n",
       "    </tr>\n",
       "    <tr>\n",
       "      <th>3071</th>\n",
       "      <td>Otros</td>\n",
       "      <td>195010</td>\n",
       "    </tr>\n",
       "    <tr>\n",
       "      <th>3183</th>\n",
       "      <td>Fallecido</td>\n",
       "      <td>195001</td>\n",
       "    </tr>\n",
       "    <tr>\n",
       "      <th>3236</th>\n",
       "      <td>Fallecido</td>\n",
       "      <td>194942</td>\n",
       "    </tr>\n",
       "    <tr>\n",
       "      <th>3346</th>\n",
       "      <td>Fallecido</td>\n",
       "      <td>194764</td>\n",
       "    </tr>\n",
       "    <tr>\n",
       "      <th>3445</th>\n",
       "      <td>Fallecido</td>\n",
       "      <td>194627</td>\n",
       "    </tr>\n",
       "    <tr>\n",
       "      <th>3461</th>\n",
       "      <td>Fallecido</td>\n",
       "      <td>194594</td>\n",
       "    </tr>\n",
       "    <tr>\n",
       "      <th>3466</th>\n",
       "      <td>Fallecido</td>\n",
       "      <td>194584</td>\n",
       "    </tr>\n",
       "    <tr>\n",
       "      <th>3787</th>\n",
       "      <td>Fallecido</td>\n",
       "      <td>194166</td>\n",
       "    </tr>\n",
       "    <tr>\n",
       "      <th>3813</th>\n",
       "      <td>Fallecido</td>\n",
       "      <td>194137</td>\n",
       "    </tr>\n",
       "    <tr>\n",
       "      <th>3943</th>\n",
       "      <td>Fallecido</td>\n",
       "      <td>193990</td>\n",
       "    </tr>\n",
       "    <tr>\n",
       "      <th>4085</th>\n",
       "      <td>Fallecido</td>\n",
       "      <td>193776</td>\n",
       "    </tr>\n",
       "    <tr>\n",
       "      <th>4130</th>\n",
       "      <td>Fallecido</td>\n",
       "      <td>193718</td>\n",
       "    </tr>\n",
       "    <tr>\n",
       "      <th>4299</th>\n",
       "      <td>Fallecido</td>\n",
       "      <td>193478</td>\n",
       "    </tr>\n",
       "    <tr>\n",
       "      <th>4617</th>\n",
       "      <td>Fallecido</td>\n",
       "      <td>193089</td>\n",
       "    </tr>\n",
       "    <tr>\n",
       "      <th>4692</th>\n",
       "      <td>Fallecido</td>\n",
       "      <td>193003</td>\n",
       "    </tr>\n",
       "  </tbody>\n",
       "</table>\n",
       "</div>"
      ],
      "text/plain": [
       "     Submotivo del Llamado      Id\n",
       "143              Fallecido  199727\n",
       "203              Fallecido  199649\n",
       "340                  Otros  199427\n",
       "344              Fallecido  199404\n",
       "370              Fallecido  199336\n",
       "397              Fallecido  199246\n",
       "568                  Otros  198923\n",
       "642            Caso social  198828\n",
       "856              Fallecido  198531\n",
       "872              Fallecido  198508\n",
       "1157                 Otros  198031\n",
       "1264             Fallecido  197873\n",
       "1355             Fallecido  197744\n",
       "1359             Fallecido  197738\n",
       "1605             Fallecido  197419\n",
       "1632             Fallecido  197368\n",
       "1633             Fallecido  197363\n",
       "1757             Fallecido  197149\n",
       "1836             Fallecido  197025\n",
       "1965             Fallecido  196824\n",
       "2097             Fallecido  196690\n",
       "2166             Fallecido  196548\n",
       "2237             Fallecido  196411\n",
       "2452             Fallecido  196106\n",
       "2466             Fallecido  196073\n",
       "2540             Fallecido  195972\n",
       "2566                 Otros  195882\n",
       "2666             Fallecido  195726\n",
       "2818             Fallecido  195484\n",
       "2911             Fallecido  195325\n",
       "2937             Fallecido  195285\n",
       "3053                 Otros  195040\n",
       "3071                 Otros  195010\n",
       "3183             Fallecido  195001\n",
       "3236             Fallecido  194942\n",
       "3346             Fallecido  194764\n",
       "3445             Fallecido  194627\n",
       "3461             Fallecido  194594\n",
       "3466             Fallecido  194584\n",
       "3787             Fallecido  194166\n",
       "3813             Fallecido  194137\n",
       "3943             Fallecido  193990\n",
       "4085             Fallecido  193776\n",
       "4130             Fallecido  193718\n",
       "4299             Fallecido  193478\n",
       "4617             Fallecido  193089\n",
       "4692             Fallecido  193003"
      ]
     },
     "execution_count": 25,
     "metadata": {},
     "output_type": "execute_result"
    }
   ],
   "source": [
    "db1[db1['Motivo del Llamado']=='Otro'][['Submotivo del Llamado', 'Id']]"
   ]
  },
  {
   "cell_type": "code",
   "execution_count": null,
   "metadata": {},
   "outputs": [],
   "source": []
  },
  {
   "cell_type": "code",
   "execution_count": 26,
   "metadata": {},
   "outputs": [
    {
     "data": {
      "text/plain": [
       "count                  153884\n",
       "unique                 136387\n",
       "top       2018-11-23 14:30:10\n",
       "freq                      442\n",
       "first     2018-01-15 08:45:15\n",
       "last      2020-11-30 23:46:40\n",
       "Name: Fecha, dtype: object"
      ]
     },
     "execution_count": 26,
     "metadata": {},
     "output_type": "execute_result"
    }
   ],
   "source": [
    "BD.Fecha.describe()"
   ]
  },
  {
   "cell_type": "code",
   "execution_count": null,
   "metadata": {},
   "outputs": [],
   "source": []
  },
  {
   "cell_type": "code",
   "execution_count": null,
   "metadata": {},
   "outputs": [],
   "source": []
  }
 ],
 "metadata": {
  "kernelspec": {
   "display_name": "Python 3",
   "language": "python",
   "name": "python3"
  },
  "language_info": {
   "codemirror_mode": {
    "name": "ipython",
    "version": 3
   },
   "file_extension": ".py",
   "mimetype": "text/x-python",
   "name": "python",
   "nbconvert_exporter": "python",
   "pygments_lexer": "ipython3",
   "version": "3.7.3"
  }
 },
 "nbformat": 4,
 "nbformat_minor": 4
}
