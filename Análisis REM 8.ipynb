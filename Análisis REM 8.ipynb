{
 "cells": [
  {
   "cell_type": "markdown",
   "metadata": {},
   "source": [
    "Análisis REM8\n",
    " =========="
   ]
  },
  {
   "cell_type": "markdown",
   "metadata": {},
   "source": [
    "Comienzo cargando todos los paquetes necesarios"
   ]
  },
  {
   "cell_type": "code",
   "execution_count": 1,
   "metadata": {},
   "outputs": [],
   "source": [
    "import pandas as pd\n",
    "import numpy as np\n",
    "import matplotlib.pyplot as plt\n",
    "import scipy \n",
    "from scipy import stats\n",
    "import statsmodels.api as sm\n",
    "from statsmodels.formula.api import ols\n",
    "import datetime as dt\n",
    "import datetime\n",
    "from datetime import timedelta  \n",
    "import timeboard as tb # turnos \n",
    "\n",
    "# para tratar de poner espanol\n",
    "from datetime import date, datetime, time\n",
    "from babel.dates import format_date, format_datetime, format_time, format_timedelta, Locale\n",
    "import locale                                    # para tratar de poner espanol\n",
    "#locale = Locale('es', 'CL')\n",
    "#locale.setlocale(locale.LC_ALL,'es_ES.UTF-8')  \n",
    "\n",
    "import os\n",
    "import runpy\n",
    "from pyexcel_ods import get_data\n",
    "from matplotlib_venn import venn3\n",
    "from matplotlib_venn import venn2, venn2_circles\n",
    "import math\n",
    "\n",
    "from IPython.core.interactiveshell import InteractiveShell\n",
    "InteractiveShell.ast_node_interactivity = \"all\"\n",
    "%matplotlib inline\n",
    "\n",
    "\n",
    "#otro graficador\n",
    "import seaborn as sns\n",
    "\n",
    "#stats\n",
    "\n",
    "from sklearn.linear_model import LogisticRegression\n",
    "from sklearn import metrics\n",
    "from sklearn.model_selection import train_test_split\n",
    "from sklearn import model_selection\n",
    "from sklearn.model_selection import cross_val_score\n",
    "from sklearn.metrics import confusion_matrix\n",
    "from sklearn.metrics import classification_report"
   ]
  },
  {
   "cell_type": "code",
   "execution_count": 2,
   "metadata": {},
   "outputs": [],
   "source": [
    "# cargo algunos scripts que me suelen servir para análisis"
   ]
  },
  {
   "cell_type": "code",
   "execution_count": 3,
   "metadata": {
    "scrolled": true
   },
   "outputs": [
    {
     "data": {
      "text/plain": [
       "['/home/egidio/Dropbox/Compucosas/programas py/percentiles.py',\n",
       " '/home/egidio/Dropbox/Compucosas/programas py/características_operativas_de_test.py',\n",
       " '/home/egidio/Dropbox/Compucosas/programas py/lector_ODF.py',\n",
       " '/home/egidio/Dropbox/Compucosas/programas py/como importar',\n",
       " '/home/egidio/Dropbox/Compucosas/programas py/tabala_frecuencias.py',\n",
       " '/home/egidio/Dropbox/Compucosas/programas py/descripcion_univariada.py',\n",
       " '/home/egidio/Dropbox/Compucosas/programas py/__pycache__/características_operativas_de_test.cpython-36.pyc',\n",
       " '/home/egidio/Dropbox/Compucosas/programas py/__pycache__/tabala_frecuencias.cpython-36.pyc',\n",
       " '/home/egidio/Dropbox/Compucosas/programas py/__pycache__/lector_ODF.cpython-36.pyc',\n",
       " '/home/egidio/Dropbox/Compucosas/programas py/__pycache__/percentiles.cpython-36.pyc',\n",
       " '/home/egidio/Dropbox/Compucosas/programas py/__pycache__/funciones_locales.cpython-36.pyc',\n",
       " '/home/egidio/Dropbox/Compucosas/programas py/__pycache__/descripcion_univariada.cpython-36.pyc']"
      ]
     },
     "execution_count": 3,
     "metadata": {},
     "output_type": "execute_result"
    }
   ],
   "source": [
    "#listo los archivos\n",
    "scripts = []\n",
    "for dirname, dirnames, filenames in os.walk('/home/egidio/Dropbox/Compucosas/programas py'):\n",
    "    for filename in filenames:\n",
    "        scripts.append(os.path.join(dirname, filename))\n",
    "\n",
    "scripts\n",
    "\n",
    "# los cargo\n",
    "for script in scripts:\n",
    "    if script[-3:] == '.py':\n",
    "        exec(open(str(script)).read())\n"
   ]
  },
  {
   "cell_type": "markdown",
   "metadata": {},
   "source": [
    "# Cargo la BD"
   ]
  },
  {
   "cell_type": "code",
   "execution_count": 4,
   "metadata": {},
   "outputs": [],
   "source": [
    "BD = pd.read_pickle('./BD/eSAMU.pkl')"
   ]
  },
  {
   "cell_type": "code",
   "execution_count": 5,
   "metadata": {},
   "outputs": [
    {
     "data": {
      "text/plain": [
       "Index(['Id', 'Fecha', 'Motivo del Llamado', 'Submotivo del Llamado',\n",
       "       'Prioridad', 'Estado', 'Edad', 'Género', 'Dirección', 'Sector',\n",
       "       'Comuna', 'Región', 'Intervención', 'Tipo Traslado',\n",
       "       'Categoría Vehículo', 'Condición Traslado', 'En Regulación',\n",
       "       'En Despacho', 'En Curso', 'Atendida', 'Completado', 'Regulado',\n",
       "       'Usuario que Cierra', 'Móvil Agregado', 'Móvil Despachado',\n",
       "       'Móvil Salida', 'Móvil Llegada Lugar', 'Móvil en Traslado',\n",
       "       'Móvil Llegada a CA', 'Móvil Recepción Paciente',\n",
       "       'Móvil Camilla Retenida', 'Móvil Vuelta a Base', 'Móvil LLegada a Base',\n",
       "       'Móvil Finalizado', 'Nombre Vehículo', 'Tipo Requerido',\n",
       "       'Tipo Despachado', 'Km Recorrido', 'Chofer', 'Paramédico', 'Enfermero',\n",
       "       'Doctor', 'Longitud', 'Latitud', 'Diff_recep_Despachado',\n",
       "       'Diff_Despacho_Salida', 'Diff_salida_enellugar', 'Diff_z6_1',\n",
       "       'Diff_z6_2', 'Diff_z6_3'],\n",
       "      dtype='object')"
      ]
     },
     "execution_count": 5,
     "metadata": {},
     "output_type": "execute_result"
    },
    {
     "data": {
      "text/plain": [
       "count                  129810\n",
       "unique                 114230\n",
       "top       2018-11-23 14:30:10\n",
       "freq                      442\n",
       "first     2018-01-15 08:45:15\n",
       "last      2020-06-30 23:57:16\n",
       "Name: Fecha, dtype: object"
      ]
     },
     "execution_count": 5,
     "metadata": {},
     "output_type": "execute_result"
    },
    {
     "data": {
      "text/html": [
       "<div>\n",
       "<style scoped>\n",
       "    .dataframe tbody tr th:only-of-type {\n",
       "        vertical-align: middle;\n",
       "    }\n",
       "\n",
       "    .dataframe tbody tr th {\n",
       "        vertical-align: top;\n",
       "    }\n",
       "\n",
       "    .dataframe thead th {\n",
       "        text-align: right;\n",
       "    }\n",
       "</style>\n",
       "<table border=\"1\" class=\"dataframe\">\n",
       "  <thead>\n",
       "    <tr style=\"text-align: right;\">\n",
       "      <th></th>\n",
       "      <th>Id</th>\n",
       "      <th>Fecha</th>\n",
       "      <th>Motivo del Llamado</th>\n",
       "      <th>Submotivo del Llamado</th>\n",
       "      <th>Prioridad</th>\n",
       "      <th>Estado</th>\n",
       "      <th>Edad</th>\n",
       "      <th>Género</th>\n",
       "      <th>Dirección</th>\n",
       "      <th>Sector</th>\n",
       "      <th>...</th>\n",
       "      <th>Enfermero</th>\n",
       "      <th>Doctor</th>\n",
       "      <th>Longitud</th>\n",
       "      <th>Latitud</th>\n",
       "      <th>Diff_recep_Despachado</th>\n",
       "      <th>Diff_Despacho_Salida</th>\n",
       "      <th>Diff_salida_enellugar</th>\n",
       "      <th>Diff_z6_1</th>\n",
       "      <th>Diff_z6_2</th>\n",
       "      <th>Diff_z6_3</th>\n",
       "    </tr>\n",
       "  </thead>\n",
       "  <tbody>\n",
       "    <tr>\n",
       "      <th>0</th>\n",
       "      <td>144550</td>\n",
       "      <td>2020-03-31 23:53:04</td>\n",
       "      <td>Dolor o Problema específico</td>\n",
       "      <td>Dificultad respiratoria leve - moderada (disnea)</td>\n",
       "      <td>NaN</td>\n",
       "      <td>Completado</td>\n",
       "      <td>53.0</td>\n",
       "      <td>Masculino</td>\n",
       "      <td>x calle del agua pje 10 casa 161 b</td>\n",
       "      <td>recreo</td>\n",
       "      <td>...</td>\n",
       "      <td>NaN</td>\n",
       "      <td>NaN</td>\n",
       "      <td>NaN</td>\n",
       "      <td>NaN</td>\n",
       "      <td>NaT</td>\n",
       "      <td>NaT</td>\n",
       "      <td>NaT</td>\n",
       "      <td>NaT</td>\n",
       "      <td>NaT</td>\n",
       "      <td>NaT</td>\n",
       "    </tr>\n",
       "    <tr>\n",
       "      <th>1</th>\n",
       "      <td>144549</td>\n",
       "      <td>2020-03-31 23:42:58</td>\n",
       "      <td>Dolor o Problema específico</td>\n",
       "      <td>Dolor o problemas cabeza (cefalea)</td>\n",
       "      <td>NaN</td>\n",
       "      <td>Regulado</td>\n",
       "      <td>34.0</td>\n",
       "      <td>Femenino</td>\n",
       "      <td>calle anibal pinto 45 dpto 305</td>\n",
       "      <td>c12 , reñaca bajo</td>\n",
       "      <td>...</td>\n",
       "      <td>NaN</td>\n",
       "      <td>NaN</td>\n",
       "      <td>NaN</td>\n",
       "      <td>NaN</td>\n",
       "      <td>NaT</td>\n",
       "      <td>NaT</td>\n",
       "      <td>NaT</td>\n",
       "      <td>NaT</td>\n",
       "      <td>NaT</td>\n",
       "      <td>NaT</td>\n",
       "    </tr>\n",
       "  </tbody>\n",
       "</table>\n",
       "<p>2 rows × 50 columns</p>\n",
       "</div>"
      ],
      "text/plain": [
       "       Id               Fecha           Motivo del Llamado  \\\n",
       "0  144550 2020-03-31 23:53:04  Dolor o Problema específico   \n",
       "1  144549 2020-03-31 23:42:58  Dolor o Problema específico   \n",
       "\n",
       "                              Submotivo del Llamado Prioridad      Estado  \\\n",
       "0  Dificultad respiratoria leve - moderada (disnea)       NaN  Completado   \n",
       "1                Dolor o problemas cabeza (cefalea)       NaN    Regulado   \n",
       "\n",
       "   Edad     Género                           Dirección             Sector  \\\n",
       "0  53.0  Masculino  x calle del agua pje 10 casa 161 b             recreo   \n",
       "1  34.0   Femenino      calle anibal pinto 45 dpto 305  c12 , reñaca bajo   \n",
       "\n",
       "   ... Enfermero Doctor Longitud Latitud Diff_recep_Despachado  \\\n",
       "0  ...       NaN    NaN      NaN     NaN                   NaT   \n",
       "1  ...       NaN    NaN      NaN     NaN                   NaT   \n",
       "\n",
       "  Diff_Despacho_Salida Diff_salida_enellugar Diff_z6_1 Diff_z6_2 Diff_z6_3  \n",
       "0                  NaT                   NaT       NaT       NaT       NaT  \n",
       "1                  NaT                   NaT       NaT       NaT       NaT  \n",
       "\n",
       "[2 rows x 50 columns]"
      ]
     },
     "execution_count": 5,
     "metadata": {},
     "output_type": "execute_result"
    }
   ],
   "source": [
    "BD.columns\n",
    "BD.Fecha.describe()\n",
    "BD.head(2)\n"
   ]
  },
  {
   "cell_type": "markdown",
   "metadata": {},
   "source": [
    "para efectos de este análisis es importante dividir ambulancias según su complejidad"
   ]
  },
  {
   "cell_type": "code",
   "execution_count": 6,
   "metadata": {},
   "outputs": [],
   "source": [
    "BD['Bas_avan'] = BD['Tipo Despachado'] \n",
    "BD.loc[BD['Tipo Despachado'] == 'm1' , 'Bas_avan' ] = 'Básico'\n",
    "BD.loc[BD['Tipo Despachado'] == 'm2' , 'Bas_avan' ] = 'Avanzado'\n",
    "BD.loc[BD['Tipo Despachado'] == 'm3' , 'Bas_avan' ] = 'Avanzado'\n",
    "BD.loc[BD['Tipo Despachado'] == 'x5' , 'Bas_avan' ] = 'Avanzado'"
   ]
  },
  {
   "cell_type": "markdown",
   "metadata": {},
   "source": [
    "defino Bas_avan como categórico"
   ]
  },
  {
   "cell_type": "markdown",
   "metadata": {},
   "source": [
    "# defino la BD con la que trabajaré"
   ]
  },
  {
   "cell_type": "markdown",
   "metadata": {},
   "source": [
    "El informe a continuación es un análisis del:\n",
    "* fecha\n",
    "* sector"
   ]
  },
  {
   "cell_type": "markdown",
   "metadata": {},
   "source": [
    "## según fecha"
   ]
  },
  {
   "cell_type": "code",
   "execution_count": 7,
   "metadata": {},
   "outputs": [
    {
     "data": {
      "text/plain": [
       "array([Period('2020-06', 'M')], dtype=object)"
      ]
     },
     "execution_count": 7,
     "metadata": {},
     "output_type": "execute_result"
    }
   ],
   "source": [
    "rango = (                                            #mes Junio\n",
    "    (BD.Fecha > pd.to_datetime('2020-06-01')) &\n",
    "    (BD.Fecha < pd.to_datetime('2020-06-30'))\n",
    ")\n",
    "\n",
    "db1 = BD[rango].copy()\n",
    "np.sort(db1.Fecha.dt.to_period('M').unique())"
   ]
  },
  {
   "cell_type": "markdown",
   "metadata": {},
   "source": [
    "## segun ambulancias"
   ]
  },
  {
   "cell_type": "code",
   "execution_count": 8,
   "metadata": {},
   "outputs": [
    {
     "data": {
      "text/plain": [
       "array(['R32', nan, 'R33', 'R42', 'R63', 'R31', 'R83', 'R73', 'R26', 'R12',\n",
       "       'AP16', 'AP15', 'R23', 'R92', 'R80', 'R21', 'R64', 'R10', 'R62',\n",
       "       'R24', 'R41', 'AP31', 'R61', 'R22', 'R50', 'AP 14', 'AP51', 'R11',\n",
       "       'AP1', 'R91', 'R25', 'R13', 'AT90', 'AP28', 'R43', 'R51', 'AT51',\n",
       "       'Móvil Las Parcelas', 'R101', 'AP41', 'R100', 'R71', 'R52', 'R72',\n",
       "       'AP-17 Loncura', 'W56', 'R53', 'R34', 'Móvil Hijuelas', 'R57',\n",
       "       'W133 Carabineros', 'AP27', 'Móvil Ventana', 'Móvil Artificio',\n",
       "       'Móvil Puchuncaví', 'Móvil Nogales', 'MOVIL LONCURA',\n",
       "       'sapu zapallar', 'R84', 'AP26', 'MOVIL SAPU VENTANA', 'R82', 'R20',\n",
       "       'R44', 'Corona-movil petorca', 'REMA  Poli Naval Villa Alemana',\n",
       "       'MOVIL RUTA'], dtype=object)"
      ]
     },
     "execution_count": 8,
     "metadata": {},
     "output_type": "execute_result"
    }
   ],
   "source": [
    "db1['Nombre Vehículo'].unique()"
   ]
  },
  {
   "cell_type": "markdown",
   "metadata": {},
   "source": [
    "elegir uno"
   ]
  },
  {
   "cell_type": "code",
   "execution_count": 9,
   "metadata": {},
   "outputs": [],
   "source": [
    "# Comentar todo o no\n",
    "\n",
    "sector = db1['Nombre Vehículo'].str.contains('R3') == True\n",
    "db1 = db1[sector]"
   ]
  },
  {
   "cell_type": "code",
   "execution_count": 10,
   "metadata": {},
   "outputs": [
    {
     "data": {
      "text/plain": [
       "'Este es un inforque que considera el mes de June. En el territorio de Quilpué.\\n'"
      ]
     },
     "execution_count": 10,
     "metadata": {},
     "output_type": "execute_result"
    }
   ],
   "source": [
    "texto1 = 'Este es un inforque que considera el mes de '\n",
    "texto2 = 'En el territorio de '\n",
    "\n",
    "# sector = 'SSVQ'\n",
    "sector = db1.Comuna.value_counts().index[0]\n",
    "\n",
    "mes= db1.Fecha.describe()[4].strftime('%B')\n",
    "\n",
    "result = texto1 + mes + '. ' + texto2 + sector + '.' + '\\n'\n",
    "result\n",
    "print(result, file=open('Informe.txt','a'))"
   ]
  },
  {
   "cell_type": "code",
   "execution_count": 11,
   "metadata": {},
   "outputs": [
    {
     "data": {
      "text/plain": [
       "Quilpué          316\n",
       "Villa Alemana     14\n",
       "Name: Comuna, dtype: int64"
      ]
     },
     "execution_count": 11,
     "metadata": {},
     "output_type": "execute_result"
    }
   ],
   "source": [
    "db1.Comuna.value_counts()"
   ]
  },
  {
   "cell_type": "markdown",
   "metadata": {},
   "source": [
    "# defino el archivo donde guardaré la info"
   ]
  },
  {
   "cell_type": "markdown",
   "metadata": {},
   "source": [
    "Será un archivo"
   ]
  },
  {
   "cell_type": "markdown",
   "metadata": {},
   "source": [
    "como dividir por fecha"
   ]
  },
  {
   "cell_type": "code",
   "execution_count": 12,
   "metadata": {},
   "outputs": [
    {
     "data": {
      "text/plain": [
       "array([Period('2020-06', 'M')], dtype=object)"
      ]
     },
     "execution_count": 12,
     "metadata": {},
     "output_type": "execute_result"
    }
   ],
   "source": [
    "np.sort(db1.Fecha.dt.to_period('M').unique())"
   ]
  },
  {
   "cell_type": "markdown",
   "metadata": {},
   "source": [
    "## Sección K: INTERVENCIONES PRE HOSPITALARIAS (SAMU)"
   ]
  },
  {
   "cell_type": "markdown",
   "metadata": {},
   "source": [
    "prestaciones según recurso"
   ]
  },
  {
   "cell_type": "code",
   "execution_count": 13,
   "metadata": {
    "scrolled": true
   },
   "outputs": [
    {
     "name": "stdout",
     "output_type": "stream",
     "text": [
      "Por Mes\n"
     ]
    },
    {
     "data": {
      "text/plain": [
       "Period('2020-06', 'M')"
      ]
     },
     "execution_count": 13,
     "metadata": {},
     "output_type": "execute_result"
    },
    {
     "data": {
      "text/html": [
       "<div>\n",
       "<style scoped>\n",
       "    .dataframe tbody tr th:only-of-type {\n",
       "        vertical-align: middle;\n",
       "    }\n",
       "\n",
       "    .dataframe tbody tr th {\n",
       "        vertical-align: top;\n",
       "    }\n",
       "\n",
       "    .dataframe thead th {\n",
       "        text-align: right;\n",
       "    }\n",
       "</style>\n",
       "<table border=\"1\" class=\"dataframe\">\n",
       "  <thead>\n",
       "    <tr style=\"text-align: right;\">\n",
       "      <th>Tiempo llegada al lugar</th>\n",
       "      <th>Menos 20 min</th>\n",
       "      <th>20 a 40 min</th>\n",
       "      <th>Más 40 min</th>\n",
       "      <th>Total</th>\n",
       "    </tr>\n",
       "    <tr>\n",
       "      <th>Tipo Móvil</th>\n",
       "      <th></th>\n",
       "      <th></th>\n",
       "      <th></th>\n",
       "      <th></th>\n",
       "    </tr>\n",
       "  </thead>\n",
       "  <tbody>\n",
       "    <tr>\n",
       "      <th>Avanzado</th>\n",
       "      <td>0</td>\n",
       "      <td>3</td>\n",
       "      <td>77</td>\n",
       "      <td>119</td>\n",
       "    </tr>\n",
       "    <tr>\n",
       "      <th>Básico</th>\n",
       "      <td>2</td>\n",
       "      <td>0</td>\n",
       "      <td>164</td>\n",
       "      <td>283</td>\n",
       "    </tr>\n",
       "    <tr>\n",
       "      <th>Total</th>\n",
       "      <td>2</td>\n",
       "      <td>3</td>\n",
       "      <td>302</td>\n",
       "      <td>502</td>\n",
       "    </tr>\n",
       "  </tbody>\n",
       "</table>\n",
       "</div>"
      ],
      "text/plain": [
       "Tiempo llegada al lugar  Menos 20 min  20 a 40 min  Más 40 min  Total\n",
       "Tipo Móvil                                                           \n",
       "Avanzado                            0            3          77    119\n",
       "Básico                              2            0         164    283\n",
       "Total                               2            3         302    502"
      ]
     },
     "execution_count": 13,
     "metadata": {},
     "output_type": "execute_result"
    }
   ],
   "source": [
    "# los tiempos de z17 al z8 los divido según requisito planilla\n",
    "cortado = pd.cut(\n",
    "    db1.Diff_salida_enellugar.dt.seconds,\n",
    "    [0, 20, 40, 1000000],\n",
    "    labels = ['Menos 20 min',  '20 a 40 min',  'Más 40 min'])\n",
    "\n",
    "# tabulo\n",
    "#pd.crosstab(db1.Bas_avan, cortado, margins=True, margins_name= 'Total')\n",
    "\n",
    "# tabulo por mes\n",
    "print('Por Mes')\n",
    "dum1 = cortado\n",
    "for fecha in np.sort(db1.Fecha.dt.to_period('M').unique()):\n",
    "    fecha\n",
    "    test = db1.loc[db1.Fecha.dt.to_period('M') == fecha]\n",
    "    result = pd.crosstab(\n",
    "        test['Bas_avan'],\n",
    "        dum1,\n",
    "        margins=True, margins_name= 'Total', dropna=False)\n",
    "    result.columns.name = 'Tiempo llegada al lugar'\n",
    "    result.index.name = 'Tipo Móvil'\n",
    "    result"
   ]
  },
  {
   "cell_type": "markdown",
   "metadata": {},
   "source": [
    "escribo en el archivo"
   ]
  },
  {
   "cell_type": "code",
   "execution_count": 14,
   "metadata": {},
   "outputs": [
    {
     "data": {
      "text/plain": [
       "'Sección K: INTERVENCIONES PRE HOSPITALARIAS (SAMU)'"
      ]
     },
     "execution_count": 14,
     "metadata": {},
     "output_type": "execute_result"
    },
    {
     "data": {
      "text/plain": [
       "'Se asume que todas las intervenciones críticas son realizadas por móviles avanzados y que las no-críticas por móviles básicos. Esto determina que las casillas de las prestaciones críticas tengan valores de cero para móviles básicos y las prestaciones no-críticas tengan valores cero para móviles avanzados. \\n \\n'"
      ]
     },
     "execution_count": 14,
     "metadata": {},
     "output_type": "execute_result"
    },
    {
     "data": {
      "text/html": [
       "<div>\n",
       "<style scoped>\n",
       "    .dataframe tbody tr th:only-of-type {\n",
       "        vertical-align: middle;\n",
       "    }\n",
       "\n",
       "    .dataframe tbody tr th {\n",
       "        vertical-align: top;\n",
       "    }\n",
       "\n",
       "    .dataframe thead th {\n",
       "        text-align: right;\n",
       "    }\n",
       "</style>\n",
       "<table border=\"1\" class=\"dataframe\">\n",
       "  <thead>\n",
       "    <tr style=\"text-align: right;\">\n",
       "      <th>Tiempo llegada al lugar</th>\n",
       "      <th>Menos 20 min</th>\n",
       "      <th>20 a 40 min</th>\n",
       "      <th>Más 40 min</th>\n",
       "      <th>Total</th>\n",
       "    </tr>\n",
       "    <tr>\n",
       "      <th>Tipo Móvil</th>\n",
       "      <th></th>\n",
       "      <th></th>\n",
       "      <th></th>\n",
       "      <th></th>\n",
       "    </tr>\n",
       "  </thead>\n",
       "  <tbody>\n",
       "    <tr>\n",
       "      <th>Avanzado</th>\n",
       "      <td>0</td>\n",
       "      <td>3</td>\n",
       "      <td>77</td>\n",
       "      <td>119</td>\n",
       "    </tr>\n",
       "    <tr>\n",
       "      <th>Básico</th>\n",
       "      <td>2</td>\n",
       "      <td>0</td>\n",
       "      <td>164</td>\n",
       "      <td>283</td>\n",
       "    </tr>\n",
       "    <tr>\n",
       "      <th>Total</th>\n",
       "      <td>2</td>\n",
       "      <td>3</td>\n",
       "      <td>302</td>\n",
       "      <td>502</td>\n",
       "    </tr>\n",
       "  </tbody>\n",
       "</table>\n",
       "</div>"
      ],
      "text/plain": [
       "Tiempo llegada al lugar  Menos 20 min  20 a 40 min  Más 40 min  Total\n",
       "Tipo Móvil                                                           \n",
       "Avanzado                            0            3          77    119\n",
       "Básico                              2            0         164    283\n",
       "Total                               2            3         302    502"
      ]
     },
     "execution_count": 14,
     "metadata": {},
     "output_type": "execute_result"
    }
   ],
   "source": [
    "titulo = 'Sección K: INTERVENCIONES PRE HOSPITALARIAS (SAMU)'\n",
    "texto = 'Se asume que todas las intervenciones críticas son realizadas \\\n",
    "por móviles avanzados y que las no-críticas por móviles básicos. Esto \\\n",
    "determina que las casillas de las prestaciones críticas tengan valores \\\n",
    "de cero para móviles básicos y las prestaciones no-críticas tengan \\\n",
    "valores cero para móviles avanzados. \\n \\n'\n",
    "espacios = '\\n \\n'\n",
    "\n",
    "titulo\n",
    "texto\n",
    "result\n",
    "\n",
    "print(titulo, file=open('Informe.txt','a'))\n",
    "print(texto, file=open('Informe.txt','a'))\n",
    "print(result, file=open('Informe.txt','a'))\n",
    "print(espacios, file=open('Informe.txt','a'))"
   ]
  },
  {
   "cell_type": "markdown",
   "metadata": {},
   "source": [
    "## Sección L:  TRASLADOS PRIMARIOS A UNIDADES DE URGENCIA (Desde el lugar del evento a unidad de Emergencia)"
   ]
  },
  {
   "cell_type": "code",
   "execution_count": 15,
   "metadata": {},
   "outputs": [
    {
     "data": {
      "text/plain": [
       "enrutado    316\n",
       "Name: Categoría Vehículo, dtype: int64"
      ]
     },
     "execution_count": 15,
     "metadata": {},
     "output_type": "execute_result"
    }
   ],
   "source": [
    "db1['Categoría Vehículo'].value_counts()\n",
    "#pd.crosstab(db1['Categoría Vehículo'], test['Bas_avan'])\n",
    "\n",
    "db1['Categoría Vehículo'] = pd.Categorical(db1['Categoría Vehículo'],\n",
    "                                           categories=['samu', 'enrutado', 'nosamu'])"
   ]
  },
  {
   "cell_type": "code",
   "execution_count": 16,
   "metadata": {},
   "outputs": [
    {
     "data": {
      "text/plain": [
       "Period('2020-06', 'M')"
      ]
     },
     "execution_count": 16,
     "metadata": {},
     "output_type": "execute_result"
    },
    {
     "data": {
      "text/plain": [
       "Categoría Vehículo  Tipo móvil\n",
       "samu                Avanzado       0\n",
       "                    Básico         0\n",
       "enrutado            Avanzado      54\n",
       "                    Básico        99\n",
       "nosamu              Avanzado       0\n",
       "                    Básico         0\n",
       "Name: Id, dtype: int64"
      ]
     },
     "execution_count": 16,
     "metadata": {},
     "output_type": "execute_result"
    }
   ],
   "source": [
    "for fecha in np.sort(db1.Fecha.dt.to_period('M').unique()):\n",
    "    fecha\n",
    "    test = db1.loc[db1.Fecha.dt.to_period('M') == fecha]\n",
    "    test = test.loc[test['Motivo del Llamado'] != 'Traslados']\n",
    "    result = test.groupby(['Categoría Vehículo', 'Bas_avan' ])['Id'].count()\n",
    "    result.index.names = ['Categoría Vehículo', 'Tipo móvil']\n",
    "    result"
   ]
  },
  {
   "cell_type": "markdown",
   "metadata": {},
   "source": [
    "escribo en el archivo"
   ]
  },
  {
   "cell_type": "code",
   "execution_count": 17,
   "metadata": {},
   "outputs": [
    {
     "data": {
      "text/plain": [
       "' Sección L:  TRASLADOS PRIMARIOS A UNIDADES DE URGENCIA'"
      ]
     },
     "execution_count": 17,
     "metadata": {},
     "output_type": "execute_result"
    },
    {
     "data": {
      "text/plain": [
       "' '"
      ]
     },
     "execution_count": 17,
     "metadata": {},
     "output_type": "execute_result"
    },
    {
     "data": {
      "text/plain": [
       "Categoría Vehículo  Tipo móvil\n",
       "samu                Avanzado       0\n",
       "                    Básico         0\n",
       "enrutado            Avanzado      54\n",
       "                    Básico        99\n",
       "nosamu              Avanzado       0\n",
       "                    Básico         0\n",
       "Name: Id, dtype: int64"
      ]
     },
     "execution_count": 17,
     "metadata": {},
     "output_type": "execute_result"
    }
   ],
   "source": [
    "titulo = ' Sección L:  TRASLADOS PRIMARIOS A UNIDADES DE URGENCIA'\n",
    "texto = ' '\n",
    "\n",
    "titulo\n",
    "texto\n",
    "result\n",
    "\n",
    "print(titulo, file=open('Informe.txt','a'))\n",
    "print(texto, file=open('Informe.txt','a'))\n",
    "print(result, file=open('Informe.txt','a'))\n",
    "print(espacios, file=open('Informe.txt','a'))"
   ]
  },
  {
   "cell_type": "markdown",
   "metadata": {},
   "source": [
    "## Sección M: TRASLADO SECUNDARIO (Desde un Establecimiento a Otro)"
   ]
  },
  {
   "cell_type": "code",
   "execution_count": 18,
   "metadata": {},
   "outputs": [
    {
     "data": {
      "text/plain": [
       "Period('2020-06', 'M')"
      ]
     },
     "execution_count": 18,
     "metadata": {},
     "output_type": "execute_result"
    },
    {
     "data": {
      "text/plain": [
       "Categoría Vehículo  Tipo móvil\n",
       "samu                Avanzado       0\n",
       "                    Básico         0\n",
       "enrutado            Avanzado      27\n",
       "                    Básico        74\n",
       "nosamu              Avanzado       0\n",
       "                    Básico         0\n",
       "Name: Id, dtype: int64"
      ]
     },
     "execution_count": 18,
     "metadata": {},
     "output_type": "execute_result"
    }
   ],
   "source": [
    "for fecha in np.sort(db1.Fecha.dt.to_period('M').unique()):\n",
    "    fecha\n",
    "    test = db1.loc[db1.Fecha.dt.to_period('M') == fecha]\n",
    "    test = test.loc[test['Motivo del Llamado'] == 'Traslados']\n",
    "    result = test.groupby(['Categoría Vehículo', 'Bas_avan' ])['Id'].count()\n",
    "    result.index.names = ['Categoría Vehículo', 'Tipo móvil']\n",
    "    result"
   ]
  },
  {
   "cell_type": "code",
   "execution_count": 19,
   "metadata": {},
   "outputs": [
    {
     "data": {
      "text/plain": [
       "' Sección M: TRASLADO SECUNDARIO (Desde un Establecimiento a Otro)'"
      ]
     },
     "execution_count": 19,
     "metadata": {},
     "output_type": "execute_result"
    },
    {
     "data": {
      "text/plain": [
       "' '"
      ]
     },
     "execution_count": 19,
     "metadata": {},
     "output_type": "execute_result"
    },
    {
     "data": {
      "text/plain": [
       "Categoría Vehículo  Tipo móvil\n",
       "samu                Avanzado       0\n",
       "                    Básico         0\n",
       "enrutado            Avanzado      27\n",
       "                    Básico        74\n",
       "nosamu              Avanzado       0\n",
       "                    Básico         0\n",
       "Name: Id, dtype: int64"
      ]
     },
     "execution_count": 19,
     "metadata": {},
     "output_type": "execute_result"
    }
   ],
   "source": [
    "titulo = ' Sección M: TRASLADO SECUNDARIO (Desde un Establecimiento a Otro)'\n",
    "texto = ' '\n",
    "\n",
    "titulo\n",
    "texto\n",
    "result\n",
    "\n",
    "print(titulo, file=open('Informe.txt','a'))\n",
    "print(texto, file=open('Informe.txt','a'))\n",
    "print(result, file=open('Informe.txt','a'))\n",
    "print(espacios, file=open('Informe.txt','a'))"
   ]
  },
  {
   "cell_type": "markdown",
   "metadata": {},
   "source": [
    "# Sección N: CLASIFICACION DE LAS INTERVENCIONES POR GRANDES GRUPOS DE DIAGNOSTICOS (SAMU)"
   ]
  },
  {
   "cell_type": "code",
   "execution_count": 20,
   "metadata": {},
   "outputs": [],
   "source": [
    "db1['Patol'] = np.nan\n",
    "db1.loc[db1['Submotivo del Llamado'] == 'Accidente vehicular o transporte. Atropellos',\n",
    "        'Patol'] = 'PoliTMT'\n",
    "db1.loc[db1['Submotivo del Llamado'] == 'Accidente múltiples víctimas (cualquier razón)',\n",
    "        'Patol'] = 'PoliTMT'\n",
    "db1.loc[db1['Submotivo del Llamado'] == 'Caídas graves',\n",
    "        'Patol'] = 'PoliTMT'\n",
    "\n",
    "db1.loc[db1['Submotivo del Llamado'] == 'Colapso respiratorio o circulatorio. PCR. Asfixia',\n",
    "        'Patol'] = 'PCR'\n",
    "\n",
    "db1.loc[db1['Submotivo del Llamado'] == 'Dolor de pecho',\n",
    "        'Patol'] = 'SCA'\n",
    "\n",
    "db1.loc[db1['Patol'].isnull(),\n",
    "        'Patol'] = 'Otros'\n",
    "\n",
    "db1['Patol'] = pd.Categorical(db1['Patol'], categories=['SCA', 'PCR', 'PoliTMT', 'Otros'])"
   ]
  },
  {
   "cell_type": "code",
   "execution_count": 21,
   "metadata": {},
   "outputs": [],
   "source": [
    "db1.loc[db1['Género'] == 'Femenino', 'Género'] = 'Feme'\n",
    "db1.loc[db1['Género'] == 'Masculino', 'Género'] = 'Masc'\n",
    "\n",
    "db1['Género'] = pd.Categorical(db1['Género'], categories=['Masc', 'Feme'])"
   ]
  },
  {
   "cell_type": "code",
   "execution_count": 22,
   "metadata": {
    "scrolled": true
   },
   "outputs": [
    {
     "data": {
      "text/plain": [
       "Period('2020-06', 'M')"
      ]
     },
     "execution_count": 22,
     "metadata": {},
     "output_type": "execute_result"
    },
    {
     "data": {
      "text/plain": [
       "SCA         11\n",
       "PCR          4\n",
       "PoliTMT     41\n",
       "Otros      446\n",
       "Name: Patol, dtype: int64"
      ]
     },
     "execution_count": 22,
     "metadata": {},
     "output_type": "execute_result"
    },
    {
     "data": {
      "text/html": [
       "<div>\n",
       "<style scoped>\n",
       "    .dataframe tbody tr th:only-of-type {\n",
       "        vertical-align: middle;\n",
       "    }\n",
       "\n",
       "    .dataframe tbody tr th {\n",
       "        vertical-align: top;\n",
       "    }\n",
       "\n",
       "    .dataframe thead th {\n",
       "        text-align: right;\n",
       "    }\n",
       "</style>\n",
       "<table border=\"1\" class=\"dataframe\">\n",
       "  <thead>\n",
       "    <tr style=\"text-align: right;\">\n",
       "      <th>Género</th>\n",
       "      <th>Masc</th>\n",
       "      <th>Feme</th>\n",
       "    </tr>\n",
       "    <tr>\n",
       "      <th>Patol</th>\n",
       "      <th></th>\n",
       "      <th></th>\n",
       "    </tr>\n",
       "  </thead>\n",
       "  <tbody>\n",
       "    <tr>\n",
       "      <th>SCA</th>\n",
       "      <td>4</td>\n",
       "      <td>6</td>\n",
       "    </tr>\n",
       "    <tr>\n",
       "      <th>PCR</th>\n",
       "      <td>2</td>\n",
       "      <td>2</td>\n",
       "    </tr>\n",
       "    <tr>\n",
       "      <th>PoliTMT</th>\n",
       "      <td>26</td>\n",
       "      <td>14</td>\n",
       "    </tr>\n",
       "    <tr>\n",
       "      <th>Otros</th>\n",
       "      <td>220</td>\n",
       "      <td>216</td>\n",
       "    </tr>\n",
       "  </tbody>\n",
       "</table>\n",
       "</div>"
      ],
      "text/plain": [
       "Género   Masc  Feme\n",
       "Patol              \n",
       "SCA         4     6\n",
       "PCR         2     2\n",
       "PoliTMT    26    14\n",
       "Otros     220   216"
      ]
     },
     "execution_count": 22,
     "metadata": {},
     "output_type": "execute_result"
    },
    {
     "data": {
      "text/html": [
       "<div>\n",
       "<style scoped>\n",
       "    .dataframe tbody tr th:only-of-type {\n",
       "        vertical-align: middle;\n",
       "    }\n",
       "\n",
       "    .dataframe tbody tr th {\n",
       "        vertical-align: top;\n",
       "    }\n",
       "\n",
       "    .dataframe thead tr th {\n",
       "        text-align: left;\n",
       "    }\n",
       "\n",
       "    .dataframe thead tr:last-of-type th {\n",
       "        text-align: right;\n",
       "    }\n",
       "</style>\n",
       "<table border=\"1\" class=\"dataframe\">\n",
       "  <thead>\n",
       "    <tr>\n",
       "      <th>Edad</th>\n",
       "      <th colspan=\"2\" halign=\"left\">[0, 5)</th>\n",
       "      <th colspan=\"2\" halign=\"left\">[5, 10)</th>\n",
       "      <th colspan=\"2\" halign=\"left\">[10, 15)</th>\n",
       "      <th colspan=\"2\" halign=\"left\">[15, 20)</th>\n",
       "    </tr>\n",
       "    <tr>\n",
       "      <th>Género</th>\n",
       "      <th>Masc</th>\n",
       "      <th>Feme</th>\n",
       "      <th>Masc</th>\n",
       "      <th>Feme</th>\n",
       "      <th>Masc</th>\n",
       "      <th>Feme</th>\n",
       "      <th>Masc</th>\n",
       "      <th>Feme</th>\n",
       "    </tr>\n",
       "    <tr>\n",
       "      <th>Patol</th>\n",
       "      <th></th>\n",
       "      <th></th>\n",
       "      <th></th>\n",
       "      <th></th>\n",
       "      <th></th>\n",
       "      <th></th>\n",
       "      <th></th>\n",
       "      <th></th>\n",
       "    </tr>\n",
       "  </thead>\n",
       "  <tbody>\n",
       "    <tr>\n",
       "      <th>SCA</th>\n",
       "      <td>0</td>\n",
       "      <td>0</td>\n",
       "      <td>0</td>\n",
       "      <td>0</td>\n",
       "      <td>0</td>\n",
       "      <td>0</td>\n",
       "      <td>0</td>\n",
       "      <td>0</td>\n",
       "    </tr>\n",
       "    <tr>\n",
       "      <th>PCR</th>\n",
       "      <td>0</td>\n",
       "      <td>0</td>\n",
       "      <td>0</td>\n",
       "      <td>0</td>\n",
       "      <td>0</td>\n",
       "      <td>0</td>\n",
       "      <td>0</td>\n",
       "      <td>0</td>\n",
       "    </tr>\n",
       "    <tr>\n",
       "      <th>PoliTMT</th>\n",
       "      <td>0</td>\n",
       "      <td>0</td>\n",
       "      <td>0</td>\n",
       "      <td>0</td>\n",
       "      <td>0</td>\n",
       "      <td>2</td>\n",
       "      <td>2</td>\n",
       "      <td>1</td>\n",
       "    </tr>\n",
       "    <tr>\n",
       "      <th>Otros</th>\n",
       "      <td>4</td>\n",
       "      <td>5</td>\n",
       "      <td>9</td>\n",
       "      <td>3</td>\n",
       "      <td>4</td>\n",
       "      <td>3</td>\n",
       "      <td>7</td>\n",
       "      <td>7</td>\n",
       "    </tr>\n",
       "  </tbody>\n",
       "</table>\n",
       "</div>"
      ],
      "text/plain": [
       "Edad    [0, 5)      [5, 10)      [10, 15)      [15, 20)     \n",
       "Género    Masc Feme    Masc Feme     Masc Feme     Masc Feme\n",
       "Patol                                                       \n",
       "SCA          0    0       0    0        0    0        0    0\n",
       "PCR          0    0       0    0        0    0        0    0\n",
       "PoliTMT      0    0       0    0        0    2        2    1\n",
       "Otros        4    5       9    3        4    3        7    7"
      ]
     },
     "execution_count": 22,
     "metadata": {},
     "output_type": "execute_result"
    },
    {
     "data": {
      "text/html": [
       "<div>\n",
       "<style scoped>\n",
       "    .dataframe tbody tr th:only-of-type {\n",
       "        vertical-align: middle;\n",
       "    }\n",
       "\n",
       "    .dataframe tbody tr th {\n",
       "        vertical-align: top;\n",
       "    }\n",
       "\n",
       "    .dataframe thead tr th {\n",
       "        text-align: left;\n",
       "    }\n",
       "\n",
       "    .dataframe thead tr:last-of-type th {\n",
       "        text-align: right;\n",
       "    }\n",
       "</style>\n",
       "<table border=\"1\" class=\"dataframe\">\n",
       "  <thead>\n",
       "    <tr>\n",
       "      <th>Edad</th>\n",
       "      <th colspan=\"2\" halign=\"left\">[20, 25)</th>\n",
       "      <th colspan=\"2\" halign=\"left\">[25, 30)</th>\n",
       "      <th colspan=\"2\" halign=\"left\">[30, 35)</th>\n",
       "      <th colspan=\"2\" halign=\"left\">[35, 40)</th>\n",
       "    </tr>\n",
       "    <tr>\n",
       "      <th>Género</th>\n",
       "      <th>Masc</th>\n",
       "      <th>Feme</th>\n",
       "      <th>Masc</th>\n",
       "      <th>Feme</th>\n",
       "      <th>Masc</th>\n",
       "      <th>Feme</th>\n",
       "      <th>Masc</th>\n",
       "      <th>Feme</th>\n",
       "    </tr>\n",
       "    <tr>\n",
       "      <th>Patol</th>\n",
       "      <th></th>\n",
       "      <th></th>\n",
       "      <th></th>\n",
       "      <th></th>\n",
       "      <th></th>\n",
       "      <th></th>\n",
       "      <th></th>\n",
       "      <th></th>\n",
       "    </tr>\n",
       "  </thead>\n",
       "  <tbody>\n",
       "    <tr>\n",
       "      <th>SCA</th>\n",
       "      <td>0</td>\n",
       "      <td>0</td>\n",
       "      <td>0</td>\n",
       "      <td>0</td>\n",
       "      <td>0</td>\n",
       "      <td>0</td>\n",
       "      <td>0</td>\n",
       "      <td>0</td>\n",
       "    </tr>\n",
       "    <tr>\n",
       "      <th>PCR</th>\n",
       "      <td>0</td>\n",
       "      <td>0</td>\n",
       "      <td>0</td>\n",
       "      <td>0</td>\n",
       "      <td>0</td>\n",
       "      <td>0</td>\n",
       "      <td>0</td>\n",
       "      <td>0</td>\n",
       "    </tr>\n",
       "    <tr>\n",
       "      <th>PoliTMT</th>\n",
       "      <td>2</td>\n",
       "      <td>1</td>\n",
       "      <td>1</td>\n",
       "      <td>1</td>\n",
       "      <td>5</td>\n",
       "      <td>1</td>\n",
       "      <td>3</td>\n",
       "      <td>1</td>\n",
       "    </tr>\n",
       "    <tr>\n",
       "      <th>Otros</th>\n",
       "      <td>8</td>\n",
       "      <td>7</td>\n",
       "      <td>8</td>\n",
       "      <td>7</td>\n",
       "      <td>7</td>\n",
       "      <td>1</td>\n",
       "      <td>1</td>\n",
       "      <td>4</td>\n",
       "    </tr>\n",
       "  </tbody>\n",
       "</table>\n",
       "</div>"
      ],
      "text/plain": [
       "Edad    [20, 25)      [25, 30)      [30, 35)      [35, 40)     \n",
       "Género      Masc Feme     Masc Feme     Masc Feme     Masc Feme\n",
       "Patol                                                          \n",
       "SCA            0    0        0    0        0    0        0    0\n",
       "PCR            0    0        0    0        0    0        0    0\n",
       "PoliTMT        2    1        1    1        5    1        3    1\n",
       "Otros          8    7        8    7        7    1        1    4"
      ]
     },
     "execution_count": 22,
     "metadata": {},
     "output_type": "execute_result"
    },
    {
     "data": {
      "text/html": [
       "<div>\n",
       "<style scoped>\n",
       "    .dataframe tbody tr th:only-of-type {\n",
       "        vertical-align: middle;\n",
       "    }\n",
       "\n",
       "    .dataframe tbody tr th {\n",
       "        vertical-align: top;\n",
       "    }\n",
       "\n",
       "    .dataframe thead tr th {\n",
       "        text-align: left;\n",
       "    }\n",
       "\n",
       "    .dataframe thead tr:last-of-type th {\n",
       "        text-align: right;\n",
       "    }\n",
       "</style>\n",
       "<table border=\"1\" class=\"dataframe\">\n",
       "  <thead>\n",
       "    <tr>\n",
       "      <th>Edad</th>\n",
       "      <th colspan=\"2\" halign=\"left\">[40, 45)</th>\n",
       "      <th colspan=\"2\" halign=\"left\">[45, 50)</th>\n",
       "      <th colspan=\"2\" halign=\"left\">[50, 55)</th>\n",
       "      <th colspan=\"2\" halign=\"left\">[55, 60)</th>\n",
       "    </tr>\n",
       "    <tr>\n",
       "      <th>Género</th>\n",
       "      <th>Masc</th>\n",
       "      <th>Feme</th>\n",
       "      <th>Masc</th>\n",
       "      <th>Feme</th>\n",
       "      <th>Masc</th>\n",
       "      <th>Feme</th>\n",
       "      <th>Masc</th>\n",
       "      <th>Feme</th>\n",
       "    </tr>\n",
       "    <tr>\n",
       "      <th>Patol</th>\n",
       "      <th></th>\n",
       "      <th></th>\n",
       "      <th></th>\n",
       "      <th></th>\n",
       "      <th></th>\n",
       "      <th></th>\n",
       "      <th></th>\n",
       "      <th></th>\n",
       "    </tr>\n",
       "  </thead>\n",
       "  <tbody>\n",
       "    <tr>\n",
       "      <th>SCA</th>\n",
       "      <td>0</td>\n",
       "      <td>1</td>\n",
       "      <td>2</td>\n",
       "      <td>0</td>\n",
       "      <td>1</td>\n",
       "      <td>0</td>\n",
       "      <td>0</td>\n",
       "      <td>1</td>\n",
       "    </tr>\n",
       "    <tr>\n",
       "      <th>PCR</th>\n",
       "      <td>0</td>\n",
       "      <td>0</td>\n",
       "      <td>1</td>\n",
       "      <td>0</td>\n",
       "      <td>0</td>\n",
       "      <td>0</td>\n",
       "      <td>0</td>\n",
       "      <td>0</td>\n",
       "    </tr>\n",
       "    <tr>\n",
       "      <th>PoliTMT</th>\n",
       "      <td>3</td>\n",
       "      <td>0</td>\n",
       "      <td>2</td>\n",
       "      <td>1</td>\n",
       "      <td>2</td>\n",
       "      <td>1</td>\n",
       "      <td>1</td>\n",
       "      <td>1</td>\n",
       "    </tr>\n",
       "    <tr>\n",
       "      <th>Otros</th>\n",
       "      <td>9</td>\n",
       "      <td>18</td>\n",
       "      <td>10</td>\n",
       "      <td>8</td>\n",
       "      <td>11</td>\n",
       "      <td>9</td>\n",
       "      <td>11</td>\n",
       "      <td>9</td>\n",
       "    </tr>\n",
       "  </tbody>\n",
       "</table>\n",
       "</div>"
      ],
      "text/plain": [
       "Edad    [40, 45)      [45, 50)      [50, 55)      [55, 60)     \n",
       "Género      Masc Feme     Masc Feme     Masc Feme     Masc Feme\n",
       "Patol                                                          \n",
       "SCA            0    1        2    0        1    0        0    1\n",
       "PCR            0    0        1    0        0    0        0    0\n",
       "PoliTMT        3    0        2    1        2    1        1    1\n",
       "Otros          9   18       10    8       11    9       11    9"
      ]
     },
     "execution_count": 22,
     "metadata": {},
     "output_type": "execute_result"
    },
    {
     "data": {
      "text/html": [
       "<div>\n",
       "<style scoped>\n",
       "    .dataframe tbody tr th:only-of-type {\n",
       "        vertical-align: middle;\n",
       "    }\n",
       "\n",
       "    .dataframe tbody tr th {\n",
       "        vertical-align: top;\n",
       "    }\n",
       "\n",
       "    .dataframe thead tr th {\n",
       "        text-align: left;\n",
       "    }\n",
       "\n",
       "    .dataframe thead tr:last-of-type th {\n",
       "        text-align: right;\n",
       "    }\n",
       "</style>\n",
       "<table border=\"1\" class=\"dataframe\">\n",
       "  <thead>\n",
       "    <tr>\n",
       "      <th>Edad</th>\n",
       "      <th colspan=\"2\" halign=\"left\">[60, 65)</th>\n",
       "      <th colspan=\"2\" halign=\"left\">[65, 70)</th>\n",
       "      <th colspan=\"2\" halign=\"left\">[70, 75)</th>\n",
       "      <th colspan=\"2\" halign=\"left\">[75, 80)</th>\n",
       "      <th colspan=\"2\" halign=\"left\">[80, 85)</th>\n",
       "    </tr>\n",
       "    <tr>\n",
       "      <th>Género</th>\n",
       "      <th>Masc</th>\n",
       "      <th>Feme</th>\n",
       "      <th>Masc</th>\n",
       "      <th>Feme</th>\n",
       "      <th>Masc</th>\n",
       "      <th>Feme</th>\n",
       "      <th>Masc</th>\n",
       "      <th>Feme</th>\n",
       "      <th>Masc</th>\n",
       "      <th>Feme</th>\n",
       "    </tr>\n",
       "    <tr>\n",
       "      <th>Patol</th>\n",
       "      <th></th>\n",
       "      <th></th>\n",
       "      <th></th>\n",
       "      <th></th>\n",
       "      <th></th>\n",
       "      <th></th>\n",
       "      <th></th>\n",
       "      <th></th>\n",
       "      <th></th>\n",
       "      <th></th>\n",
       "    </tr>\n",
       "  </thead>\n",
       "  <tbody>\n",
       "    <tr>\n",
       "      <th>SCA</th>\n",
       "      <td>0</td>\n",
       "      <td>0</td>\n",
       "      <td>0</td>\n",
       "      <td>2</td>\n",
       "      <td>1</td>\n",
       "      <td>0</td>\n",
       "      <td>0</td>\n",
       "      <td>1</td>\n",
       "      <td>0</td>\n",
       "      <td>1</td>\n",
       "    </tr>\n",
       "    <tr>\n",
       "      <th>PCR</th>\n",
       "      <td>0</td>\n",
       "      <td>1</td>\n",
       "      <td>0</td>\n",
       "      <td>1</td>\n",
       "      <td>1</td>\n",
       "      <td>0</td>\n",
       "      <td>0</td>\n",
       "      <td>0</td>\n",
       "      <td>0</td>\n",
       "      <td>0</td>\n",
       "    </tr>\n",
       "    <tr>\n",
       "      <th>PoliTMT</th>\n",
       "      <td>0</td>\n",
       "      <td>2</td>\n",
       "      <td>2</td>\n",
       "      <td>0</td>\n",
       "      <td>1</td>\n",
       "      <td>0</td>\n",
       "      <td>0</td>\n",
       "      <td>0</td>\n",
       "      <td>0</td>\n",
       "      <td>1</td>\n",
       "    </tr>\n",
       "    <tr>\n",
       "      <th>Otros</th>\n",
       "      <td>26</td>\n",
       "      <td>14</td>\n",
       "      <td>13</td>\n",
       "      <td>13</td>\n",
       "      <td>34</td>\n",
       "      <td>15</td>\n",
       "      <td>14</td>\n",
       "      <td>21</td>\n",
       "      <td>20</td>\n",
       "      <td>21</td>\n",
       "    </tr>\n",
       "  </tbody>\n",
       "</table>\n",
       "</div>"
      ],
      "text/plain": [
       "Edad    [60, 65)      [65, 70)      [70, 75)      [75, 80)      [80, 85)     \n",
       "Género      Masc Feme     Masc Feme     Masc Feme     Masc Feme     Masc Feme\n",
       "Patol                                                                        \n",
       "SCA            0    0        0    2        1    0        0    1        0    1\n",
       "PCR            0    1        0    1        1    0        0    0        0    0\n",
       "PoliTMT        0    2        2    0        1    0        0    0        0    1\n",
       "Otros         26   14       13   13       34   15       14   21       20   21"
      ]
     },
     "execution_count": 22,
     "metadata": {},
     "output_type": "execute_result"
    }
   ],
   "source": [
    "for fecha in np.sort(db1.Fecha.dt.to_period('M').unique()):\n",
    "    fecha\n",
    "    test = db1.loc[db1.Fecha.dt.to_period('M') == fecha]\n",
    "    dum1 = pd.cut(test.Edad, range(0, 90, 5), right=False)  \n",
    "    test['Patol'].value_counts(sort= False)\n",
    "    result0 = pd.crosstab(test['Patol'], test['Género'])\n",
    "    separador = ' -----------------------------------------------------------------'\n",
    "    result1 = pd.crosstab(test['Patol'], [dum1, test['Género']]).iloc[:,:8]\n",
    "    result2 = pd.crosstab(test['Patol'], [dum1, test['Género']]).iloc[:,8:16]\n",
    "    result3 = pd.crosstab(test['Patol'], [dum1, test['Género']]).iloc[:,16:24]\n",
    "    result4 = pd.crosstab(test['Patol'], [dum1, test['Género']]).iloc[:,24:]\n",
    "    result0\n",
    "    result1\n",
    "    result2\n",
    "    result3\n",
    "    result4"
   ]
  },
  {
   "cell_type": "code",
   "execution_count": 23,
   "metadata": {},
   "outputs": [
    {
     "data": {
      "text/plain": [
       "' Sección N: TRASLADO SECUNDARIO (Desde un Establecimiento a Otro)'"
      ]
     },
     "execution_count": 23,
     "metadata": {},
     "output_type": "execute_result"
    },
    {
     "data": {
      "text/plain": [
       "'Es una tabla larga, por lo que se divide en varios espacios '"
      ]
     },
     "execution_count": 23,
     "metadata": {},
     "output_type": "execute_result"
    }
   ],
   "source": [
    "titulo = ' Sección N: TRASLADO SECUNDARIO (Desde un Establecimiento a Otro)'\n",
    "texto = 'Es una tabla larga, por lo que se divide en varios espacios '\n",
    "\n",
    "titulo\n",
    "texto\n",
    "#result\n",
    "\n",
    "print(titulo, file=open('Informe.txt','a'))\n",
    "print(texto, file=open('Informe.txt','a'))\n",
    "print(result0, file=open('Informe.txt','a'))\n",
    "print(separador,file=open('Informe.txt','a'))  #Separador\n",
    "print(result1, file=open('Informe.txt','a'))\n",
    "print(separador,file=open('Informe.txt','a'))  #Separador\n",
    "print(result2, file=open('Informe.txt','a'))\n",
    "print(separador,file=open('Informe.txt','a'))  #Separador\n",
    "print(result3, file=open('Informe.txt','a'))\n",
    "print(separador,file=open('Informe.txt','a'))  #Separador\n",
    "print(result4, file=open('Informe.txt','a'))\n",
    "print(separador,file=open('Informe.txt','a'))  #Separador\n",
    "print(espacios, file=open('Informe.txt','a'))"
   ]
  },
  {
   "cell_type": "markdown",
   "metadata": {},
   "source": [
    "# Finalización\n",
    "Fin informe REM8"
   ]
  },
  {
   "cell_type": "code",
   "execution_count": 24,
   "metadata": {},
   "outputs": [],
   "source": [
    "print('Fin informe REM 8', file=open('Informe.txt','a'))\n"
   ]
  },
  {
   "cell_type": "markdown",
   "metadata": {},
   "source": [
    "# Análisis posteriores extra"
   ]
  },
  {
   "cell_type": "code",
   "execution_count": 25,
   "metadata": {
    "scrolled": true
   },
   "outputs": [
    {
     "data": {
      "text/html": [
       "<div>\n",
       "<style scoped>\n",
       "    .dataframe tbody tr th:only-of-type {\n",
       "        vertical-align: middle;\n",
       "    }\n",
       "\n",
       "    .dataframe tbody tr th {\n",
       "        vertical-align: top;\n",
       "    }\n",
       "\n",
       "    .dataframe thead th {\n",
       "        text-align: right;\n",
       "    }\n",
       "</style>\n",
       "<table border=\"1\" class=\"dataframe\">\n",
       "  <thead>\n",
       "    <tr style=\"text-align: right;\">\n",
       "      <th></th>\n",
       "      <th>Submotivo del Llamado</th>\n",
       "      <th>Id</th>\n",
       "    </tr>\n",
       "  </thead>\n",
       "  <tbody>\n",
       "    <tr>\n",
       "      <th>412</th>\n",
       "      <td>Fallecido</td>\n",
       "      <td>165088</td>\n",
       "    </tr>\n",
       "    <tr>\n",
       "      <th>466</th>\n",
       "      <td>Fallecido</td>\n",
       "      <td>165022</td>\n",
       "    </tr>\n",
       "    <tr>\n",
       "      <th>490</th>\n",
       "      <td>Fallecido</td>\n",
       "      <td>164997</td>\n",
       "    </tr>\n",
       "    <tr>\n",
       "      <th>572</th>\n",
       "      <td>Fallecido</td>\n",
       "      <td>164907</td>\n",
       "    </tr>\n",
       "    <tr>\n",
       "      <th>645</th>\n",
       "      <td>Fallecido</td>\n",
       "      <td>164815</td>\n",
       "    </tr>\n",
       "    <tr>\n",
       "      <th>985</th>\n",
       "      <td>Fallecido</td>\n",
       "      <td>164318</td>\n",
       "    </tr>\n",
       "    <tr>\n",
       "      <th>1025</th>\n",
       "      <td>Fallecido</td>\n",
       "      <td>164257</td>\n",
       "    </tr>\n",
       "    <tr>\n",
       "      <th>1192</th>\n",
       "      <td>Fallecido</td>\n",
       "      <td>164024</td>\n",
       "    </tr>\n",
       "    <tr>\n",
       "      <th>1264</th>\n",
       "      <td>Fallecido</td>\n",
       "      <td>163943</td>\n",
       "    </tr>\n",
       "    <tr>\n",
       "      <th>1280</th>\n",
       "      <td>Fallecido</td>\n",
       "      <td>163925</td>\n",
       "    </tr>\n",
       "    <tr>\n",
       "      <th>1317</th>\n",
       "      <td>Fallecido</td>\n",
       "      <td>163869</td>\n",
       "    </tr>\n",
       "    <tr>\n",
       "      <th>1346</th>\n",
       "      <td>Otros</td>\n",
       "      <td>163825</td>\n",
       "    </tr>\n",
       "    <tr>\n",
       "      <th>1359</th>\n",
       "      <td>Fallecido</td>\n",
       "      <td>163803</td>\n",
       "    </tr>\n",
       "    <tr>\n",
       "      <th>1601</th>\n",
       "      <td>Fallecido</td>\n",
       "      <td>163410</td>\n",
       "    </tr>\n",
       "    <tr>\n",
       "      <th>1710</th>\n",
       "      <td>Fallecido</td>\n",
       "      <td>163280</td>\n",
       "    </tr>\n",
       "    <tr>\n",
       "      <th>1722</th>\n",
       "      <td>Fallecido</td>\n",
       "      <td>163266</td>\n",
       "    </tr>\n",
       "    <tr>\n",
       "      <th>1821</th>\n",
       "      <td>Fallecido</td>\n",
       "      <td>163132</td>\n",
       "    </tr>\n",
       "    <tr>\n",
       "      <th>1939</th>\n",
       "      <td>Fallecido</td>\n",
       "      <td>162996</td>\n",
       "    </tr>\n",
       "    <tr>\n",
       "      <th>1971</th>\n",
       "      <td>Fallecido</td>\n",
       "      <td>162951</td>\n",
       "    </tr>\n",
       "    <tr>\n",
       "      <th>2266</th>\n",
       "      <td>Fallecido</td>\n",
       "      <td>162311</td>\n",
       "    </tr>\n",
       "    <tr>\n",
       "      <th>2370</th>\n",
       "      <td>Fallecido</td>\n",
       "      <td>162173</td>\n",
       "    </tr>\n",
       "    <tr>\n",
       "      <th>2621</th>\n",
       "      <td>Fallecido</td>\n",
       "      <td>161871</td>\n",
       "    </tr>\n",
       "    <tr>\n",
       "      <th>2666</th>\n",
       "      <td>Fallecido</td>\n",
       "      <td>161777</td>\n",
       "    </tr>\n",
       "    <tr>\n",
       "      <th>2803</th>\n",
       "      <td>Fallecido</td>\n",
       "      <td>161538</td>\n",
       "    </tr>\n",
       "    <tr>\n",
       "      <th>2923</th>\n",
       "      <td>Otros</td>\n",
       "      <td>161229</td>\n",
       "    </tr>\n",
       "    <tr>\n",
       "      <th>2933</th>\n",
       "      <td>Fallecido</td>\n",
       "      <td>161209</td>\n",
       "    </tr>\n",
       "    <tr>\n",
       "      <th>2937</th>\n",
       "      <td>Fallecido</td>\n",
       "      <td>161204</td>\n",
       "    </tr>\n",
       "    <tr>\n",
       "      <th>3067</th>\n",
       "      <td>Fallecido</td>\n",
       "      <td>161048</td>\n",
       "    </tr>\n",
       "    <tr>\n",
       "      <th>3077</th>\n",
       "      <td>Fallecido</td>\n",
       "      <td>161034</td>\n",
       "    </tr>\n",
       "    <tr>\n",
       "      <th>3245</th>\n",
       "      <td>Fallecido</td>\n",
       "      <td>160847</td>\n",
       "    </tr>\n",
       "    <tr>\n",
       "      <th>3274</th>\n",
       "      <td>Fallecido</td>\n",
       "      <td>160811</td>\n",
       "    </tr>\n",
       "    <tr>\n",
       "      <th>3391</th>\n",
       "      <td>Fallecido</td>\n",
       "      <td>160601</td>\n",
       "    </tr>\n",
       "    <tr>\n",
       "      <th>3537</th>\n",
       "      <td>Fallecido</td>\n",
       "      <td>160372</td>\n",
       "    </tr>\n",
       "    <tr>\n",
       "      <th>3727</th>\n",
       "      <td>Fallecido</td>\n",
       "      <td>160104</td>\n",
       "    </tr>\n",
       "    <tr>\n",
       "      <th>3779</th>\n",
       "      <td>Fallecido</td>\n",
       "      <td>160046</td>\n",
       "    </tr>\n",
       "    <tr>\n",
       "      <th>4043</th>\n",
       "      <td>Fallecido</td>\n",
       "      <td>159722</td>\n",
       "    </tr>\n",
       "    <tr>\n",
       "      <th>4163</th>\n",
       "      <td>Fallecido</td>\n",
       "      <td>159500</td>\n",
       "    </tr>\n",
       "    <tr>\n",
       "      <th>4176</th>\n",
       "      <td>Fallecido</td>\n",
       "      <td>159481</td>\n",
       "    </tr>\n",
       "    <tr>\n",
       "      <th>4215</th>\n",
       "      <td>Fallecido</td>\n",
       "      <td>159408</td>\n",
       "    </tr>\n",
       "    <tr>\n",
       "      <th>4506</th>\n",
       "      <td>Fallecido</td>\n",
       "      <td>159096</td>\n",
       "    </tr>\n",
       "    <tr>\n",
       "      <th>4653</th>\n",
       "      <td>Fallecido</td>\n",
       "      <td>158851</td>\n",
       "    </tr>\n",
       "    <tr>\n",
       "      <th>4703</th>\n",
       "      <td>Fallecido</td>\n",
       "      <td>158790</td>\n",
       "    </tr>\n",
       "    <tr>\n",
       "      <th>4798</th>\n",
       "      <td>Fallecido</td>\n",
       "      <td>158657</td>\n",
       "    </tr>\n",
       "    <tr>\n",
       "      <th>4823</th>\n",
       "      <td>Fallecido</td>\n",
       "      <td>158609</td>\n",
       "    </tr>\n",
       "    <tr>\n",
       "      <th>4827</th>\n",
       "      <td>Fallecido</td>\n",
       "      <td>158605</td>\n",
       "    </tr>\n",
       "  </tbody>\n",
       "</table>\n",
       "</div>"
      ],
      "text/plain": [
       "     Submotivo del Llamado      Id\n",
       "412              Fallecido  165088\n",
       "466              Fallecido  165022\n",
       "490              Fallecido  164997\n",
       "572              Fallecido  164907\n",
       "645              Fallecido  164815\n",
       "985              Fallecido  164318\n",
       "1025             Fallecido  164257\n",
       "1192             Fallecido  164024\n",
       "1264             Fallecido  163943\n",
       "1280             Fallecido  163925\n",
       "1317             Fallecido  163869\n",
       "1346                 Otros  163825\n",
       "1359             Fallecido  163803\n",
       "1601             Fallecido  163410\n",
       "1710             Fallecido  163280\n",
       "1722             Fallecido  163266\n",
       "1821             Fallecido  163132\n",
       "1939             Fallecido  162996\n",
       "1971             Fallecido  162951\n",
       "2266             Fallecido  162311\n",
       "2370             Fallecido  162173\n",
       "2621             Fallecido  161871\n",
       "2666             Fallecido  161777\n",
       "2803             Fallecido  161538\n",
       "2923                 Otros  161229\n",
       "2933             Fallecido  161209\n",
       "2937             Fallecido  161204\n",
       "3067             Fallecido  161048\n",
       "3077             Fallecido  161034\n",
       "3245             Fallecido  160847\n",
       "3274             Fallecido  160811\n",
       "3391             Fallecido  160601\n",
       "3537             Fallecido  160372\n",
       "3727             Fallecido  160104\n",
       "3779             Fallecido  160046\n",
       "4043             Fallecido  159722\n",
       "4163             Fallecido  159500\n",
       "4176             Fallecido  159481\n",
       "4215             Fallecido  159408\n",
       "4506             Fallecido  159096\n",
       "4653             Fallecido  158851\n",
       "4703             Fallecido  158790\n",
       "4798             Fallecido  158657\n",
       "4823             Fallecido  158609\n",
       "4827             Fallecido  158605"
      ]
     },
     "execution_count": 25,
     "metadata": {},
     "output_type": "execute_result"
    }
   ],
   "source": [
    "db1[db1['Motivo del Llamado']=='Otro'][['Submotivo del Llamado', 'Id']]"
   ]
  },
  {
   "cell_type": "code",
   "execution_count": null,
   "metadata": {},
   "outputs": [],
   "source": []
  },
  {
   "cell_type": "code",
   "execution_count": 26,
   "metadata": {},
   "outputs": [
    {
     "data": {
      "text/plain": [
       "count                  129810\n",
       "unique                 114230\n",
       "top       2018-11-23 14:30:10\n",
       "freq                      442\n",
       "first     2018-01-15 08:45:15\n",
       "last      2020-06-30 23:57:16\n",
       "Name: Fecha, dtype: object"
      ]
     },
     "execution_count": 26,
     "metadata": {},
     "output_type": "execute_result"
    }
   ],
   "source": [
    "BD.Fecha.describe()"
   ]
  },
  {
   "cell_type": "code",
   "execution_count": null,
   "metadata": {},
   "outputs": [],
   "source": []
  },
  {
   "cell_type": "code",
   "execution_count": null,
   "metadata": {},
   "outputs": [],
   "source": []
  }
 ],
 "metadata": {
  "kernelspec": {
   "display_name": "Python 3",
   "language": "python",
   "name": "python3"
  },
  "language_info": {
   "codemirror_mode": {
    "name": "ipython",
    "version": 3
   },
   "file_extension": ".py",
   "mimetype": "text/x-python",
   "name": "python",
   "nbconvert_exporter": "python",
   "pygments_lexer": "ipython3",
   "version": "3.7.3"
  }
 },
 "nbformat": 4,
 "nbformat_minor": 4
}
