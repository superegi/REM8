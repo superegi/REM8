{
 "cells": [
  {
   "cell_type": "markdown",
   "metadata": {},
   "source": [
    "Análisis REM8\n",
    " =========="
   ]
  },
  {
   "cell_type": "markdown",
   "metadata": {},
   "source": [
    "Comienzo cargando todos los paquetes necesarios"
   ]
  },
  {
   "cell_type": "code",
   "execution_count": 1,
   "metadata": {},
   "outputs": [],
   "source": [
    "import pandas as pd\n",
    "import numpy as np\n",
    "import matplotlib.pyplot as plt\n",
    "import scipy \n",
    "from scipy import stats\n",
    "import statsmodels.api as sm\n",
    "from statsmodels.formula.api import ols\n",
    "import datetime as dt\n",
    "import datetime\n",
    "from datetime import timedelta  \n",
    "import timeboard as tb # turnos \n",
    "\n",
    "# para tratar de poner espanol\n",
    "from datetime import date, datetime, time\n",
    "from babel.dates import format_date, format_datetime, format_time, format_timedelta, Locale\n",
    "import locale                                    # para tratar de poner espanol\n",
    "#locale = Locale('es', 'CL')\n",
    "#locale.setlocale(locale.LC_ALL,'es_ES.UTF-8')  \n",
    "\n",
    "import os\n",
    "import runpy\n",
    "from pyexcel_ods import get_data\n",
    "from matplotlib_venn import venn3\n",
    "from matplotlib_venn import venn2, venn2_circles\n",
    "import math\n",
    "\n",
    "from IPython.core.interactiveshell import InteractiveShell\n",
    "InteractiveShell.ast_node_interactivity = \"all\"\n",
    "%matplotlib inline\n",
    "\n",
    "\n",
    "#otro graficador\n",
    "import seaborn as sns\n",
    "\n",
    "#stats\n",
    "\n",
    "from sklearn.linear_model import LogisticRegression\n",
    "from sklearn import metrics\n",
    "from sklearn.model_selection import train_test_split\n",
    "from sklearn import model_selection\n",
    "from sklearn.model_selection import cross_val_score\n",
    "from sklearn.metrics import confusion_matrix\n",
    "from sklearn.metrics import classification_report"
   ]
  },
  {
   "cell_type": "code",
   "execution_count": 2,
   "metadata": {},
   "outputs": [],
   "source": [
    "# cargo algunos scripts que me suelen servir para análisis"
   ]
  },
  {
   "cell_type": "code",
   "execution_count": 3,
   "metadata": {
    "scrolled": true
   },
   "outputs": [
    {
     "data": {
      "text/plain": [
       "['/home/egidio/Dropbox/Compucosas/programas py/percentiles.py',\n",
       " '/home/egidio/Dropbox/Compucosas/programas py/características_operativas_de_test.py',\n",
       " '/home/egidio/Dropbox/Compucosas/programas py/lector_ODF.py',\n",
       " '/home/egidio/Dropbox/Compucosas/programas py/como importar',\n",
       " '/home/egidio/Dropbox/Compucosas/programas py/tabala_frecuencias.py',\n",
       " '/home/egidio/Dropbox/Compucosas/programas py/descripcion_univariada.py',\n",
       " '/home/egidio/Dropbox/Compucosas/programas py/__pycache__/características_operativas_de_test.cpython-36.pyc',\n",
       " '/home/egidio/Dropbox/Compucosas/programas py/__pycache__/tabala_frecuencias.cpython-36.pyc',\n",
       " '/home/egidio/Dropbox/Compucosas/programas py/__pycache__/lector_ODF.cpython-36.pyc',\n",
       " '/home/egidio/Dropbox/Compucosas/programas py/__pycache__/percentiles.cpython-36.pyc',\n",
       " '/home/egidio/Dropbox/Compucosas/programas py/__pycache__/funciones_locales.cpython-36.pyc',\n",
       " '/home/egidio/Dropbox/Compucosas/programas py/__pycache__/descripcion_univariada.cpython-36.pyc']"
      ]
     },
     "execution_count": 3,
     "metadata": {},
     "output_type": "execute_result"
    }
   ],
   "source": [
    "#listo los archivos\n",
    "scripts = []\n",
    "for dirname, dirnames, filenames in os.walk('/home/egidio/Dropbox/Compucosas/programas py'):\n",
    "    for filename in filenames:\n",
    "        scripts.append(os.path.join(dirname, filename))\n",
    "\n",
    "scripts\n",
    "\n",
    "# los cargo\n",
    "for script in scripts:\n",
    "    if script[-3:] == '.py':\n",
    "        exec(open(str(script)).read())\n"
   ]
  },
  {
   "cell_type": "markdown",
   "metadata": {},
   "source": [
    "# Cargo la BD"
   ]
  },
  {
   "cell_type": "code",
   "execution_count": 4,
   "metadata": {},
   "outputs": [],
   "source": [
    "BD = pd.read_pickle('./BD/eSAMU.pkl')"
   ]
  },
  {
   "cell_type": "code",
   "execution_count": 5,
   "metadata": {},
   "outputs": [
    {
     "data": {
      "text/plain": [
       "Index(['Id', 'Fecha', 'Motivo del Llamado', 'Submotivo del Llamado',\n",
       "       'Prioridad', 'Estado', 'Edad', 'Género', 'Dirección', 'Sector',\n",
       "       'Comuna', 'Región', 'Intervención', 'Tipo Traslado',\n",
       "       'Categoría Vehículo', 'Condición Traslado', 'En Regulación',\n",
       "       'En Despacho', 'En Curso', 'Atendida', 'Completado', 'Regulado',\n",
       "       'Usuario que Cierra', 'Móvil Agregado', 'Móvil Despachado',\n",
       "       'Móvil Salida', 'Móvil Llegada Lugar', 'Móvil en Traslado',\n",
       "       'Móvil Llegada a CA', 'Móvil Recepción Paciente',\n",
       "       'Móvil Camilla Retenida', 'Móvil Vuelta a Base', 'Móvil LLegada a Base',\n",
       "       'Móvil Finalizado', 'Nombre Vehículo', 'Tipo Requerido',\n",
       "       'Tipo Despachado', 'Km Recorrido', 'Chofer', 'Paramédico', 'Enfermero',\n",
       "       'Doctor', 'Longitud', 'Latitud', 'Diff_recep_Despachado',\n",
       "       'Diff_Despacho_Salida', 'Diff_salida_enellugar', 'Diff_z6_1',\n",
       "       'Diff_z6_2', 'Diff_z6_3'],\n",
       "      dtype='object')"
      ]
     },
     "execution_count": 5,
     "metadata": {},
     "output_type": "execute_result"
    },
    {
     "data": {
      "text/plain": [
       "count                  144468\n",
       "unique                 127960\n",
       "top       2018-11-23 14:30:10\n",
       "freq                      442\n",
       "first     2018-01-15 08:45:15\n",
       "last      2020-09-30 23:48:15\n",
       "Name: Fecha, dtype: object"
      ]
     },
     "execution_count": 5,
     "metadata": {},
     "output_type": "execute_result"
    },
    {
     "data": {
      "text/html": [
       "<div>\n",
       "<style scoped>\n",
       "    .dataframe tbody tr th:only-of-type {\n",
       "        vertical-align: middle;\n",
       "    }\n",
       "\n",
       "    .dataframe tbody tr th {\n",
       "        vertical-align: top;\n",
       "    }\n",
       "\n",
       "    .dataframe thead th {\n",
       "        text-align: right;\n",
       "    }\n",
       "</style>\n",
       "<table border=\"1\" class=\"dataframe\">\n",
       "  <thead>\n",
       "    <tr style=\"text-align: right;\">\n",
       "      <th></th>\n",
       "      <th>Id</th>\n",
       "      <th>Fecha</th>\n",
       "      <th>Motivo del Llamado</th>\n",
       "      <th>Submotivo del Llamado</th>\n",
       "      <th>Prioridad</th>\n",
       "      <th>Estado</th>\n",
       "      <th>Edad</th>\n",
       "      <th>Género</th>\n",
       "      <th>Dirección</th>\n",
       "      <th>Sector</th>\n",
       "      <th>...</th>\n",
       "      <th>Enfermero</th>\n",
       "      <th>Doctor</th>\n",
       "      <th>Longitud</th>\n",
       "      <th>Latitud</th>\n",
       "      <th>Diff_recep_Despachado</th>\n",
       "      <th>Diff_Despacho_Salida</th>\n",
       "      <th>Diff_salida_enellugar</th>\n",
       "      <th>Diff_z6_1</th>\n",
       "      <th>Diff_z6_2</th>\n",
       "      <th>Diff_z6_3</th>\n",
       "    </tr>\n",
       "  </thead>\n",
       "  <tbody>\n",
       "    <tr>\n",
       "      <th>0</th>\n",
       "      <td>173592</td>\n",
       "      <td>2020-07-31 23:55:20</td>\n",
       "      <td>Consciencia</td>\n",
       "      <td>Comportamientos extraños</td>\n",
       "      <td>S3</td>\n",
       "      <td>Completado</td>\n",
       "      <td>90.0</td>\n",
       "      <td>Masculino</td>\n",
       "      <td>calle caupolican 86, viña del mar</td>\n",
       "      <td>Achupallas</td>\n",
       "      <td>...</td>\n",
       "      <td>NaN</td>\n",
       "      <td>NaN</td>\n",
       "      <td>NaN</td>\n",
       "      <td>NaN</td>\n",
       "      <td>00:08:22</td>\n",
       "      <td>00:00:03</td>\n",
       "      <td>NaT</td>\n",
       "      <td>NaT</td>\n",
       "      <td>NaT</td>\n",
       "      <td>NaT</td>\n",
       "    </tr>\n",
       "    <tr>\n",
       "      <th>1</th>\n",
       "      <td>173591</td>\n",
       "      <td>2020-07-31 23:55:02</td>\n",
       "      <td>Traslados</td>\n",
       "      <td>Tr. Rescate</td>\n",
       "      <td>S3</td>\n",
       "      <td>Completado</td>\n",
       "      <td>65.0</td>\n",
       "      <td>Masculino</td>\n",
       "      <td>NaN</td>\n",
       "      <td>NaN</td>\n",
       "      <td>...</td>\n",
       "      <td>NaN</td>\n",
       "      <td>NaN</td>\n",
       "      <td>NaN</td>\n",
       "      <td>NaN</td>\n",
       "      <td>00:03:45</td>\n",
       "      <td>00:05:00</td>\n",
       "      <td>00:11:36</td>\n",
       "      <td>01:26:14</td>\n",
       "      <td>NaT</td>\n",
       "      <td>00:04:16</td>\n",
       "    </tr>\n",
       "  </tbody>\n",
       "</table>\n",
       "<p>2 rows × 50 columns</p>\n",
       "</div>"
      ],
      "text/plain": [
       "       Id               Fecha Motivo del Llamado     Submotivo del Llamado  \\\n",
       "0  173592 2020-07-31 23:55:20        Consciencia  Comportamientos extraños   \n",
       "1  173591 2020-07-31 23:55:02          Traslados               Tr. Rescate   \n",
       "\n",
       "  Prioridad      Estado  Edad     Género                          Dirección  \\\n",
       "0        S3  Completado  90.0  Masculino  calle caupolican 86, viña del mar   \n",
       "1        S3  Completado  65.0  Masculino                                NaN   \n",
       "\n",
       "       Sector  ... Enfermero Doctor Longitud Latitud Diff_recep_Despachado  \\\n",
       "0  Achupallas  ...       NaN    NaN      NaN     NaN              00:08:22   \n",
       "1         NaN  ...       NaN    NaN      NaN     NaN              00:03:45   \n",
       "\n",
       "  Diff_Despacho_Salida Diff_salida_enellugar Diff_z6_1 Diff_z6_2 Diff_z6_3  \n",
       "0             00:00:03                   NaT       NaT       NaT       NaT  \n",
       "1             00:05:00              00:11:36  01:26:14       NaT  00:04:16  \n",
       "\n",
       "[2 rows x 50 columns]"
      ]
     },
     "execution_count": 5,
     "metadata": {},
     "output_type": "execute_result"
    }
   ],
   "source": [
    "BD.columns\n",
    "BD.Fecha.describe()\n",
    "BD.head(2)\n"
   ]
  },
  {
   "cell_type": "markdown",
   "metadata": {},
   "source": [
    "para efectos de este análisis es importante dividir ambulancias según su complejidad"
   ]
  },
  {
   "cell_type": "code",
   "execution_count": 6,
   "metadata": {},
   "outputs": [],
   "source": [
    "BD['Bas_avan'] = BD['Tipo Despachado'] \n",
    "BD.loc[BD['Tipo Despachado'] == 'm1' , 'Bas_avan' ] = 'Básico'\n",
    "BD.loc[BD['Tipo Despachado'] == 'm2' , 'Bas_avan' ] = 'Avanzado'\n",
    "BD.loc[BD['Tipo Despachado'] == 'm3' , 'Bas_avan' ] = 'Avanzado'\n",
    "BD.loc[BD['Tipo Despachado'] == 'x5' , 'Bas_avan' ] = 'Avanzado'"
   ]
  },
  {
   "cell_type": "markdown",
   "metadata": {},
   "source": [
    "defino Bas_avan como categórico"
   ]
  },
  {
   "cell_type": "markdown",
   "metadata": {},
   "source": [
    "# defino la BD con la que trabajaré"
   ]
  },
  {
   "cell_type": "markdown",
   "metadata": {},
   "source": [
    "El informe a continuación es un análisis del:\n",
    "* fecha\n",
    "* sector"
   ]
  },
  {
   "cell_type": "markdown",
   "metadata": {},
   "source": [
    "## según fecha"
   ]
  },
  {
   "cell_type": "code",
   "execution_count": 7,
   "metadata": {},
   "outputs": [
    {
     "data": {
      "text/plain": [
       "array([Period('2020-09', 'M')], dtype=object)"
      ]
     },
     "execution_count": 7,
     "metadata": {},
     "output_type": "execute_result"
    }
   ],
   "source": [
    "rango = (                                            #mes Septiembre\n",
    "    (BD.Fecha > pd.to_datetime('2020-09-01')) &\n",
    "    (BD.Fecha < pd.to_datetime('2020-09-30'))\n",
    ")\n",
    "\n",
    "db1 = BD[rango].copy()\n",
    "np.sort(db1.Fecha.dt.to_period('M').unique())"
   ]
  },
  {
   "cell_type": "markdown",
   "metadata": {},
   "source": [
    "## segun ambulancias"
   ]
  },
  {
   "cell_type": "code",
   "execution_count": 8,
   "metadata": {},
   "outputs": [
    {
     "data": {
      "text/plain": [
       "array(['R24', 'R80', 'R32', 'R21', 'R22', nan, 'R100', 'R23', 'R31',\n",
       "       'R62', 'Móvil Las Parcelas', 'R25', 'AP2', 'R83', 'AP 14', 'R13',\n",
       "       'R12', 'AP27', 'R52', 'R91', 'AP41', 'VIR SAMU SSVQ', 'R41',\n",
       "       'Móvil Traslado.', 'R101', 'R11', 'R20', 'Móvil Artificio', 'R57',\n",
       "       'R43', 'R33', 'AP28', 'R92', 'AP51', 'AP31', 'R51', 'W56', 'R73',\n",
       "       'AP1', 'MOVIL LONCURA', 'AP15', 'AP26', 'R71',\n",
       "       'REMA  Poli Naval Villa Alemana', 'R44', 'Móvil Puchuncaví', 'R42',\n",
       "       'R72', 'Móvil Hijuelas', 'AT90', 'AT53', 'MOVIL EL MELON',\n",
       "       'nogales movil 8', 'R26', 'R50', 'MOVIL SAPU VENTANA',\n",
       "       'AP-17 Loncura', 'Móvil Papudo', 'AP16', 'MOVIL RUTA',\n",
       "       'Móvil Ventana', 'R61', 'Móvil Nogales', 'W133 Carabineros', 'R10',\n",
       "       'AT51', 'R81', 'Corona-movil calera 1', 'R53',\n",
       "       'Corona-movil hijuelas', 'R34', 'REMA Hospital Naval',\n",
       "       'Corona-movil villa alemana', 'R82', 'Corona-movil olmue'],\n",
       "      dtype=object)"
      ]
     },
     "execution_count": 8,
     "metadata": {},
     "output_type": "execute_result"
    }
   ],
   "source": [
    "db1['Nombre Vehículo'].unique()"
   ]
  },
  {
   "cell_type": "markdown",
   "metadata": {},
   "source": [
    "elegir uno"
   ]
  },
  {
   "cell_type": "code",
   "execution_count": 9,
   "metadata": {},
   "outputs": [],
   "source": [
    "# Comentar todo o no\n",
    "\n",
    "sector = db1['Nombre Vehículo'].str.contains('R3') == True\n",
    "db1 = db1[sector]"
   ]
  },
  {
   "cell_type": "code",
   "execution_count": 10,
   "metadata": {},
   "outputs": [
    {
     "data": {
      "text/plain": [
       "'Este es un inforque que considera el mes de September. En el territorio de Quilpué.\\n'"
      ]
     },
     "execution_count": 10,
     "metadata": {},
     "output_type": "execute_result"
    }
   ],
   "source": [
    "texto1 = 'Este es un inforque que considera el mes de '\n",
    "texto2 = 'En el territorio de '\n",
    "\n",
    "# sector = 'SSVQ'\n",
    "sector = db1.Comuna.value_counts().index[0]\n",
    "\n",
    "mes= db1.Fecha.describe()[4].strftime('%B')\n",
    "\n",
    "result = texto1 + mes + '. ' + texto2 + sector + '.' + '\\n'\n",
    "result\n",
    "print(result, file=open('Informe.txt','a'))"
   ]
  },
  {
   "cell_type": "code",
   "execution_count": 11,
   "metadata": {},
   "outputs": [
    {
     "data": {
      "text/plain": [
       "Quilpué          277\n",
       "Villa Alemana      9\n",
       "Name: Comuna, dtype: int64"
      ]
     },
     "execution_count": 11,
     "metadata": {},
     "output_type": "execute_result"
    }
   ],
   "source": [
    "db1.Comuna.value_counts()"
   ]
  },
  {
   "cell_type": "markdown",
   "metadata": {},
   "source": [
    "# defino el archivo donde guardaré la info"
   ]
  },
  {
   "cell_type": "markdown",
   "metadata": {},
   "source": [
    "Será un archivo"
   ]
  },
  {
   "cell_type": "markdown",
   "metadata": {},
   "source": [
    "como dividir por fecha"
   ]
  },
  {
   "cell_type": "code",
   "execution_count": 12,
   "metadata": {},
   "outputs": [
    {
     "data": {
      "text/plain": [
       "array([Period('2020-09', 'M')], dtype=object)"
      ]
     },
     "execution_count": 12,
     "metadata": {},
     "output_type": "execute_result"
    }
   ],
   "source": [
    "np.sort(db1.Fecha.dt.to_period('M').unique())"
   ]
  },
  {
   "cell_type": "markdown",
   "metadata": {},
   "source": [
    "## Sección K: INTERVENCIONES PRE HOSPITALARIAS (SAMU)"
   ]
  },
  {
   "cell_type": "markdown",
   "metadata": {},
   "source": [
    "prestaciones según recurso"
   ]
  },
  {
   "cell_type": "code",
   "execution_count": 13,
   "metadata": {
    "scrolled": true
   },
   "outputs": [
    {
     "name": "stdout",
     "output_type": "stream",
     "text": [
      "Por Mes\n"
     ]
    },
    {
     "data": {
      "text/plain": [
       "Period('2020-09', 'M')"
      ]
     },
     "execution_count": 13,
     "metadata": {},
     "output_type": "execute_result"
    },
    {
     "data": {
      "text/html": [
       "<div>\n",
       "<style scoped>\n",
       "    .dataframe tbody tr th:only-of-type {\n",
       "        vertical-align: middle;\n",
       "    }\n",
       "\n",
       "    .dataframe tbody tr th {\n",
       "        vertical-align: top;\n",
       "    }\n",
       "\n",
       "    .dataframe thead th {\n",
       "        text-align: right;\n",
       "    }\n",
       "</style>\n",
       "<table border=\"1\" class=\"dataframe\">\n",
       "  <thead>\n",
       "    <tr style=\"text-align: right;\">\n",
       "      <th>Tiempo llegada al lugar</th>\n",
       "      <th>Menos 20 min</th>\n",
       "      <th>20 a 40 min</th>\n",
       "      <th>Más 40 min</th>\n",
       "      <th>Total</th>\n",
       "    </tr>\n",
       "    <tr>\n",
       "      <th>Tipo Móvil</th>\n",
       "      <th></th>\n",
       "      <th></th>\n",
       "      <th></th>\n",
       "      <th></th>\n",
       "    </tr>\n",
       "  </thead>\n",
       "  <tbody>\n",
       "    <tr>\n",
       "      <th>Avanzado</th>\n",
       "      <td>0</td>\n",
       "      <td>0</td>\n",
       "      <td>62</td>\n",
       "      <td>93</td>\n",
       "    </tr>\n",
       "    <tr>\n",
       "      <th>Básico</th>\n",
       "      <td>5</td>\n",
       "      <td>0</td>\n",
       "      <td>160</td>\n",
       "      <td>238</td>\n",
       "    </tr>\n",
       "    <tr>\n",
       "      <th>Total</th>\n",
       "      <td>6</td>\n",
       "      <td>0</td>\n",
       "      <td>285</td>\n",
       "      <td>421</td>\n",
       "    </tr>\n",
       "  </tbody>\n",
       "</table>\n",
       "</div>"
      ],
      "text/plain": [
       "Tiempo llegada al lugar  Menos 20 min  20 a 40 min  Más 40 min  Total\n",
       "Tipo Móvil                                                           \n",
       "Avanzado                            0            0          62     93\n",
       "Básico                              5            0         160    238\n",
       "Total                               6            0         285    421"
      ]
     },
     "execution_count": 13,
     "metadata": {},
     "output_type": "execute_result"
    }
   ],
   "source": [
    "# los tiempos de z17 al z8 los divido según requisito planilla\n",
    "cortado = pd.cut(\n",
    "    db1.Diff_salida_enellugar.dt.seconds,\n",
    "    [0, 20, 40, 1000000],\n",
    "    labels = ['Menos 20 min',  '20 a 40 min',  'Más 40 min'])\n",
    "\n",
    "# tabulo\n",
    "#pd.crosstab(db1.Bas_avan, cortado, margins=True, margins_name= 'Total')\n",
    "\n",
    "# tabulo por mes\n",
    "print('Por Mes')\n",
    "dum1 = cortado\n",
    "for fecha in np.sort(db1.Fecha.dt.to_period('M').unique()):\n",
    "    fecha\n",
    "    test = db1.loc[db1.Fecha.dt.to_period('M') == fecha]\n",
    "    result = pd.crosstab(\n",
    "        test['Bas_avan'],\n",
    "        dum1,\n",
    "        margins=True, margins_name= 'Total', dropna=False)\n",
    "    result.columns.name = 'Tiempo llegada al lugar'\n",
    "    result.index.name = 'Tipo Móvil'\n",
    "    result"
   ]
  },
  {
   "cell_type": "markdown",
   "metadata": {},
   "source": [
    "escribo en el archivo"
   ]
  },
  {
   "cell_type": "code",
   "execution_count": 14,
   "metadata": {},
   "outputs": [
    {
     "data": {
      "text/plain": [
       "'Sección K: INTERVENCIONES PRE HOSPITALARIAS (SAMU)'"
      ]
     },
     "execution_count": 14,
     "metadata": {},
     "output_type": "execute_result"
    },
    {
     "data": {
      "text/plain": [
       "'Se asume que todas las intervenciones críticas son realizadas por móviles avanzados y que las no-críticas por móviles básicos. Esto determina que las casillas de las prestaciones críticas tengan valores de cero para móviles básicos y las prestaciones no-críticas tengan valores cero para móviles avanzados. \\n \\n'"
      ]
     },
     "execution_count": 14,
     "metadata": {},
     "output_type": "execute_result"
    },
    {
     "data": {
      "text/html": [
       "<div>\n",
       "<style scoped>\n",
       "    .dataframe tbody tr th:only-of-type {\n",
       "        vertical-align: middle;\n",
       "    }\n",
       "\n",
       "    .dataframe tbody tr th {\n",
       "        vertical-align: top;\n",
       "    }\n",
       "\n",
       "    .dataframe thead th {\n",
       "        text-align: right;\n",
       "    }\n",
       "</style>\n",
       "<table border=\"1\" class=\"dataframe\">\n",
       "  <thead>\n",
       "    <tr style=\"text-align: right;\">\n",
       "      <th>Tiempo llegada al lugar</th>\n",
       "      <th>Menos 20 min</th>\n",
       "      <th>20 a 40 min</th>\n",
       "      <th>Más 40 min</th>\n",
       "      <th>Total</th>\n",
       "    </tr>\n",
       "    <tr>\n",
       "      <th>Tipo Móvil</th>\n",
       "      <th></th>\n",
       "      <th></th>\n",
       "      <th></th>\n",
       "      <th></th>\n",
       "    </tr>\n",
       "  </thead>\n",
       "  <tbody>\n",
       "    <tr>\n",
       "      <th>Avanzado</th>\n",
       "      <td>0</td>\n",
       "      <td>0</td>\n",
       "      <td>62</td>\n",
       "      <td>93</td>\n",
       "    </tr>\n",
       "    <tr>\n",
       "      <th>Básico</th>\n",
       "      <td>5</td>\n",
       "      <td>0</td>\n",
       "      <td>160</td>\n",
       "      <td>238</td>\n",
       "    </tr>\n",
       "    <tr>\n",
       "      <th>Total</th>\n",
       "      <td>6</td>\n",
       "      <td>0</td>\n",
       "      <td>285</td>\n",
       "      <td>421</td>\n",
       "    </tr>\n",
       "  </tbody>\n",
       "</table>\n",
       "</div>"
      ],
      "text/plain": [
       "Tiempo llegada al lugar  Menos 20 min  20 a 40 min  Más 40 min  Total\n",
       "Tipo Móvil                                                           \n",
       "Avanzado                            0            0          62     93\n",
       "Básico                              5            0         160    238\n",
       "Total                               6            0         285    421"
      ]
     },
     "execution_count": 14,
     "metadata": {},
     "output_type": "execute_result"
    }
   ],
   "source": [
    "titulo = 'Sección K: INTERVENCIONES PRE HOSPITALARIAS (SAMU)'\n",
    "texto = 'Se asume que todas las intervenciones críticas son realizadas \\\n",
    "por móviles avanzados y que las no-críticas por móviles básicos. Esto \\\n",
    "determina que las casillas de las prestaciones críticas tengan valores \\\n",
    "de cero para móviles básicos y las prestaciones no-críticas tengan \\\n",
    "valores cero para móviles avanzados. \\n \\n'\n",
    "espacios = '\\n \\n'\n",
    "\n",
    "titulo\n",
    "texto\n",
    "result\n",
    "\n",
    "print(titulo, file=open('Informe.txt','a'))\n",
    "print(texto, file=open('Informe.txt','a'))\n",
    "print(result, file=open('Informe.txt','a'))\n",
    "print(espacios, file=open('Informe.txt','a'))"
   ]
  },
  {
   "cell_type": "markdown",
   "metadata": {},
   "source": [
    "## Sección L:  TRASLADOS PRIMARIOS A UNIDADES DE URGENCIA (Desde el lugar del evento a unidad de Emergencia)"
   ]
  },
  {
   "cell_type": "code",
   "execution_count": 15,
   "metadata": {},
   "outputs": [
    {
     "data": {
      "text/plain": [
       "enrutado    134\n",
       "Name: Categoría Vehículo, dtype: int64"
      ]
     },
     "execution_count": 15,
     "metadata": {},
     "output_type": "execute_result"
    }
   ],
   "source": [
    "db1['Categoría Vehículo'].value_counts()\n",
    "#pd.crosstab(db1['Categoría Vehículo'], test['Bas_avan'])\n",
    "\n",
    "db1['Categoría Vehículo'] = pd.Categorical(db1['Categoría Vehículo'],\n",
    "                                           categories=['samu', 'enrutado', 'nosamu'])"
   ]
  },
  {
   "cell_type": "code",
   "execution_count": 16,
   "metadata": {},
   "outputs": [
    {
     "data": {
      "text/plain": [
       "Period('2020-09', 'M')"
      ]
     },
     "execution_count": 16,
     "metadata": {},
     "output_type": "execute_result"
    },
    {
     "data": {
      "text/plain": [
       "Categoría Vehículo  Tipo móvil\n",
       "samu                Avanzado       0\n",
       "                    Básico         0\n",
       "enrutado            Avanzado      25\n",
       "                    Básico        35\n",
       "nosamu              Avanzado       0\n",
       "                    Básico         0\n",
       "Name: Id, dtype: int64"
      ]
     },
     "execution_count": 16,
     "metadata": {},
     "output_type": "execute_result"
    }
   ],
   "source": [
    "for fecha in np.sort(db1.Fecha.dt.to_period('M').unique()):\n",
    "    fecha\n",
    "    test = db1.loc[db1.Fecha.dt.to_period('M') == fecha]\n",
    "    test = test.loc[test['Motivo del Llamado'] != 'Traslados']\n",
    "    result = test.groupby(['Categoría Vehículo', 'Bas_avan' ])['Id'].count()\n",
    "    result.index.names = ['Categoría Vehículo', 'Tipo móvil']\n",
    "    result"
   ]
  },
  {
   "cell_type": "markdown",
   "metadata": {},
   "source": [
    "escribo en el archivo"
   ]
  },
  {
   "cell_type": "code",
   "execution_count": 17,
   "metadata": {},
   "outputs": [
    {
     "data": {
      "text/plain": [
       "' Sección L:  TRASLADOS PRIMARIOS A UNIDADES DE URGENCIA'"
      ]
     },
     "execution_count": 17,
     "metadata": {},
     "output_type": "execute_result"
    },
    {
     "data": {
      "text/plain": [
       "' '"
      ]
     },
     "execution_count": 17,
     "metadata": {},
     "output_type": "execute_result"
    },
    {
     "data": {
      "text/plain": [
       "Categoría Vehículo  Tipo móvil\n",
       "samu                Avanzado       0\n",
       "                    Básico         0\n",
       "enrutado            Avanzado      25\n",
       "                    Básico        35\n",
       "nosamu              Avanzado       0\n",
       "                    Básico         0\n",
       "Name: Id, dtype: int64"
      ]
     },
     "execution_count": 17,
     "metadata": {},
     "output_type": "execute_result"
    }
   ],
   "source": [
    "titulo = ' Sección L:  TRASLADOS PRIMARIOS A UNIDADES DE URGENCIA'\n",
    "texto = ' '\n",
    "\n",
    "titulo\n",
    "texto\n",
    "result\n",
    "\n",
    "print(titulo, file=open('Informe.txt','a'))\n",
    "print(texto, file=open('Informe.txt','a'))\n",
    "print(result, file=open('Informe.txt','a'))\n",
    "print(espacios, file=open('Informe.txt','a'))"
   ]
  },
  {
   "cell_type": "markdown",
   "metadata": {},
   "source": [
    "## Sección M: TRASLADO SECUNDARIO (Desde un Establecimiento a Otro)"
   ]
  },
  {
   "cell_type": "code",
   "execution_count": 18,
   "metadata": {},
   "outputs": [
    {
     "data": {
      "text/plain": [
       "Period('2020-09', 'M')"
      ]
     },
     "execution_count": 18,
     "metadata": {},
     "output_type": "execute_result"
    },
    {
     "data": {
      "text/plain": [
       "Categoría Vehículo  Tipo móvil\n",
       "samu                Avanzado       0\n",
       "                    Básico         0\n",
       "enrutado            Avanzado      22\n",
       "                    Básico        23\n",
       "nosamu              Avanzado       0\n",
       "                    Básico         0\n",
       "Name: Id, dtype: int64"
      ]
     },
     "execution_count": 18,
     "metadata": {},
     "output_type": "execute_result"
    }
   ],
   "source": [
    "for fecha in np.sort(db1.Fecha.dt.to_period('M').unique()):\n",
    "    fecha\n",
    "    test = db1.loc[db1.Fecha.dt.to_period('M') == fecha]\n",
    "    test = test.loc[test['Motivo del Llamado'] == 'Traslados']\n",
    "    result = test.groupby(['Categoría Vehículo', 'Bas_avan' ])['Id'].count()\n",
    "    result.index.names = ['Categoría Vehículo', 'Tipo móvil']\n",
    "    result"
   ]
  },
  {
   "cell_type": "code",
   "execution_count": 19,
   "metadata": {},
   "outputs": [
    {
     "data": {
      "text/plain": [
       "' Sección M: TRASLADO SECUNDARIO (Desde un Establecimiento a Otro)'"
      ]
     },
     "execution_count": 19,
     "metadata": {},
     "output_type": "execute_result"
    },
    {
     "data": {
      "text/plain": [
       "' '"
      ]
     },
     "execution_count": 19,
     "metadata": {},
     "output_type": "execute_result"
    },
    {
     "data": {
      "text/plain": [
       "Categoría Vehículo  Tipo móvil\n",
       "samu                Avanzado       0\n",
       "                    Básico         0\n",
       "enrutado            Avanzado      22\n",
       "                    Básico        23\n",
       "nosamu              Avanzado       0\n",
       "                    Básico         0\n",
       "Name: Id, dtype: int64"
      ]
     },
     "execution_count": 19,
     "metadata": {},
     "output_type": "execute_result"
    }
   ],
   "source": [
    "titulo = ' Sección M: TRASLADO SECUNDARIO (Desde un Establecimiento a Otro)'\n",
    "texto = ' '\n",
    "\n",
    "titulo\n",
    "texto\n",
    "result\n",
    "\n",
    "print(titulo, file=open('Informe.txt','a'))\n",
    "print(texto, file=open('Informe.txt','a'))\n",
    "print(result, file=open('Informe.txt','a'))\n",
    "print(espacios, file=open('Informe.txt','a'))"
   ]
  },
  {
   "cell_type": "markdown",
   "metadata": {},
   "source": [
    "# Sección N: CLASIFICACION DE LAS INTERVENCIONES POR GRANDES GRUPOS DE DIAGNOSTICOS (SAMU)"
   ]
  },
  {
   "cell_type": "code",
   "execution_count": 20,
   "metadata": {},
   "outputs": [],
   "source": [
    "db1['Patol'] = np.nan\n",
    "db1.loc[db1['Submotivo del Llamado'] == 'Accidente vehicular o transporte. Atropellos',\n",
    "        'Patol'] = 'PoliTMT'\n",
    "db1.loc[db1['Submotivo del Llamado'] == 'Accidente múltiples víctimas (cualquier razón)',\n",
    "        'Patol'] = 'PoliTMT'\n",
    "db1.loc[db1['Submotivo del Llamado'] == 'Caídas graves',\n",
    "        'Patol'] = 'PoliTMT'\n",
    "\n",
    "db1.loc[db1['Submotivo del Llamado'] == 'Colapso respiratorio o circulatorio. PCR. Asfixia',\n",
    "        'Patol'] = 'PCR'\n",
    "\n",
    "db1.loc[db1['Submotivo del Llamado'] == 'Dolor de pecho',\n",
    "        'Patol'] = 'SCA'\n",
    "\n",
    "db1.loc[db1['Patol'].isnull(),\n",
    "        'Patol'] = 'Otros'\n",
    "\n",
    "db1['Patol'] = pd.Categorical(db1['Patol'], categories=['SCA', 'PCR', 'PoliTMT', 'Otros'])"
   ]
  },
  {
   "cell_type": "code",
   "execution_count": 21,
   "metadata": {},
   "outputs": [],
   "source": [
    "db1.loc[db1['Género'] == 'Femenino', 'Género'] = 'Feme'\n",
    "db1.loc[db1['Género'] == 'Masculino', 'Género'] = 'Masc'\n",
    "\n",
    "db1['Género'] = pd.Categorical(db1['Género'], categories=['Masc', 'Feme'])"
   ]
  },
  {
   "cell_type": "code",
   "execution_count": 22,
   "metadata": {
    "scrolled": true
   },
   "outputs": [
    {
     "data": {
      "text/plain": [
       "Period('2020-09', 'M')"
      ]
     },
     "execution_count": 22,
     "metadata": {},
     "output_type": "execute_result"
    },
    {
     "data": {
      "text/plain": [
       "SCA         11\n",
       "PCR          1\n",
       "PoliTMT     32\n",
       "Otros      377\n",
       "Name: Patol, dtype: int64"
      ]
     },
     "execution_count": 22,
     "metadata": {},
     "output_type": "execute_result"
    },
    {
     "data": {
      "text/html": [
       "<div>\n",
       "<style scoped>\n",
       "    .dataframe tbody tr th:only-of-type {\n",
       "        vertical-align: middle;\n",
       "    }\n",
       "\n",
       "    .dataframe tbody tr th {\n",
       "        vertical-align: top;\n",
       "    }\n",
       "\n",
       "    .dataframe thead th {\n",
       "        text-align: right;\n",
       "    }\n",
       "</style>\n",
       "<table border=\"1\" class=\"dataframe\">\n",
       "  <thead>\n",
       "    <tr style=\"text-align: right;\">\n",
       "      <th>Género</th>\n",
       "      <th>Masc</th>\n",
       "      <th>Feme</th>\n",
       "    </tr>\n",
       "    <tr>\n",
       "      <th>Patol</th>\n",
       "      <th></th>\n",
       "      <th></th>\n",
       "    </tr>\n",
       "  </thead>\n",
       "  <tbody>\n",
       "    <tr>\n",
       "      <th>SCA</th>\n",
       "      <td>7</td>\n",
       "      <td>4</td>\n",
       "    </tr>\n",
       "    <tr>\n",
       "      <th>PCR</th>\n",
       "      <td>1</td>\n",
       "      <td>0</td>\n",
       "    </tr>\n",
       "    <tr>\n",
       "      <th>PoliTMT</th>\n",
       "      <td>15</td>\n",
       "      <td>15</td>\n",
       "    </tr>\n",
       "    <tr>\n",
       "      <th>Otros</th>\n",
       "      <td>195</td>\n",
       "      <td>172</td>\n",
       "    </tr>\n",
       "  </tbody>\n",
       "</table>\n",
       "</div>"
      ],
      "text/plain": [
       "Género   Masc  Feme\n",
       "Patol              \n",
       "SCA         7     4\n",
       "PCR         1     0\n",
       "PoliTMT    15    15\n",
       "Otros     195   172"
      ]
     },
     "execution_count": 22,
     "metadata": {},
     "output_type": "execute_result"
    },
    {
     "data": {
      "text/html": [
       "<div>\n",
       "<style scoped>\n",
       "    .dataframe tbody tr th:only-of-type {\n",
       "        vertical-align: middle;\n",
       "    }\n",
       "\n",
       "    .dataframe tbody tr th {\n",
       "        vertical-align: top;\n",
       "    }\n",
       "\n",
       "    .dataframe thead tr th {\n",
       "        text-align: left;\n",
       "    }\n",
       "\n",
       "    .dataframe thead tr:last-of-type th {\n",
       "        text-align: right;\n",
       "    }\n",
       "</style>\n",
       "<table border=\"1\" class=\"dataframe\">\n",
       "  <thead>\n",
       "    <tr>\n",
       "      <th>Edad</th>\n",
       "      <th colspan=\"2\" halign=\"left\">[0, 5)</th>\n",
       "      <th colspan=\"2\" halign=\"left\">[5, 10)</th>\n",
       "      <th colspan=\"2\" halign=\"left\">[10, 15)</th>\n",
       "      <th colspan=\"2\" halign=\"left\">[15, 20)</th>\n",
       "    </tr>\n",
       "    <tr>\n",
       "      <th>Género</th>\n",
       "      <th>Masc</th>\n",
       "      <th>Feme</th>\n",
       "      <th>Masc</th>\n",
       "      <th>Feme</th>\n",
       "      <th>Masc</th>\n",
       "      <th>Feme</th>\n",
       "      <th>Masc</th>\n",
       "      <th>Feme</th>\n",
       "    </tr>\n",
       "    <tr>\n",
       "      <th>Patol</th>\n",
       "      <th></th>\n",
       "      <th></th>\n",
       "      <th></th>\n",
       "      <th></th>\n",
       "      <th></th>\n",
       "      <th></th>\n",
       "      <th></th>\n",
       "      <th></th>\n",
       "    </tr>\n",
       "  </thead>\n",
       "  <tbody>\n",
       "    <tr>\n",
       "      <th>SCA</th>\n",
       "      <td>0</td>\n",
       "      <td>0</td>\n",
       "      <td>0</td>\n",
       "      <td>0</td>\n",
       "      <td>0</td>\n",
       "      <td>0</td>\n",
       "      <td>0</td>\n",
       "      <td>0</td>\n",
       "    </tr>\n",
       "    <tr>\n",
       "      <th>PoliTMT</th>\n",
       "      <td>0</td>\n",
       "      <td>0</td>\n",
       "      <td>0</td>\n",
       "      <td>0</td>\n",
       "      <td>0</td>\n",
       "      <td>0</td>\n",
       "      <td>1</td>\n",
       "      <td>0</td>\n",
       "    </tr>\n",
       "    <tr>\n",
       "      <th>Otros</th>\n",
       "      <td>1</td>\n",
       "      <td>3</td>\n",
       "      <td>1</td>\n",
       "      <td>1</td>\n",
       "      <td>2</td>\n",
       "      <td>5</td>\n",
       "      <td>5</td>\n",
       "      <td>9</td>\n",
       "    </tr>\n",
       "  </tbody>\n",
       "</table>\n",
       "</div>"
      ],
      "text/plain": [
       "Edad    [0, 5)      [5, 10)      [10, 15)      [15, 20)     \n",
       "Género    Masc Feme    Masc Feme     Masc Feme     Masc Feme\n",
       "Patol                                                       \n",
       "SCA          0    0       0    0        0    0        0    0\n",
       "PoliTMT      0    0       0    0        0    0        1    0\n",
       "Otros        1    3       1    1        2    5        5    9"
      ]
     },
     "execution_count": 22,
     "metadata": {},
     "output_type": "execute_result"
    },
    {
     "data": {
      "text/html": [
       "<div>\n",
       "<style scoped>\n",
       "    .dataframe tbody tr th:only-of-type {\n",
       "        vertical-align: middle;\n",
       "    }\n",
       "\n",
       "    .dataframe tbody tr th {\n",
       "        vertical-align: top;\n",
       "    }\n",
       "\n",
       "    .dataframe thead tr th {\n",
       "        text-align: left;\n",
       "    }\n",
       "\n",
       "    .dataframe thead tr:last-of-type th {\n",
       "        text-align: right;\n",
       "    }\n",
       "</style>\n",
       "<table border=\"1\" class=\"dataframe\">\n",
       "  <thead>\n",
       "    <tr>\n",
       "      <th>Edad</th>\n",
       "      <th colspan=\"2\" halign=\"left\">[20, 25)</th>\n",
       "      <th colspan=\"2\" halign=\"left\">[25, 30)</th>\n",
       "      <th colspan=\"2\" halign=\"left\">[30, 35)</th>\n",
       "      <th colspan=\"2\" halign=\"left\">[35, 40)</th>\n",
       "    </tr>\n",
       "    <tr>\n",
       "      <th>Género</th>\n",
       "      <th>Masc</th>\n",
       "      <th>Feme</th>\n",
       "      <th>Masc</th>\n",
       "      <th>Feme</th>\n",
       "      <th>Masc</th>\n",
       "      <th>Feme</th>\n",
       "      <th>Masc</th>\n",
       "      <th>Feme</th>\n",
       "    </tr>\n",
       "    <tr>\n",
       "      <th>Patol</th>\n",
       "      <th></th>\n",
       "      <th></th>\n",
       "      <th></th>\n",
       "      <th></th>\n",
       "      <th></th>\n",
       "      <th></th>\n",
       "      <th></th>\n",
       "      <th></th>\n",
       "    </tr>\n",
       "  </thead>\n",
       "  <tbody>\n",
       "    <tr>\n",
       "      <th>SCA</th>\n",
       "      <td>0</td>\n",
       "      <td>0</td>\n",
       "      <td>0</td>\n",
       "      <td>0</td>\n",
       "      <td>0</td>\n",
       "      <td>0</td>\n",
       "      <td>1</td>\n",
       "      <td>0</td>\n",
       "    </tr>\n",
       "    <tr>\n",
       "      <th>PoliTMT</th>\n",
       "      <td>2</td>\n",
       "      <td>1</td>\n",
       "      <td>3</td>\n",
       "      <td>0</td>\n",
       "      <td>4</td>\n",
       "      <td>3</td>\n",
       "      <td>2</td>\n",
       "      <td>2</td>\n",
       "    </tr>\n",
       "    <tr>\n",
       "      <th>Otros</th>\n",
       "      <td>4</td>\n",
       "      <td>6</td>\n",
       "      <td>5</td>\n",
       "      <td>3</td>\n",
       "      <td>12</td>\n",
       "      <td>6</td>\n",
       "      <td>3</td>\n",
       "      <td>3</td>\n",
       "    </tr>\n",
       "  </tbody>\n",
       "</table>\n",
       "</div>"
      ],
      "text/plain": [
       "Edad    [20, 25)      [25, 30)      [30, 35)      [35, 40)     \n",
       "Género      Masc Feme     Masc Feme     Masc Feme     Masc Feme\n",
       "Patol                                                          \n",
       "SCA            0    0        0    0        0    0        1    0\n",
       "PoliTMT        2    1        3    0        4    3        2    2\n",
       "Otros          4    6        5    3       12    6        3    3"
      ]
     },
     "execution_count": 22,
     "metadata": {},
     "output_type": "execute_result"
    },
    {
     "data": {
      "text/html": [
       "<div>\n",
       "<style scoped>\n",
       "    .dataframe tbody tr th:only-of-type {\n",
       "        vertical-align: middle;\n",
       "    }\n",
       "\n",
       "    .dataframe tbody tr th {\n",
       "        vertical-align: top;\n",
       "    }\n",
       "\n",
       "    .dataframe thead tr th {\n",
       "        text-align: left;\n",
       "    }\n",
       "\n",
       "    .dataframe thead tr:last-of-type th {\n",
       "        text-align: right;\n",
       "    }\n",
       "</style>\n",
       "<table border=\"1\" class=\"dataframe\">\n",
       "  <thead>\n",
       "    <tr>\n",
       "      <th>Edad</th>\n",
       "      <th colspan=\"2\" halign=\"left\">[40, 45)</th>\n",
       "      <th colspan=\"2\" halign=\"left\">[45, 50)</th>\n",
       "      <th colspan=\"2\" halign=\"left\">[50, 55)</th>\n",
       "      <th colspan=\"2\" halign=\"left\">[55, 60)</th>\n",
       "    </tr>\n",
       "    <tr>\n",
       "      <th>Género</th>\n",
       "      <th>Masc</th>\n",
       "      <th>Feme</th>\n",
       "      <th>Masc</th>\n",
       "      <th>Feme</th>\n",
       "      <th>Masc</th>\n",
       "      <th>Feme</th>\n",
       "      <th>Masc</th>\n",
       "      <th>Feme</th>\n",
       "    </tr>\n",
       "    <tr>\n",
       "      <th>Patol</th>\n",
       "      <th></th>\n",
       "      <th></th>\n",
       "      <th></th>\n",
       "      <th></th>\n",
       "      <th></th>\n",
       "      <th></th>\n",
       "      <th></th>\n",
       "      <th></th>\n",
       "    </tr>\n",
       "  </thead>\n",
       "  <tbody>\n",
       "    <tr>\n",
       "      <th>SCA</th>\n",
       "      <td>0</td>\n",
       "      <td>0</td>\n",
       "      <td>1</td>\n",
       "      <td>0</td>\n",
       "      <td>0</td>\n",
       "      <td>0</td>\n",
       "      <td>0</td>\n",
       "      <td>0</td>\n",
       "    </tr>\n",
       "    <tr>\n",
       "      <th>PoliTMT</th>\n",
       "      <td>1</td>\n",
       "      <td>1</td>\n",
       "      <td>1</td>\n",
       "      <td>0</td>\n",
       "      <td>0</td>\n",
       "      <td>2</td>\n",
       "      <td>1</td>\n",
       "      <td>1</td>\n",
       "    </tr>\n",
       "    <tr>\n",
       "      <th>Otros</th>\n",
       "      <td>5</td>\n",
       "      <td>10</td>\n",
       "      <td>1</td>\n",
       "      <td>1</td>\n",
       "      <td>10</td>\n",
       "      <td>8</td>\n",
       "      <td>12</td>\n",
       "      <td>2</td>\n",
       "    </tr>\n",
       "  </tbody>\n",
       "</table>\n",
       "</div>"
      ],
      "text/plain": [
       "Edad    [40, 45)      [45, 50)      [50, 55)      [55, 60)     \n",
       "Género      Masc Feme     Masc Feme     Masc Feme     Masc Feme\n",
       "Patol                                                          \n",
       "SCA            0    0        1    0        0    0        0    0\n",
       "PoliTMT        1    1        1    0        0    2        1    1\n",
       "Otros          5   10        1    1       10    8       12    2"
      ]
     },
     "execution_count": 22,
     "metadata": {},
     "output_type": "execute_result"
    },
    {
     "data": {
      "text/html": [
       "<div>\n",
       "<style scoped>\n",
       "    .dataframe tbody tr th:only-of-type {\n",
       "        vertical-align: middle;\n",
       "    }\n",
       "\n",
       "    .dataframe tbody tr th {\n",
       "        vertical-align: top;\n",
       "    }\n",
       "\n",
       "    .dataframe thead tr th {\n",
       "        text-align: left;\n",
       "    }\n",
       "\n",
       "    .dataframe thead tr:last-of-type th {\n",
       "        text-align: right;\n",
       "    }\n",
       "</style>\n",
       "<table border=\"1\" class=\"dataframe\">\n",
       "  <thead>\n",
       "    <tr>\n",
       "      <th>Edad</th>\n",
       "      <th colspan=\"2\" halign=\"left\">[60, 65)</th>\n",
       "      <th colspan=\"2\" halign=\"left\">[65, 70)</th>\n",
       "      <th colspan=\"2\" halign=\"left\">[70, 75)</th>\n",
       "      <th colspan=\"2\" halign=\"left\">[75, 80)</th>\n",
       "      <th colspan=\"2\" halign=\"left\">[80, 85)</th>\n",
       "    </tr>\n",
       "    <tr>\n",
       "      <th>Género</th>\n",
       "      <th>Masc</th>\n",
       "      <th>Feme</th>\n",
       "      <th>Masc</th>\n",
       "      <th>Feme</th>\n",
       "      <th>Masc</th>\n",
       "      <th>Feme</th>\n",
       "      <th>Masc</th>\n",
       "      <th>Feme</th>\n",
       "      <th>Masc</th>\n",
       "      <th>Feme</th>\n",
       "    </tr>\n",
       "    <tr>\n",
       "      <th>Patol</th>\n",
       "      <th></th>\n",
       "      <th></th>\n",
       "      <th></th>\n",
       "      <th></th>\n",
       "      <th></th>\n",
       "      <th></th>\n",
       "      <th></th>\n",
       "      <th></th>\n",
       "      <th></th>\n",
       "      <th></th>\n",
       "    </tr>\n",
       "  </thead>\n",
       "  <tbody>\n",
       "    <tr>\n",
       "      <th>SCA</th>\n",
       "      <td>0</td>\n",
       "      <td>1</td>\n",
       "      <td>0</td>\n",
       "      <td>0</td>\n",
       "      <td>1</td>\n",
       "      <td>0</td>\n",
       "      <td>1</td>\n",
       "      <td>1</td>\n",
       "      <td>2</td>\n",
       "      <td>1</td>\n",
       "    </tr>\n",
       "    <tr>\n",
       "      <th>PoliTMT</th>\n",
       "      <td>0</td>\n",
       "      <td>1</td>\n",
       "      <td>0</td>\n",
       "      <td>3</td>\n",
       "      <td>0</td>\n",
       "      <td>0</td>\n",
       "      <td>0</td>\n",
       "      <td>0</td>\n",
       "      <td>0</td>\n",
       "      <td>1</td>\n",
       "    </tr>\n",
       "    <tr>\n",
       "      <th>Otros</th>\n",
       "      <td>21</td>\n",
       "      <td>12</td>\n",
       "      <td>14</td>\n",
       "      <td>16</td>\n",
       "      <td>23</td>\n",
       "      <td>12</td>\n",
       "      <td>29</td>\n",
       "      <td>12</td>\n",
       "      <td>9</td>\n",
       "      <td>16</td>\n",
       "    </tr>\n",
       "  </tbody>\n",
       "</table>\n",
       "</div>"
      ],
      "text/plain": [
       "Edad    [60, 65)      [65, 70)      [70, 75)      [75, 80)      [80, 85)     \n",
       "Género      Masc Feme     Masc Feme     Masc Feme     Masc Feme     Masc Feme\n",
       "Patol                                                                        \n",
       "SCA            0    1        0    0        1    0        1    1        2    1\n",
       "PoliTMT        0    1        0    3        0    0        0    0        0    1\n",
       "Otros         21   12       14   16       23   12       29   12        9   16"
      ]
     },
     "execution_count": 22,
     "metadata": {},
     "output_type": "execute_result"
    }
   ],
   "source": [
    "for fecha in np.sort(db1.Fecha.dt.to_period('M').unique()):\n",
    "    fecha\n",
    "    test = db1.loc[db1.Fecha.dt.to_period('M') == fecha]\n",
    "    dum1 = pd.cut(test.Edad, range(0, 90, 5), right=False)  \n",
    "    test['Patol'].value_counts(sort= False)\n",
    "    result0 = pd.crosstab(test['Patol'], test['Género'])\n",
    "    separador = ' -----------------------------------------------------------------'\n",
    "    result1 = pd.crosstab(test['Patol'], [dum1, test['Género']]).iloc[:,:8]\n",
    "    result2 = pd.crosstab(test['Patol'], [dum1, test['Género']]).iloc[:,8:16]\n",
    "    result3 = pd.crosstab(test['Patol'], [dum1, test['Género']]).iloc[:,16:24]\n",
    "    result4 = pd.crosstab(test['Patol'], [dum1, test['Género']]).iloc[:,24:]\n",
    "    result0\n",
    "    result1\n",
    "    result2\n",
    "    result3\n",
    "    result4"
   ]
  },
  {
   "cell_type": "code",
   "execution_count": 23,
   "metadata": {},
   "outputs": [
    {
     "data": {
      "text/plain": [
       "' Sección N: TRASLADO SECUNDARIO (Desde un Establecimiento a Otro)'"
      ]
     },
     "execution_count": 23,
     "metadata": {},
     "output_type": "execute_result"
    },
    {
     "data": {
      "text/plain": [
       "'Es una tabla larga, por lo que se divide en varios espacios '"
      ]
     },
     "execution_count": 23,
     "metadata": {},
     "output_type": "execute_result"
    }
   ],
   "source": [
    "titulo = ' Sección N: TRASLADO SECUNDARIO (Desde un Establecimiento a Otro)'\n",
    "texto = 'Es una tabla larga, por lo que se divide en varios espacios '\n",
    "\n",
    "titulo\n",
    "texto\n",
    "#result\n",
    "\n",
    "print(titulo, file=open('Informe.txt','a'))\n",
    "print(texto, file=open('Informe.txt','a'))\n",
    "print(result0, file=open('Informe.txt','a'))\n",
    "print(separador,file=open('Informe.txt','a'))  #Separador\n",
    "print(result1, file=open('Informe.txt','a'))\n",
    "print(separador,file=open('Informe.txt','a'))  #Separador\n",
    "print(result2, file=open('Informe.txt','a'))\n",
    "print(separador,file=open('Informe.txt','a'))  #Separador\n",
    "print(result3, file=open('Informe.txt','a'))\n",
    "print(separador,file=open('Informe.txt','a'))  #Separador\n",
    "print(result4, file=open('Informe.txt','a'))\n",
    "print(separador,file=open('Informe.txt','a'))  #Separador\n",
    "print(espacios, file=open('Informe.txt','a'))"
   ]
  },
  {
   "cell_type": "markdown",
   "metadata": {},
   "source": [
    "# Finalización\n",
    "Fin informe REM8"
   ]
  },
  {
   "cell_type": "code",
   "execution_count": 24,
   "metadata": {},
   "outputs": [],
   "source": [
    "print('Fin informe REM 8', file=open('Informe.txt','a'))\n"
   ]
  },
  {
   "cell_type": "markdown",
   "metadata": {},
   "source": [
    "# Análisis posteriores extra"
   ]
  },
  {
   "cell_type": "code",
   "execution_count": 25,
   "metadata": {
    "scrolled": true
   },
   "outputs": [
    {
     "data": {
      "text/html": [
       "<div>\n",
       "<style scoped>\n",
       "    .dataframe tbody tr th:only-of-type {\n",
       "        vertical-align: middle;\n",
       "    }\n",
       "\n",
       "    .dataframe tbody tr th {\n",
       "        vertical-align: top;\n",
       "    }\n",
       "\n",
       "    .dataframe thead th {\n",
       "        text-align: right;\n",
       "    }\n",
       "</style>\n",
       "<table border=\"1\" class=\"dataframe\">\n",
       "  <thead>\n",
       "    <tr style=\"text-align: right;\">\n",
       "      <th></th>\n",
       "      <th>Submotivo del Llamado</th>\n",
       "      <th>Id</th>\n",
       "    </tr>\n",
       "  </thead>\n",
       "  <tbody>\n",
       "    <tr>\n",
       "      <th>161</th>\n",
       "      <td>Fallecido</td>\n",
       "      <td>185692</td>\n",
       "    </tr>\n",
       "    <tr>\n",
       "      <th>203</th>\n",
       "      <td>Fallecido</td>\n",
       "      <td>185628</td>\n",
       "    </tr>\n",
       "    <tr>\n",
       "      <th>326</th>\n",
       "      <td>Fallecido</td>\n",
       "      <td>185413</td>\n",
       "    </tr>\n",
       "    <tr>\n",
       "      <th>832</th>\n",
       "      <td>Fallecido</td>\n",
       "      <td>184639</td>\n",
       "    </tr>\n",
       "    <tr>\n",
       "      <th>921</th>\n",
       "      <td>Fallecido</td>\n",
       "      <td>184472</td>\n",
       "    </tr>\n",
       "    <tr>\n",
       "      <th>974</th>\n",
       "      <td>Fallecido</td>\n",
       "      <td>184380</td>\n",
       "    </tr>\n",
       "    <tr>\n",
       "      <th>981</th>\n",
       "      <td>Fallecido</td>\n",
       "      <td>184373</td>\n",
       "    </tr>\n",
       "    <tr>\n",
       "      <th>1101</th>\n",
       "      <td>Fallecido</td>\n",
       "      <td>184204</td>\n",
       "    </tr>\n",
       "    <tr>\n",
       "      <th>1204</th>\n",
       "      <td>Fallecido</td>\n",
       "      <td>184040</td>\n",
       "    </tr>\n",
       "    <tr>\n",
       "      <th>1286</th>\n",
       "      <td>Fallecido</td>\n",
       "      <td>183929</td>\n",
       "    </tr>\n",
       "    <tr>\n",
       "      <th>1402</th>\n",
       "      <td>Fallecido</td>\n",
       "      <td>183726</td>\n",
       "    </tr>\n",
       "    <tr>\n",
       "      <th>1490</th>\n",
       "      <td>Fallecido</td>\n",
       "      <td>183607</td>\n",
       "    </tr>\n",
       "    <tr>\n",
       "      <th>1940</th>\n",
       "      <td>Fallecido</td>\n",
       "      <td>183124</td>\n",
       "    </tr>\n",
       "    <tr>\n",
       "      <th>2079</th>\n",
       "      <td>Fallecido</td>\n",
       "      <td>182901</td>\n",
       "    </tr>\n",
       "    <tr>\n",
       "      <th>2098</th>\n",
       "      <td>Fallecido</td>\n",
       "      <td>182874</td>\n",
       "    </tr>\n",
       "    <tr>\n",
       "      <th>2268</th>\n",
       "      <td>Fallecido</td>\n",
       "      <td>182618</td>\n",
       "    </tr>\n",
       "    <tr>\n",
       "      <th>2752</th>\n",
       "      <td>Fallecido</td>\n",
       "      <td>181942</td>\n",
       "    </tr>\n",
       "    <tr>\n",
       "      <th>2776</th>\n",
       "      <td>Fallecido</td>\n",
       "      <td>181907</td>\n",
       "    </tr>\n",
       "    <tr>\n",
       "      <th>2897</th>\n",
       "      <td>Fallecido</td>\n",
       "      <td>181780</td>\n",
       "    </tr>\n",
       "    <tr>\n",
       "      <th>3010</th>\n",
       "      <td>Fallecido</td>\n",
       "      <td>181659</td>\n",
       "    </tr>\n",
       "    <tr>\n",
       "      <th>3081</th>\n",
       "      <td>Fallecido</td>\n",
       "      <td>181581</td>\n",
       "    </tr>\n",
       "    <tr>\n",
       "      <th>3082</th>\n",
       "      <td>Fallecido</td>\n",
       "      <td>181578</td>\n",
       "    </tr>\n",
       "    <tr>\n",
       "      <th>3110</th>\n",
       "      <td>Fallecido</td>\n",
       "      <td>181538</td>\n",
       "    </tr>\n",
       "    <tr>\n",
       "      <th>3265</th>\n",
       "      <td>Fallecido</td>\n",
       "      <td>181269</td>\n",
       "    </tr>\n",
       "    <tr>\n",
       "      <th>3375</th>\n",
       "      <td>Fallecido</td>\n",
       "      <td>181098</td>\n",
       "    </tr>\n",
       "    <tr>\n",
       "      <th>3557</th>\n",
       "      <td>Fallecido</td>\n",
       "      <td>180882</td>\n",
       "    </tr>\n",
       "    <tr>\n",
       "      <th>3563</th>\n",
       "      <td>Fallecido</td>\n",
       "      <td>180874</td>\n",
       "    </tr>\n",
       "    <tr>\n",
       "      <th>3615</th>\n",
       "      <td>Fallecido</td>\n",
       "      <td>180818</td>\n",
       "    </tr>\n",
       "    <tr>\n",
       "      <th>3625</th>\n",
       "      <td>Fallecido</td>\n",
       "      <td>180808</td>\n",
       "    </tr>\n",
       "    <tr>\n",
       "      <th>3805</th>\n",
       "      <td>Caso social</td>\n",
       "      <td>180626</td>\n",
       "    </tr>\n",
       "    <tr>\n",
       "      <th>4067</th>\n",
       "      <td>Fallecido</td>\n",
       "      <td>180268</td>\n",
       "    </tr>\n",
       "    <tr>\n",
       "      <th>4355</th>\n",
       "      <td>Fallecido</td>\n",
       "      <td>179924</td>\n",
       "    </tr>\n",
       "    <tr>\n",
       "      <th>4377</th>\n",
       "      <td>Fallecido</td>\n",
       "      <td>179885</td>\n",
       "    </tr>\n",
       "    <tr>\n",
       "      <th>4504</th>\n",
       "      <td>Otros</td>\n",
       "      <td>179715</td>\n",
       "    </tr>\n",
       "    <tr>\n",
       "      <th>4539</th>\n",
       "      <td>Fallecido</td>\n",
       "      <td>179665</td>\n",
       "    </tr>\n",
       "  </tbody>\n",
       "</table>\n",
       "</div>"
      ],
      "text/plain": [
       "     Submotivo del Llamado      Id\n",
       "161              Fallecido  185692\n",
       "203              Fallecido  185628\n",
       "326              Fallecido  185413\n",
       "832              Fallecido  184639\n",
       "921              Fallecido  184472\n",
       "974              Fallecido  184380\n",
       "981              Fallecido  184373\n",
       "1101             Fallecido  184204\n",
       "1204             Fallecido  184040\n",
       "1286             Fallecido  183929\n",
       "1402             Fallecido  183726\n",
       "1490             Fallecido  183607\n",
       "1940             Fallecido  183124\n",
       "2079             Fallecido  182901\n",
       "2098             Fallecido  182874\n",
       "2268             Fallecido  182618\n",
       "2752             Fallecido  181942\n",
       "2776             Fallecido  181907\n",
       "2897             Fallecido  181780\n",
       "3010             Fallecido  181659\n",
       "3081             Fallecido  181581\n",
       "3082             Fallecido  181578\n",
       "3110             Fallecido  181538\n",
       "3265             Fallecido  181269\n",
       "3375             Fallecido  181098\n",
       "3557             Fallecido  180882\n",
       "3563             Fallecido  180874\n",
       "3615             Fallecido  180818\n",
       "3625             Fallecido  180808\n",
       "3805           Caso social  180626\n",
       "4067             Fallecido  180268\n",
       "4355             Fallecido  179924\n",
       "4377             Fallecido  179885\n",
       "4504                 Otros  179715\n",
       "4539             Fallecido  179665"
      ]
     },
     "execution_count": 25,
     "metadata": {},
     "output_type": "execute_result"
    }
   ],
   "source": [
    "db1[db1['Motivo del Llamado']=='Otro'][['Submotivo del Llamado', 'Id']]"
   ]
  },
  {
   "cell_type": "code",
   "execution_count": null,
   "metadata": {},
   "outputs": [],
   "source": []
  },
  {
   "cell_type": "code",
   "execution_count": 26,
   "metadata": {},
   "outputs": [
    {
     "data": {
      "text/plain": [
       "count                  144468\n",
       "unique                 127960\n",
       "top       2018-11-23 14:30:10\n",
       "freq                      442\n",
       "first     2018-01-15 08:45:15\n",
       "last      2020-09-30 23:48:15\n",
       "Name: Fecha, dtype: object"
      ]
     },
     "execution_count": 26,
     "metadata": {},
     "output_type": "execute_result"
    }
   ],
   "source": [
    "BD.Fecha.describe()"
   ]
  },
  {
   "cell_type": "code",
   "execution_count": null,
   "metadata": {},
   "outputs": [],
   "source": []
  },
  {
   "cell_type": "code",
   "execution_count": null,
   "metadata": {},
   "outputs": [],
   "source": []
  }
 ],
 "metadata": {
  "kernelspec": {
   "display_name": "Python 3",
   "language": "python",
   "name": "python3"
  },
  "language_info": {
   "codemirror_mode": {
    "name": "ipython",
    "version": 3
   },
   "file_extension": ".py",
   "mimetype": "text/x-python",
   "name": "python",
   "nbconvert_exporter": "python",
   "pygments_lexer": "ipython3",
   "version": "3.7.3"
  }
 },
 "nbformat": 4,
 "nbformat_minor": 4
}
