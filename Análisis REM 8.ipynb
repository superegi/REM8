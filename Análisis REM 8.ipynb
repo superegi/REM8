{
 "cells": [
  {
   "cell_type": "markdown",
   "metadata": {},
   "source": [
    "Análisis REM8\n",
    " =========="
   ]
  },
  {
   "cell_type": "markdown",
   "metadata": {},
   "source": [
    "Comienzo cargando todos los paquetes necesarios"
   ]
  },
  {
   "cell_type": "code",
   "execution_count": 1,
   "metadata": {},
   "outputs": [
    {
     "name": "stderr",
     "output_type": "stream",
     "text": [
      "/home/egidio/anaconda3/lib/python3.6/site-packages/statsmodels/compat/pandas.py:56: FutureWarning: The pandas.core.datetools module is deprecated and will be removed in a future version. Please use the pandas.tseries module instead.\n",
      "  from pandas.core import datetools\n"
     ]
    }
   ],
   "source": [
    "import pandas as pd\n",
    "import numpy as np\n",
    "import matplotlib.pyplot as plt\n",
    "import scipy \n",
    "from scipy import stats\n",
    "import statsmodels.api as sm\n",
    "from statsmodels.formula.api import ols\n",
    "import datetime as dt\n",
    "import datetime\n",
    "from datetime import timedelta  \n",
    "import timeboard as tb # turnos \n",
    "\n",
    "# para tratar de poner espanol\n",
    "from datetime import date, datetime, time\n",
    "from babel.dates import format_date, format_datetime, format_time, format_timedelta, Locale\n",
    "import locale                                    # para tratar de poner espanol\n",
    "#locale = Locale('es', 'CL')\n",
    "locale.setlocale(locale.LC_ALL,'es_ES.UTF-8')  \n",
    "\n",
    "import os\n",
    "import runpy\n",
    "from pyexcel_ods import get_data\n",
    "from matplotlib_venn import venn3\n",
    "from matplotlib_venn import venn2, venn2_circles\n",
    "import math\n",
    "\n",
    "from IPython.core.interactiveshell import InteractiveShell\n",
    "InteractiveShell.ast_node_interactivity = \"all\"\n",
    "%matplotlib inline\n",
    "\n",
    "\n",
    "#otro graficador\n",
    "import seaborn as sns\n",
    "\n",
    "#stats\n",
    "\n",
    "from sklearn.linear_model import LogisticRegression\n",
    "from sklearn import metrics\n",
    "from sklearn.model_selection import train_test_split\n",
    "from sklearn import model_selection\n",
    "from sklearn.model_selection import cross_val_score\n",
    "from sklearn.metrics import confusion_matrix\n",
    "from sklearn.metrics import classification_report"
   ]
  },
  {
   "cell_type": "code",
   "execution_count": 2,
   "metadata": {
    "collapsed": true
   },
   "outputs": [],
   "source": [
    "# cargo algunos scripts que me suelen servir para análisis"
   ]
  },
  {
   "cell_type": "code",
   "execution_count": 3,
   "metadata": {
    "scrolled": true
   },
   "outputs": [
    {
     "data": {
      "text/plain": [
       "['/home/egidio/Dropbox/Compucosas/programas py/lector_ODF.py',\n",
       " '/home/egidio/Dropbox/Compucosas/programas py/como importar',\n",
       " '/home/egidio/Dropbox/Compucosas/programas py/descripcion_univariada.py',\n",
       " '/home/egidio/Dropbox/Compucosas/programas py/características_operativas_de_test.py',\n",
       " '/home/egidio/Dropbox/Compucosas/programas py/percentiles.py',\n",
       " '/home/egidio/Dropbox/Compucosas/programas py/tabala_frecuencias.py',\n",
       " '/home/egidio/Dropbox/Compucosas/programas py/__pycache__/percentiles.cpython-36.pyc',\n",
       " '/home/egidio/Dropbox/Compucosas/programas py/__pycache__/lector_ODF.cpython-36.pyc',\n",
       " '/home/egidio/Dropbox/Compucosas/programas py/__pycache__/descripcion_univariada.cpython-36.pyc',\n",
       " '/home/egidio/Dropbox/Compucosas/programas py/__pycache__/características_operativas_de_test.cpython-36.pyc',\n",
       " '/home/egidio/Dropbox/Compucosas/programas py/__pycache__/tabala_frecuencias.cpython-36.pyc',\n",
       " '/home/egidio/Dropbox/Compucosas/programas py/__pycache__/funciones_locales.cpython-36.pyc']"
      ]
     },
     "execution_count": 3,
     "metadata": {},
     "output_type": "execute_result"
    }
   ],
   "source": [
    "#listo los archivos\n",
    "scripts = []\n",
    "for dirname, dirnames, filenames in os.walk('/home/egidio/Dropbox/Compucosas/programas py'):\n",
    "    for filename in filenames:\n",
    "        scripts.append(os.path.join(dirname, filename))\n",
    "\n",
    "scripts\n",
    "\n",
    "# los cargo\n",
    "for script in scripts:\n",
    "    if script[-3:] == '.py':\n",
    "        exec(open(str(script)).read())\n"
   ]
  },
  {
   "cell_type": "markdown",
   "metadata": {},
   "source": [
    "# Cargo la BD"
   ]
  },
  {
   "cell_type": "code",
   "execution_count": 4,
   "metadata": {
    "collapsed": true
   },
   "outputs": [],
   "source": [
    "BD = pd.read_pickle('./BD/eSAMU.pkl')"
   ]
  },
  {
   "cell_type": "code",
   "execution_count": 5,
   "metadata": {},
   "outputs": [
    {
     "data": {
      "text/plain": [
       "Index(['Id', 'Fecha', 'Motivo del Llamado', 'Submotivo del Llamado',\n",
       "       'Prioridad', 'Estado', 'Edad', 'Género', 'Dirección', 'Sector',\n",
       "       'Comuna', 'Región', 'Intervención', 'Tipo Traslado',\n",
       "       'Categoría Vehículo', 'Condición Traslado', 'En Regulación',\n",
       "       'En Despacho', 'En Curso', 'Atendida', 'Completado', 'Regulado',\n",
       "       'Usuario que Cierra', 'Móvil Agregado', 'Móvil Despachado',\n",
       "       'Móvil Salida', 'Móvil Llegada Lugar', 'Móvil en Traslado',\n",
       "       'Móvil Llegada a CA', 'Móvil Recepción Paciente',\n",
       "       'Móvil Camilla Retenida', 'Móvil Vuelta a Base', 'Móvil LLegada a Base',\n",
       "       'Móvil Finalizado', 'Nombre Vehículo', 'Tipo Requerido',\n",
       "       'Tipo Despachado', 'Km Recorrido', 'Chofer', 'Paramédico', 'Enfermero',\n",
       "       'Doctor', 'Longitud', 'Latitud', 'Diff_recep_Despachado',\n",
       "       'Diff_Despacho_Salida', 'Diff_salida_enellugar', 'Diff_z6_1',\n",
       "       'Diff_z6_2', 'Diff_z6_3'],\n",
       "      dtype='object')"
      ]
     },
     "execution_count": 5,
     "metadata": {},
     "output_type": "execute_result"
    },
    {
     "data": {
      "text/html": [
       "<div>\n",
       "<style scoped>\n",
       "    .dataframe tbody tr th:only-of-type {\n",
       "        vertical-align: middle;\n",
       "    }\n",
       "\n",
       "    .dataframe tbody tr th {\n",
       "        vertical-align: top;\n",
       "    }\n",
       "\n",
       "    .dataframe thead th {\n",
       "        text-align: right;\n",
       "    }\n",
       "</style>\n",
       "<table border=\"1\" class=\"dataframe\">\n",
       "  <thead>\n",
       "    <tr style=\"text-align: right;\">\n",
       "      <th></th>\n",
       "      <th>Id</th>\n",
       "      <th>Fecha</th>\n",
       "      <th>Motivo del Llamado</th>\n",
       "      <th>Submotivo del Llamado</th>\n",
       "      <th>Prioridad</th>\n",
       "      <th>Estado</th>\n",
       "      <th>Edad</th>\n",
       "      <th>Género</th>\n",
       "      <th>Dirección</th>\n",
       "      <th>Sector</th>\n",
       "      <th>...</th>\n",
       "      <th>Enfermero</th>\n",
       "      <th>Doctor</th>\n",
       "      <th>Longitud</th>\n",
       "      <th>Latitud</th>\n",
       "      <th>Diff_recep_Despachado</th>\n",
       "      <th>Diff_Despacho_Salida</th>\n",
       "      <th>Diff_salida_enellugar</th>\n",
       "      <th>Diff_z6_1</th>\n",
       "      <th>Diff_z6_2</th>\n",
       "      <th>Diff_z6_3</th>\n",
       "    </tr>\n",
       "  </thead>\n",
       "  <tbody>\n",
       "    <tr>\n",
       "      <th>0</th>\n",
       "      <td>131301</td>\n",
       "      <td>2020-01-31 23:58:13</td>\n",
       "      <td>Accidentes y Traumas</td>\n",
       "      <td>Caídas leves</td>\n",
       "      <td>S2</td>\n",
       "      <td>Completado</td>\n",
       "      <td>40.0</td>\n",
       "      <td>Femenino</td>\n",
       "      <td>arlegui con quillota</td>\n",
       "      <td>centro</td>\n",
       "      <td>...</td>\n",
       "      <td>Karen Urra coloma</td>\n",
       "      <td>NaN</td>\n",
       "      <td>NaN</td>\n",
       "      <td>NaN</td>\n",
       "      <td>03:03:22</td>\n",
       "      <td>00:01:11</td>\n",
       "      <td>00:03:37</td>\n",
       "      <td>NaT</td>\n",
       "      <td>NaT</td>\n",
       "      <td>NaT</td>\n",
       "    </tr>\n",
       "    <tr>\n",
       "      <th>1</th>\n",
       "      <td>131300</td>\n",
       "      <td>2020-01-31 23:29:08</td>\n",
       "      <td>Consciencia</td>\n",
       "      <td>Comportamientos extraños</td>\n",
       "      <td>NaN</td>\n",
       "      <td>Completado</td>\n",
       "      <td>63.0</td>\n",
       "      <td>Femenino</td>\n",
       "      <td>estacion metro</td>\n",
       "      <td>c9</td>\n",
       "      <td>...</td>\n",
       "      <td>NaN</td>\n",
       "      <td>NaN</td>\n",
       "      <td>NaN</td>\n",
       "      <td>NaN</td>\n",
       "      <td>NaT</td>\n",
       "      <td>NaT</td>\n",
       "      <td>NaT</td>\n",
       "      <td>NaT</td>\n",
       "      <td>NaT</td>\n",
       "      <td>NaT</td>\n",
       "    </tr>\n",
       "  </tbody>\n",
       "</table>\n",
       "<p>2 rows × 50 columns</p>\n",
       "</div>"
      ],
      "text/plain": [
       "       Id               Fecha    Motivo del Llamado     Submotivo del Llamado  \\\n",
       "0  131301 2020-01-31 23:58:13  Accidentes y Traumas              Caídas leves   \n",
       "1  131300 2020-01-31 23:29:08           Consciencia  Comportamientos extraños   \n",
       "\n",
       "  Prioridad      Estado  Edad    Género             Dirección  Sector  \\\n",
       "0        S2  Completado  40.0  Femenino  arlegui con quillota  centro   \n",
       "1       NaN  Completado  63.0  Femenino        estacion metro      c9   \n",
       "\n",
       "     ...             Enfermero Doctor Longitud Latitud Diff_recep_Despachado  \\\n",
       "0    ...     Karen Urra coloma    NaN      NaN     NaN              03:03:22   \n",
       "1    ...                   NaN    NaN      NaN     NaN                   NaT   \n",
       "\n",
       "  Diff_Despacho_Salida Diff_salida_enellugar Diff_z6_1 Diff_z6_2 Diff_z6_3  \n",
       "0             00:01:11              00:03:37       NaT       NaT       NaT  \n",
       "1                  NaT                   NaT       NaT       NaT       NaT  \n",
       "\n",
       "[2 rows x 50 columns]"
      ]
     },
     "execution_count": 5,
     "metadata": {},
     "output_type": "execute_result"
    }
   ],
   "source": [
    "BD.columns\n",
    "BD.head(2)"
   ]
  },
  {
   "cell_type": "markdown",
   "metadata": {},
   "source": [
    "para efectos de este análisis es importante dividir ambulancias según su complejidad"
   ]
  },
  {
   "cell_type": "code",
   "execution_count": 6,
   "metadata": {
    "collapsed": true
   },
   "outputs": [],
   "source": [
    "BD['Bas_avan'] = BD['Tipo Despachado'] \n",
    "BD.loc[BD['Tipo Despachado'] == 'm1' , 'Bas_avan' ] = 'Básico'\n",
    "BD.loc[BD['Tipo Despachado'] == 'm2' , 'Bas_avan' ] = 'Avanzado'\n",
    "BD.loc[BD['Tipo Despachado'] == 'm3' , 'Bas_avan' ] = 'Avanzado'\n",
    "BD.loc[BD['Tipo Despachado'] == 'x5' , 'Bas_avan' ] = 'Avanzado'"
   ]
  },
  {
   "cell_type": "markdown",
   "metadata": {},
   "source": [
    "defino Bas_avan como categórico"
   ]
  },
  {
   "cell_type": "code",
   "execution_count": null,
   "metadata": {
    "collapsed": true
   },
   "outputs": [],
   "source": []
  },
  {
   "cell_type": "markdown",
   "metadata": {},
   "source": [
    "# defino la BD con la que trabajaré"
   ]
  },
  {
   "cell_type": "markdown",
   "metadata": {},
   "source": [
    "El informe a continuación es un análisis del:\n",
    "* fecha\n",
    "* sector"
   ]
  },
  {
   "cell_type": "markdown",
   "metadata": {},
   "source": [
    "## según fecha"
   ]
  },
  {
   "cell_type": "code",
   "execution_count": 7,
   "metadata": {
    "scrolled": false
   },
   "outputs": [
    {
     "data": {
      "text/plain": [
       "array([Period('2020-01', 'M')], dtype=object)"
      ]
     },
     "execution_count": 7,
     "metadata": {},
     "output_type": "execute_result"
    }
   ],
   "source": [
    "rango = (                                            #mes Enero\n",
    "    (BD.Fecha > pd.to_datetime('2020-01-01')) &\n",
    "    (BD.Fecha < pd.to_datetime('2020-01-31'))\n",
    ")\n",
    "\n",
    "\n",
    "db1 = BD[rango].copy()\n",
    "np.sort(db1.Fecha.dt.to_period('M').unique())"
   ]
  },
  {
   "cell_type": "markdown",
   "metadata": {},
   "source": [
    "## segun ambulancias"
   ]
  },
  {
   "cell_type": "code",
   "execution_count": 8,
   "metadata": {
    "scrolled": false
   },
   "outputs": [
    {
     "data": {
      "text/plain": [
       "array([nan, 'R23', 'R31', 'R24', 'R21', 'AP16', 'AP1', 'R20', 'R32',\n",
       "       'R83', 'R84', 'R42', 'R11', 'R62', 'R10', 'R80', 'AT90', 'AP28',\n",
       "       'R25', 'R68', 'Móvil Loncura', 'Móvil Hijuelas',\n",
       "       'Móvil Las Parcelas', 'R14', 'R41', 'AP26', 'AP15',\n",
       "       'Móvil Artificio', 'Móvil Puchuncaví', 'AP 14', 'AP27', 'R71',\n",
       "       'AP31', 'MOVIL PAPUDO', 'R73', 'nogales movil 8', 'AP51', 'R57',\n",
       "       'MOVIL LONCURA', 'R72', 'W133 Carabineros', 'Móvil Los Molles',\n",
       "       'AP41', 'R52', 'R13', 'R53', 'Móvil Ventana', 'W56', 'R91', 'R35',\n",
       "       'AP2', 'R92', 'sapu zapallar', 'R102', 'R44', 'Emecar 1',\n",
       "       'MOVIL SAPU VENTANA', 'MOVIL 8 SAMU LITORAL', 'Móvil Nogales',\n",
       "       'Móvil Papudo', 'movil rema', 'Movil Posta Catapilco',\n",
       "       'MOVIL RUTA', 'Movil SAPU La Calera El trigal', 'R33', 'R22',\n",
       "       'R61', 'R51', 'MOVIL SAMU ACONCAGUA', 'MOVIL CATAPILCO', 'R100'],\n",
       "      dtype=object)"
      ]
     },
     "execution_count": 8,
     "metadata": {},
     "output_type": "execute_result"
    }
   ],
   "source": [
    "db1['Nombre Vehículo'].unique()"
   ]
  },
  {
   "cell_type": "markdown",
   "metadata": {},
   "source": [
    "elegir uno"
   ]
  },
  {
   "cell_type": "code",
   "execution_count": 9,
   "metadata": {
    "collapsed": true
   },
   "outputs": [],
   "source": [
    "#elegir uno\n",
    "\n",
    "sector = db1['Nombre Vehículo'].str.contains('R3') == True\n",
    "db1 = db1[sector]"
   ]
  },
  {
   "cell_type": "code",
   "execution_count": 10,
   "metadata": {},
   "outputs": [
    {
     "data": {
      "text/plain": [
       "'Este es un inforque que considera el mes de enero. En el territorio de Quilpué.\\n \\n'"
      ]
     },
     "execution_count": 10,
     "metadata": {},
     "output_type": "execute_result"
    }
   ],
   "source": [
    "texto1 = 'Este es un inforque que considera el mes de '\n",
    "texto2 = 'En el territorio de '\n",
    "\n",
    "# sector = 'SSVQ'\n",
    "sector = db1.Comuna.value_counts().index[0]\n",
    "\n",
    "mes= db1.Fecha.describe()[4].strftime('%B')\n",
    "\n",
    "result = texto1 + mes + '. ' + texto2 + sector + '.' + '\\n \\n'\n",
    "result\n",
    "print(result, file=open('Informe.txt','a'))"
   ]
  },
  {
   "cell_type": "code",
   "execution_count": 11,
   "metadata": {},
   "outputs": [
    {
     "data": {
      "text/plain": [
       "Quilpué          225\n",
       "Villa Alemana     12\n",
       "Viña del Mar       1\n",
       "Name: Comuna, dtype: int64"
      ]
     },
     "execution_count": 11,
     "metadata": {},
     "output_type": "execute_result"
    }
   ],
   "source": [
    "db1.Comuna.value_counts()"
   ]
  },
  {
   "cell_type": "markdown",
   "metadata": {},
   "source": [
    "# defino el archivo donde guardaré la info"
   ]
  },
  {
   "cell_type": "markdown",
   "metadata": {},
   "source": [
    "Será un archivo"
   ]
  },
  {
   "cell_type": "markdown",
   "metadata": {},
   "source": [
    "como dividir por fecha"
   ]
  },
  {
   "cell_type": "code",
   "execution_count": 12,
   "metadata": {
    "scrolled": false
   },
   "outputs": [
    {
     "data": {
      "text/plain": [
       "array([Period('2020-01', 'M')], dtype=object)"
      ]
     },
     "execution_count": 12,
     "metadata": {},
     "output_type": "execute_result"
    }
   ],
   "source": [
    "np.sort(db1.Fecha.dt.to_period('M').unique())"
   ]
  },
  {
   "cell_type": "markdown",
   "metadata": {},
   "source": [
    "## Sección K: INTERVENCIONES PRE HOSPITALARIAS (SAMU)"
   ]
  },
  {
   "cell_type": "markdown",
   "metadata": {},
   "source": [
    "prestaciones según recurso"
   ]
  },
  {
   "cell_type": "code",
   "execution_count": 13,
   "metadata": {
    "scrolled": true
   },
   "outputs": [
    {
     "name": "stdout",
     "output_type": "stream",
     "text": [
      "Por Mes\n"
     ]
    },
    {
     "data": {
      "text/plain": [
       "Period('2020-01', 'M')"
      ]
     },
     "execution_count": 13,
     "metadata": {},
     "output_type": "execute_result"
    },
    {
     "data": {
      "text/html": [
       "<div>\n",
       "<style scoped>\n",
       "    .dataframe tbody tr th:only-of-type {\n",
       "        vertical-align: middle;\n",
       "    }\n",
       "\n",
       "    .dataframe tbody tr th {\n",
       "        vertical-align: top;\n",
       "    }\n",
       "\n",
       "    .dataframe thead th {\n",
       "        text-align: right;\n",
       "    }\n",
       "</style>\n",
       "<table border=\"1\" class=\"dataframe\">\n",
       "  <thead>\n",
       "    <tr style=\"text-align: right;\">\n",
       "      <th>Tiempo llegada al lugar</th>\n",
       "      <th>Menos 20 min</th>\n",
       "      <th>20 a 40 min</th>\n",
       "      <th>Más 40 min</th>\n",
       "      <th>Total</th>\n",
       "    </tr>\n",
       "    <tr>\n",
       "      <th>Tipo Móvil</th>\n",
       "      <th></th>\n",
       "      <th></th>\n",
       "      <th></th>\n",
       "      <th></th>\n",
       "    </tr>\n",
       "  </thead>\n",
       "  <tbody>\n",
       "    <tr>\n",
       "      <th>Avanzado</th>\n",
       "      <td>1</td>\n",
       "      <td>1</td>\n",
       "      <td>92</td>\n",
       "      <td>146</td>\n",
       "    </tr>\n",
       "    <tr>\n",
       "      <th>Básico</th>\n",
       "      <td>1</td>\n",
       "      <td>0</td>\n",
       "      <td>178</td>\n",
       "      <td>370</td>\n",
       "    </tr>\n",
       "    <tr>\n",
       "      <th>Total</th>\n",
       "      <td>3</td>\n",
       "      <td>1</td>\n",
       "      <td>328</td>\n",
       "      <td>615</td>\n",
       "    </tr>\n",
       "  </tbody>\n",
       "</table>\n",
       "</div>"
      ],
      "text/plain": [
       "Tiempo llegada al lugar  Menos 20 min  20 a 40 min  Más 40 min  Total\n",
       "Tipo Móvil                                                           \n",
       "Avanzado                            1            1          92    146\n",
       "Básico                              1            0         178    370\n",
       "Total                               3            1         328    615"
      ]
     },
     "execution_count": 13,
     "metadata": {},
     "output_type": "execute_result"
    }
   ],
   "source": [
    "# los tiempos de z17 al z8 los divido según requisito planilla\n",
    "cortado = pd.cut(\n",
    "    db1.Diff_salida_enellugar.dt.seconds,\n",
    "    [0, 20, 40, 1000000],\n",
    "    labels = ['Menos 20 min',  '20 a 40 min',  'Más 40 min'])\n",
    "\n",
    "# tabulo\n",
    "#pd.crosstab(db1.Bas_avan, cortado, margins=True, margins_name= 'Total')\n",
    "\n",
    "# tabulo por mes\n",
    "print('Por Mes')\n",
    "dum1 = cortado\n",
    "for fecha in np.sort(db1.Fecha.dt.to_period('M').unique()):\n",
    "    fecha\n",
    "    test = db1.loc[db1.Fecha.dt.to_period('M') == fecha]\n",
    "    result = pd.crosstab(\n",
    "        test['Bas_avan'],\n",
    "        dum1,\n",
    "        margins=True, margins_name= 'Total', dropna=False)\n",
    "    result.columns.name = 'Tiempo llegada al lugar'\n",
    "    result.index.name = 'Tipo Móvil'\n",
    "    result"
   ]
  },
  {
   "cell_type": "markdown",
   "metadata": {},
   "source": [
    "escribo en el archivo"
   ]
  },
  {
   "cell_type": "code",
   "execution_count": 14,
   "metadata": {},
   "outputs": [
    {
     "data": {
      "text/plain": [
       "'Sección K: INTERVENCIONES PRE HOSPITALARIAS (SAMU)'"
      ]
     },
     "execution_count": 14,
     "metadata": {},
     "output_type": "execute_result"
    },
    {
     "data": {
      "text/plain": [
       "'Se asume que todas las intervenciones críticas son realizadas por móviles avanzados y que las no-críticas por móviles básicos. Esto determina que las casillas de las prestaciones críticas tengan valores de cero para móviles básicos y las prestaciones no-críticas tengan valores cero para móviles avanzados. \\n \\n'"
      ]
     },
     "execution_count": 14,
     "metadata": {},
     "output_type": "execute_result"
    },
    {
     "data": {
      "text/html": [
       "<div>\n",
       "<style scoped>\n",
       "    .dataframe tbody tr th:only-of-type {\n",
       "        vertical-align: middle;\n",
       "    }\n",
       "\n",
       "    .dataframe tbody tr th {\n",
       "        vertical-align: top;\n",
       "    }\n",
       "\n",
       "    .dataframe thead th {\n",
       "        text-align: right;\n",
       "    }\n",
       "</style>\n",
       "<table border=\"1\" class=\"dataframe\">\n",
       "  <thead>\n",
       "    <tr style=\"text-align: right;\">\n",
       "      <th>Tiempo llegada al lugar</th>\n",
       "      <th>Menos 20 min</th>\n",
       "      <th>20 a 40 min</th>\n",
       "      <th>Más 40 min</th>\n",
       "      <th>Total</th>\n",
       "    </tr>\n",
       "    <tr>\n",
       "      <th>Tipo Móvil</th>\n",
       "      <th></th>\n",
       "      <th></th>\n",
       "      <th></th>\n",
       "      <th></th>\n",
       "    </tr>\n",
       "  </thead>\n",
       "  <tbody>\n",
       "    <tr>\n",
       "      <th>Avanzado</th>\n",
       "      <td>1</td>\n",
       "      <td>1</td>\n",
       "      <td>92</td>\n",
       "      <td>146</td>\n",
       "    </tr>\n",
       "    <tr>\n",
       "      <th>Básico</th>\n",
       "      <td>1</td>\n",
       "      <td>0</td>\n",
       "      <td>178</td>\n",
       "      <td>370</td>\n",
       "    </tr>\n",
       "    <tr>\n",
       "      <th>Total</th>\n",
       "      <td>3</td>\n",
       "      <td>1</td>\n",
       "      <td>328</td>\n",
       "      <td>615</td>\n",
       "    </tr>\n",
       "  </tbody>\n",
       "</table>\n",
       "</div>"
      ],
      "text/plain": [
       "Tiempo llegada al lugar  Menos 20 min  20 a 40 min  Más 40 min  Total\n",
       "Tipo Móvil                                                           \n",
       "Avanzado                            1            1          92    146\n",
       "Básico                              1            0         178    370\n",
       "Total                               3            1         328    615"
      ]
     },
     "execution_count": 14,
     "metadata": {},
     "output_type": "execute_result"
    }
   ],
   "source": [
    "titulo = 'Sección K: INTERVENCIONES PRE HOSPITALARIAS (SAMU)'\n",
    "texto = 'Se asume que todas las intervenciones críticas son realizadas \\\n",
    "por móviles avanzados y que las no-críticas por móviles básicos. Esto \\\n",
    "determina que las casillas de las prestaciones críticas tengan valores \\\n",
    "de cero para móviles básicos y las prestaciones no-críticas tengan \\\n",
    "valores cero para móviles avanzados. \\n \\n'\n",
    "espacios = '\\n \\n'\n",
    "\n",
    "titulo\n",
    "texto\n",
    "result\n",
    "\n",
    "print(titulo, file=open('Informe.txt','a'))\n",
    "print(texto, file=open('Informe.txt','a'))\n",
    "print(result, file=open('Informe.txt','a'))\n",
    "print(espacios, file=open('Informe.txt','a'))"
   ]
  },
  {
   "cell_type": "markdown",
   "metadata": {},
   "source": [
    "## Sección L:  TRASLADOS PRIMARIOS A UNIDADES DE URGENCIA (Desde el lugar del evento a unidad de Emergencia)"
   ]
  },
  {
   "cell_type": "code",
   "execution_count": 15,
   "metadata": {},
   "outputs": [
    {
     "data": {
      "text/plain": [
       "enrutado    615\n",
       "Name: Categoría Vehículo, dtype: int64"
      ]
     },
     "execution_count": 15,
     "metadata": {},
     "output_type": "execute_result"
    }
   ],
   "source": [
    "db1['Categoría Vehículo'].value_counts()\n",
    "#pd.crosstab(db1['Categoría Vehículo'], test['Bas_avan'])\n",
    "\n",
    "db1['Categoría Vehículo'] = pd.Categorical(db1['Categoría Vehículo'],\n",
    "                                           categories=['samu', 'enrutado', 'nosamu'])"
   ]
  },
  {
   "cell_type": "code",
   "execution_count": 16,
   "metadata": {},
   "outputs": [
    {
     "data": {
      "text/plain": [
       "Period('2020-01', 'M')"
      ]
     },
     "execution_count": 16,
     "metadata": {},
     "output_type": "execute_result"
    },
    {
     "data": {
      "text/plain": [
       "Categoría Vehículo  Tipo móvil\n",
       "enrutado            Avanzado      84\n",
       "                    Básico        90\n",
       "Name: Id, dtype: int64"
      ]
     },
     "execution_count": 16,
     "metadata": {},
     "output_type": "execute_result"
    }
   ],
   "source": [
    "for fecha in np.sort(db1.Fecha.dt.to_period('M').unique()):\n",
    "    fecha\n",
    "    test = db1.loc[db1.Fecha.dt.to_period('M') == fecha]\n",
    "    test = test.loc[test['Motivo del Llamado'] != 'Traslados']\n",
    "    result = test.groupby(['Categoría Vehículo', 'Bas_avan' ])['Id'].count()\n",
    "    result.index.names = ['Categoría Vehículo', 'Tipo móvil']\n",
    "    result"
   ]
  },
  {
   "cell_type": "markdown",
   "metadata": {},
   "source": [
    "escribo en el archivo"
   ]
  },
  {
   "cell_type": "code",
   "execution_count": 17,
   "metadata": {
    "scrolled": false
   },
   "outputs": [
    {
     "data": {
      "text/plain": [
       "' Sección L:  TRASLADOS PRIMARIOS A UNIDADES DE URGENCIA'"
      ]
     },
     "execution_count": 17,
     "metadata": {},
     "output_type": "execute_result"
    },
    {
     "data": {
      "text/plain": [
       "' '"
      ]
     },
     "execution_count": 17,
     "metadata": {},
     "output_type": "execute_result"
    },
    {
     "data": {
      "text/plain": [
       "Categoría Vehículo  Tipo móvil\n",
       "enrutado            Avanzado      84\n",
       "                    Básico        90\n",
       "Name: Id, dtype: int64"
      ]
     },
     "execution_count": 17,
     "metadata": {},
     "output_type": "execute_result"
    }
   ],
   "source": [
    "titulo = ' Sección L:  TRASLADOS PRIMARIOS A UNIDADES DE URGENCIA'\n",
    "texto = ' '\n",
    "\n",
    "titulo\n",
    "texto\n",
    "result\n",
    "\n",
    "print(titulo, file=open('Informe.txt','a'))\n",
    "print(texto, file=open('Informe.txt','a'))\n",
    "print(result, file=open('Informe.txt','a'))\n",
    "print(espacios, file=open('Informe.txt','a'))"
   ]
  },
  {
   "cell_type": "markdown",
   "metadata": {},
   "source": [
    "## Sección M: TRASLADO SECUNDARIO (Desde un Establecimiento a Otro)"
   ]
  },
  {
   "cell_type": "code",
   "execution_count": 18,
   "metadata": {},
   "outputs": [
    {
     "data": {
      "text/plain": [
       "Period('2020-01', 'M')"
      ]
     },
     "execution_count": 18,
     "metadata": {},
     "output_type": "execute_result"
    },
    {
     "data": {
      "text/plain": [
       "Categoría Vehículo  Tipo móvil\n",
       "enrutado            Avanzado       62\n",
       "                    Básico        280\n",
       "Name: Id, dtype: int64"
      ]
     },
     "execution_count": 18,
     "metadata": {},
     "output_type": "execute_result"
    }
   ],
   "source": [
    "for fecha in np.sort(db1.Fecha.dt.to_period('M').unique()):\n",
    "    fecha\n",
    "    test = db1.loc[db1.Fecha.dt.to_period('M') == fecha]\n",
    "    test = test.loc[test['Motivo del Llamado'] == 'Traslados']\n",
    "    result = test.groupby(['Categoría Vehículo', 'Bas_avan' ])['Id'].count()\n",
    "    result.index.names = ['Categoría Vehículo', 'Tipo móvil']\n",
    "    result"
   ]
  },
  {
   "cell_type": "code",
   "execution_count": 19,
   "metadata": {},
   "outputs": [
    {
     "data": {
      "text/plain": [
       "' Sección M: TRASLADO SECUNDARIO (Desde un Establecimiento a Otro)'"
      ]
     },
     "execution_count": 19,
     "metadata": {},
     "output_type": "execute_result"
    },
    {
     "data": {
      "text/plain": [
       "' '"
      ]
     },
     "execution_count": 19,
     "metadata": {},
     "output_type": "execute_result"
    },
    {
     "data": {
      "text/plain": [
       "Categoría Vehículo  Tipo móvil\n",
       "enrutado            Avanzado       62\n",
       "                    Básico        280\n",
       "Name: Id, dtype: int64"
      ]
     },
     "execution_count": 19,
     "metadata": {},
     "output_type": "execute_result"
    }
   ],
   "source": [
    "titulo = ' Sección M: TRASLADO SECUNDARIO (Desde un Establecimiento a Otro)'\n",
    "texto = ' '\n",
    "\n",
    "titulo\n",
    "texto\n",
    "result\n",
    "\n",
    "print(titulo, file=open('Informe.txt','a'))\n",
    "print(texto, file=open('Informe.txt','a'))\n",
    "print(result, file=open('Informe.txt','a'))\n",
    "print(espacios, file=open('Informe.txt','a'))"
   ]
  },
  {
   "cell_type": "markdown",
   "metadata": {},
   "source": [
    "# Sección N: CLASIFICACION DE LAS INTERVENCIONES POR GRANDES GRUPOS DE DIAGNOSTICOS (SAMU)"
   ]
  },
  {
   "cell_type": "code",
   "execution_count": 20,
   "metadata": {
    "collapsed": true
   },
   "outputs": [],
   "source": [
    "db1['Patol'] = np.nan\n",
    "db1.loc[db1['Submotivo del Llamado'] == 'Accidente vehicular o transporte. Atropellos',\n",
    "        'Patol'] = 'PoliTMT'\n",
    "db1.loc[db1['Submotivo del Llamado'] == 'Accidente múltiples víctimas (cualquier razón)',\n",
    "        'Patol'] = 'PoliTMT'\n",
    "db1.loc[db1['Submotivo del Llamado'] == 'Caídas graves',\n",
    "        'Patol'] = 'PoliTMT'\n",
    "\n",
    "db1.loc[db1['Submotivo del Llamado'] == 'Colapso respiratorio o circulatorio. PCR. Asfixia',\n",
    "        'Patol'] = 'PCR'\n",
    "\n",
    "db1.loc[db1['Submotivo del Llamado'] == 'Dolor de pecho',\n",
    "        'Patol'] = 'SCA'\n",
    "\n",
    "db1.loc[db1['Patol'].isnull(),\n",
    "        'Patol'] = 'Otros'\n",
    "\n",
    "db1['Patol'] = pd.Categorical(db1['Patol'], categories=['SCA', 'PCR', 'PoliTMT', 'Otros'])"
   ]
  },
  {
   "cell_type": "code",
   "execution_count": 21,
   "metadata": {
    "collapsed": true
   },
   "outputs": [],
   "source": [
    "db1.loc[db1['Género'] == 'Femenino', 'Género'] = 'Feme'\n",
    "db1.loc[db1['Género'] == 'Masculino', 'Género'] = 'Masc'\n",
    "\n",
    "db1['Género'] = pd.Categorical(db1['Género'], categories=['Masc', 'Feme'])"
   ]
  },
  {
   "cell_type": "code",
   "execution_count": 22,
   "metadata": {
    "scrolled": true
   },
   "outputs": [
    {
     "data": {
      "text/plain": [
       "Period('2020-01', 'M')"
      ]
     },
     "execution_count": 22,
     "metadata": {},
     "output_type": "execute_result"
    },
    {
     "data": {
      "text/plain": [
       "SCA          8\n",
       "PCR          6\n",
       "PoliTMT     42\n",
       "Otros      559\n",
       "Name: Patol, dtype: int64"
      ]
     },
     "execution_count": 22,
     "metadata": {},
     "output_type": "execute_result"
    },
    {
     "data": {
      "text/html": [
       "<div>\n",
       "<style scoped>\n",
       "    .dataframe tbody tr th:only-of-type {\n",
       "        vertical-align: middle;\n",
       "    }\n",
       "\n",
       "    .dataframe tbody tr th {\n",
       "        vertical-align: top;\n",
       "    }\n",
       "\n",
       "    .dataframe thead th {\n",
       "        text-align: right;\n",
       "    }\n",
       "</style>\n",
       "<table border=\"1\" class=\"dataframe\">\n",
       "  <thead>\n",
       "    <tr style=\"text-align: right;\">\n",
       "      <th>Género</th>\n",
       "      <th>Masc</th>\n",
       "      <th>Feme</th>\n",
       "    </tr>\n",
       "    <tr>\n",
       "      <th>Patol</th>\n",
       "      <th></th>\n",
       "      <th></th>\n",
       "    </tr>\n",
       "  </thead>\n",
       "  <tbody>\n",
       "    <tr>\n",
       "      <th>SCA</th>\n",
       "      <td>4</td>\n",
       "      <td>4</td>\n",
       "    </tr>\n",
       "    <tr>\n",
       "      <th>PCR</th>\n",
       "      <td>2</td>\n",
       "      <td>3</td>\n",
       "    </tr>\n",
       "    <tr>\n",
       "      <th>PoliTMT</th>\n",
       "      <td>25</td>\n",
       "      <td>11</td>\n",
       "    </tr>\n",
       "    <tr>\n",
       "      <th>Otros</th>\n",
       "      <td>247</td>\n",
       "      <td>294</td>\n",
       "    </tr>\n",
       "  </tbody>\n",
       "</table>\n",
       "</div>"
      ],
      "text/plain": [
       "Género   Masc  Feme\n",
       "Patol              \n",
       "SCA         4     4\n",
       "PCR         2     3\n",
       "PoliTMT    25    11\n",
       "Otros     247   294"
      ]
     },
     "execution_count": 22,
     "metadata": {},
     "output_type": "execute_result"
    },
    {
     "data": {
      "text/html": [
       "<div>\n",
       "<style scoped>\n",
       "    .dataframe tbody tr th:only-of-type {\n",
       "        vertical-align: middle;\n",
       "    }\n",
       "\n",
       "    .dataframe tbody tr th {\n",
       "        vertical-align: top;\n",
       "    }\n",
       "\n",
       "    .dataframe thead tr th {\n",
       "        text-align: left;\n",
       "    }\n",
       "\n",
       "    .dataframe thead tr:last-of-type th {\n",
       "        text-align: right;\n",
       "    }\n",
       "</style>\n",
       "<table border=\"1\" class=\"dataframe\">\n",
       "  <thead>\n",
       "    <tr>\n",
       "      <th>Edad</th>\n",
       "      <th colspan=\"2\" halign=\"left\">[0, 5)</th>\n",
       "      <th colspan=\"2\" halign=\"left\">[5, 10)</th>\n",
       "      <th colspan=\"2\" halign=\"left\">[10, 15)</th>\n",
       "      <th colspan=\"2\" halign=\"left\">[15, 20)</th>\n",
       "    </tr>\n",
       "    <tr>\n",
       "      <th>Género</th>\n",
       "      <th>Masc</th>\n",
       "      <th>Feme</th>\n",
       "      <th>Masc</th>\n",
       "      <th>Feme</th>\n",
       "      <th>Masc</th>\n",
       "      <th>Feme</th>\n",
       "      <th>Masc</th>\n",
       "      <th>Feme</th>\n",
       "    </tr>\n",
       "    <tr>\n",
       "      <th>Patol</th>\n",
       "      <th></th>\n",
       "      <th></th>\n",
       "      <th></th>\n",
       "      <th></th>\n",
       "      <th></th>\n",
       "      <th></th>\n",
       "      <th></th>\n",
       "      <th></th>\n",
       "    </tr>\n",
       "  </thead>\n",
       "  <tbody>\n",
       "    <tr>\n",
       "      <th>SCA</th>\n",
       "      <td>0</td>\n",
       "      <td>0</td>\n",
       "      <td>0</td>\n",
       "      <td>0</td>\n",
       "      <td>0</td>\n",
       "      <td>0</td>\n",
       "      <td>0</td>\n",
       "      <td>0</td>\n",
       "    </tr>\n",
       "    <tr>\n",
       "      <th>PCR</th>\n",
       "      <td>0</td>\n",
       "      <td>0</td>\n",
       "      <td>0</td>\n",
       "      <td>0</td>\n",
       "      <td>0</td>\n",
       "      <td>0</td>\n",
       "      <td>0</td>\n",
       "      <td>0</td>\n",
       "    </tr>\n",
       "    <tr>\n",
       "      <th>PoliTMT</th>\n",
       "      <td>0</td>\n",
       "      <td>0</td>\n",
       "      <td>3</td>\n",
       "      <td>0</td>\n",
       "      <td>2</td>\n",
       "      <td>0</td>\n",
       "      <td>1</td>\n",
       "      <td>0</td>\n",
       "    </tr>\n",
       "    <tr>\n",
       "      <th>Otros</th>\n",
       "      <td>6</td>\n",
       "      <td>7</td>\n",
       "      <td>8</td>\n",
       "      <td>5</td>\n",
       "      <td>10</td>\n",
       "      <td>6</td>\n",
       "      <td>8</td>\n",
       "      <td>8</td>\n",
       "    </tr>\n",
       "  </tbody>\n",
       "</table>\n",
       "</div>"
      ],
      "text/plain": [
       "Edad    [0, 5)      [5, 10)      [10, 15)      [15, 20)     \n",
       "Género    Masc Feme    Masc Feme     Masc Feme     Masc Feme\n",
       "Patol                                                       \n",
       "SCA          0    0       0    0        0    0        0    0\n",
       "PCR          0    0       0    0        0    0        0    0\n",
       "PoliTMT      0    0       3    0        2    0        1    0\n",
       "Otros        6    7       8    5       10    6        8    8"
      ]
     },
     "execution_count": 22,
     "metadata": {},
     "output_type": "execute_result"
    },
    {
     "data": {
      "text/html": [
       "<div>\n",
       "<style scoped>\n",
       "    .dataframe tbody tr th:only-of-type {\n",
       "        vertical-align: middle;\n",
       "    }\n",
       "\n",
       "    .dataframe tbody tr th {\n",
       "        vertical-align: top;\n",
       "    }\n",
       "\n",
       "    .dataframe thead tr th {\n",
       "        text-align: left;\n",
       "    }\n",
       "\n",
       "    .dataframe thead tr:last-of-type th {\n",
       "        text-align: right;\n",
       "    }\n",
       "</style>\n",
       "<table border=\"1\" class=\"dataframe\">\n",
       "  <thead>\n",
       "    <tr>\n",
       "      <th>Edad</th>\n",
       "      <th colspan=\"2\" halign=\"left\">[20, 25)</th>\n",
       "      <th colspan=\"2\" halign=\"left\">[25, 30)</th>\n",
       "      <th colspan=\"2\" halign=\"left\">[30, 35)</th>\n",
       "      <th colspan=\"2\" halign=\"left\">[35, 40)</th>\n",
       "    </tr>\n",
       "    <tr>\n",
       "      <th>Género</th>\n",
       "      <th>Masc</th>\n",
       "      <th>Feme</th>\n",
       "      <th>Masc</th>\n",
       "      <th>Feme</th>\n",
       "      <th>Masc</th>\n",
       "      <th>Feme</th>\n",
       "      <th>Masc</th>\n",
       "      <th>Feme</th>\n",
       "    </tr>\n",
       "    <tr>\n",
       "      <th>Patol</th>\n",
       "      <th></th>\n",
       "      <th></th>\n",
       "      <th></th>\n",
       "      <th></th>\n",
       "      <th></th>\n",
       "      <th></th>\n",
       "      <th></th>\n",
       "      <th></th>\n",
       "    </tr>\n",
       "  </thead>\n",
       "  <tbody>\n",
       "    <tr>\n",
       "      <th>SCA</th>\n",
       "      <td>0</td>\n",
       "      <td>0</td>\n",
       "      <td>0</td>\n",
       "      <td>1</td>\n",
       "      <td>0</td>\n",
       "      <td>0</td>\n",
       "      <td>0</td>\n",
       "      <td>0</td>\n",
       "    </tr>\n",
       "    <tr>\n",
       "      <th>PCR</th>\n",
       "      <td>0</td>\n",
       "      <td>0</td>\n",
       "      <td>0</td>\n",
       "      <td>0</td>\n",
       "      <td>0</td>\n",
       "      <td>0</td>\n",
       "      <td>0</td>\n",
       "      <td>1</td>\n",
       "    </tr>\n",
       "    <tr>\n",
       "      <th>PoliTMT</th>\n",
       "      <td>1</td>\n",
       "      <td>1</td>\n",
       "      <td>3</td>\n",
       "      <td>2</td>\n",
       "      <td>3</td>\n",
       "      <td>3</td>\n",
       "      <td>1</td>\n",
       "      <td>3</td>\n",
       "    </tr>\n",
       "    <tr>\n",
       "      <th>Otros</th>\n",
       "      <td>7</td>\n",
       "      <td>6</td>\n",
       "      <td>13</td>\n",
       "      <td>13</td>\n",
       "      <td>8</td>\n",
       "      <td>6</td>\n",
       "      <td>11</td>\n",
       "      <td>21</td>\n",
       "    </tr>\n",
       "  </tbody>\n",
       "</table>\n",
       "</div>"
      ],
      "text/plain": [
       "Edad    [20, 25)      [25, 30)      [30, 35)      [35, 40)     \n",
       "Género      Masc Feme     Masc Feme     Masc Feme     Masc Feme\n",
       "Patol                                                          \n",
       "SCA            0    0        0    1        0    0        0    0\n",
       "PCR            0    0        0    0        0    0        0    1\n",
       "PoliTMT        1    1        3    2        3    3        1    3\n",
       "Otros          7    6       13   13        8    6       11   21"
      ]
     },
     "execution_count": 22,
     "metadata": {},
     "output_type": "execute_result"
    },
    {
     "data": {
      "text/html": [
       "<div>\n",
       "<style scoped>\n",
       "    .dataframe tbody tr th:only-of-type {\n",
       "        vertical-align: middle;\n",
       "    }\n",
       "\n",
       "    .dataframe tbody tr th {\n",
       "        vertical-align: top;\n",
       "    }\n",
       "\n",
       "    .dataframe thead tr th {\n",
       "        text-align: left;\n",
       "    }\n",
       "\n",
       "    .dataframe thead tr:last-of-type th {\n",
       "        text-align: right;\n",
       "    }\n",
       "</style>\n",
       "<table border=\"1\" class=\"dataframe\">\n",
       "  <thead>\n",
       "    <tr>\n",
       "      <th>Edad</th>\n",
       "      <th colspan=\"2\" halign=\"left\">[40, 45)</th>\n",
       "      <th colspan=\"2\" halign=\"left\">[45, 50)</th>\n",
       "      <th colspan=\"2\" halign=\"left\">[50, 55)</th>\n",
       "      <th colspan=\"2\" halign=\"left\">[55, 60)</th>\n",
       "    </tr>\n",
       "    <tr>\n",
       "      <th>Género</th>\n",
       "      <th>Masc</th>\n",
       "      <th>Feme</th>\n",
       "      <th>Masc</th>\n",
       "      <th>Feme</th>\n",
       "      <th>Masc</th>\n",
       "      <th>Feme</th>\n",
       "      <th>Masc</th>\n",
       "      <th>Feme</th>\n",
       "    </tr>\n",
       "    <tr>\n",
       "      <th>Patol</th>\n",
       "      <th></th>\n",
       "      <th></th>\n",
       "      <th></th>\n",
       "      <th></th>\n",
       "      <th></th>\n",
       "      <th></th>\n",
       "      <th></th>\n",
       "      <th></th>\n",
       "    </tr>\n",
       "  </thead>\n",
       "  <tbody>\n",
       "    <tr>\n",
       "      <th>SCA</th>\n",
       "      <td>0</td>\n",
       "      <td>0</td>\n",
       "      <td>1</td>\n",
       "      <td>0</td>\n",
       "      <td>0</td>\n",
       "      <td>1</td>\n",
       "      <td>0</td>\n",
       "      <td>0</td>\n",
       "    </tr>\n",
       "    <tr>\n",
       "      <th>PCR</th>\n",
       "      <td>0</td>\n",
       "      <td>0</td>\n",
       "      <td>0</td>\n",
       "      <td>0</td>\n",
       "      <td>0</td>\n",
       "      <td>0</td>\n",
       "      <td>2</td>\n",
       "      <td>0</td>\n",
       "    </tr>\n",
       "    <tr>\n",
       "      <th>PoliTMT</th>\n",
       "      <td>2</td>\n",
       "      <td>0</td>\n",
       "      <td>2</td>\n",
       "      <td>0</td>\n",
       "      <td>1</td>\n",
       "      <td>1</td>\n",
       "      <td>2</td>\n",
       "      <td>0</td>\n",
       "    </tr>\n",
       "    <tr>\n",
       "      <th>Otros</th>\n",
       "      <td>17</td>\n",
       "      <td>8</td>\n",
       "      <td>9</td>\n",
       "      <td>11</td>\n",
       "      <td>11</td>\n",
       "      <td>9</td>\n",
       "      <td>28</td>\n",
       "      <td>26</td>\n",
       "    </tr>\n",
       "  </tbody>\n",
       "</table>\n",
       "</div>"
      ],
      "text/plain": [
       "Edad    [40, 45)      [45, 50)      [50, 55)      [55, 60)     \n",
       "Género      Masc Feme     Masc Feme     Masc Feme     Masc Feme\n",
       "Patol                                                          \n",
       "SCA            0    0        1    0        0    1        0    0\n",
       "PCR            0    0        0    0        0    0        2    0\n",
       "PoliTMT        2    0        2    0        1    1        2    0\n",
       "Otros         17    8        9   11       11    9       28   26"
      ]
     },
     "execution_count": 22,
     "metadata": {},
     "output_type": "execute_result"
    },
    {
     "data": {
      "text/html": [
       "<div>\n",
       "<style scoped>\n",
       "    .dataframe tbody tr th:only-of-type {\n",
       "        vertical-align: middle;\n",
       "    }\n",
       "\n",
       "    .dataframe tbody tr th {\n",
       "        vertical-align: top;\n",
       "    }\n",
       "\n",
       "    .dataframe thead tr th {\n",
       "        text-align: left;\n",
       "    }\n",
       "\n",
       "    .dataframe thead tr:last-of-type th {\n",
       "        text-align: right;\n",
       "    }\n",
       "</style>\n",
       "<table border=\"1\" class=\"dataframe\">\n",
       "  <thead>\n",
       "    <tr>\n",
       "      <th>Edad</th>\n",
       "      <th colspan=\"2\" halign=\"left\">[60, 65)</th>\n",
       "      <th colspan=\"2\" halign=\"left\">[65, 70)</th>\n",
       "      <th colspan=\"2\" halign=\"left\">[70, 75)</th>\n",
       "      <th colspan=\"2\" halign=\"left\">[75, 80)</th>\n",
       "      <th colspan=\"2\" halign=\"left\">[80, 85)</th>\n",
       "    </tr>\n",
       "    <tr>\n",
       "      <th>Género</th>\n",
       "      <th>Masc</th>\n",
       "      <th>Feme</th>\n",
       "      <th>Masc</th>\n",
       "      <th>Feme</th>\n",
       "      <th>Masc</th>\n",
       "      <th>Feme</th>\n",
       "      <th>Masc</th>\n",
       "      <th>Feme</th>\n",
       "      <th>Masc</th>\n",
       "      <th>Feme</th>\n",
       "    </tr>\n",
       "    <tr>\n",
       "      <th>Patol</th>\n",
       "      <th></th>\n",
       "      <th></th>\n",
       "      <th></th>\n",
       "      <th></th>\n",
       "      <th></th>\n",
       "      <th></th>\n",
       "      <th></th>\n",
       "      <th></th>\n",
       "      <th></th>\n",
       "      <th></th>\n",
       "    </tr>\n",
       "  </thead>\n",
       "  <tbody>\n",
       "    <tr>\n",
       "      <th>SCA</th>\n",
       "      <td>0</td>\n",
       "      <td>0</td>\n",
       "      <td>0</td>\n",
       "      <td>1</td>\n",
       "      <td>0</td>\n",
       "      <td>1</td>\n",
       "      <td>1</td>\n",
       "      <td>0</td>\n",
       "      <td>0</td>\n",
       "      <td>0</td>\n",
       "    </tr>\n",
       "    <tr>\n",
       "      <th>PCR</th>\n",
       "      <td>0</td>\n",
       "      <td>0</td>\n",
       "      <td>0</td>\n",
       "      <td>0</td>\n",
       "      <td>0</td>\n",
       "      <td>0</td>\n",
       "      <td>0</td>\n",
       "      <td>1</td>\n",
       "      <td>0</td>\n",
       "      <td>1</td>\n",
       "    </tr>\n",
       "    <tr>\n",
       "      <th>PoliTMT</th>\n",
       "      <td>1</td>\n",
       "      <td>1</td>\n",
       "      <td>1</td>\n",
       "      <td>0</td>\n",
       "      <td>0</td>\n",
       "      <td>0</td>\n",
       "      <td>1</td>\n",
       "      <td>0</td>\n",
       "      <td>0</td>\n",
       "      <td>0</td>\n",
       "    </tr>\n",
       "    <tr>\n",
       "      <th>Otros</th>\n",
       "      <td>14</td>\n",
       "      <td>12</td>\n",
       "      <td>9</td>\n",
       "      <td>14</td>\n",
       "      <td>28</td>\n",
       "      <td>40</td>\n",
       "      <td>18</td>\n",
       "      <td>23</td>\n",
       "      <td>9</td>\n",
       "      <td>21</td>\n",
       "    </tr>\n",
       "  </tbody>\n",
       "</table>\n",
       "</div>"
      ],
      "text/plain": [
       "Edad    [60, 65)      [65, 70)      [70, 75)      [75, 80)      [80, 85)     \n",
       "Género      Masc Feme     Masc Feme     Masc Feme     Masc Feme     Masc Feme\n",
       "Patol                                                                        \n",
       "SCA            0    0        0    1        0    1        1    0        0    0\n",
       "PCR            0    0        0    0        0    0        0    1        0    1\n",
       "PoliTMT        1    1        1    0        0    0        1    0        0    0\n",
       "Otros         14   12        9   14       28   40       18   23        9   21"
      ]
     },
     "execution_count": 22,
     "metadata": {},
     "output_type": "execute_result"
    }
   ],
   "source": [
    "for fecha in np.sort(db1.Fecha.dt.to_period('M').unique()):\n",
    "    fecha\n",
    "    test = db1.loc[db1.Fecha.dt.to_period('M') == fecha]\n",
    "    dum1 = pd.cut(test.Edad, range(0, 90, 5), right=False)  \n",
    "    test['Patol'].value_counts(sort= False)\n",
    "    result0 = pd.crosstab(test['Patol'], test['Género'])\n",
    "    separador = ' -----------------------------------------------------------------'\n",
    "    result1 = pd.crosstab(test['Patol'], [dum1, test['Género']]).iloc[:,:8]\n",
    "    result2 = pd.crosstab(test['Patol'], [dum1, test['Género']]).iloc[:,8:16]\n",
    "    result3 = pd.crosstab(test['Patol'], [dum1, test['Género']]).iloc[:,16:24]\n",
    "    result4 = pd.crosstab(test['Patol'], [dum1, test['Género']]).iloc[:,24:]\n",
    "    result0\n",
    "    result1\n",
    "    result2\n",
    "    result3\n",
    "    result4"
   ]
  },
  {
   "cell_type": "code",
   "execution_count": 23,
   "metadata": {},
   "outputs": [
    {
     "data": {
      "text/plain": [
       "' Sección N: TRASLADO SECUNDARIO (Desde un Establecimiento a Otro)'"
      ]
     },
     "execution_count": 23,
     "metadata": {},
     "output_type": "execute_result"
    },
    {
     "data": {
      "text/plain": [
       "'Es una tabla larga, por lo que se divide en varios espacios '"
      ]
     },
     "execution_count": 23,
     "metadata": {},
     "output_type": "execute_result"
    }
   ],
   "source": [
    "titulo = ' Sección N: TRASLADO SECUNDARIO (Desde un Establecimiento a Otro)'\n",
    "texto = 'Es una tabla larga, por lo que se divide en varios espacios '\n",
    "\n",
    "titulo\n",
    "texto\n",
    "#result\n",
    "\n",
    "print(titulo, file=open('Informe.txt','a'))\n",
    "print(texto, file=open('Informe.txt','a'))\n",
    "print(result0, file=open('Informe.txt','a'))\n",
    "print(separador,file=open('Informe.txt','a'))  #Separador\n",
    "print(result1, file=open('Informe.txt','a'))\n",
    "print(separador,file=open('Informe.txt','a'))  #Separador\n",
    "print(result2, file=open('Informe.txt','a'))\n",
    "print(separador,file=open('Informe.txt','a'))  #Separador\n",
    "print(result3, file=open('Informe.txt','a'))\n",
    "print(separador,file=open('Informe.txt','a'))  #Separador\n",
    "print(result4, file=open('Informe.txt','a'))\n",
    "print(separador,file=open('Informe.txt','a'))  #Separador\n",
    "print(espacios, file=open('Informe.txt','a'))"
   ]
  },
  {
   "cell_type": "markdown",
   "metadata": {},
   "source": [
    "# Finalización\n",
    "Fin informe REM8"
   ]
  },
  {
   "cell_type": "code",
   "execution_count": 24,
   "metadata": {
    "collapsed": true
   },
   "outputs": [],
   "source": [
    "print('Fin informe REM 8', file=open('Informe.txt','a'))\n"
   ]
  },
  {
   "cell_type": "markdown",
   "metadata": {},
   "source": [
    "# Análisis posteriores extra"
   ]
  },
  {
   "cell_type": "code",
   "execution_count": 25,
   "metadata": {
    "scrolled": true
   },
   "outputs": [
    {
     "data": {
      "text/html": [
       "<div>\n",
       "<style scoped>\n",
       "    .dataframe tbody tr th:only-of-type {\n",
       "        vertical-align: middle;\n",
       "    }\n",
       "\n",
       "    .dataframe tbody tr th {\n",
       "        vertical-align: top;\n",
       "    }\n",
       "\n",
       "    .dataframe thead th {\n",
       "        text-align: right;\n",
       "    }\n",
       "</style>\n",
       "<table border=\"1\" class=\"dataframe\">\n",
       "  <thead>\n",
       "    <tr style=\"text-align: right;\">\n",
       "      <th></th>\n",
       "      <th>Submotivo del Llamado</th>\n",
       "      <th>Id</th>\n",
       "    </tr>\n",
       "  </thead>\n",
       "  <tbody>\n",
       "    <tr>\n",
       "      <th>172</th>\n",
       "      <td>Fallecido</td>\n",
       "      <td>131061</td>\n",
       "    </tr>\n",
       "    <tr>\n",
       "      <th>478</th>\n",
       "      <td>Fallecido</td>\n",
       "      <td>130618</td>\n",
       "    </tr>\n",
       "    <tr>\n",
       "      <th>580</th>\n",
       "      <td>Fallecido</td>\n",
       "      <td>130488</td>\n",
       "    </tr>\n",
       "    <tr>\n",
       "      <th>1008</th>\n",
       "      <td>Fallecido</td>\n",
       "      <td>129954</td>\n",
       "    </tr>\n",
       "    <tr>\n",
       "      <th>1253</th>\n",
       "      <td>Fallecido</td>\n",
       "      <td>129619</td>\n",
       "    </tr>\n",
       "    <tr>\n",
       "      <th>1264</th>\n",
       "      <td>Fallecido</td>\n",
       "      <td>129558</td>\n",
       "    </tr>\n",
       "    <tr>\n",
       "      <th>1285</th>\n",
       "      <td>Fallecido</td>\n",
       "      <td>129519</td>\n",
       "    </tr>\n",
       "    <tr>\n",
       "      <th>1405</th>\n",
       "      <td>Fallecido</td>\n",
       "      <td>129376</td>\n",
       "    </tr>\n",
       "    <tr>\n",
       "      <th>1500</th>\n",
       "      <td>Fallecido</td>\n",
       "      <td>129230</td>\n",
       "    </tr>\n",
       "    <tr>\n",
       "      <th>1961</th>\n",
       "      <td>Fallecido</td>\n",
       "      <td>128512</td>\n",
       "    </tr>\n",
       "    <tr>\n",
       "      <th>2609</th>\n",
       "      <td>Fallecido</td>\n",
       "      <td>127679</td>\n",
       "    </tr>\n",
       "    <tr>\n",
       "      <th>2617</th>\n",
       "      <td>Fallecido</td>\n",
       "      <td>127670</td>\n",
       "    </tr>\n",
       "    <tr>\n",
       "      <th>2635</th>\n",
       "      <td>Fallecido</td>\n",
       "      <td>127644</td>\n",
       "    </tr>\n",
       "    <tr>\n",
       "      <th>3085</th>\n",
       "      <td>Fallecido</td>\n",
       "      <td>127041</td>\n",
       "    </tr>\n",
       "    <tr>\n",
       "      <th>3544</th>\n",
       "      <td>Fallecido</td>\n",
       "      <td>126496</td>\n",
       "    </tr>\n",
       "    <tr>\n",
       "      <th>3680</th>\n",
       "      <td>Fallecido</td>\n",
       "      <td>126264</td>\n",
       "    </tr>\n",
       "    <tr>\n",
       "      <th>3758</th>\n",
       "      <td>Fallecido</td>\n",
       "      <td>126181</td>\n",
       "    </tr>\n",
       "    <tr>\n",
       "      <th>3966</th>\n",
       "      <td>Otros</td>\n",
       "      <td>125913</td>\n",
       "    </tr>\n",
       "    <tr>\n",
       "      <th>4414</th>\n",
       "      <td>Fallecido</td>\n",
       "      <td>125248</td>\n",
       "    </tr>\n",
       "    <tr>\n",
       "      <th>4417</th>\n",
       "      <td>Fallecido</td>\n",
       "      <td>125243</td>\n",
       "    </tr>\n",
       "  </tbody>\n",
       "</table>\n",
       "</div>"
      ],
      "text/plain": [
       "     Submotivo del Llamado      Id\n",
       "172              Fallecido  131061\n",
       "478              Fallecido  130618\n",
       "580              Fallecido  130488\n",
       "1008             Fallecido  129954\n",
       "1253             Fallecido  129619\n",
       "1264             Fallecido  129558\n",
       "1285             Fallecido  129519\n",
       "1405             Fallecido  129376\n",
       "1500             Fallecido  129230\n",
       "1961             Fallecido  128512\n",
       "2609             Fallecido  127679\n",
       "2617             Fallecido  127670\n",
       "2635             Fallecido  127644\n",
       "3085             Fallecido  127041\n",
       "3544             Fallecido  126496\n",
       "3680             Fallecido  126264\n",
       "3758             Fallecido  126181\n",
       "3966                 Otros  125913\n",
       "4414             Fallecido  125248\n",
       "4417             Fallecido  125243"
      ]
     },
     "execution_count": 25,
     "metadata": {},
     "output_type": "execute_result"
    }
   ],
   "source": [
    "db1[db1['Motivo del Llamado']=='Otro'][['Submotivo del Llamado', 'Id']]"
   ]
  },
  {
   "cell_type": "code",
   "execution_count": null,
   "metadata": {
    "collapsed": true
   },
   "outputs": [],
   "source": []
  },
  {
   "cell_type": "code",
   "execution_count": 26,
   "metadata": {},
   "outputs": [
    {
     "data": {
      "text/plain": [
       "count                  105517\n",
       "unique                  91842\n",
       "top       2018-11-23 14:30:10\n",
       "freq                      442\n",
       "first     2018-01-15 08:45:15\n",
       "last      2020-01-31 23:58:13\n",
       "Name: Fecha, dtype: object"
      ]
     },
     "execution_count": 26,
     "metadata": {},
     "output_type": "execute_result"
    }
   ],
   "source": [
    "BD.Fecha.describe()"
   ]
  },
  {
   "cell_type": "code",
   "execution_count": null,
   "metadata": {
    "collapsed": true
   },
   "outputs": [],
   "source": []
  },
  {
   "cell_type": "code",
   "execution_count": null,
   "metadata": {
    "collapsed": true
   },
   "outputs": [],
   "source": []
  },
  {
   "cell_type": "code",
   "execution_count": null,
   "metadata": {
    "collapsed": true
   },
   "outputs": [],
   "source": []
  },
  {
   "cell_type": "code",
   "execution_count": null,
   "metadata": {
    "collapsed": true
   },
   "outputs": [],
   "source": []
  },
  {
   "cell_type": "code",
   "execution_count": null,
   "metadata": {
    "collapsed": true
   },
   "outputs": [],
   "source": []
  },
  {
   "cell_type": "code",
   "execution_count": null,
   "metadata": {
    "collapsed": true
   },
   "outputs": [],
   "source": []
  },
  {
   "cell_type": "code",
   "execution_count": null,
   "metadata": {
    "collapsed": true
   },
   "outputs": [],
   "source": []
  },
  {
   "cell_type": "code",
   "execution_count": null,
   "metadata": {
    "collapsed": true
   },
   "outputs": [],
   "source": []
  },
  {
   "cell_type": "code",
   "execution_count": null,
   "metadata": {
    "collapsed": true
   },
   "outputs": [],
   "source": []
  },
  {
   "cell_type": "code",
   "execution_count": null,
   "metadata": {
    "collapsed": true
   },
   "outputs": [],
   "source": []
  },
  {
   "cell_type": "code",
   "execution_count": null,
   "metadata": {
    "collapsed": true
   },
   "outputs": [],
   "source": []
  },
  {
   "cell_type": "code",
   "execution_count": null,
   "metadata": {
    "collapsed": true
   },
   "outputs": [],
   "source": []
  },
  {
   "cell_type": "code",
   "execution_count": null,
   "metadata": {
    "collapsed": true
   },
   "outputs": [],
   "source": []
  },
  {
   "cell_type": "code",
   "execution_count": null,
   "metadata": {
    "collapsed": true
   },
   "outputs": [],
   "source": []
  },
  {
   "cell_type": "code",
   "execution_count": null,
   "metadata": {
    "collapsed": true
   },
   "outputs": [],
   "source": []
  },
  {
   "cell_type": "code",
   "execution_count": null,
   "metadata": {
    "collapsed": true
   },
   "outputs": [],
   "source": []
  },
  {
   "cell_type": "code",
   "execution_count": null,
   "metadata": {
    "collapsed": true
   },
   "outputs": [],
   "source": []
  },
  {
   "cell_type": "code",
   "execution_count": null,
   "metadata": {
    "collapsed": true
   },
   "outputs": [],
   "source": []
  },
  {
   "cell_type": "code",
   "execution_count": null,
   "metadata": {
    "collapsed": true
   },
   "outputs": [],
   "source": []
  },
  {
   "cell_type": "code",
   "execution_count": null,
   "metadata": {
    "collapsed": true
   },
   "outputs": [],
   "source": []
  },
  {
   "cell_type": "code",
   "execution_count": null,
   "metadata": {
    "collapsed": true
   },
   "outputs": [],
   "source": []
  }
 ],
 "metadata": {
  "kernelspec": {
   "display_name": "Python 3",
   "language": "python",
   "name": "python3"
  },
  "language_info": {
   "codemirror_mode": {
    "name": "ipython",
    "version": 3
   },
   "file_extension": ".py",
   "mimetype": "text/x-python",
   "name": "python",
   "nbconvert_exporter": "python",
   "pygments_lexer": "ipython3",
   "version": "3.6.3"
  }
 },
 "nbformat": 4,
 "nbformat_minor": 2
}
